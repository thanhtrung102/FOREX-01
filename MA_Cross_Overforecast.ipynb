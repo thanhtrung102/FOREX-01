{
  "cells": [
    {
      "cell_type": "markdown",
      "metadata": {
        "id": "view-in-github",
        "colab_type": "text"
      },
      "source": [
        "<a href=\"https://colab.research.google.com/github/thanhtrung102/FOREX-01/blob/main/MA_Cross_Overforecast.ipynb\" target=\"_parent\"><img src=\"https://colab.research.google.com/assets/colab-badge.svg\" alt=\"Open In Colab\"/></a>"
      ]
    },
    {
      "cell_type": "markdown",
      "id": "89b4fe5d",
      "metadata": {
        "id": "89b4fe5d"
      },
      "source": [
        "Load the libraries we need"
      ]
    },
    {
      "cell_type": "code",
      "execution_count": null,
      "id": "9066702e",
      "metadata": {
        "colab": {
          "base_uri": "https://localhost:8080/",
          "height": 384
        },
        "id": "9066702e",
        "outputId": "b8a79954-0621-40df-a62d-0b5d0a778b00"
      },
      "outputs": [
        {
          "output_type": "error",
          "ename": "ModuleNotFoundError",
          "evalue": "No module named 'pandas_ta'",
          "traceback": [
            "\u001b[0;31m---------------------------------------------------------------------------\u001b[0m",
            "\u001b[0;31mModuleNotFoundError\u001b[0m                       Traceback (most recent call last)",
            "\u001b[0;32m<ipython-input-1-b535fc839af0>\u001b[0m in \u001b[0;36m<cell line: 0>\u001b[0;34m()\u001b[0m\n\u001b[1;32m      1\u001b[0m \u001b[0;32mimport\u001b[0m \u001b[0mpandas\u001b[0m \u001b[0;32mas\u001b[0m \u001b[0mpd\u001b[0m\u001b[0;34m\u001b[0m\u001b[0;34m\u001b[0m\u001b[0m\n\u001b[0;32m----> 2\u001b[0;31m \u001b[0;32mimport\u001b[0m \u001b[0mpandas_ta\u001b[0m \u001b[0;32mas\u001b[0m \u001b[0mta\u001b[0m\u001b[0;34m\u001b[0m\u001b[0;34m\u001b[0m\u001b[0m\n\u001b[0m\u001b[1;32m      3\u001b[0m \u001b[0;32mimport\u001b[0m \u001b[0mnumpy\u001b[0m \u001b[0;32mas\u001b[0m \u001b[0mnp\u001b[0m\u001b[0;34m\u001b[0m\u001b[0;34m\u001b[0m\u001b[0m\n\u001b[1;32m      4\u001b[0m \u001b[0;32mimport\u001b[0m \u001b[0mMetaTrader5\u001b[0m \u001b[0;32mas\u001b[0m \u001b[0mmt5\u001b[0m\u001b[0;34m\u001b[0m\u001b[0;34m\u001b[0m\u001b[0m\n\u001b[1;32m      5\u001b[0m \u001b[0;32mfrom\u001b[0m   \u001b[0mdatetime\u001b[0m \u001b[0;32mimport\u001b[0m \u001b[0mdatetime\u001b[0m\u001b[0;34m\u001b[0m\u001b[0;34m\u001b[0m\u001b[0m\n",
            "\u001b[0;31mModuleNotFoundError\u001b[0m: No module named 'pandas_ta'",
            "",
            "\u001b[0;31m---------------------------------------------------------------------------\u001b[0;32m\nNOTE: If your import is failing due to a missing package, you can\nmanually install dependencies using either !pip or !apt.\n\nTo view examples of installing some common dependencies, click the\n\"Open Examples\" button below.\n\u001b[0;31m---------------------------------------------------------------------------\u001b[0m\n"
          ],
          "errorDetails": {
            "actions": [
              {
                "action": "open_url",
                "actionText": "Open Examples",
                "url": "/notebooks/snippets/importing_libraries.ipynb"
              }
            ]
          }
        }
      ],
      "source": [
        "!pip install pandas_ta\n",
        "!pip install Meta\n",
        "import pandas as pd\n",
        "import pandas_ta as ta\n",
        "import numpy as np\n",
        "import MetaTrader5 as mt5\n",
        "from   datetime import datetime\n",
        "import seaborn as sns\n",
        "import time"
      ]
    },
    {
      "cell_type": "markdown",
      "id": "bf32cc61",
      "metadata": {
        "id": "bf32cc61"
      },
      "source": [
        "Setup log in details"
      ]
    },
    {
      "cell_type": "code",
      "execution_count": null,
      "id": "dfdc0843",
      "metadata": {
        "id": "dfdc0843"
      },
      "outputs": [],
      "source": [
        "account = 30516497\n",
        "password = \"4ATSm7pPxK4iuW5*\"\n",
        "server = \"Deriv-Demo\""
      ]
    },
    {
      "cell_type": "code",
      "execution_count": null,
      "id": "f402f94d",
      "metadata": {
        "id": "f402f94d"
      },
      "outputs": [],
      "source": [
        "if(mt5.initialize(login=account,password=password,server=server)):\n",
        "    print(\"Logged in succesfully\")\n",
        "else:\n",
        "    print(\"Failed to login\")"
      ]
    },
    {
      "cell_type": "markdown",
      "id": "9336a2d9",
      "metadata": {
        "id": "9336a2d9"
      },
      "source": [
        "Market data"
      ]
    },
    {
      "cell_type": "code",
      "execution_count": null,
      "id": "a0a3a2d5",
      "metadata": {
        "id": "a0a3a2d5"
      },
      "outputs": [],
      "source": [
        "timeframe = mt5.TIMEFRAME_M15\n",
        "deviation = 1000\n",
        "volume = 0\n",
        "lot_multiple = 10\n",
        "symbol = \"EURUSD\""
      ]
    },
    {
      "cell_type": "code",
      "execution_count": null,
      "id": "0ada2401",
      "metadata": {
        "id": "0ada2401"
      },
      "outputs": [],
      "source": [
        "#Setup trading volume\n",
        "symbols = mt5.symbols_get()\n",
        "for index,symbol in enumerate(symbols):\n",
        "    if symbol.name == \"EURUSD\":\n",
        "        print(f\"{symbol.name} has minimum volume: {symbol.volume_min}\")\n",
        "        volume = symbol.volume_min * lot_multiple"
      ]
    },
    {
      "cell_type": "markdown",
      "id": "c7cc83b7",
      "metadata": {
        "id": "c7cc83b7"
      },
      "source": [
        "Get Training Data"
      ]
    },
    {
      "cell_type": "code",
      "execution_count": null,
      "id": "4b2b9988",
      "metadata": {
        "id": "4b2b9988"
      },
      "outputs": [],
      "source": [
        "#Specify date range of data to be modelled\n",
        "date_start = datetime(2020,1,1)\n",
        "date_end = datetime.now()"
      ]
    },
    {
      "cell_type": "code",
      "execution_count": null,
      "id": "8513efe8",
      "metadata": {
        "id": "8513efe8"
      },
      "outputs": [],
      "source": [
        "#Define how far ahead we are looking\n",
        "look_ahead = 20"
      ]
    },
    {
      "cell_type": "code",
      "execution_count": null,
      "id": "0683c250",
      "metadata": {
        "id": "0683c250"
      },
      "outputs": [],
      "source": [
        "#Fetch market data\n",
        "market_data = pd.DataFrame(mt5.copy_rates_range(\"EURUSD\",timeframe,date_start,date_end))\n",
        "market_data[\"time\"] = pd.to_datetime(market_data[\"time\"],unit='s')\n",
        "#Add simple moving average technical indicator\n",
        "market_data.ta.sma(length=5,append=True)\n",
        "#Add simple moving average technical indicator\n",
        "market_data.ta.sma(length=50,append=True)\n",
        "#Delete missing rows\n",
        "market_data.dropna(inplace=True)\n",
        "#Add a column for the target\n",
        "market_data[\"target\"] = 0\n",
        "market_data[\"close_target\"] = 0\n",
        "#Encoding the target\n",
        "ma_cross_conditions = [\n",
        "    (market_data[\"SMA_5\"].shift(-look_ahead) > market_data[\"SMA_50\"].shift(-look_ahead)),\n",
        "    (market_data[\"SMA_5\"].shift(-look_ahead) < market_data[\"SMA_50\"].shift(-look_ahead))\n",
        "]\n",
        "#Encoding pattern\n",
        "ma_cross_choices = [\n",
        "    #Fast MA above Slow MA\n",
        "    1,\n",
        "    #Fast MA below Slow MA\n",
        "    0\n",
        "]\n",
        "\n",
        "price_conditions = [\n",
        "    (market_data[\"close\"] > market_data[\"close\"].shift(-look_ahead)),\n",
        "    (market_data[\"close\"] < market_data[\"close\"].shift(-look_ahead))\n",
        "]\n",
        "\n",
        "#Encoding pattern\n",
        "price_choices = [\n",
        "    #Price fell\n",
        "    0,\n",
        "    #Price rose\n",
        "    1\n",
        "]\n",
        "\n",
        "market_data[\"target\"] = np.select(ma_cross_conditions,ma_cross_choices)\n",
        "market_data[\"close_target\"] = np.select(price_conditions,price_choices)\n",
        "\n",
        "#The last rows do not have answers\n",
        "market_data = market_data[:-look_ahead]\n",
        "market_data"
      ]
    },
    {
      "cell_type": "markdown",
      "id": "3b866fd0",
      "metadata": {
        "id": "3b866fd0"
      },
      "source": [
        "Importing Libraries"
      ]
    },
    {
      "cell_type": "code",
      "execution_count": null,
      "id": "0663512d",
      "metadata": {
        "id": "0663512d"
      },
      "outputs": [],
      "source": [
        "#XGBoost\n",
        "from xgboost import XGBClassifier\n",
        "#Catboost\n",
        "from catboost import CatBoostClassifier\n",
        "#Random forest\n",
        "from sklearn.ensemble import RandomForestClassifier\n",
        "#LDA and QDA\n",
        "from sklearn.discriminant_analysis import LinearDiscriminantAnalysis , QuadraticDiscriminantAnalysis\n",
        "#Logistic regression\n",
        "from sklearn.linear_model import LogisticRegression\n",
        "#Neural network\n",
        "from sklearn.neural_network import MLPClassifier\n",
        "#Time series split\n",
        "from sklearn.model_selection import TimeSeriesSplit\n",
        "#Accuracy metrics\n",
        "from sklearn.metrics import accuracy_score\n",
        "#Visualising performance\n",
        "from sklearn.metrics import confusion_matrix\n",
        "import seaborn as sns\n",
        "import matplotlib.pyplot as plt\n",
        "from sklearn.model_selection import learning_curve"
      ]
    },
    {
      "cell_type": "markdown",
      "id": "73eef4b5",
      "metadata": {
        "id": "73eef4b5"
      },
      "source": [
        "Setting up Time Series Split"
      ]
    },
    {
      "cell_type": "code",
      "execution_count": null,
      "id": "e38bd41c",
      "metadata": {
        "id": "e38bd41c"
      },
      "outputs": [],
      "source": [
        "#Time series split\n",
        "splits = 10\n",
        "gap = look_ahead"
      ]
    },
    {
      "cell_type": "code",
      "execution_count": null,
      "id": "0f60062a",
      "metadata": {
        "id": "0f60062a"
      },
      "outputs": [],
      "source": [
        "models = [\"Logistic Regression\",\"Linear Discriminant Analysis\",\"Quadratic Discriminant Analysis\",\"Random Forest Classifier\",\"XGB Classifier\",\"Cat Boost Classifier\",\"Neural Network Small\",\"Neural Network Large\"]"
      ]
    },
    {
      "cell_type": "markdown",
      "id": "957aabd1",
      "metadata": {
        "id": "957aabd1"
      },
      "source": [
        "Data Frame To Store Model Performance"
      ]
    },
    {
      "cell_type": "code",
      "execution_count": null,
      "id": "bb2bada0",
      "metadata": {
        "id": "bb2bada0"
      },
      "outputs": [],
      "source": [
        "error_ma_crossover = pd.DataFrame(index=np.arange(0,splits),columns=models)\n",
        "error_ma_crossover"
      ]
    },
    {
      "cell_type": "markdown",
      "id": "994a5185",
      "metadata": {
        "id": "994a5185"
      },
      "source": [
        "In order to have a benchmark to compare our performance we will repeat the same test with the actuall change in original price as the target"
      ]
    },
    {
      "cell_type": "code",
      "execution_count": null,
      "id": "b03a6970",
      "metadata": {
        "id": "b03a6970"
      },
      "outputs": [],
      "source": [
        "error_price = pd.DataFrame(index=np.arange(0,splits),columns=models)\n",
        "error_price"
      ]
    },
    {
      "cell_type": "markdown",
      "id": "06f26030",
      "metadata": {
        "id": "06f26030"
      },
      "source": [
        "Proceeding With Model Cross-Validation"
      ]
    },
    {
      "cell_type": "code",
      "execution_count": null,
      "id": "ebaf07ea",
      "metadata": {
        "id": "ebaf07ea"
      },
      "outputs": [],
      "source": [
        "predictors = [\"open\",\"high\",\"low\",\"close\",\"tick_volume\",\"spread\",\"SMA_5\",\"SMA_50\"]"
      ]
    },
    {
      "cell_type": "code",
      "execution_count": null,
      "id": "6decc3dc",
      "metadata": {
        "id": "6decc3dc"
      },
      "outputs": [],
      "source": [
        "tscv = TimeSeriesSplit(n_splits=splits,gap=gap)"
      ]
    },
    {
      "cell_type": "code",
      "execution_count": null,
      "id": "537b41d8",
      "metadata": {
        "scrolled": true,
        "id": "537b41d8"
      },
      "outputs": [],
      "source": [
        "#Training each model to predict changes in the moving average cross over\n",
        "for i,(train,test) in enumerate(tscv.split(market_data)):\n",
        "    model = MLPClassifier(solver='lbfgs',alpha=1e-5,hidden_layer_sizes=(20, 10), random_state=1,early_stopping=True)\n",
        "    model.fit( market_data.loc[train[0]:train[-1],predictors] , market_data.loc[train[0]:train[-1],\"target\"] )\n",
        "    error_ma_crossover.iloc[i,7] = accuracy_score(market_data.loc[test[0]:test[-1],\"target\"],model.predict(market_data.loc[test[0]:test[-1],predictors]))"
      ]
    },
    {
      "cell_type": "code",
      "execution_count": null,
      "id": "a757c10e",
      "metadata": {
        "id": "a757c10e"
      },
      "outputs": [],
      "source": [
        "#Training each model to predict changes in the close price\n",
        "for i,(train,test) in enumerate(tscv.split(market_data)):\n",
        "    model = MLPClassifier(solver='lbfgs',alpha=1e-5,hidden_layer_sizes=(20, 10), random_state=1,early_stopping=True)\n",
        "    model.fit( market_data.loc[train[0]:train[-1],predictors] , market_data.loc[train[0]:train[-1],\"close_target\"] )\n",
        "    error_price.iloc[i,7] = accuracy_score(market_data.loc[test[0]:test[-1],\"close_target\"],model.predict(market_data.loc[test[0]:test[-1],predictors]))"
      ]
    },
    {
      "cell_type": "markdown",
      "id": "3ff7c469",
      "metadata": {
        "id": "3ff7c469"
      },
      "source": [
        "Results"
      ]
    },
    {
      "cell_type": "code",
      "execution_count": null,
      "id": "0255efec",
      "metadata": {
        "id": "0255efec"
      },
      "outputs": [],
      "source": [
        "error_ma_crossover"
      ]
    },
    {
      "cell_type": "code",
      "execution_count": null,
      "id": "372b07e3",
      "metadata": {
        "id": "372b07e3"
      },
      "outputs": [],
      "source": [
        "error_price"
      ]
    },
    {
      "cell_type": "markdown",
      "id": "5bceecc3",
      "metadata": {
        "id": "5bceecc3"
      },
      "source": [
        "Visualising Results"
      ]
    },
    {
      "cell_type": "markdown",
      "id": "c5395f3c",
      "metadata": {
        "id": "c5395f3c"
      },
      "source": [
        "Box Plots"
      ]
    },
    {
      "cell_type": "code",
      "execution_count": null,
      "id": "2954591f",
      "metadata": {
        "id": "2954591f"
      },
      "outputs": [],
      "source": [
        "fig,axs = plt.subplots(1,8,sharex=True,sharey=True,figsize=(30,10))\n",
        "\n",
        "for i,ax in enumerate(axs.flat):\n",
        "    ax.boxplot(error_ma_crossover.iloc[:,i])\n",
        "    ax.set_title(models[i])"
      ]
    },
    {
      "cell_type": "code",
      "execution_count": null,
      "id": "3d415770",
      "metadata": {
        "id": "3d415770"
      },
      "outputs": [],
      "source": [
        "fig,axs = plt.subplots(1,8,sharex=True,sharey=True,figsize=(30,10))\n",
        "\n",
        "for i,ax in enumerate(axs.flat):\n",
        "    ax.boxplot(error_price.iloc[:,i])\n",
        "    ax.set_title(models[i])"
      ]
    },
    {
      "cell_type": "markdown",
      "id": "06954d83",
      "metadata": {
        "id": "06954d83"
      },
      "source": [
        "Confusion Matrices"
      ]
    },
    {
      "cell_type": "markdown",
      "id": "e2681b33",
      "metadata": {
        "id": "e2681b33"
      },
      "source": [
        "Logistic Regression"
      ]
    },
    {
      "cell_type": "code",
      "execution_count": null,
      "id": "96181b7c",
      "metadata": {
        "id": "96181b7c"
      },
      "outputs": [],
      "source": [
        "model = LogisticRegression()\n",
        "model.fit(market_data.loc[49:1000,predictors],market_data.loc[49:1000,\"target\"])\n",
        "cm = confusion_matrix(market_data.loc[1030:,\"target\"], model.predict(market_data.loc[1030:,predictors]))\n",
        "sns.heatmap(cm, annot=True, fmt='d', cmap='Reds')\n",
        "plt.title('Confusion Matrix For Logistic Regression')\n",
        "plt.xlabel('Predicted')\n",
        "plt.ylabel('True')"
      ]
    },
    {
      "cell_type": "markdown",
      "id": "104af64e",
      "metadata": {
        "id": "104af64e"
      },
      "source": [
        "Linear Discriminant Analysis"
      ]
    },
    {
      "cell_type": "code",
      "execution_count": null,
      "id": "acba40e4",
      "metadata": {
        "id": "acba40e4"
      },
      "outputs": [],
      "source": [
        "model = LinearDiscriminantAnalysis()\n",
        "model.fit(market_data.loc[49:1000,predictors],market_data.loc[49:1000,\"target\"])\n",
        "cm = confusion_matrix(market_data.loc[1030:,\"target\"], model.predict(market_data.loc[1030:,predictors]))\n",
        "sns.heatmap(cm, annot=True, fmt='d', cmap='Reds')\n",
        "plt.title('Confusion Matrix For Linear Discrimininant Analysis')\n",
        "plt.xlabel('Predicted')\n",
        "plt.ylabel('True')"
      ]
    },
    {
      "cell_type": "markdown",
      "id": "a8f14b3b",
      "metadata": {
        "id": "a8f14b3b"
      },
      "source": [
        "XGB Classifier"
      ]
    },
    {
      "cell_type": "code",
      "execution_count": null,
      "id": "707984f0",
      "metadata": {
        "id": "707984f0"
      },
      "outputs": [],
      "source": [
        "model = XGBClassifier()\n",
        "model.fit(market_data.loc[49:1000,predictors],market_data.loc[49:1000,\"target\"])\n",
        "cm = confusion_matrix(market_data.loc[1030:,\"target\"], model.predict(market_data.loc[1030:,predictors]))\n",
        "sns.heatmap(cm, annot=True, fmt='d', cmap='Reds')\n",
        "plt.title('Confusion Matrix For XGBoost Classifier')\n",
        "plt.xlabel('Predicted')\n",
        "plt.ylabel('True')"
      ]
    },
    {
      "cell_type": "markdown",
      "id": "0922ad12",
      "metadata": {
        "id": "0922ad12"
      },
      "source": [
        "Small Neural Network"
      ]
    },
    {
      "cell_type": "code",
      "execution_count": null,
      "id": "1dc99c05",
      "metadata": {
        "id": "1dc99c05"
      },
      "outputs": [],
      "source": [
        "model = MLPClassifier(solver='lbfgs',alpha=1e-5,hidden_layer_sizes=(4, 2), random_state=1)\n",
        "model.fit(market_data.loc[49:1000,predictors],market_data.loc[49:1000,\"target\"])\n",
        "cm = confusion_matrix(market_data.loc[1030:,\"target\"], model.predict(market_data.loc[1030:,predictors]))\n",
        "sns.heatmap(cm, annot=True, fmt='d', cmap='Reds')\n",
        "plt.title('Confusion Matrix For Small Neural Network')\n",
        "plt.xlabel('Predicted')\n",
        "plt.ylabel('True')"
      ]
    },
    {
      "cell_type": "markdown",
      "id": "cec320bd",
      "metadata": {
        "id": "cec320bd"
      },
      "source": [
        "Learning Curve"
      ]
    },
    {
      "cell_type": "code",
      "execution_count": null,
      "id": "1ca9a9dc",
      "metadata": {
        "id": "1ca9a9dc"
      },
      "outputs": [],
      "source": [
        "model = LogisticRegression()\n",
        "train_sizes, train_scores, test_scores = learning_curve(model, market_data.loc[:,predictors],market_data.loc[:,\"target\"], cv=10)\n",
        "\n",
        "plt.plot(train_sizes, train_scores.mean(axis=1), label='Training Score')\n",
        "plt.plot(train_sizes, test_scores.mean(axis=1), label='Validation Score')\n",
        "plt.xlabel('Training Size')\n",
        "plt.ylabel('Score')\n",
        "plt.title('Learning Curve For Logistic Regression')\n",
        "plt.legend()\n",
        "plt.show()"
      ]
    },
    {
      "cell_type": "markdown",
      "id": "73960ed6",
      "metadata": {
        "id": "73960ed6"
      },
      "source": [
        "Linear Discriminant Analysis"
      ]
    },
    {
      "cell_type": "code",
      "execution_count": null,
      "id": "87e86b88",
      "metadata": {
        "id": "87e86b88"
      },
      "outputs": [],
      "source": [
        "model = LinearDiscriminantAnalysis()\n",
        "train_sizes, train_scores, test_scores = learning_curve(model, market_data.loc[:,predictors],market_data.loc[:,\"target\"], cv=10)\n",
        "\n",
        "plt.plot(train_sizes, train_scores.mean(axis=1), label='Training Score')\n",
        "plt.plot(train_sizes, test_scores.mean(axis=1), label='Validation Score')\n",
        "plt.xlabel('Training Size')\n",
        "plt.ylabel('Score')\n",
        "plt.title('Learning Curve For Linear Discriminant Analysis')\n",
        "plt.legend()\n",
        "plt.show()"
      ]
    },
    {
      "cell_type": "code",
      "execution_count": null,
      "id": "266ac797",
      "metadata": {
        "id": "266ac797"
      },
      "outputs": [],
      "source": [
        "model = QuadraticDiscriminantAnalysis()\n",
        "train_sizes, train_scores, test_scores = learning_curve(model, market_data.loc[:,predictors],market_data.loc[:,\"target\"], cv=10)\n",
        "\n",
        "plt.plot(train_sizes, train_scores.mean(axis=1), label='Training Score')\n",
        "plt.plot(train_sizes, test_scores.mean(axis=1), label='Validation Score')\n",
        "plt.xlabel('Training Size')\n",
        "plt.ylabel('Score')\n",
        "plt.title('Learning Curve For Quadratic Discriminant Analysis')\n",
        "plt.legend()\n",
        "plt.show()"
      ]
    },
    {
      "cell_type": "code",
      "execution_count": null,
      "id": "e26d3b8f",
      "metadata": {
        "id": "e26d3b8f"
      },
      "outputs": [],
      "source": [
        "model =CatBoostClassifier()\n",
        "train_sizes, train_scores, test_scores = learning_curve(model, market_data.loc[:,predictors],market_data.loc[:,\"target\"], cv=10)\n",
        "\n",
        "plt.plot(train_sizes, train_scores.mean(axis=1), label='Training Score')\n",
        "plt.plot(train_sizes, test_scores.mean(axis=1), label='Validation Score')\n",
        "plt.xlabel('Training Size')\n",
        "plt.ylabel('Score')\n",
        "plt.title('Learning Curve For CatBoostClassifier')\n",
        "plt.legend()\n",
        "plt.show()"
      ]
    },
    {
      "cell_type": "code",
      "execution_count": null,
      "id": "6802ad96",
      "metadata": {
        "id": "6802ad96"
      },
      "outputs": [],
      "source": [
        "model = MLPClassifier(solver='lbfgs',alpha=1e-5,hidden_layer_sizes=(6, 4), random_state=1)\n",
        "train_sizes, train_scores, test_scores = learning_curve(model, market_data.loc[:,predictors],market_data.loc[:,\"target\"], cv=10)\n",
        "\n",
        "plt.plot(train_sizes, train_scores.mean(axis=1), label='Training Score')\n",
        "plt.plot(train_sizes, test_scores.mean(axis=1), label='Validation Score')\n",
        "plt.xlabel('Training Size')\n",
        "plt.ylabel('Score')\n",
        "plt.title('Learning Curve For Small Neural Network')\n",
        "plt.legend()\n",
        "plt.show()"
      ]
    },
    {
      "cell_type": "code",
      "execution_count": null,
      "id": "3bc0b1cf",
      "metadata": {
        "id": "3bc0b1cf"
      },
      "outputs": [],
      "source": [
        "plt.figure(figsize=(20, 10))\n",
        "\n",
        "# Plot each column separately\n",
        "for column in error_ma_crossover.columns:\n",
        "    plt.plot(error_ma_crossover.index, error_ma_crossover[column], label=column)\n",
        "\n",
        "plt.title('Cross Validated Moving Average Crossover Accuracy')\n",
        "plt.xlabel('Fold')\n",
        "plt.ylabel('Accuracy')\n",
        "plt.legend(title='Models')\n",
        "plt.show()"
      ]
    },
    {
      "cell_type": "markdown",
      "id": "405d4ab9",
      "metadata": {
        "id": "405d4ab9"
      },
      "source": [
        "Feature Selection"
      ]
    },
    {
      "cell_type": "code",
      "execution_count": null,
      "id": "f888d0ce",
      "metadata": {
        "id": "f888d0ce"
      },
      "outputs": [],
      "source": [
        "from mlxtend.feature_selection import SequentialFeatureSelector"
      ]
    },
    {
      "cell_type": "code",
      "execution_count": null,
      "id": "c245fd9d",
      "metadata": {
        "id": "c245fd9d"
      },
      "outputs": [],
      "source": [
        "backward_feature_selector = SequentialFeatureSelector(LinearDiscriminantAnalysis(),\n",
        "                                                      k_features=(1,market_data.loc[:,predictors].shape[1]),\n",
        "                                                      forward=False,\n",
        "                                                      verbose=2,\n",
        "                                                      scoring=\"accuracy\",\n",
        "                                                      cv=5,\n",
        "                                                      n_jobs=-1\n",
        "                                                     ).fit(market_data.loc[:,predictors],market_data.loc[:,\"target\"])"
      ]
    },
    {
      "cell_type": "code",
      "execution_count": null,
      "id": "bc5bef91",
      "metadata": {
        "id": "bc5bef91"
      },
      "outputs": [],
      "source": [
        "backward_feature_selector.k_feature_names_"
      ]
    },
    {
      "cell_type": "markdown",
      "id": "8c0db20f",
      "metadata": {
        "id": "8c0db20f"
      },
      "source": [
        "Feature Engineering"
      ]
    },
    {
      "cell_type": "code",
      "execution_count": null,
      "id": "5ae21d13",
      "metadata": {
        "id": "5ae21d13"
      },
      "outputs": [],
      "source": [
        "#Fetch market data\n",
        "market_data = pd.DataFrame(mt5.copy_rates_range(\"EURUSD\",timeframe,date_start,date_end))\n",
        "market_data[\"time\"] = pd.to_datetime(market_data[\"time\"],unit='s')\n",
        "#Add simple moving average technical indicator\n",
        "market_data.ta.sma(length=5,append=True)\n",
        "#Add simple moving average technical indicator\n",
        "market_data.ta.sma(length=50,append=True)\n",
        "#Add macd\n",
        "market_data.ta.macd(append=True)\n",
        "#Add awesome oscilator\n",
        "market_data.ta.ao(append=True)\n",
        "#Add aroon\n",
        "market_data.ta.aroon(append=True)\n",
        "#Add chaikins comodity index\n",
        "market_data.ta.cci(append=True)\n",
        "#Add percent return\n",
        "market_data.ta.percent_return(append=True)\n",
        "#Delete missing rows\n",
        "market_data.dropna(inplace=True)\n",
        "#Add the target\n",
        "market_data[\"target\"] = 0\n",
        "market_data.loc[market_data[\"SMA_5\"].shift(-look_ahead) > market_data[\"SMA_50\"].shift(-look_ahead),\"target\"] = 1\n",
        "market_data.loc[market_data[\"SMA_5\"].shift(-look_ahead) < market_data[\"SMA_50\"].shift(-look_ahead),\"target\"] = 0\n",
        "#The last rows do not have answers\n",
        "market_data = market_data[:-look_ahead]\n",
        "market_data"
      ]
    },
    {
      "cell_type": "code",
      "execution_count": null,
      "id": "328d1dbe",
      "metadata": {
        "id": "328d1dbe"
      },
      "outputs": [],
      "source": [
        "market_data.iloc[:,1:-1]"
      ]
    },
    {
      "cell_type": "code",
      "execution_count": null,
      "id": "3fb0c4c7",
      "metadata": {
        "id": "3fb0c4c7"
      },
      "outputs": [],
      "source": [
        "backward_feature_selector = SequentialFeatureSelector(LinearDiscriminantAnalysis(),\n",
        "                                                      k_features=(1,market_data.loc[:,predictors].shape[1]),\n",
        "                                                      forward=False,\n",
        "                                                      verbose=2,\n",
        "                                                      scoring=\"accuracy\",\n",
        "                                                      cv=5,\n",
        "                                                      n_jobs=-1\n",
        "                                                     ).fit(market_data.iloc[:,1:-1],market_data.loc[:,\"target\"])"
      ]
    },
    {
      "cell_type": "code",
      "execution_count": null,
      "id": "41152e22",
      "metadata": {
        "id": "41152e22"
      },
      "outputs": [],
      "source": [
        "backward_feature_selector.k_feature_names_"
      ]
    },
    {
      "cell_type": "markdown",
      "id": "ca668587",
      "metadata": {
        "id": "ca668587"
      },
      "source": [
        "Building our trading algorithm"
      ]
    },
    {
      "cell_type": "code",
      "execution_count": null,
      "id": "b7c1a0ae",
      "metadata": {
        "id": "b7c1a0ae"
      },
      "outputs": [],
      "source": [
        "#Fetch market data\n",
        "market_data = pd.DataFrame(mt5.copy_rates_range(\"EURUSD\",timeframe,date_start,date_end))\n",
        "market_data[\"time\"] = pd.to_datetime(market_data[\"time\"],unit='s')\n",
        "predictors = ['close','tick_volume','spread','SMA_5','SMA_50','MACDh_12_26_9','AO_5_34']\n",
        "#Add simple moving average technical indicator\n",
        "market_data.ta.sma(length=5,append=True)\n",
        "#Add simple moving average technical indicator\n",
        "market_data.ta.sma(length=50,append=True)\n",
        "#Add macd\n",
        "market_data.ta.macd(append=True)\n",
        "#Add awesome oscilator\n",
        "market_data.ta.ao(append=True)\n",
        "#Add aroon\n",
        "market_data.ta.aroon(append=True)\n",
        "#Add chaikins comodity index\n",
        "market_data.ta.cci(append=True)\n",
        "#Add percent return\n",
        "market_data.ta.percent_return(append=True)\n",
        "#Delete missing rows\n",
        "market_data.dropna(inplace=True)\n",
        "#Add the target\n",
        "#Encoding the target\n",
        "ma_cross_conditions = [\n",
        "    (market_data[\"SMA_5\"].shift(-look_ahead) > market_data[\"SMA_50\"].shift(-look_ahead)),\n",
        "    (market_data[\"SMA_5\"].shift(-look_ahead) < market_data[\"SMA_50\"].shift(-look_ahead))\n",
        "]\n",
        "#Encoding pattern\n",
        "ma_cross_choices = [\n",
        "    #Fast MA above Slow MA\n",
        "    1,\n",
        "    #Fast MA below Slow MA\n",
        "    0\n",
        "]\n",
        "market_data[\"target\"] = np.select(ma_cross_conditions,ma_cross_choices)\n",
        "#The last rows do not have answers\n",
        "market_data = market_data[:-look_ahead]"
      ]
    },
    {
      "cell_type": "code",
      "execution_count": null,
      "id": "e6a0a0c9",
      "metadata": {
        "id": "e6a0a0c9"
      },
      "outputs": [],
      "source": [
        "model = LinearDiscriminantAnalysis()\n",
        "model.fit(market_data.loc[:,predictors],market_data.loc[:,\"target\"])"
      ]
    },
    {
      "cell_type": "code",
      "execution_count": null,
      "id": "7c323914",
      "metadata": {
        "id": "7c323914"
      },
      "outputs": [],
      "source": [
        "def get_prices():\n",
        "    start = datetime(2024,6,1)\n",
        "    end   = datetime.now()\n",
        "    data  = pd.DataFrame(mt5.copy_rates_range(\"EURUSD\",timeframe,start,end))\n",
        "    #Add simple moving average technical indicator\n",
        "    data.ta.sma(length=5,append=True)\n",
        "    data.ta.sma(length=50,append=True)\n",
        "    #Add awesome oscilator\n",
        "    data.ta.ao(append=True)\n",
        "    #Add macd\n",
        "    data.ta.macd(append=True)\n",
        "    #Delete missing rows\n",
        "    data.dropna(inplace=True)\n",
        "    data['time'] = pd.to_datetime(data['time'],unit='s')\n",
        "    data.set_index('time',inplace=True)\n",
        "    data = data.loc[:,['close','tick_volume','spread','SMA_5','SMA_50','MACDh_12_26_9','AO_5_34']]\n",
        "    data = data.iloc[-2:,:]\n",
        "    return(data)"
      ]
    },
    {
      "cell_type": "code",
      "execution_count": null,
      "id": "1ce1df07",
      "metadata": {
        "id": "1ce1df07"
      },
      "outputs": [],
      "source": [
        "#Get signals LDA model\n",
        "def ai_signal(input_data,_model):\n",
        "    #Get a forecast\n",
        "    forecast = _model.predict(input_data)\n",
        "    return forecast[1]"
      ]
    },
    {
      "cell_type": "code",
      "execution_count": null,
      "id": "93668cf2",
      "metadata": {
        "id": "93668cf2"
      },
      "outputs": [],
      "source": [
        "#Now we define the main body of our Python Moving Average Crossover Trading Bot\n",
        "if __name__ == '__main__':\n",
        "    #We'll use an infinite loop to keep the program running\n",
        "    while True:\n",
        "        #Fetching model prediction\n",
        "        signal = ai_signal(get_prices(),model)\n",
        "\n",
        "        #Decoding model prediction into an action\n",
        "        if signal == 1:\n",
        "            direction = 'buy'\n",
        "        elif signal == 0:\n",
        "            direction = 'sell'\n",
        "\n",
        "        print(f'AI Forecast: {direction}')\n",
        "\n",
        "        #Opening A Buy Trade\n",
        "        #But first we need to ensure there are no opposite trades open on the same symbol\n",
        "        if direction == 'buy':\n",
        "            #Close any sell positions\n",
        "            for pos in mt5.positions_get():\n",
        "                if pos.type == 1:\n",
        "                    #This is an open sell order, and we need to close it\n",
        "                    close_order(pos.ticket)\n",
        "\n",
        "            if not mt5.positions_totoal():\n",
        "                #We have no open positions\n",
        "                mt5.Buy(symbol,volume)\n",
        "\n",
        "        #Opening A Sell Trade\n",
        "        elif direction == 'sell':\n",
        "            #Close any buy positions\n",
        "            for pos in mt5.positions_get():\n",
        "                if pos.type == 0:\n",
        "                    #This is an open buy order, and we need to close it\n",
        "                    close_order(pos.ticket)\n",
        "\n",
        "            if not mt5.positions_get():\n",
        "                #We have no open positions\n",
        "                mt5.sell(symbol,volume)\n",
        "\n",
        "        print('time: ', datetime.now())\n",
        "        print('-------\\n')\n",
        "        time.sleep(60)"
      ]
    },
    {
      "cell_type": "code",
      "execution_count": null,
      "id": "e978f242",
      "metadata": {
        "id": "e978f242"
      },
      "outputs": [],
      "source": []
    }
  ],
  "metadata": {
    "kernelspec": {
      "display_name": "Python 3",
      "name": "python3"
    },
    "language_info": {
      "codemirror_mode": {
        "name": "ipython",
        "version": 3
      },
      "file_extension": ".py",
      "mimetype": "text/x-python",
      "name": "python",
      "nbconvert_exporter": "python",
      "pygments_lexer": "ipython3",
      "version": "3.11.1"
    },
    "colab": {
      "provenance": [],
      "gpuType": "T4",
      "include_colab_link": true
    },
    "accelerator": "GPU"
  },
  "nbformat": 4,
  "nbformat_minor": 5
}