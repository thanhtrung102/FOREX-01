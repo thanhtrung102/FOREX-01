{
 "cells": [
  {
   "cell_type": "code",
   "execution_count": 1,
   "metadata": {},
   "outputs": [
    {
     "name": "stdout",
     "output_type": "stream",
     "text": [
      "Hello\n"
     ]
    }
   ],
   "source": [
    "print(\"Hello\")"
   ]
  },
  {
   "cell_type": "code",
   "execution_count": 7,
   "metadata": {},
   "outputs": [],
   "source": [
    "import requests\n",
    "import json\n",
    "from dateutil import parser"
   ]
  },
  {
   "cell_type": "code",
   "execution_count": 8,
   "metadata": {},
   "outputs": [],
   "source": [
    "import pandas as pd"
   ]
  },
  {
   "cell_type": "code",
   "execution_count": 9,
   "metadata": {},
   "outputs": [],
   "source": [
    "API_KEY = \"dc6b098a0c20ab9673b63f8ad72b81d7-758b1a37d2ef19d1eb3510cc195802b6\"\n",
    "ACCOUNT_ID = \"101-001-31068424-001\"\n",
    "OANDA_URL = \"https://api-fxpractice.oanda.com/v3\""
   ]
  },
  {
   "cell_type": "code",
   "execution_count": 10,
   "metadata": {},
   "outputs": [],
   "source": [
    "session = requests.Session()"
   ]
  },
  {
   "cell_type": "code",
   "execution_count": 11,
   "metadata": {},
   "outputs": [],
   "source": [
    "session.headers.update({\n",
    "    \"Authorization\": f\"Bearer {API_KEY}\",\n",
    "    \"Content-Type\": \"application/json\"\n",
    "})"
   ]
  },
  {
   "cell_type": "code",
   "execution_count": 12,
   "metadata": {},
   "outputs": [],
   "source": [
    "params = dict(\n",
    "    count = 10,\n",
    "    granularity = \"H1\",\n",
    "    price = \"MBA\"\n",
    ")"
   ]
  },
  {
   "cell_type": "code",
   "execution_count": 13,
   "metadata": {},
   "outputs": [],
   "source": [
    "url = f\"{OANDA_URL}/accounts/{ACCOUNT_ID}/instruments\""
   ]
  },
  {
   "cell_type": "code",
   "execution_count": 14,
   "metadata": {},
   "outputs": [],
   "source": [
    "response = session.get(url, params = params, data = None, headers = None)"
   ]
  },
  {
   "cell_type": "code",
   "execution_count": 15,
   "metadata": {},
   "outputs": [
    {
     "data": {
      "text/plain": [
       "200"
      ]
     },
     "execution_count": 15,
     "metadata": {},
     "output_type": "execute_result"
    }
   ],
   "source": [
    "response.status_code"
   ]
  },
  {
   "cell_type": "code",
   "execution_count": 16,
   "metadata": {},
   "outputs": [],
   "source": [
    "data = response.json()"
   ]
  },
  {
   "cell_type": "code",
   "execution_count": 17,
   "metadata": {},
   "outputs": [],
   "source": [
    "instruments_list = data['instruments']"
   ]
  },
  {
   "cell_type": "code",
   "execution_count": 18,
   "metadata": {},
   "outputs": [
    {
     "data": {
      "text/plain": [
       "68"
      ]
     },
     "execution_count": 18,
     "metadata": {},
     "output_type": "execute_result"
    }
   ],
   "source": [
    "len(instruments_list)"
   ]
  },
  {
   "cell_type": "code",
   "execution_count": 19,
   "metadata": {},
   "outputs": [
    {
     "data": {
      "text/plain": [
       "dict_keys(['name', 'type', 'displayName', 'pipLocation', 'displayPrecision', 'tradeUnitsPrecision', 'minimumTradeSize', 'maximumTrailingStopDistance', 'minimumTrailingStopDistance', 'maximumPositionSize', 'maximumOrderUnits', 'marginRate', 'guaranteedStopLossOrderMode', 'tags', 'financing'])"
      ]
     },
     "execution_count": 19,
     "metadata": {},
     "output_type": "execute_result"
    }
   ],
   "source": [
    "instruments_list[0].keys()"
   ]
  },
  {
   "cell_type": "code",
   "execution_count": 20,
   "metadata": {},
   "outputs": [],
   "source": [
    "key_i = ['name', 'type', 'displayName', 'pipLocation', 'displayPrecision', 'tradeUnitsPrecision', 'marginRate']"
   ]
  },
  {
   "cell_type": "code",
   "execution_count": 21,
   "metadata": {},
   "outputs": [],
   "source": [
    "instruments_dict = {}\n",
    "for i in instruments_list:\n",
    "    key = i['name']\n",
    "    instruments_dict[key] = {k: i[k] for k in key_i}"
   ]
  },
  {
   "cell_type": "code",
   "execution_count": 22,
   "metadata": {},
   "outputs": [
    {
     "data": {
      "text/plain": [
       "{'name': 'USD_CAD',\n",
       " 'type': 'CURRENCY',\n",
       " 'displayName': 'USD/CAD',\n",
       " 'pipLocation': -4,\n",
       " 'displayPrecision': 5,\n",
       " 'tradeUnitsPrecision': 0,\n",
       " 'marginRate': '0.02'}"
      ]
     },
     "execution_count": 22,
     "metadata": {},
     "output_type": "execute_result"
    }
   ],
   "source": [
    "instruments_dict['USD_CAD']"
   ]
  },
  {
   "cell_type": "code",
   "execution_count": 23,
   "metadata": {},
   "outputs": [],
   "source": [
    "with open(\"../data/instruments.json\", \"w\") as f:\n",
    "    f.write(json.dumps(instruments_dict, indent = 2))"
   ]
  },
  {
   "cell_type": "code",
   "execution_count": 24,
   "metadata": {},
   "outputs": [],
   "source": [
    "with open(\"../exploration/instruments.json\", \"w\") as f:\n",
    "    f.write(json.dumps(instruments_dict, indent = 2))"
   ]
  },
  {
   "cell_type": "code",
   "execution_count": 25,
   "metadata": {},
   "outputs": [],
   "source": [
    "def fetch_candles(pair_name, count = 10, granularity = \"H1\"):\n",
    "    url = f\"{OANDA_URL}/instruments/{pair_name}/candles\"\n",
    "    params = dict(\n",
    "        count = count,\n",
    "        granularity = granularity,\n",
    "        price = \"MBA\"\n",
    "    )\n",
    "    response = session.get(url, params = params, data = None, headers = None)\n",
    "    data = response.json()\n",
    "\n",
    "    if response.status_code == 200:\n",
    "        if 'candles' not in data:\n",
    "            data = []\n",
    "        else:\n",
    "            data = data['candles']\n",
    "    \n",
    "    return response.status_code, data\n",
    "\n",
    "def get_candles_df(data):\n",
    "    if len(data) == 0:\n",
    "        return pd.DataFrame()\n",
    "    prices = ['mid', 'bid', 'ask']\n",
    "    ohlc = ['o', 'h', 'l', 'c']\n",
    "    # mid_c, mid_o, bid_h\n",
    "\n",
    "    final_data = []\n",
    "    for candle in data:\n",
    "        if candle['complete'] == False:\n",
    "            continue\n",
    "        new_dict = {}\n",
    "        new_dict['volume'] = candle['volume']\n",
    "        new_dict['time'] = parser.parse(candle['time'])\n",
    "        for p in prices:\n",
    "            for o in ohlc:\n",
    "                new_dict[f\"{p}_{o}\"] = float(candle[p][o])\n",
    "        final_data.append(new_dict)\n",
    "    df = pd.DataFrame.from_dict(final_data)\n",
    "    return df\n",
    "\n",
    "def create_data_file(pair_name, count = 10, granularity = \"H1\"):\n",
    "    code, data = fetch_candles(pair_name, count, granularity)\n",
    "    if code != 200:\n",
    "        print(\"Failed\", pair_name, data)\n",
    "        return\n",
    "    if len(data) == 0:\n",
    "        print(\"No candles\", pair_name)\n",
    "    candles_df = get_candles_df(data)\n",
    "    candles_df.to_pickle(f\"../data/{pair_name}_{granularity}.pkl\")\n",
    "    print(f\"{pair_name} {granularity} {candles_df.shape[0]} candles, {candles_df.time.min()} {candles_df.time.max()}\")"
   ]
  },
  {
   "cell_type": "code",
   "execution_count": 26,
   "metadata": {},
   "outputs": [],
   "source": [
    "code, data = fetch_candles(\"EUR_USD\", count = 10, granularity = \"H4\")\n",
    "candles_df = get_candles_df(data)"
   ]
  },
  {
   "cell_type": "code",
   "execution_count": 27,
   "metadata": {},
   "outputs": [
    {
     "name": "stdout",
     "output_type": "stream",
     "text": [
      "EUR_USD H4 9 candles, 2025-02-20 02:00:00+00:00 2025-02-21 10:00:00+00:00\n"
     ]
    }
   ],
   "source": [
    "create_data_file(\"EUR_USD\", count = 10, granularity = \"H4\")"
   ]
  },
  {
   "cell_type": "code",
   "execution_count": 28,
   "metadata": {},
   "outputs": [
    {
     "name": "stdout",
     "output_type": "stream",
     "text": [
      "<class 'pandas.core.frame.DataFrame'>\n",
      "RangeIndex: 9 entries, 0 to 8\n",
      "Data columns (total 14 columns):\n",
      " #   Column  Non-Null Count  Dtype                  \n",
      "---  ------  --------------  -----                  \n",
      " 0   volume  9 non-null      int64                  \n",
      " 1   time    9 non-null      datetime64[ns, tzutc()]\n",
      " 2   mid_o   9 non-null      float64                \n",
      " 3   mid_h   9 non-null      float64                \n",
      " 4   mid_l   9 non-null      float64                \n",
      " 5   mid_c   9 non-null      float64                \n",
      " 6   bid_o   9 non-null      float64                \n",
      " 7   bid_h   9 non-null      float64                \n",
      " 8   bid_l   9 non-null      float64                \n",
      " 9   bid_c   9 non-null      float64                \n",
      " 10  ask_o   9 non-null      float64                \n",
      " 11  ask_h   9 non-null      float64                \n",
      " 12  ask_l   9 non-null      float64                \n",
      " 13  ask_c   9 non-null      float64                \n",
      "dtypes: datetime64[ns, tzutc()](1), float64(12), int64(1)\n",
      "memory usage: 1.1 KB\n"
     ]
    }
   ],
   "source": [
    "candles_df.info()"
   ]
  },
  {
   "cell_type": "code",
   "execution_count": 29,
   "metadata": {},
   "outputs": [
    {
     "data": {
      "text/plain": [
       "200"
      ]
     },
     "execution_count": 29,
     "metadata": {},
     "output_type": "execute_result"
    }
   ],
   "source": [
    "code"
   ]
  },
  {
   "cell_type": "code",
   "execution_count": 30,
   "metadata": {},
   "outputs": [
    {
     "data": {
      "text/plain": [
       "10"
      ]
     },
     "execution_count": 30,
     "metadata": {},
     "output_type": "execute_result"
    }
   ],
   "source": [
    "len(data)"
   ]
  },
  {
   "cell_type": "code",
   "execution_count": 31,
   "metadata": {},
   "outputs": [
    {
     "data": {
      "text/plain": [
       "[{'complete': True,\n",
       "  'volume': 17180,\n",
       "  'time': '2025-02-20T02:00:00.000000000Z',\n",
       "  'bid': {'o': '1.04206', 'h': '1.04369', 'l': '1.04195', 'c': '1.04269'},\n",
       "  'mid': {'o': '1.04214', 'h': '1.04376', 'l': '1.04203', 'c': '1.04276'},\n",
       "  'ask': {'o': '1.04222', 'h': '1.04385', 'l': '1.04211', 'c': '1.04284'}},\n",
       " {'complete': True,\n",
       "  'volume': 22500,\n",
       "  'time': '2025-02-20T06:00:00.000000000Z',\n",
       "  'bid': {'o': '1.04269', 'h': '1.04414', 'l': '1.04227', 'c': '1.04364'},\n",
       "  'mid': {'o': '1.04278', 'h': '1.04421', 'l': '1.04236', 'c': '1.04372'},\n",
       "  'ask': {'o': '1.04286', 'h': '1.04428', 'l': '1.04244', 'c': '1.04379'}},\n",
       " {'complete': True,\n",
       "  'volume': 25358,\n",
       "  'time': '2025-02-20T10:00:00.000000000Z',\n",
       "  'bid': {'o': '1.04363', 'h': '1.04541', 'l': '1.04300', 'c': '1.04475'},\n",
       "  'mid': {'o': '1.04370', 'h': '1.04550', 'l': '1.04308', 'c': '1.04482'},\n",
       "  'ask': {'o': '1.04377', 'h': '1.04558', 'l': '1.04315', 'c': '1.04490'}},\n",
       " {'complete': True,\n",
       "  'volume': 37266,\n",
       "  'time': '2025-02-20T14:00:00.000000000Z',\n",
       "  'bid': {'o': '1.04473', 'h': '1.04939', 'l': '1.04412', 'c': '1.04886'},\n",
       "  'mid': {'o': '1.04480', 'h': '1.04946', 'l': '1.04419', 'c': '1.04893'},\n",
       "  'ask': {'o': '1.04488', 'h': '1.04953', 'l': '1.04426', 'c': '1.04900'}},\n",
       " {'complete': True,\n",
       "  'volume': 14829,\n",
       "  'time': '2025-02-20T18:00:00.000000000Z',\n",
       "  'bid': {'o': '1.04884', 'h': '1.05028', 'l': '1.04847', 'c': '1.05007'},\n",
       "  'mid': {'o': '1.04891', 'h': '1.05036', 'l': '1.04854', 'c': '1.05014'},\n",
       "  'ask': {'o': '1.04898', 'h': '1.05043', 'l': '1.04862', 'c': '1.05021'}},\n",
       " {'complete': True,\n",
       "  'volume': 11562,\n",
       "  'time': '2025-02-20T22:00:00.000000000Z',\n",
       "  'bid': {'o': '1.04940', 'h': '1.05051', 'l': '1.04837', 'c': '1.04860'},\n",
       "  'mid': {'o': '1.04976', 'h': '1.05059', 'l': '1.04845', 'c': '1.04868'},\n",
       "  'ask': {'o': '1.05012', 'h': '1.05067', 'l': '1.04853', 'c': '1.04877'}},\n",
       " {'complete': True,\n",
       "  'volume': 14548,\n",
       "  'time': '2025-02-21T02:00:00.000000000Z',\n",
       "  'bid': {'o': '1.04860', 'h': '1.05042', 'l': '1.04856', 'c': '1.04922'},\n",
       "  'mid': {'o': '1.04869', 'h': '1.05050', 'l': '1.04864', 'c': '1.04930'},\n",
       "  'ask': {'o': '1.04878', 'h': '1.05057', 'l': '1.04873', 'c': '1.04938'}},\n",
       " {'complete': True,\n",
       "  'volume': 30014,\n",
       "  'time': '2025-02-21T06:00:00.000000000Z',\n",
       "  'bid': {'o': '1.04921', 'h': '1.04990', 'l': '1.04659', 'c': '1.04685'},\n",
       "  'mid': {'o': '1.04930', 'h': '1.04997', 'l': '1.04667', 'c': '1.04692'},\n",
       "  'ask': {'o': '1.04938', 'h': '1.05005', 'l': '1.04674', 'c': '1.04699'}},\n",
       " {'complete': True,\n",
       "  'volume': 22121,\n",
       "  'time': '2025-02-21T10:00:00.000000000Z',\n",
       "  'bid': {'o': '1.04686', 'h': '1.04771', 'l': '1.04586', 'c': '1.04745'},\n",
       "  'mid': {'o': '1.04694', 'h': '1.04780', 'l': '1.04594', 'c': '1.04752'},\n",
       "  'ask': {'o': '1.04701', 'h': '1.04788', 'l': '1.04601', 'c': '1.04760'}},\n",
       " {'complete': False,\n",
       "  'volume': 28700,\n",
       "  'time': '2025-02-21T14:00:00.000000000Z',\n",
       "  'bid': {'o': '1.04746', 'h': '1.04920', 'l': '1.04486', 'c': '1.04525'},\n",
       "  'mid': {'o': '1.04753', 'h': '1.04928', 'l': '1.04494', 'c': '1.04532'},\n",
       "  'ask': {'o': '1.04760', 'h': '1.04936', 'l': '1.04501', 'c': '1.04539'}}]"
      ]
     },
     "execution_count": 31,
     "metadata": {},
     "output_type": "execute_result"
    }
   ],
   "source": [
    "data"
   ]
  },
  {
   "cell_type": "code",
   "execution_count": 32,
   "metadata": {},
   "outputs": [
    {
     "data": {
      "text/plain": [
       "{'complete': True,\n",
       " 'volume': 17180,\n",
       " 'time': '2025-02-20T02:00:00.000000000Z',\n",
       " 'bid': {'o': '1.04206', 'h': '1.04369', 'l': '1.04195', 'c': '1.04269'},\n",
       " 'mid': {'o': '1.04214', 'h': '1.04376', 'l': '1.04203', 'c': '1.04276'},\n",
       " 'ask': {'o': '1.04222', 'h': '1.04385', 'l': '1.04211', 'c': '1.04284'}}"
      ]
     },
     "execution_count": 32,
     "metadata": {},
     "output_type": "execute_result"
    }
   ],
   "source": [
    "data[0]"
   ]
  },
  {
   "cell_type": "code",
   "execution_count": 33,
   "metadata": {},
   "outputs": [],
   "source": [
    "prices = ['mid', 'bid', 'ask']\n",
    "ohlc = ['o', 'h', 'l', 'c']\n",
    "# mid_c, mid_o, bid_h"
   ]
  },
  {
   "cell_type": "code",
   "execution_count": 34,
   "metadata": {},
   "outputs": [],
   "source": [
    "our_curr = ['EUR', 'USD', 'GBP', 'JPY', 'CHF', 'NZD', 'CAD', 'AUD']"
   ]
  },
  {
   "cell_type": "code",
   "execution_count": 35,
   "metadata": {},
   "outputs": [
    {
     "name": "stdout",
     "output_type": "stream",
     "text": [
      "EUR_USD H1 4000 candles, 2024-07-01 23:00:00+00:00 2025-02-21 15:00:00+00:00\n",
      "EUR_USD H4 4000 candles, 2022-07-27 21:00:00+00:00 2025-02-21 10:00:00+00:00\n",
      "EUR_GBP H1 4000 candles, 2024-07-01 23:00:00+00:00 2025-02-21 15:00:00+00:00\n",
      "EUR_GBP H4 4000 candles, 2022-07-27 21:00:00+00:00 2025-02-21 10:00:00+00:00\n",
      "EUR_JPY H1 4000 candles, 2024-07-01 23:00:00+00:00 2025-02-21 15:00:00+00:00\n",
      "EUR_JPY H4 4000 candles, 2022-07-27 21:00:00+00:00 2025-02-21 10:00:00+00:00\n",
      "EUR_CHF H1 4000 candles, 2024-07-01 23:00:00+00:00 2025-02-21 15:00:00+00:00\n",
      "EUR_CHF H4 4000 candles, 2022-07-27 21:00:00+00:00 2025-02-21 10:00:00+00:00\n",
      "EUR_NZD H1 4000 candles, 2024-07-01 22:00:00+00:00 2025-02-21 15:00:00+00:00\n",
      "EUR_NZD H4 4000 candles, 2022-07-28 05:00:00+00:00 2025-02-21 10:00:00+00:00\n",
      "EUR_CAD H1 4000 candles, 2024-07-01 23:00:00+00:00 2025-02-21 15:00:00+00:00\n",
      "EUR_CAD H4 4000 candles, 2022-07-27 21:00:00+00:00 2025-02-21 10:00:00+00:00\n",
      "EUR_AUD H1 4000 candles, 2024-07-01 23:00:00+00:00 2025-02-21 15:00:00+00:00\n",
      "EUR_AUD H4 4000 candles, 2022-07-27 21:00:00+00:00 2025-02-21 10:00:00+00:00\n",
      "USD_JPY H1 4000 candles, 2024-07-01 23:00:00+00:00 2025-02-21 15:00:00+00:00\n",
      "USD_JPY H4 4000 candles, 2022-07-27 21:00:00+00:00 2025-02-21 10:00:00+00:00\n",
      "USD_CHF H1 4000 candles, 2024-07-01 23:00:00+00:00 2025-02-21 15:00:00+00:00\n",
      "USD_CHF H4 4000 candles, 2022-07-27 21:00:00+00:00 2025-02-21 10:00:00+00:00\n",
      "USD_CAD H1 4000 candles, 2024-07-01 23:00:00+00:00 2025-02-21 15:00:00+00:00\n",
      "USD_CAD H4 4000 candles, 2022-07-27 21:00:00+00:00 2025-02-21 10:00:00+00:00\n",
      "GBP_USD H1 4000 candles, 2024-07-01 23:00:00+00:00 2025-02-21 15:00:00+00:00\n",
      "GBP_USD H4 4000 candles, 2022-07-27 21:00:00+00:00 2025-02-21 10:00:00+00:00\n",
      "GBP_JPY H1 4000 candles, 2024-07-01 23:00:00+00:00 2025-02-21 15:00:00+00:00\n",
      "GBP_JPY H4 4000 candles, 2022-07-27 21:00:00+00:00 2025-02-21 10:00:00+00:00\n",
      "GBP_CHF H1 4000 candles, 2024-07-01 23:00:00+00:00 2025-02-21 15:00:00+00:00\n",
      "GBP_CHF H4 4000 candles, 2022-07-27 21:00:00+00:00 2025-02-21 10:00:00+00:00\n",
      "GBP_NZD H1 4000 candles, 2024-07-01 21:00:00+00:00 2025-02-21 15:00:00+00:00\n",
      "GBP_NZD H4 4000 candles, 2022-07-28 05:00:00+00:00 2025-02-21 10:00:00+00:00\n",
      "GBP_CAD H1 4000 candles, 2024-07-01 23:00:00+00:00 2025-02-21 15:00:00+00:00\n",
      "GBP_CAD H4 4000 candles, 2022-07-27 21:00:00+00:00 2025-02-21 10:00:00+00:00\n",
      "GBP_AUD H1 4000 candles, 2024-07-01 23:00:00+00:00 2025-02-21 15:00:00+00:00\n",
      "GBP_AUD H4 4000 candles, 2022-07-27 21:00:00+00:00 2025-02-21 10:00:00+00:00\n",
      "CHF_JPY H1 4000 candles, 2024-07-01 22:00:00+00:00 2025-02-21 15:00:00+00:00\n",
      "CHF_JPY H4 4000 candles, 2022-07-27 21:00:00+00:00 2025-02-21 10:00:00+00:00\n",
      "NZD_USD H1 4000 candles, 2024-07-01 23:00:00+00:00 2025-02-21 15:00:00+00:00\n",
      "NZD_USD H4 4000 candles, 2022-07-28 09:00:00+00:00 2025-02-21 10:00:00+00:00\n",
      "NZD_JPY H1 4000 candles, 2024-07-01 22:00:00+00:00 2025-02-21 15:00:00+00:00\n",
      "NZD_JPY H4 4000 candles, 2022-07-28 05:00:00+00:00 2025-02-21 10:00:00+00:00\n",
      "NZD_CHF H1 4000 candles, 2024-07-01 22:00:00+00:00 2025-02-21 15:00:00+00:00\n",
      "NZD_CHF H4 4000 candles, 2022-07-28 05:00:00+00:00 2025-02-21 10:00:00+00:00\n",
      "NZD_CAD H1 4000 candles, 2024-07-01 22:00:00+00:00 2025-02-21 15:00:00+00:00\n",
      "NZD_CAD H4 4000 candles, 2022-07-28 05:00:00+00:00 2025-02-21 10:00:00+00:00\n",
      "CAD_JPY H1 4000 candles, 2024-07-01 23:00:00+00:00 2025-02-21 15:00:00+00:00\n",
      "CAD_JPY H4 4000 candles, 2022-07-27 21:00:00+00:00 2025-02-21 10:00:00+00:00\n",
      "CAD_CHF H1 4000 candles, 2024-07-01 23:00:00+00:00 2025-02-21 15:00:00+00:00\n",
      "CAD_CHF H4 4000 candles, 2022-07-27 21:00:00+00:00 2025-02-21 10:00:00+00:00\n",
      "AUD_USD H1 4000 candles, 2024-07-01 23:00:00+00:00 2025-02-21 15:00:00+00:00\n",
      "AUD_USD H4 4000 candles, 2022-07-27 21:00:00+00:00 2025-02-21 10:00:00+00:00\n",
      "AUD_JPY H1 4000 candles, 2024-07-01 23:00:00+00:00 2025-02-21 15:00:00+00:00\n",
      "AUD_JPY H4 4000 candles, 2022-07-27 21:00:00+00:00 2025-02-21 10:00:00+00:00\n",
      "AUD_CHF H1 4000 candles, 2024-07-01 23:00:00+00:00 2025-02-21 15:00:00+00:00\n",
      "AUD_CHF H4 4000 candles, 2022-07-27 21:00:00+00:00 2025-02-21 10:00:00+00:00\n",
      "AUD_NZD H1 4000 candles, 2024-07-01 23:00:00+00:00 2025-02-21 15:00:00+00:00\n",
      "AUD_NZD H4 4000 candles, 2022-07-28 05:00:00+00:00 2025-02-21 10:00:00+00:00\n",
      "AUD_CAD H1 4000 candles, 2024-07-01 23:00:00+00:00 2025-02-21 15:00:00+00:00\n",
      "AUD_CAD H4 4000 candles, 2022-07-27 21:00:00+00:00 2025-02-21 10:00:00+00:00\n"
     ]
    }
   ],
   "source": [
    "for p1 in our_curr:\n",
    "    for p2 in our_curr:\n",
    "        pr = f\"{p1}_{p2}\"\n",
    "        if pr in instruments_dict:\n",
    "            for g in [\"H1\", \"H4\"]:\n",
    "                create_data_file(pr, count = 4001, granularity = g)"
   ]
  },
  {
   "cell_type": "code",
   "execution_count": null,
   "metadata": {},
   "outputs": [],
   "source": []
  }
 ],
 "metadata": {
  "kernelspec": {
   "display_name": "Python 3",
   "language": "python",
   "name": "python3"
  },
  "language_info": {
   "codemirror_mode": {
    "name": "ipython",
    "version": 3
   },
   "file_extension": ".py",
   "mimetype": "text/x-python",
   "name": "python",
   "nbconvert_exporter": "python",
   "pygments_lexer": "ipython3",
   "version": "3.13.1"
  }
 },
 "nbformat": 4,
 "nbformat_minor": 2
}
