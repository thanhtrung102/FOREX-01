{
 "cells": [
  {
   "cell_type": "code",
   "execution_count": 1,
   "id": "fececdd1",
   "metadata": {},
   "outputs": [],
   "source": [
    "import sys\n",
    "sys.path.append(\"../\")\n",
    "\n",
    "import pandas as pd\n",
    "import plotly.graph_objects as go"
   ]
  },
  {
   "cell_type": "code",
   "execution_count": 2,
   "id": "cb8b0e40",
   "metadata": {},
   "outputs": [],
   "source": [
    "from infrastructure.instrument_collection import instrumentCollection"
   ]
  },
  {
   "cell_type": "code",
   "execution_count": 3,
   "id": "f751740e",
   "metadata": {},
   "outputs": [],
   "source": [
    "def load_results(ic):\n",
    "    res = []\n",
    "    trades = []\n",
    "    our_curr = ['USD', 'GBP', 'JPY', 'NZD']\n",
    "    for p1 in our_curr:\n",
    "        for p2 in our_curr:\n",
    "            pair = f\"{p1}_{p2}\"\n",
    "            if pair in ic.instruments_dict.keys():\n",
    "                res.append(pd.read_pickle(f\"./macd_ema/macd_ema_res_{pair}.pkl\"))\n",
    "                trades.append(pd.read_pickle(f\"./macd_ema/trades/macd_ema_trades_{pair}.pkl\"))\n",
    "    return pd.concat(res), pd.concat(trades)"
   ]
  },
  {
   "cell_type": "code",
   "execution_count": 4,
   "id": "9c335bf4",
   "metadata": {},
   "outputs": [],
   "source": [
    "instrumentCollection.LoadInstruments('../data/')"
   ]
  },
  {
   "cell_type": "code",
   "execution_count": 5,
   "id": "7188f868",
   "metadata": {},
   "outputs": [],
   "source": [
    "df_results, df_trades = load_results(instrumentCollection)\n",
    "df_results.reset_index(drop=True, inplace=True)\n",
    "df_trades.reset_index(drop=True, inplace=True)"
   ]
  },
  {
   "cell_type": "code",
   "execution_count": 6,
   "id": "71bf6c3f",
   "metadata": {},
   "outputs": [
    {
     "data": {
      "text/html": [
       "<div>\n",
       "<style scoped>\n",
       "    .dataframe tbody tr th:only-of-type {\n",
       "        vertical-align: middle;\n",
       "    }\n",
       "\n",
       "    .dataframe tbody tr th {\n",
       "        vertical-align: top;\n",
       "    }\n",
       "\n",
       "    .dataframe thead th {\n",
       "        text-align: right;\n",
       "    }\n",
       "</style>\n",
       "<table border=\"1\" class=\"dataframe\">\n",
       "  <thead>\n",
       "    <tr style=\"text-align: right;\">\n",
       "      <th></th>\n",
       "      <th>pair</th>\n",
       "      <th>slow</th>\n",
       "      <th>fast</th>\n",
       "      <th>ema</th>\n",
       "      <th>result</th>\n",
       "      <th>signal</th>\n",
       "    </tr>\n",
       "  </thead>\n",
       "  <tbody>\n",
       "    <tr>\n",
       "      <th>0</th>\n",
       "      <td>USD_JPY</td>\n",
       "      <td>26</td>\n",
       "      <td>12</td>\n",
       "      <td>50</td>\n",
       "      <td>-1.5</td>\n",
       "      <td>9</td>\n",
       "    </tr>\n",
       "    <tr>\n",
       "      <th>1</th>\n",
       "      <td>USD_JPY</td>\n",
       "      <td>26</td>\n",
       "      <td>12</td>\n",
       "      <td>100</td>\n",
       "      <td>-2.5</td>\n",
       "      <td>9</td>\n",
       "    </tr>\n",
       "    <tr>\n",
       "      <th>2</th>\n",
       "      <td>USD_JPY</td>\n",
       "      <td>26</td>\n",
       "      <td>12</td>\n",
       "      <td>50</td>\n",
       "      <td>3.5</td>\n",
       "      <td>12</td>\n",
       "    </tr>\n",
       "    <tr>\n",
       "      <th>3</th>\n",
       "      <td>USD_JPY</td>\n",
       "      <td>26</td>\n",
       "      <td>12</td>\n",
       "      <td>100</td>\n",
       "      <td>3.5</td>\n",
       "      <td>12</td>\n",
       "    </tr>\n",
       "    <tr>\n",
       "      <th>4</th>\n",
       "      <td>USD_JPY</td>\n",
       "      <td>26</td>\n",
       "      <td>18</td>\n",
       "      <td>50</td>\n",
       "      <td>3.5</td>\n",
       "      <td>9</td>\n",
       "    </tr>\n",
       "  </tbody>\n",
       "</table>\n",
       "</div>"
      ],
      "text/plain": [
       "      pair  slow  fast  ema  result  signal\n",
       "0  USD_JPY    26    12   50    -1.5       9\n",
       "1  USD_JPY    26    12  100    -2.5       9\n",
       "2  USD_JPY    26    12   50     3.5      12\n",
       "3  USD_JPY    26    12  100     3.5      12\n",
       "4  USD_JPY    26    18   50     3.5       9"
      ]
     },
     "execution_count": 6,
     "metadata": {},
     "output_type": "execute_result"
    }
   ],
   "source": [
    "df_results.head()"
   ]
  },
  {
   "cell_type": "code",
   "execution_count": 7,
   "id": "172d8463",
   "metadata": {},
   "outputs": [
    {
     "data": {
      "text/html": [
       "<div>\n",
       "<style scoped>\n",
       "    .dataframe tbody tr th:only-of-type {\n",
       "        vertical-align: middle;\n",
       "    }\n",
       "\n",
       "    .dataframe tbody tr th {\n",
       "        vertical-align: top;\n",
       "    }\n",
       "\n",
       "    .dataframe thead th {\n",
       "        text-align: right;\n",
       "    }\n",
       "</style>\n",
       "<table border=\"1\" class=\"dataframe\">\n",
       "  <thead>\n",
       "    <tr style=\"text-align: right;\">\n",
       "      <th></th>\n",
       "      <th>running</th>\n",
       "      <th>start_index_m5</th>\n",
       "      <th>profit_factor</th>\n",
       "      <th>loss_factor</th>\n",
       "      <th>start_price</th>\n",
       "      <th>trigger_price</th>\n",
       "      <th>SIGNAL</th>\n",
       "      <th>TP</th>\n",
       "      <th>SL</th>\n",
       "      <th>result</th>\n",
       "      <th>end_time</th>\n",
       "      <th>start_time</th>\n",
       "      <th>slow</th>\n",
       "      <th>fast</th>\n",
       "      <th>signal</th>\n",
       "      <th>ema</th>\n",
       "      <th>pair</th>\n",
       "    </tr>\n",
       "  </thead>\n",
       "  <tbody>\n",
       "    <tr>\n",
       "      <th>0</th>\n",
       "      <td>False</td>\n",
       "      <td>4024</td>\n",
       "      <td>1.5</td>\n",
       "      <td>-1.0</td>\n",
       "      <td>103.799</td>\n",
       "      <td>103.853</td>\n",
       "      <td>-1</td>\n",
       "      <td>103.5160</td>\n",
       "      <td>103.821</td>\n",
       "      <td>-1.0</td>\n",
       "      <td>2020-11-19 22:00:00+00:00</td>\n",
       "      <td>2020-11-19 22:00:00+00:00</td>\n",
       "      <td>26</td>\n",
       "      <td>12</td>\n",
       "      <td>9</td>\n",
       "      <td>50</td>\n",
       "      <td>USD_JPY</td>\n",
       "    </tr>\n",
       "    <tr>\n",
       "      <th>1</th>\n",
       "      <td>False</td>\n",
       "      <td>7421</td>\n",
       "      <td>1.5</td>\n",
       "      <td>-1.0</td>\n",
       "      <td>103.993</td>\n",
       "      <td>104.049</td>\n",
       "      <td>-1</td>\n",
       "      <td>103.9035</td>\n",
       "      <td>104.031</td>\n",
       "      <td>-1.0</td>\n",
       "      <td>2020-12-07 18:20:00+00:00</td>\n",
       "      <td>2020-12-07 18:00:00+00:00</td>\n",
       "      <td>26</td>\n",
       "      <td>12</td>\n",
       "      <td>9</td>\n",
       "      <td>50</td>\n",
       "      <td>USD_JPY</td>\n",
       "    </tr>\n",
       "    <tr>\n",
       "      <th>2</th>\n",
       "      <td>False</td>\n",
       "      <td>7613</td>\n",
       "      <td>1.5</td>\n",
       "      <td>-1.0</td>\n",
       "      <td>104.008</td>\n",
       "      <td>104.047</td>\n",
       "      <td>-1</td>\n",
       "      <td>103.9280</td>\n",
       "      <td>104.038</td>\n",
       "      <td>-1.0</td>\n",
       "      <td>2020-12-08 10:25:00+00:00</td>\n",
       "      <td>2020-12-08 10:00:00+00:00</td>\n",
       "      <td>26</td>\n",
       "      <td>12</td>\n",
       "      <td>9</td>\n",
       "      <td>50</td>\n",
       "      <td>USD_JPY</td>\n",
       "    </tr>\n",
       "    <tr>\n",
       "      <th>3</th>\n",
       "      <td>False</td>\n",
       "      <td>9098</td>\n",
       "      <td>1.5</td>\n",
       "      <td>-1.0</td>\n",
       "      <td>103.778</td>\n",
       "      <td>103.357</td>\n",
       "      <td>-1</td>\n",
       "      <td>103.3580</td>\n",
       "      <td>104.038</td>\n",
       "      <td>1.5</td>\n",
       "      <td>2020-12-16 08:30:00+00:00</td>\n",
       "      <td>2020-12-15 14:00:00+00:00</td>\n",
       "      <td>26</td>\n",
       "      <td>12</td>\n",
       "      <td>9</td>\n",
       "      <td>50</td>\n",
       "      <td>USD_JPY</td>\n",
       "    </tr>\n",
       "    <tr>\n",
       "      <th>4</th>\n",
       "      <td>False</td>\n",
       "      <td>7421</td>\n",
       "      <td>1.5</td>\n",
       "      <td>-1.0</td>\n",
       "      <td>103.993</td>\n",
       "      <td>104.049</td>\n",
       "      <td>-1</td>\n",
       "      <td>103.9035</td>\n",
       "      <td>104.031</td>\n",
       "      <td>-1.0</td>\n",
       "      <td>2020-12-07 18:20:00+00:00</td>\n",
       "      <td>2020-12-07 18:00:00+00:00</td>\n",
       "      <td>26</td>\n",
       "      <td>12</td>\n",
       "      <td>9</td>\n",
       "      <td>100</td>\n",
       "      <td>USD_JPY</td>\n",
       "    </tr>\n",
       "  </tbody>\n",
       "</table>\n",
       "</div>"
      ],
      "text/plain": [
       "   running  start_index_m5  profit_factor  loss_factor  start_price  \\\n",
       "0    False            4024            1.5         -1.0      103.799   \n",
       "1    False            7421            1.5         -1.0      103.993   \n",
       "2    False            7613            1.5         -1.0      104.008   \n",
       "3    False            9098            1.5         -1.0      103.778   \n",
       "4    False            7421            1.5         -1.0      103.993   \n",
       "\n",
       "   trigger_price  SIGNAL        TP       SL  result                  end_time  \\\n",
       "0        103.853      -1  103.5160  103.821    -1.0 2020-11-19 22:00:00+00:00   \n",
       "1        104.049      -1  103.9035  104.031    -1.0 2020-12-07 18:20:00+00:00   \n",
       "2        104.047      -1  103.9280  104.038    -1.0 2020-12-08 10:25:00+00:00   \n",
       "3        103.357      -1  103.3580  104.038     1.5 2020-12-16 08:30:00+00:00   \n",
       "4        104.049      -1  103.9035  104.031    -1.0 2020-12-07 18:20:00+00:00   \n",
       "\n",
       "                 start_time  slow  fast  signal  ema     pair  \n",
       "0 2020-11-19 22:00:00+00:00    26    12       9   50  USD_JPY  \n",
       "1 2020-12-07 18:00:00+00:00    26    12       9   50  USD_JPY  \n",
       "2 2020-12-08 10:00:00+00:00    26    12       9   50  USD_JPY  \n",
       "3 2020-12-15 14:00:00+00:00    26    12       9   50  USD_JPY  \n",
       "4 2020-12-07 18:00:00+00:00    26    12       9  100  USD_JPY  "
      ]
     },
     "execution_count": 7,
     "metadata": {},
     "output_type": "execute_result"
    }
   ],
   "source": [
    "df_trades.head()"
   ]
  },
  {
   "cell_type": "code",
   "execution_count": 8,
   "id": "b5050a85",
   "metadata": {},
   "outputs": [
    {
     "data": {
      "text/plain": [
       "Index(['pair', 'slow', 'fast', 'ema', 'result', 'signal'], dtype='object')"
      ]
     },
     "execution_count": 8,
     "metadata": {},
     "output_type": "execute_result"
    }
   ],
   "source": [
    "df_results.columns"
   ]
  },
  {
   "cell_type": "code",
   "execution_count": 9,
   "id": "74bbca96",
   "metadata": {},
   "outputs": [],
   "source": [
    "# look at the results grouped by setting\n",
    "gr = df_results.groupby(by=['slow', 'fast', 'ema', 'signal'], as_index=False).sum()"
   ]
  },
  {
   "cell_type": "code",
   "execution_count": 10,
   "id": "5497cd29",
   "metadata": {},
   "outputs": [],
   "source": [
    "# sort descending, best result at the top\n",
    "gr.sort_values(by='result', ascending=False, inplace=True)"
   ]
  },
  {
   "cell_type": "code",
   "execution_count": 11,
   "id": "d489ff3c",
   "metadata": {},
   "outputs": [
    {
     "data": {
      "text/html": [
       "<div>\n",
       "<style scoped>\n",
       "    .dataframe tbody tr th:only-of-type {\n",
       "        vertical-align: middle;\n",
       "    }\n",
       "\n",
       "    .dataframe tbody tr th {\n",
       "        vertical-align: top;\n",
       "    }\n",
       "\n",
       "    .dataframe thead th {\n",
       "        text-align: right;\n",
       "    }\n",
       "</style>\n",
       "<table border=\"1\" class=\"dataframe\">\n",
       "  <thead>\n",
       "    <tr style=\"text-align: right;\">\n",
       "      <th></th>\n",
       "      <th>slow</th>\n",
       "      <th>fast</th>\n",
       "      <th>ema</th>\n",
       "      <th>signal</th>\n",
       "      <th>pair</th>\n",
       "      <th>result</th>\n",
       "    </tr>\n",
       "  </thead>\n",
       "  <tbody>\n",
       "    <tr>\n",
       "      <th>15</th>\n",
       "      <td>52</td>\n",
       "      <td>18</td>\n",
       "      <td>100</td>\n",
       "      <td>12</td>\n",
       "      <td>USD_JPYGBP_USDGBP_JPYGBP_NZDNZD_USDNZD_JPY</td>\n",
       "      <td>15.0</td>\n",
       "    </tr>\n",
       "    <tr>\n",
       "      <th>14</th>\n",
       "      <td>52</td>\n",
       "      <td>18</td>\n",
       "      <td>100</td>\n",
       "      <td>9</td>\n",
       "      <td>USD_JPYGBP_USDGBP_JPYGBP_NZDNZD_USDNZD_JPY</td>\n",
       "      <td>12.5</td>\n",
       "    </tr>\n",
       "    <tr>\n",
       "      <th>13</th>\n",
       "      <td>52</td>\n",
       "      <td>18</td>\n",
       "      <td>50</td>\n",
       "      <td>12</td>\n",
       "      <td>USD_JPYGBP_USDGBP_JPYGBP_NZDNZD_USDNZD_JPY</td>\n",
       "      <td>11.0</td>\n",
       "    </tr>\n",
       "    <tr>\n",
       "      <th>7</th>\n",
       "      <td>26</td>\n",
       "      <td>18</td>\n",
       "      <td>100</td>\n",
       "      <td>12</td>\n",
       "      <td>USD_JPYGBP_USDGBP_JPYGBP_NZDNZD_USDNZD_JPY</td>\n",
       "      <td>8.0</td>\n",
       "    </tr>\n",
       "    <tr>\n",
       "      <th>12</th>\n",
       "      <td>52</td>\n",
       "      <td>18</td>\n",
       "      <td>50</td>\n",
       "      <td>9</td>\n",
       "      <td>USD_JPYGBP_USDGBP_JPYGBP_NZDNZD_USDNZD_JPY</td>\n",
       "      <td>7.5</td>\n",
       "    </tr>\n",
       "  </tbody>\n",
       "</table>\n",
       "</div>"
      ],
      "text/plain": [
       "    slow  fast  ema  signal                                        pair  \\\n",
       "15    52    18  100      12  USD_JPYGBP_USDGBP_JPYGBP_NZDNZD_USDNZD_JPY   \n",
       "14    52    18  100       9  USD_JPYGBP_USDGBP_JPYGBP_NZDNZD_USDNZD_JPY   \n",
       "13    52    18   50      12  USD_JPYGBP_USDGBP_JPYGBP_NZDNZD_USDNZD_JPY   \n",
       "7     26    18  100      12  USD_JPYGBP_USDGBP_JPYGBP_NZDNZD_USDNZD_JPY   \n",
       "12    52    18   50       9  USD_JPYGBP_USDGBP_JPYGBP_NZDNZD_USDNZD_JPY   \n",
       "\n",
       "    result  \n",
       "15    15.0  \n",
       "14    12.5  \n",
       "13    11.0  \n",
       "7      8.0  \n",
       "12     7.5  "
      ]
     },
     "execution_count": 11,
     "metadata": {},
     "output_type": "execute_result"
    }
   ],
   "source": [
    "gr.head()"
   ]
  },
  {
   "cell_type": "code",
   "execution_count": 12,
   "id": "fd1e65f7",
   "metadata": {},
   "outputs": [],
   "source": [
    "# for the top setting, let's see what we have in terms of individual currency pairs\n",
    "df_results_best = df_results[(df_results.ema==50)&(df_results.fast==18)&(df_results.slow==52)&(df_results.signal==9)]"
   ]
  },
  {
   "cell_type": "code",
   "execution_count": 13,
   "id": "8cf1ca9b",
   "metadata": {},
   "outputs": [
    {
     "data": {
      "text/html": [
       "<div>\n",
       "<style scoped>\n",
       "    .dataframe tbody tr th:only-of-type {\n",
       "        vertical-align: middle;\n",
       "    }\n",
       "\n",
       "    .dataframe tbody tr th {\n",
       "        vertical-align: top;\n",
       "    }\n",
       "\n",
       "    .dataframe thead th {\n",
       "        text-align: right;\n",
       "    }\n",
       "</style>\n",
       "<table border=\"1\" class=\"dataframe\">\n",
       "  <thead>\n",
       "    <tr style=\"text-align: right;\">\n",
       "      <th></th>\n",
       "      <th>pair</th>\n",
       "      <th>slow</th>\n",
       "      <th>fast</th>\n",
       "      <th>ema</th>\n",
       "      <th>result</th>\n",
       "      <th>signal</th>\n",
       "    </tr>\n",
       "  </thead>\n",
       "  <tbody>\n",
       "    <tr>\n",
       "      <th>12</th>\n",
       "      <td>USD_JPY</td>\n",
       "      <td>52</td>\n",
       "      <td>18</td>\n",
       "      <td>50</td>\n",
       "      <td>0.5</td>\n",
       "      <td>9</td>\n",
       "    </tr>\n",
       "    <tr>\n",
       "      <th>28</th>\n",
       "      <td>GBP_USD</td>\n",
       "      <td>52</td>\n",
       "      <td>18</td>\n",
       "      <td>50</td>\n",
       "      <td>0.0</td>\n",
       "      <td>9</td>\n",
       "    </tr>\n",
       "    <tr>\n",
       "      <th>44</th>\n",
       "      <td>GBP_JPY</td>\n",
       "      <td>52</td>\n",
       "      <td>18</td>\n",
       "      <td>50</td>\n",
       "      <td>2.5</td>\n",
       "      <td>9</td>\n",
       "    </tr>\n",
       "    <tr>\n",
       "      <th>60</th>\n",
       "      <td>GBP_NZD</td>\n",
       "      <td>52</td>\n",
       "      <td>18</td>\n",
       "      <td>50</td>\n",
       "      <td>1.0</td>\n",
       "      <td>9</td>\n",
       "    </tr>\n",
       "    <tr>\n",
       "      <th>76</th>\n",
       "      <td>NZD_USD</td>\n",
       "      <td>52</td>\n",
       "      <td>18</td>\n",
       "      <td>50</td>\n",
       "      <td>0.0</td>\n",
       "      <td>9</td>\n",
       "    </tr>\n",
       "    <tr>\n",
       "      <th>92</th>\n",
       "      <td>NZD_JPY</td>\n",
       "      <td>52</td>\n",
       "      <td>18</td>\n",
       "      <td>50</td>\n",
       "      <td>3.5</td>\n",
       "      <td>9</td>\n",
       "    </tr>\n",
       "  </tbody>\n",
       "</table>\n",
       "</div>"
      ],
      "text/plain": [
       "       pair  slow  fast  ema  result  signal\n",
       "12  USD_JPY    52    18   50     0.5       9\n",
       "28  GBP_USD    52    18   50     0.0       9\n",
       "44  GBP_JPY    52    18   50     2.5       9\n",
       "60  GBP_NZD    52    18   50     1.0       9\n",
       "76  NZD_USD    52    18   50     0.0       9\n",
       "92  NZD_JPY    52    18   50     3.5       9"
      ]
     },
     "execution_count": 13,
     "metadata": {},
     "output_type": "execute_result"
    }
   ],
   "source": [
    "df_results_best"
   ]
  },
  {
   "cell_type": "code",
   "execution_count": 14,
   "id": "16f0a70a",
   "metadata": {},
   "outputs": [],
   "source": [
    "# let's see the individual trades for the top setting\n",
    "df_trades_best = df_trades[(df_trades.ema==50)&(df_trades.fast==18)&(df_trades.slow==52)&(df_trades.signal==9)].copy()"
   ]
  },
  {
   "cell_type": "code",
   "execution_count": 15,
   "id": "cdbadbf0",
   "metadata": {},
   "outputs": [
    {
     "data": {
      "text/plain": [
       "Index(['running', 'start_index_m5', 'profit_factor', 'loss_factor',\n",
       "       'start_price', 'trigger_price', 'SIGNAL', 'TP', 'SL', 'result',\n",
       "       'end_time', 'start_time', 'slow', 'fast', 'signal', 'ema', 'pair'],\n",
       "      dtype='object')"
      ]
     },
     "execution_count": 15,
     "metadata": {},
     "output_type": "execute_result"
    }
   ],
   "source": [
    "df_trades_best.columns"
   ]
  },
  {
   "cell_type": "code",
   "execution_count": 16,
   "id": "8d264b5c",
   "metadata": {},
   "outputs": [],
   "source": [
    "# let's see how long trades last\n",
    "df_trades_best['duration_h'] = (df_trades_best.end_time - df_trades_best.start_time).dt.total_seconds() / 3600"
   ]
  },
  {
   "cell_type": "code",
   "execution_count": 17,
   "id": "6fc04a18",
   "metadata": {},
   "outputs": [
    {
     "data": {
      "text/plain": [
       "count    40.000000\n",
       "mean      7.137500\n",
       "std      14.887536\n",
       "min       0.000000\n",
       "25%       0.000000\n",
       "50%       1.666667\n",
       "75%       8.437500\n",
       "max      88.500000\n",
       "Name: duration_h, dtype: float64"
      ]
     },
     "execution_count": 17,
     "metadata": {},
     "output_type": "execute_result"
    }
   ],
   "source": [
    "df_trades_best['duration_h'].describe()"
   ]
  },
  {
   "cell_type": "code",
   "execution_count": 18,
   "id": "60c6f032",
   "metadata": {},
   "outputs": [
    {
     "name": "stdout",
     "output_type": "stream",
     "text": [
      "Win percentage 47.5\n"
     ]
    }
   ],
   "source": [
    "# win percentage\n",
    "wp = (df_trades_best[df_trades_best.result>0].shape[0] / df_trades_best.shape[0]) * 100\n",
    "print(\"Win percentage\", wp)"
   ]
  },
  {
   "cell_type": "code",
   "execution_count": 19,
   "id": "b5c7bf2f",
   "metadata": {},
   "outputs": [],
   "source": [
    "# we will take a look at the cumulative gains, so sort by end_time\n",
    "df_trades_best.sort_values(by='end_time', inplace=True)"
   ]
  },
  {
   "cell_type": "code",
   "execution_count": 20,
   "id": "867771af",
   "metadata": {},
   "outputs": [],
   "source": [
    "df_trades_best['CUM_RES'] = df_trades_best.result.cumsum()"
   ]
  },
  {
   "cell_type": "code",
   "execution_count": 21,
   "id": "1bb7dbcc",
   "metadata": {},
   "outputs": [
    {
     "data": {
      "application/vnd.plotly.v1+json": {
       "config": {
        "plotlyServerURL": "https://plot.ly"
       },
       "data": [
        {
         "line": {
          "width": 2
         },
         "type": "scatter",
         "x": [
          "2020-11-16T06:00:00+00:00",
          "2020-11-17T06:00:00+00:00",
          "2020-11-17T07:00:00+00:00",
          "2020-11-17T14:20:00+00:00",
          "2020-11-19T06:20:00+00:00",
          "2020-11-20T10:00:00+00:00",
          "2020-11-20T18:45:00+00:00",
          "2020-11-20T21:50:00+00:00",
          "2020-11-23T08:20:00+00:00",
          "2020-11-24T08:00:00+00:00",
          "2020-11-24T14:00:00+00:00",
          "2020-11-26T13:40:00+00:00",
          "2020-11-30T22:00:00+00:00",
          "2020-12-01T14:00:00+00:00",
          "2020-12-01T14:50:00+00:00",
          "2020-12-01T16:05:00+00:00",
          "2020-12-01T22:25:00+00:00",
          "2020-12-02T07:55:00+00:00",
          "2020-12-03T09:20:00+00:00",
          "2020-12-07T06:30:00+00:00",
          "2020-12-07T18:00:00+00:00",
          "2020-12-09T14:00:00+00:00",
          "2020-12-09T14:05:00+00:00",
          "2020-12-09T14:05:00+00:00",
          "2020-12-09T14:20:00+00:00",
          "2020-12-10T14:00:00+00:00",
          "2020-12-10T18:00:00+00:00",
          "2020-12-11T06:00:00+00:00",
          "2020-12-11T08:15:00+00:00",
          "2020-12-16T11:50:00+00:00",
          "2020-12-17T08:00:00+00:00",
          "2020-12-17T11:30:00+00:00",
          "2020-12-21T02:00:00+00:00",
          "2020-12-21T08:30:00+00:00",
          "2020-12-22T10:00:00+00:00",
          "2020-12-23T18:20:00+00:00",
          "2020-12-24T02:00:00+00:00",
          "2020-12-28T22:00:00+00:00",
          "2020-12-30T23:15:00+00:00",
          "2020-12-31T08:00:00+00:00"
         ],
         "y": {
          "bdata": "AAAAAAAA+D8AAAAAAADgPwAAAAAAAOC/AAAAAAAA+L8AAAAAAAAEwAAAAAAAAPC/AAAAAAAAAMAAAAAAAAAIwAAAAAAAAPi/AAAAAAAAAAAAAAAAAAD4PwAAAAAAAOA/AAAAAAAA4L8AAAAAAAD4vwAAAAAAAAAAAAAAAAAA8L8AAAAAAAAAwAAAAAAAAAjAAAAAAAAAEMAAAAAAAAAUwAAAAAAAAAzAAAAAAAAAAMAAAAAAAAAIwAAAAAAAABDAAAAAAAAAFMAAAAAAAAAMwAAAAAAAAADAAAAAAAAA4L8AAAAAAAD4vwAAAAAAAATAAAAAAAAA8L8AAAAAAADgPwAAAAAAAABAAAAAAAAADEAAAAAAAAAEQAAAAAAAABBAAAAAAAAAFkAAAAAAAAASQAAAAAAAABhAAAAAAAAAHkA=",
          "dtype": "f8"
         }
        }
       ],
       "layout": {
        "font": {
         "color": "#e1e1e1",
         "size": 8
        },
        "height": 400,
        "margin": {
         "b": 10,
         "l": 10,
         "r": 10,
         "t": 10
        },
        "paper_bgcolor": "#2c303c",
        "plot_bgcolor": "#2c303c",
        "template": {
         "data": {
          "bar": [
           {
            "error_x": {
             "color": "#2a3f5f"
            },
            "error_y": {
             "color": "#2a3f5f"
            },
            "marker": {
             "line": {
              "color": "#E5ECF6",
              "width": 0.5
             },
             "pattern": {
              "fillmode": "overlay",
              "size": 10,
              "solidity": 0.2
             }
            },
            "type": "bar"
           }
          ],
          "barpolar": [
           {
            "marker": {
             "line": {
              "color": "#E5ECF6",
              "width": 0.5
             },
             "pattern": {
              "fillmode": "overlay",
              "size": 10,
              "solidity": 0.2
             }
            },
            "type": "barpolar"
           }
          ],
          "carpet": [
           {
            "aaxis": {
             "endlinecolor": "#2a3f5f",
             "gridcolor": "white",
             "linecolor": "white",
             "minorgridcolor": "white",
             "startlinecolor": "#2a3f5f"
            },
            "baxis": {
             "endlinecolor": "#2a3f5f",
             "gridcolor": "white",
             "linecolor": "white",
             "minorgridcolor": "white",
             "startlinecolor": "#2a3f5f"
            },
            "type": "carpet"
           }
          ],
          "choropleth": [
           {
            "colorbar": {
             "outlinewidth": 0,
             "ticks": ""
            },
            "type": "choropleth"
           }
          ],
          "contour": [
           {
            "colorbar": {
             "outlinewidth": 0,
             "ticks": ""
            },
            "colorscale": [
             [
              0,
              "#0d0887"
             ],
             [
              0.1111111111111111,
              "#46039f"
             ],
             [
              0.2222222222222222,
              "#7201a8"
             ],
             [
              0.3333333333333333,
              "#9c179e"
             ],
             [
              0.4444444444444444,
              "#bd3786"
             ],
             [
              0.5555555555555556,
              "#d8576b"
             ],
             [
              0.6666666666666666,
              "#ed7953"
             ],
             [
              0.7777777777777778,
              "#fb9f3a"
             ],
             [
              0.8888888888888888,
              "#fdca26"
             ],
             [
              1,
              "#f0f921"
             ]
            ],
            "type": "contour"
           }
          ],
          "contourcarpet": [
           {
            "colorbar": {
             "outlinewidth": 0,
             "ticks": ""
            },
            "type": "contourcarpet"
           }
          ],
          "heatmap": [
           {
            "colorbar": {
             "outlinewidth": 0,
             "ticks": ""
            },
            "colorscale": [
             [
              0,
              "#0d0887"
             ],
             [
              0.1111111111111111,
              "#46039f"
             ],
             [
              0.2222222222222222,
              "#7201a8"
             ],
             [
              0.3333333333333333,
              "#9c179e"
             ],
             [
              0.4444444444444444,
              "#bd3786"
             ],
             [
              0.5555555555555556,
              "#d8576b"
             ],
             [
              0.6666666666666666,
              "#ed7953"
             ],
             [
              0.7777777777777778,
              "#fb9f3a"
             ],
             [
              0.8888888888888888,
              "#fdca26"
             ],
             [
              1,
              "#f0f921"
             ]
            ],
            "type": "heatmap"
           }
          ],
          "histogram": [
           {
            "marker": {
             "pattern": {
              "fillmode": "overlay",
              "size": 10,
              "solidity": 0.2
             }
            },
            "type": "histogram"
           }
          ],
          "histogram2d": [
           {
            "colorbar": {
             "outlinewidth": 0,
             "ticks": ""
            },
            "colorscale": [
             [
              0,
              "#0d0887"
             ],
             [
              0.1111111111111111,
              "#46039f"
             ],
             [
              0.2222222222222222,
              "#7201a8"
             ],
             [
              0.3333333333333333,
              "#9c179e"
             ],
             [
              0.4444444444444444,
              "#bd3786"
             ],
             [
              0.5555555555555556,
              "#d8576b"
             ],
             [
              0.6666666666666666,
              "#ed7953"
             ],
             [
              0.7777777777777778,
              "#fb9f3a"
             ],
             [
              0.8888888888888888,
              "#fdca26"
             ],
             [
              1,
              "#f0f921"
             ]
            ],
            "type": "histogram2d"
           }
          ],
          "histogram2dcontour": [
           {
            "colorbar": {
             "outlinewidth": 0,
             "ticks": ""
            },
            "colorscale": [
             [
              0,
              "#0d0887"
             ],
             [
              0.1111111111111111,
              "#46039f"
             ],
             [
              0.2222222222222222,
              "#7201a8"
             ],
             [
              0.3333333333333333,
              "#9c179e"
             ],
             [
              0.4444444444444444,
              "#bd3786"
             ],
             [
              0.5555555555555556,
              "#d8576b"
             ],
             [
              0.6666666666666666,
              "#ed7953"
             ],
             [
              0.7777777777777778,
              "#fb9f3a"
             ],
             [
              0.8888888888888888,
              "#fdca26"
             ],
             [
              1,
              "#f0f921"
             ]
            ],
            "type": "histogram2dcontour"
           }
          ],
          "mesh3d": [
           {
            "colorbar": {
             "outlinewidth": 0,
             "ticks": ""
            },
            "type": "mesh3d"
           }
          ],
          "parcoords": [
           {
            "line": {
             "colorbar": {
              "outlinewidth": 0,
              "ticks": ""
             }
            },
            "type": "parcoords"
           }
          ],
          "pie": [
           {
            "automargin": true,
            "type": "pie"
           }
          ],
          "scatter": [
           {
            "fillpattern": {
             "fillmode": "overlay",
             "size": 10,
             "solidity": 0.2
            },
            "type": "scatter"
           }
          ],
          "scatter3d": [
           {
            "line": {
             "colorbar": {
              "outlinewidth": 0,
              "ticks": ""
             }
            },
            "marker": {
             "colorbar": {
              "outlinewidth": 0,
              "ticks": ""
             }
            },
            "type": "scatter3d"
           }
          ],
          "scattercarpet": [
           {
            "marker": {
             "colorbar": {
              "outlinewidth": 0,
              "ticks": ""
             }
            },
            "type": "scattercarpet"
           }
          ],
          "scattergeo": [
           {
            "marker": {
             "colorbar": {
              "outlinewidth": 0,
              "ticks": ""
             }
            },
            "type": "scattergeo"
           }
          ],
          "scattergl": [
           {
            "marker": {
             "colorbar": {
              "outlinewidth": 0,
              "ticks": ""
             }
            },
            "type": "scattergl"
           }
          ],
          "scattermap": [
           {
            "marker": {
             "colorbar": {
              "outlinewidth": 0,
              "ticks": ""
             }
            },
            "type": "scattermap"
           }
          ],
          "scattermapbox": [
           {
            "marker": {
             "colorbar": {
              "outlinewidth": 0,
              "ticks": ""
             }
            },
            "type": "scattermapbox"
           }
          ],
          "scatterpolar": [
           {
            "marker": {
             "colorbar": {
              "outlinewidth": 0,
              "ticks": ""
             }
            },
            "type": "scatterpolar"
           }
          ],
          "scatterpolargl": [
           {
            "marker": {
             "colorbar": {
              "outlinewidth": 0,
              "ticks": ""
             }
            },
            "type": "scatterpolargl"
           }
          ],
          "scatterternary": [
           {
            "marker": {
             "colorbar": {
              "outlinewidth": 0,
              "ticks": ""
             }
            },
            "type": "scatterternary"
           }
          ],
          "surface": [
           {
            "colorbar": {
             "outlinewidth": 0,
             "ticks": ""
            },
            "colorscale": [
             [
              0,
              "#0d0887"
             ],
             [
              0.1111111111111111,
              "#46039f"
             ],
             [
              0.2222222222222222,
              "#7201a8"
             ],
             [
              0.3333333333333333,
              "#9c179e"
             ],
             [
              0.4444444444444444,
              "#bd3786"
             ],
             [
              0.5555555555555556,
              "#d8576b"
             ],
             [
              0.6666666666666666,
              "#ed7953"
             ],
             [
              0.7777777777777778,
              "#fb9f3a"
             ],
             [
              0.8888888888888888,
              "#fdca26"
             ],
             [
              1,
              "#f0f921"
             ]
            ],
            "type": "surface"
           }
          ],
          "table": [
           {
            "cells": {
             "fill": {
              "color": "#EBF0F8"
             },
             "line": {
              "color": "white"
             }
            },
            "header": {
             "fill": {
              "color": "#C8D4E3"
             },
             "line": {
              "color": "white"
             }
            },
            "type": "table"
           }
          ]
         },
         "layout": {
          "annotationdefaults": {
           "arrowcolor": "#2a3f5f",
           "arrowhead": 0,
           "arrowwidth": 1
          },
          "autotypenumbers": "strict",
          "coloraxis": {
           "colorbar": {
            "outlinewidth": 0,
            "ticks": ""
           }
          },
          "colorscale": {
           "diverging": [
            [
             0,
             "#8e0152"
            ],
            [
             0.1,
             "#c51b7d"
            ],
            [
             0.2,
             "#de77ae"
            ],
            [
             0.3,
             "#f1b6da"
            ],
            [
             0.4,
             "#fde0ef"
            ],
            [
             0.5,
             "#f7f7f7"
            ],
            [
             0.6,
             "#e6f5d0"
            ],
            [
             0.7,
             "#b8e186"
            ],
            [
             0.8,
             "#7fbc41"
            ],
            [
             0.9,
             "#4d9221"
            ],
            [
             1,
             "#276419"
            ]
           ],
           "sequential": [
            [
             0,
             "#0d0887"
            ],
            [
             0.1111111111111111,
             "#46039f"
            ],
            [
             0.2222222222222222,
             "#7201a8"
            ],
            [
             0.3333333333333333,
             "#9c179e"
            ],
            [
             0.4444444444444444,
             "#bd3786"
            ],
            [
             0.5555555555555556,
             "#d8576b"
            ],
            [
             0.6666666666666666,
             "#ed7953"
            ],
            [
             0.7777777777777778,
             "#fb9f3a"
            ],
            [
             0.8888888888888888,
             "#fdca26"
            ],
            [
             1,
             "#f0f921"
            ]
           ],
           "sequentialminus": [
            [
             0,
             "#0d0887"
            ],
            [
             0.1111111111111111,
             "#46039f"
            ],
            [
             0.2222222222222222,
             "#7201a8"
            ],
            [
             0.3333333333333333,
             "#9c179e"
            ],
            [
             0.4444444444444444,
             "#bd3786"
            ],
            [
             0.5555555555555556,
             "#d8576b"
            ],
            [
             0.6666666666666666,
             "#ed7953"
            ],
            [
             0.7777777777777778,
             "#fb9f3a"
            ],
            [
             0.8888888888888888,
             "#fdca26"
            ],
            [
             1,
             "#f0f921"
            ]
           ]
          },
          "colorway": [
           "#636efa",
           "#EF553B",
           "#00cc96",
           "#ab63fa",
           "#FFA15A",
           "#19d3f3",
           "#FF6692",
           "#B6E880",
           "#FF97FF",
           "#FECB52"
          ],
          "font": {
           "color": "#2a3f5f"
          },
          "geo": {
           "bgcolor": "white",
           "lakecolor": "white",
           "landcolor": "#E5ECF6",
           "showlakes": true,
           "showland": true,
           "subunitcolor": "white"
          },
          "hoverlabel": {
           "align": "left"
          },
          "hovermode": "closest",
          "mapbox": {
           "style": "light"
          },
          "paper_bgcolor": "white",
          "plot_bgcolor": "#E5ECF6",
          "polar": {
           "angularaxis": {
            "gridcolor": "white",
            "linecolor": "white",
            "ticks": ""
           },
           "bgcolor": "#E5ECF6",
           "radialaxis": {
            "gridcolor": "white",
            "linecolor": "white",
            "ticks": ""
           }
          },
          "scene": {
           "xaxis": {
            "backgroundcolor": "#E5ECF6",
            "gridcolor": "white",
            "gridwidth": 2,
            "linecolor": "white",
            "showbackground": true,
            "ticks": "",
            "zerolinecolor": "white"
           },
           "yaxis": {
            "backgroundcolor": "#E5ECF6",
            "gridcolor": "white",
            "gridwidth": 2,
            "linecolor": "white",
            "showbackground": true,
            "ticks": "",
            "zerolinecolor": "white"
           },
           "zaxis": {
            "backgroundcolor": "#E5ECF6",
            "gridcolor": "white",
            "gridwidth": 2,
            "linecolor": "white",
            "showbackground": true,
            "ticks": "",
            "zerolinecolor": "white"
           }
          },
          "shapedefaults": {
           "line": {
            "color": "#2a3f5f"
           }
          },
          "ternary": {
           "aaxis": {
            "gridcolor": "white",
            "linecolor": "white",
            "ticks": ""
           },
           "baxis": {
            "gridcolor": "white",
            "linecolor": "white",
            "ticks": ""
           },
           "bgcolor": "#E5ECF6",
           "caxis": {
            "gridcolor": "white",
            "linecolor": "white",
            "ticks": ""
           }
          },
          "title": {
           "x": 0.05
          },
          "xaxis": {
           "automargin": true,
           "gridcolor": "white",
           "linecolor": "white",
           "ticks": "",
           "title": {
            "standoff": 15
           },
           "zerolinecolor": "white",
           "zerolinewidth": 2
          },
          "yaxis": {
           "automargin": true,
           "gridcolor": "white",
           "linecolor": "white",
           "ticks": "",
           "title": {
            "standoff": 15
           },
           "zerolinecolor": "white",
           "zerolinewidth": 2
          }
         }
        },
        "xaxis": {
         "gridcolor": "#1f292f"
        },
        "yaxis": {
         "gridcolor": "#1f292f"
        }
       }
      }
     },
     "metadata": {},
     "output_type": "display_data"
    }
   ],
   "source": [
    "fig = go.Figure()\n",
    "\n",
    "fig.add_trace(go.Scatter(\n",
    "    x=df_trades_best.end_time,\n",
    "    y=df_trades_best['CUM_RES'],\n",
    "    line=dict(width=2)\n",
    "))\n",
    "\n",
    "fig.update_yaxes(\n",
    "    gridcolor=\"#1f292f\"\n",
    ")\n",
    "fig.update_xaxes(\n",
    "    gridcolor=\"#1f292f\"\n",
    ")\n",
    "\n",
    "fig.update_layout(\n",
    "    margin=dict(l=10,r=10,b=10,t=10),\n",
    "    paper_bgcolor=\"#2c303c\",\n",
    "    plot_bgcolor=\"#2c303c\",\n",
    "    font=dict(size=8, color=\"#e1e1e1\"),\n",
    "    height=400\n",
    ")\n",
    "\n",
    "fig.show()"
   ]
  },
  {
   "cell_type": "code",
   "execution_count": null,
   "id": "79a5f244",
   "metadata": {},
   "outputs": [],
   "source": []
  }
 ],
 "metadata": {
  "kernelspec": {
   "display_name": "Python 3",
   "language": "python",
   "name": "python3"
  },
  "language_info": {
   "codemirror_mode": {
    "name": "ipython",
    "version": 3
   },
   "file_extension": ".py",
   "mimetype": "text/x-python",
   "name": "python",
   "nbconvert_exporter": "python",
   "pygments_lexer": "ipython3",
   "version": "3.13.1"
  }
 },
 "nbformat": 4,
 "nbformat_minor": 5
}
