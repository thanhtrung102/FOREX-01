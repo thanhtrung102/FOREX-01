{
 "cells": [
  {
   "cell_type": "code",
   "execution_count": 31,
   "id": "5fed330a",
   "metadata": {},
   "outputs": [],
   "source": [
    "import sys\n",
    "sys.path.append(\"../\")\n",
    "import pandas as pd\n",
    "import plotly.graph_objects as go\n",
    "import datetime as dt\n",
    "from plotting import CandlePlot"
   ]
  },
  {
   "cell_type": "code",
   "execution_count": 32,
   "id": "f7901fe1",
   "metadata": {},
   "outputs": [],
   "source": [
    "from infrastructure.instrument_collection import instrumentCollection as ic"
   ]
  },
  {
   "cell_type": "code",
   "execution_count": 33,
   "id": "b19a3cf7",
   "metadata": {},
   "outputs": [],
   "source": [
    "pair = \"GBP_JPY\"\n",
    "granularity = \"H4\"\n",
    "df = pd.read_pickle(f\"../data/{pair}_{granularity}.pkl\")\n",
    "MA_LIST = [10, 20, 50, 100, 200]"
   ]
  },
  {
   "cell_type": "code",
   "execution_count": 34,
   "id": "d163b875",
   "metadata": {},
   "outputs": [],
   "source": [
    "df_ma = df[['time', 'mid_o', 'mid_h', 'mid_l', 'mid_c']].copy()"
   ]
  },
  {
   "cell_type": "code",
   "execution_count": 35,
   "id": "1996e9b2",
   "metadata": {},
   "outputs": [
    {
     "data": {
      "text/html": [
       "<div>\n",
       "<style scoped>\n",
       "    .dataframe tbody tr th:only-of-type {\n",
       "        vertical-align: middle;\n",
       "    }\n",
       "\n",
       "    .dataframe tbody tr th {\n",
       "        vertical-align: top;\n",
       "    }\n",
       "\n",
       "    .dataframe thead th {\n",
       "        text-align: right;\n",
       "    }\n",
       "</style>\n",
       "<table border=\"1\" class=\"dataframe\">\n",
       "  <thead>\n",
       "    <tr style=\"text-align: right;\">\n",
       "      <th></th>\n",
       "      <th>time</th>\n",
       "      <th>mid_o</th>\n",
       "      <th>mid_h</th>\n",
       "      <th>mid_l</th>\n",
       "      <th>mid_c</th>\n",
       "    </tr>\n",
       "  </thead>\n",
       "  <tbody>\n",
       "    <tr>\n",
       "      <th>0</th>\n",
       "      <td>2022-07-27 21:00:00+00:00</td>\n",
       "      <td>165.982</td>\n",
       "      <td>166.104</td>\n",
       "      <td>165.362</td>\n",
       "      <td>165.418</td>\n",
       "    </tr>\n",
       "    <tr>\n",
       "      <th>1</th>\n",
       "      <td>2022-07-28 01:00:00+00:00</td>\n",
       "      <td>165.415</td>\n",
       "      <td>165.423</td>\n",
       "      <td>164.534</td>\n",
       "      <td>164.718</td>\n",
       "    </tr>\n",
       "    <tr>\n",
       "      <th>2</th>\n",
       "      <td>2022-07-28 05:00:00+00:00</td>\n",
       "      <td>164.716</td>\n",
       "      <td>165.290</td>\n",
       "      <td>164.582</td>\n",
       "      <td>164.906</td>\n",
       "    </tr>\n",
       "    <tr>\n",
       "      <th>3</th>\n",
       "      <td>2022-07-28 09:00:00+00:00</td>\n",
       "      <td>164.902</td>\n",
       "      <td>164.902</td>\n",
       "      <td>163.433</td>\n",
       "      <td>163.534</td>\n",
       "    </tr>\n",
       "    <tr>\n",
       "      <th>4</th>\n",
       "      <td>2022-07-28 13:00:00+00:00</td>\n",
       "      <td>163.528</td>\n",
       "      <td>163.634</td>\n",
       "      <td>162.864</td>\n",
       "      <td>163.157</td>\n",
       "    </tr>\n",
       "  </tbody>\n",
       "</table>\n",
       "</div>"
      ],
      "text/plain": [
       "                       time    mid_o    mid_h    mid_l    mid_c\n",
       "0 2022-07-27 21:00:00+00:00  165.982  166.104  165.362  165.418\n",
       "1 2022-07-28 01:00:00+00:00  165.415  165.423  164.534  164.718\n",
       "2 2022-07-28 05:00:00+00:00  164.716  165.290  164.582  164.906\n",
       "3 2022-07-28 09:00:00+00:00  164.902  164.902  163.433  163.534\n",
       "4 2022-07-28 13:00:00+00:00  163.528  163.634  162.864  163.157"
      ]
     },
     "execution_count": 35,
     "metadata": {},
     "output_type": "execute_result"
    }
   ],
   "source": [
    "df_ma.head()"
   ]
  },
  {
   "cell_type": "code",
   "execution_count": 36,
   "id": "2bd5b6f3",
   "metadata": {},
   "outputs": [],
   "source": [
    "for ma in MA_LIST:    \n",
    "    df_ma[f'MA_{ma}'] = df_ma.mid_c.rolling(window=ma).mean()\n",
    "df_ma.dropna(inplace=True)\n",
    "df_ma.reset_index(inplace=True, drop=True)"
   ]
  },
  {
   "cell_type": "code",
   "execution_count": 37,
   "id": "2046e30d",
   "metadata": {},
   "outputs": [],
   "source": [
    "df_plot = df_ma.iloc[:500]"
   ]
  },
  {
   "cell_type": "code",
   "execution_count": 38,
   "id": "fdb6f2c5",
   "metadata": {},
   "outputs": [],
   "source": [
    "cp = CandlePlot(df_plot)"
   ]
  },
  {
   "cell_type": "code",
   "execution_count": 39,
   "id": "df51c5c1",
   "metadata": {},
   "outputs": [],
   "source": [
    "traces = [ f\"MA_{x}\" for x in MA_LIST ]"
   ]
  },
  {
   "cell_type": "code",
   "execution_count": 40,
   "id": "210c53e5",
   "metadata": {},
   "outputs": [
    {
     "data": {
      "application/vnd.plotly.v1+json": {
       "config": {
        "plotlyServerURL": "https://plot.ly"
       },
       "data": [
        {
         "close": {
          "bdata": "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",
          "dtype": "f8"
         },
         "decreasing": {
          "fillcolor": "#CC2E3C",
          "line": {
           "color": "#FF3A4C"
          }
         },
         "high": {
          "bdata": "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",
          "dtype": "f8"
         },
         "increasing": {
          "fillcolor": "#24A06B",
          "line": {
           "color": "#2EC886"
          }
         },
         "line": {
          "width": 1
         },
         "low": {
          "bdata": "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",
          "dtype": "f8"
         },
         "opacity": 1,
         "open": {
          "bdata": "7FG4HoXTZEBvEoPAytFkQAaBlUOL1GRADi2yne/bZEASg8DKoclkQN0kBoGVx2RA3SQGgZXDZEDjpZvEILhkQCPb+X5qrGRATDeJQWCpZEBvEoPAyqlkQClcj8L1qGRACKwcWmSjZEDjpZvEIKxkQEJg5dAiq2RAO99PjZeeZEDy0k1iEJhkQLByaJHtkGRA/tR46SaBZEAMAiuHFolkQFyPwvUoYGRAi2zn+6lhZEB/arx0k2BkQMHKoUW2Z2RAIbByaJFpZED2KFyPwmlkQBkEVg4tYmRAd76fGi9lZEBMN4lBYHFkQC2yne+ndmRAIbByaJF1ZEAUrkfhenhkQGQ730+Nh2RAmpmZmZmBZEDXo3A9Cm9kQEw3iUFgcWRAO99PjZduZECkcD0K13dkQAAAAAAAXGRAZmZmZmZqZEBOYhBYOWxkQHsUrkfhSmRAGy/dJAZFZEBSuB6F61lkQMuhRbbzHWRATmIQWDnwY0BWDi2ynQtkQH0/NV66CWRAmG4Sg8ACZEBYObTIdvpjQOF6FK5H9WNAHVpkO9/DY0CwcmiR7YBjQCPb+X5qZGNAwcqhRbavYkDP91PjpftiQKAaL90kVmNA5/up8dKRY0CNl24Sg0xjQEjhehSuU2NACtejcD1yY0CiRbbz/XRjQPCnxks3gWNAK4cW2c57Y0Dl0CLb+VJjQMUgsHJobWNAnMQgsHJYY0CLbOf7qUFjQGZmZmZmVmNAJzEIrBxKY0A/NV66SZRjQB1aZDvfm2NAsHJoke18Y0CTGARWDoVjQOf7qfHSiWNARIts5/utY0D8qfHSTfpjQN0kBoGVE2RAmpmZmZktZEBt5/up8RJkQG3n+6nxOmRAVg4tsp3/Y0BEi2zn+yFkQLx0kxgENmRA3SQGgZUjZEDFILByaBlkQKwcWmQ7U2RAGQRWDi1SZEAtsp3vp15kQNNNYhBYdWRANV66SQx+ZED2KFyPwn1kQDvfT42XlmRAuB6F61GYZEA730+Nl6ZkQC2yne+nqmRAbxKDwMqRZEBoke18P5lkQAwCK4cWnWRARIts5/txZEDZzvdT421kQEoMAiuHemRAUrgeheuJZEC4HoXrUYhkQCGwcmiRaWRARIts5/thZEBU46WbxDBkQPLSTWIQQGRAJQaBlUMzZEBiEFg5tDhkQN0kBoGVQ2RA1XjpJjEwZECsHFpkOydkQJhuEoPAImRAw/UoXI8qZEAhsHJokSVkQAisHFpkG2RAnMQgsHIkZEArhxbZzhdkQHe+nxovJWRAqvHSTWIwZED8qfHSTRZkQAwCK4cWHWRAx0s3iUEwZEAIrBxaZE9kQM3MzMzMAGRAYOXQItsJZEBU46WbxBhkQFg5tMh2LmRAF9nO91NDZEAK16NwPVJkQHNoke18Y2RA3SQGgZVjZECmm8QgsFpkQFTjpZvEYGRAw/UoXI+mZECcxCCwcthkQArXo3A91mRA7FG4HoXTZEBaZDvfT91kQNv5fmq80GRAw/UoXI/KZEBcj8L1KMRkQPp+arx032RA8tJNYhDYZEDwp8ZLN+FkQESLbOf78WRAyXa+nxoTZUBxPQrXozBlQBBYObTIJmVAvp8aL90cZUCYbhKDwC5lQHsUrkfhEmVAcT0K16MYZUAj2/l+ahhlQO58PzVeHmVArkfhehQmZUAfhetRuCJlQNNNYhBYCWVAvp8aL90MZUAIrBxaZPdkQJzEILByBGVAfT81XroBZUD0/dR46QZlQAIrhxbZ9mRAj8L1KFwXZUCBlUOLbBdlQCuHFtnOE2VAN4lBYOUIZUBcj8L1KAxlQB1aZDvf/2RAH4XrUbgSZUBSuB6F67lkQFYOLbKdA2VAnu+nxksPZUAQWDm0yB5lQAaBlUOLJGVAGQRWDi0aZUAtsp3vp/5kQMl2vp8a/2RA46WbxCAUZUCkcD0K1wdlQLByaJHtEGVANV66SQwiZUDFILByaDllQL6fGi/dOGVAWDm0yHYuZUCamZmZmTllQJzEILByUGVA5/up8dJFZUCq8dJNYkBlQG3n+6nxQmVAfT81Xro5ZUBI4XoUri9lQGiR7Xw/JWVAokW28/00ZUDP91PjpSNlQIGVQ4tsJ2VAlkOLbOcrZUC+nxov3ShlQBBYObTIPmVAWDm0yHZOZUDn+6nx0mVlQDeJQWDlaGVAmpmZmZmBZUDsUbgehXNlQKAaL90kZmVA2/l+arxkZUDLoUW281VlQJ7vp8ZLT2VAqvHSTWJYZUCNl24Sg1hlQFYOLbKdQ2VAlkOLbOc7ZUB3vp8aLzVlQPyp8dJNSmVAy6FFtvMtZUAIrBxaZDtlQFpkO99PLWVAtvP91HgpZUCR7Xw/NRJlQGDl0CLbDWVAFK5H4Xr8ZEA/NV66SQRlQH9qvHST2GRAWDm0yHa2ZEApXI/C9bhkQEa28/3UrGRA46WbxCC4ZEBWDi2yncNkQDeJQWDluGRA+n5qvHS7ZEAIrBxaZMdkQJqZmZmZzWRAVg4tsp3TZEDLoUW289lkQDMzMzMz+2RAEFg5tMj6ZEDVeOkmMRhlQHNoke18G2VATDeJQWAdZUC0yHa+nxJlQFTjpZvEAGVAokW28/3wZEB56SYxCBBlQJMYBFYOBWVA+n5qvHT7ZEBoke18PwVlQOf7qfHS3WRAZmZmZmbiZED6fmq8dMtkQOOlm8QgzGRAkxgEVg7RZEA730+Nl9ZkQPYoXI/CzWRAexSuR+HaZEC6SQwCK69kQMl2vp8ao2RA+n5qvHS7ZECkcD0K17tkQA4tsp3vk2RAJzEIrByCZEA5tMh2vndkQJZDi2zni2RA+n5qvHR/ZEDJdr6fGn9kQGiR7Xw/tWRA2c73U+OlZEBMN4lBYJ1kQJ7vp8ZLj2RArkfhehSaZEAnMQisHKpkQNNNYhBYmWRABoGVQ4u8ZEAUrkfherRkQP7UeOkmqWRAwcqhRbavZED6fmq8dLtkQPyp8dJNumRAw/UoXI++ZECmm8QgsLpkQN9PjZduxmRAVg4tsp27ZEAGgZVDi7xkQG3n+6nxvmRAGQRWDi2qZED8qfHSTcJkQAIrhxbZymRAlkOLbOfPZEB/arx0k8xkQH0/NV663WRA3SQGgZXTZEBCYOXQItNkQFCNl24S32RAz/dT46XLZEAnMQisHMpkQBBYObTI7mRArBxaZDvnZEAzMzMzM/NkQB1aZDvf/2RA3SQGgZUDZUC4HoXrUQBlQFK4HoXr8WRAnMQgsHIAZUA1XrpJDPpkQLByaJHt/GRA7FG4HoX/ZEC4HoXrUQBlQJ7vp8ZLD2VAc2iR7XwbZUAIrBxaZAdlQLgehetRCGVAVOOlm8T4ZECq8dJNYgBlQG3n+6nx8mRAj8L1KFzzZEBg5dAi2/lkQFpkO99P/WRA9ihcj8L9ZEBvEoPAyvlkQCPb+X5qDGVAH4XrUbgKZUCoxks3iQllQCUGgZVDA2VAH4XrUbjeZECPwvUoXNdkQEa28/3U0GRAVOOlm8ToZED8qfHSTdJkQJZDi2znw2RAsp3vp8bLZED4U+Olm8xkQHWTGARWsmRAFK5H4XrEZECNl24Sg7hkQArXo3A9umRAXrpJDAK/ZEAxCKwcWrxkQDMzMzMz12RA0SLb+X7iZEBKDAIrh85kQEw3iUFg0WRARrbz/dSoZECYbhKDwKJkQFTjpZvEtGRA3SQGgZXLZED+1HjpJsFkQHNoke18u2RAIbByaJGtZECwcmiR7ahkQOXQItv5jmRASOF6FK6fZEC0yHa+n6pkQBBYObTIpmRA5dAi2/muZEAfhetRuL5kQJZDi2znw2RA5dAi2/nKZEA1XrpJDM5kQLTIdr6f0mRA6SYxCKzUZECNl24Sg+BkQESLbOf70WRASgwCK4fOZEDsUbgehdNkQCuHFtnOx2RAEoPAyqHJZEC+nxov3dRkQOf7qfHS3WRAWmQ730/dZEAhsHJokdVkQD0K16Nw1WRAKVyPwvXYZEBCYOXQIuNkQFYOLbKd12RACKwcWmTbZECuR+F6FOJkQAwCK4cW5WRAukkMAivfZEASg8DKod1kQArXo3A92mRA/Knx0k3eZED2KFyPwvVkQAaBlUOL7GRAN4lBYOXoZEDpJjEIrPBkQAisHFpk92RA2c73U+MNZUAtsp3vpx5lQNNNYhBYHWVApHA9CtcfZUB1kxgEVh5lQLKd76fGH2VAHVpkO9/3ZEAX2c73U+tkQG8Sg8DK9WRArBxaZDvvZEDRItv5fupkQMP1KFyP8mRAukkMAivfZEDpJjEIrPhkQIts5/upCWVASgwCK4f+ZEDFILByaAFlQJzEILByEGVAYhBYObQAZUCTGARWDv1kQNv5fmq8/GRA9P3UeOnyZEDNzMzMzPRkQPp+arx002RAtvP91HjhZEA9CtejcMVkQFCNl24Sp2RAukkMAiu3ZEAOLbKd77dkQLKd76fGx2RAYhBYObTIZEBeukkMAtNkQBfZzvdTy2RAbef7qfHaZECamZmZmSFkQDvfT42XDmRAmG4Sg8ASZEA/NV66SehjQLByaJHtCGRAke18PzUaZEC0yHa+nxpkQCcxCKwc+mNApHA9CtcTZEACK4cW2fZjQKwcWmQ7/2NAyXa+nxr3Y0DsUbgehftjQGDl0CLb9WNAObTIdr7nY0DNzMzMzORjQJZDi2zn62NASOF6FK73Y0Bg5dAi2/VjQN9PjZdu/mNAPQrXo3D9Y0CkcD0K1wNkQBSuR+F6CGRAAAAAAAAYZEDy0k1iEBRkQDEIrBxaFGRA16NwPQoPZECWQ4ts5wtkQE5iEFg5FGRAUrgehesZZECBlUOLbCdkQGQ730+NJ2RAEFg5tMg2ZED6fmq8dDNkQDEIrBxaNGRA4XoUrkchZECamZmZmR1kQJhuEoPAImRA5dAi2/kOZEBg5dAi2xFkQDEIrBxaDGRAVg4tsp33Y0BkO99PjfdjQFCNl24S32NAQmDl0CLfY0Cq8dJNYtBjQBKDwMqhwWNARIts5/vJY0DP91PjpcNjQLbz/dR4tWNAke18PzWuY0D0/dR46bJjQLbz/dR4rWNAJQaBlUObY0C8dJMYBJZjQD81XrpJcGNA30+Nl26WY0DByqFFto9jQH9qvHSTmGNA0SLb+X6WY0D8qfHSTZpjQLbz/dR4qWNALbKd76eyY0Bg5dAi2/1jQDMzMzMz+2NAppvEILDmY0BzaJHtfO9jQHWTGARW7mNA+n5qvHTrY0A9CtejcNVjQAisHFpk22NASOF6FK7vY0DJdr6fGvdjQOkmMQis7GNArkfhehTiY0CiRbbz/fRjQKwcWmQ772NAXrpJDALzY0BiEFg5tARkQA==",
          "dtype": "f8"
         },
         "type": "candlestick",
         "x": [
          "s22-09-13 01:00",
          "s22-09-13 05:00",
          "s22-09-13 09:00",
          "s22-09-13 13:00",
          "s22-09-13 17:00",
          "s22-09-13 21:00",
          "s22-09-14 01:00",
          "s22-09-14 05:00",
          "s22-09-14 09:00",
          "s22-09-14 13:00",
          "s22-09-14 17:00",
          "s22-09-14 21:00",
          "s22-09-15 01:00",
          "s22-09-15 05:00",
          "s22-09-15 09:00",
          "s22-09-15 13:00",
          "s22-09-15 17:00",
          "s22-09-15 21:00",
          "s22-09-16 01:00",
          "s22-09-16 05:00",
          "s22-09-16 09:00",
          "s22-09-16 13:00",
          "s22-09-16 17:00",
          "s22-09-18 21:00",
          "s22-09-19 01:00",
          "s22-09-19 05:00",
          "s22-09-19 09:00",
          "s22-09-19 13:00",
          "s22-09-19 17:00",
          "s22-09-19 21:00",
          "s22-09-20 01:00",
          "s22-09-20 05:00",
          "s22-09-20 09:00",
          "s22-09-20 13:00",
          "s22-09-20 17:00",
          "s22-09-20 21:00",
          "s22-09-21 01:00",
          "s22-09-21 05:00",
          "s22-09-21 09:00",
          "s22-09-21 13:00",
          "s22-09-21 17:00",
          "s22-09-21 21:00",
          "s22-09-22 01:00",
          "s22-09-22 05:00",
          "s22-09-22 09:00",
          "s22-09-22 13:00",
          "s22-09-22 17:00",
          "s22-09-22 21:00",
          "s22-09-23 01:00",
          "s22-09-23 05:00",
          "s22-09-23 09:00",
          "s22-09-23 13:00",
          "s22-09-23 17:00",
          "s22-09-25 21:00",
          "s22-09-26 01:00",
          "s22-09-26 05:00",
          "s22-09-26 09:00",
          "s22-09-26 13:00",
          "s22-09-26 17:00",
          "s22-09-26 21:00",
          "s22-09-27 01:00",
          "s22-09-27 05:00",
          "s22-09-27 09:00",
          "s22-09-27 13:00",
          "s22-09-27 17:00",
          "s22-09-27 21:00",
          "s22-09-28 01:00",
          "s22-09-28 05:00",
          "s22-09-28 09:00",
          "s22-09-28 13:00",
          "s22-09-28 17:00",
          "s22-09-28 21:00",
          "s22-09-29 01:00",
          "s22-09-29 05:00",
          "s22-09-29 09:00",
          "s22-09-29 13:00",
          "s22-09-29 17:00",
          "s22-09-29 21:00",
          "s22-09-30 01:00",
          "s22-09-30 05:00",
          "s22-09-30 09:00",
          "s22-09-30 13:00",
          "s22-09-30 17:00",
          "s22-10-02 21:00",
          "s22-10-03 01:00",
          "s22-10-03 05:00",
          "s22-10-03 09:00",
          "s22-10-03 13:00",
          "s22-10-03 17:00",
          "s22-10-03 21:00",
          "s22-10-04 01:00",
          "s22-10-04 05:00",
          "s22-10-04 09:00",
          "s22-10-04 13:00",
          "s22-10-04 17:00",
          "s22-10-04 21:00",
          "s22-10-05 01:00",
          "s22-10-05 05:00",
          "s22-10-05 09:00",
          "s22-10-05 13:00",
          "s22-10-05 17:00",
          "s22-10-05 21:00",
          "s22-10-06 01:00",
          "s22-10-06 05:00",
          "s22-10-06 09:00",
          "s22-10-06 13:00",
          "s22-10-06 17:00",
          "s22-10-06 21:00",
          "s22-10-07 01:00",
          "s22-10-07 05:00",
          "s22-10-07 09:00",
          "s22-10-07 13:00",
          "s22-10-07 17:00",
          "s22-10-09 21:00",
          "s22-10-10 01:00",
          "s22-10-10 05:00",
          "s22-10-10 09:00",
          "s22-10-10 13:00",
          "s22-10-10 17:00",
          "s22-10-10 21:00",
          "s22-10-11 01:00",
          "s22-10-11 05:00",
          "s22-10-11 09:00",
          "s22-10-11 13:00",
          "s22-10-11 17:00",
          "s22-10-11 21:00",
          "s22-10-12 01:00",
          "s22-10-12 05:00",
          "s22-10-12 09:00",
          "s22-10-12 13:00",
          "s22-10-12 17:00",
          "s22-10-12 21:00",
          "s22-10-13 01:00",
          "s22-10-13 05:00",
          "s22-10-13 09:00",
          "s22-10-13 13:00",
          "s22-10-13 17:00",
          "s22-10-13 21:00",
          "s22-10-14 01:00",
          "s22-10-14 05:00",
          "s22-10-14 09:00",
          "s22-10-14 13:00",
          "s22-10-14 17:00",
          "s22-10-16 21:00",
          "s22-10-17 01:00",
          "s22-10-17 05:00",
          "s22-10-17 09:00",
          "s22-10-17 13:00",
          "s22-10-17 17:00",
          "s22-10-17 21:00",
          "s22-10-18 01:00",
          "s22-10-18 05:00",
          "s22-10-18 09:00",
          "s22-10-18 13:00",
          "s22-10-18 17:00",
          "s22-10-18 21:00",
          "s22-10-19 01:00",
          "s22-10-19 05:00",
          "s22-10-19 09:00",
          "s22-10-19 13:00",
          "s22-10-19 17:00",
          "s22-10-19 21:00",
          "s22-10-20 01:00",
          "s22-10-20 05:00",
          "s22-10-20 09:00",
          "s22-10-20 13:00",
          "s22-10-20 17:00",
          "s22-10-20 21:00",
          "s22-10-21 01:00",
          "s22-10-21 05:00",
          "s22-10-21 09:00",
          "s22-10-21 13:00",
          "s22-10-21 17:00",
          "s22-10-23 21:00",
          "s22-10-24 01:00",
          "s22-10-24 05:00",
          "s22-10-24 09:00",
          "s22-10-24 13:00",
          "s22-10-24 17:00",
          "s22-10-24 21:00",
          "s22-10-25 01:00",
          "s22-10-25 05:00",
          "s22-10-25 09:00",
          "s22-10-25 13:00",
          "s22-10-25 17:00",
          "s22-10-25 21:00",
          "s22-10-26 01:00",
          "s22-10-26 05:00",
          "s22-10-26 09:00",
          "s22-10-26 13:00",
          "s22-10-26 17:00",
          "s22-10-26 21:00",
          "s22-10-27 01:00",
          "s22-10-27 05:00",
          "s22-10-27 09:00",
          "s22-10-27 13:00",
          "s22-10-27 17:00",
          "s22-10-27 21:00",
          "s22-10-28 01:00",
          "s22-10-28 05:00",
          "s22-10-28 09:00",
          "s22-10-28 13:00",
          "s22-10-28 17:00",
          "s22-10-30 21:00",
          "s22-10-31 01:00",
          "s22-10-31 05:00",
          "s22-10-31 09:00",
          "s22-10-31 13:00",
          "s22-10-31 17:00",
          "s22-10-31 21:00",
          "s22-11-01 01:00",
          "s22-11-01 05:00",
          "s22-11-01 09:00",
          "s22-11-01 13:00",
          "s22-11-01 17:00",
          "s22-11-01 21:00",
          "s22-11-02 01:00",
          "s22-11-02 05:00",
          "s22-11-02 09:00",
          "s22-11-02 13:00",
          "s22-11-02 17:00",
          "s22-11-02 21:00",
          "s22-11-03 01:00",
          "s22-11-03 05:00",
          "s22-11-03 09:00",
          "s22-11-03 13:00",
          "s22-11-03 17:00",
          "s22-11-03 21:00",
          "s22-11-04 01:00",
          "s22-11-04 05:00",
          "s22-11-04 09:00",
          "s22-11-04 13:00",
          "s22-11-04 17:00",
          "s22-11-06 22:00",
          "s22-11-07 02:00",
          "s22-11-07 06:00",
          "s22-11-07 10:00",
          "s22-11-07 14:00",
          "s22-11-07 18:00",
          "s22-11-07 22:00",
          "s22-11-08 02:00",
          "s22-11-08 06:00",
          "s22-11-08 10:00",
          "s22-11-08 14:00",
          "s22-11-08 18:00",
          "s22-11-08 22:00",
          "s22-11-09 02:00",
          "s22-11-09 06:00",
          "s22-11-09 10:00",
          "s22-11-09 14:00",
          "s22-11-09 18:00",
          "s22-11-09 22:00",
          "s22-11-10 02:00",
          "s22-11-10 06:00",
          "s22-11-10 10:00",
          "s22-11-10 14:00",
          "s22-11-10 18:00",
          "s22-11-10 22:00",
          "s22-11-11 02:00",
          "s22-11-11 06:00",
          "s22-11-11 10:00",
          "s22-11-11 14:00",
          "s22-11-11 18:00",
          "s22-11-13 22:00",
          "s22-11-14 02:00",
          "s22-11-14 06:00",
          "s22-11-14 10:00",
          "s22-11-14 14:00",
          "s22-11-14 18:00",
          "s22-11-14 22:00",
          "s22-11-15 02:00",
          "s22-11-15 06:00",
          "s22-11-15 10:00",
          "s22-11-15 14:00",
          "s22-11-15 18:00",
          "s22-11-15 22:00",
          "s22-11-16 02:00",
          "s22-11-16 06:00",
          "s22-11-16 10:00",
          "s22-11-16 14:00",
          "s22-11-16 18:00",
          "s22-11-16 22:00",
          "s22-11-17 02:00",
          "s22-11-17 06:00",
          "s22-11-17 10:00",
          "s22-11-17 14:00",
          "s22-11-17 18:00",
          "s22-11-17 22:00",
          "s22-11-18 02:00",
          "s22-11-18 06:00",
          "s22-11-18 10:00",
          "s22-11-18 14:00",
          "s22-11-18 18:00",
          "s22-11-20 22:00",
          "s22-11-21 02:00",
          "s22-11-21 06:00",
          "s22-11-21 10:00",
          "s22-11-21 14:00",
          "s22-11-21 18:00",
          "s22-11-21 22:00",
          "s22-11-22 02:00",
          "s22-11-22 06:00",
          "s22-11-22 10:00",
          "s22-11-22 14:00",
          "s22-11-22 18:00",
          "s22-11-22 22:00",
          "s22-11-23 02:00",
          "s22-11-23 06:00",
          "s22-11-23 10:00",
          "s22-11-23 14:00",
          "s22-11-23 18:00",
          "s22-11-23 22:00",
          "s22-11-24 02:00",
          "s22-11-24 06:00",
          "s22-11-24 10:00",
          "s22-11-24 14:00",
          "s22-11-24 18:00",
          "s22-11-24 22:00",
          "s22-11-25 02:00",
          "s22-11-25 06:00",
          "s22-11-25 10:00",
          "s22-11-25 14:00",
          "s22-11-25 18:00",
          "s22-11-27 22:00",
          "s22-11-28 02:00",
          "s22-11-28 06:00",
          "s22-11-28 10:00",
          "s22-11-28 14:00",
          "s22-11-28 18:00",
          "s22-11-28 22:00",
          "s22-11-29 02:00",
          "s22-11-29 06:00",
          "s22-11-29 10:00",
          "s22-11-29 14:00",
          "s22-11-29 18:00",
          "s22-11-29 22:00",
          "s22-11-30 02:00",
          "s22-11-30 06:00",
          "s22-11-30 10:00",
          "s22-11-30 14:00",
          "s22-11-30 18:00",
          "s22-11-30 22:00",
          "s22-12-01 02:00",
          "s22-12-01 06:00",
          "s22-12-01 10:00",
          "s22-12-01 14:00",
          "s22-12-01 18:00",
          "s22-12-01 22:00",
          "s22-12-02 02:00",
          "s22-12-02 06:00",
          "s22-12-02 10:00",
          "s22-12-02 14:00",
          "s22-12-02 18:00",
          "s22-12-04 22:00",
          "s22-12-05 02:00",
          "s22-12-05 06:00",
          "s22-12-05 10:00",
          "s22-12-05 14:00",
          "s22-12-05 18:00",
          "s22-12-05 22:00",
          "s22-12-06 02:00",
          "s22-12-06 06:00",
          "s22-12-06 10:00",
          "s22-12-06 14:00",
          "s22-12-06 18:00",
          "s22-12-06 22:00",
          "s22-12-07 02:00",
          "s22-12-07 06:00",
          "s22-12-07 10:00",
          "s22-12-07 14:00",
          "s22-12-07 18:00",
          "s22-12-07 22:00",
          "s22-12-08 02:00",
          "s22-12-08 06:00",
          "s22-12-08 10:00",
          "s22-12-08 14:00",
          "s22-12-08 18:00",
          "s22-12-08 22:00",
          "s22-12-09 02:00",
          "s22-12-09 06:00",
          "s22-12-09 10:00",
          "s22-12-09 14:00",
          "s22-12-09 18:00",
          "s22-12-11 22:00",
          "s22-12-12 02:00",
          "s22-12-12 06:00",
          "s22-12-12 10:00",
          "s22-12-12 14:00",
          "s22-12-12 18:00",
          "s22-12-12 22:00",
          "s22-12-13 02:00",
          "s22-12-13 06:00",
          "s22-12-13 10:00",
          "s22-12-13 14:00",
          "s22-12-13 18:00",
          "s22-12-13 22:00",
          "s22-12-14 02:00",
          "s22-12-14 06:00",
          "s22-12-14 10:00",
          "s22-12-14 14:00",
          "s22-12-14 18:00",
          "s22-12-14 22:00",
          "s22-12-15 02:00",
          "s22-12-15 06:00",
          "s22-12-15 10:00",
          "s22-12-15 14:00",
          "s22-12-15 18:00",
          "s22-12-15 22:00",
          "s22-12-16 02:00",
          "s22-12-16 06:00",
          "s22-12-16 10:00",
          "s22-12-16 14:00",
          "s22-12-16 18:00",
          "s22-12-18 22:00",
          "s22-12-19 02:00",
          "s22-12-19 06:00",
          "s22-12-19 10:00",
          "s22-12-19 14:00",
          "s22-12-19 18:00",
          "s22-12-19 22:00",
          "s22-12-20 02:00",
          "s22-12-20 06:00",
          "s22-12-20 10:00",
          "s22-12-20 14:00",
          "s22-12-20 18:00",
          "s22-12-20 22:00",
          "s22-12-21 02:00",
          "s22-12-21 06:00",
          "s22-12-21 10:00",
          "s22-12-21 14:00",
          "s22-12-21 18:00",
          "s22-12-21 22:00",
          "s22-12-22 02:00",
          "s22-12-22 06:00",
          "s22-12-22 10:00",
          "s22-12-22 14:00",
          "s22-12-22 18:00",
          "s22-12-22 22:00",
          "s22-12-23 02:00",
          "s22-12-23 06:00",
          "s22-12-23 10:00",
          "s22-12-23 14:00",
          "s22-12-23 18:00",
          "s22-12-26 22:00",
          "s22-12-27 02:00",
          "s22-12-27 06:00",
          "s22-12-27 10:00",
          "s22-12-27 14:00",
          "s22-12-27 18:00",
          "s22-12-27 22:00",
          "s22-12-28 02:00",
          "s22-12-28 06:00",
          "s22-12-28 10:00",
          "s22-12-28 14:00",
          "s22-12-28 18:00",
          "s22-12-28 22:00",
          "s22-12-29 02:00",
          "s22-12-29 06:00",
          "s22-12-29 10:00",
          "s22-12-29 14:00",
          "s22-12-29 18:00",
          "s22-12-29 22:00",
          "s22-12-30 02:00",
          "s22-12-30 06:00",
          "s22-12-30 10:00",
          "s22-12-30 14:00",
          "s22-12-30 18:00",
          "s23-01-01 22:00",
          "s23-01-02 02:00",
          "s23-01-02 06:00",
          "s23-01-02 10:00",
          "s23-01-02 14:00",
          "s23-01-02 18:00",
          "s23-01-02 22:00",
          "s23-01-03 02:00",
          "s23-01-03 06:00",
          "s23-01-03 10:00",
          "s23-01-03 14:00",
          "s23-01-03 18:00",
          "s23-01-03 22:00",
          "s23-01-04 02:00",
          "s23-01-04 06:00",
          "s23-01-04 10:00",
          "s23-01-04 14:00",
          "s23-01-04 18:00",
          "s23-01-04 22:00",
          "s23-01-05 02:00",
          "s23-01-05 06:00",
          "s23-01-05 10:00",
          "s23-01-05 14:00",
          "s23-01-05 18:00",
          "s23-01-05 22:00",
          "s23-01-06 02:00",
          "s23-01-06 06:00",
          "s23-01-06 10:00",
          "s23-01-06 14:00",
          "s23-01-06 18:00",
          "s23-01-08 22:00",
          "s23-01-09 02:00",
          "s23-01-09 06:00"
         ]
        },
        {
         "line": {
          "shape": "spline",
          "width": 2
         },
         "name": "MA_10",
         "type": "scatter",
         "x": [
          "s22-09-13 01:00",
          "s22-09-13 05:00",
          "s22-09-13 09:00",
          "s22-09-13 13:00",
          "s22-09-13 17:00",
          "s22-09-13 21:00",
          "s22-09-14 01:00",
          "s22-09-14 05:00",
          "s22-09-14 09:00",
          "s22-09-14 13:00",
          "s22-09-14 17:00",
          "s22-09-14 21:00",
          "s22-09-15 01:00",
          "s22-09-15 05:00",
          "s22-09-15 09:00",
          "s22-09-15 13:00",
          "s22-09-15 17:00",
          "s22-09-15 21:00",
          "s22-09-16 01:00",
          "s22-09-16 05:00",
          "s22-09-16 09:00",
          "s22-09-16 13:00",
          "s22-09-16 17:00",
          "s22-09-18 21:00",
          "s22-09-19 01:00",
          "s22-09-19 05:00",
          "s22-09-19 09:00",
          "s22-09-19 13:00",
          "s22-09-19 17:00",
          "s22-09-19 21:00",
          "s22-09-20 01:00",
          "s22-09-20 05:00",
          "s22-09-20 09:00",
          "s22-09-20 13:00",
          "s22-09-20 17:00",
          "s22-09-20 21:00",
          "s22-09-21 01:00",
          "s22-09-21 05:00",
          "s22-09-21 09:00",
          "s22-09-21 13:00",
          "s22-09-21 17:00",
          "s22-09-21 21:00",
          "s22-09-22 01:00",
          "s22-09-22 05:00",
          "s22-09-22 09:00",
          "s22-09-22 13:00",
          "s22-09-22 17:00",
          "s22-09-22 21:00",
          "s22-09-23 01:00",
          "s22-09-23 05:00",
          "s22-09-23 09:00",
          "s22-09-23 13:00",
          "s22-09-23 17:00",
          "s22-09-25 21:00",
          "s22-09-26 01:00",
          "s22-09-26 05:00",
          "s22-09-26 09:00",
          "s22-09-26 13:00",
          "s22-09-26 17:00",
          "s22-09-26 21:00",
          "s22-09-27 01:00",
          "s22-09-27 05:00",
          "s22-09-27 09:00",
          "s22-09-27 13:00",
          "s22-09-27 17:00",
          "s22-09-27 21:00",
          "s22-09-28 01:00",
          "s22-09-28 05:00",
          "s22-09-28 09:00",
          "s22-09-28 13:00",
          "s22-09-28 17:00",
          "s22-09-28 21:00",
          "s22-09-29 01:00",
          "s22-09-29 05:00",
          "s22-09-29 09:00",
          "s22-09-29 13:00",
          "s22-09-29 17:00",
          "s22-09-29 21:00",
          "s22-09-30 01:00",
          "s22-09-30 05:00",
          "s22-09-30 09:00",
          "s22-09-30 13:00",
          "s22-09-30 17:00",
          "s22-10-02 21:00",
          "s22-10-03 01:00",
          "s22-10-03 05:00",
          "s22-10-03 09:00",
          "s22-10-03 13:00",
          "s22-10-03 17:00",
          "s22-10-03 21:00",
          "s22-10-04 01:00",
          "s22-10-04 05:00",
          "s22-10-04 09:00",
          "s22-10-04 13:00",
          "s22-10-04 17:00",
          "s22-10-04 21:00",
          "s22-10-05 01:00",
          "s22-10-05 05:00",
          "s22-10-05 09:00",
          "s22-10-05 13:00",
          "s22-10-05 17:00",
          "s22-10-05 21:00",
          "s22-10-06 01:00",
          "s22-10-06 05:00",
          "s22-10-06 09:00",
          "s22-10-06 13:00",
          "s22-10-06 17:00",
          "s22-10-06 21:00",
          "s22-10-07 01:00",
          "s22-10-07 05:00",
          "s22-10-07 09:00",
          "s22-10-07 13:00",
          "s22-10-07 17:00",
          "s22-10-09 21:00",
          "s22-10-10 01:00",
          "s22-10-10 05:00",
          "s22-10-10 09:00",
          "s22-10-10 13:00",
          "s22-10-10 17:00",
          "s22-10-10 21:00",
          "s22-10-11 01:00",
          "s22-10-11 05:00",
          "s22-10-11 09:00",
          "s22-10-11 13:00",
          "s22-10-11 17:00",
          "s22-10-11 21:00",
          "s22-10-12 01:00",
          "s22-10-12 05:00",
          "s22-10-12 09:00",
          "s22-10-12 13:00",
          "s22-10-12 17:00",
          "s22-10-12 21:00",
          "s22-10-13 01:00",
          "s22-10-13 05:00",
          "s22-10-13 09:00",
          "s22-10-13 13:00",
          "s22-10-13 17:00",
          "s22-10-13 21:00",
          "s22-10-14 01:00",
          "s22-10-14 05:00",
          "s22-10-14 09:00",
          "s22-10-14 13:00",
          "s22-10-14 17:00",
          "s22-10-16 21:00",
          "s22-10-17 01:00",
          "s22-10-17 05:00",
          "s22-10-17 09:00",
          "s22-10-17 13:00",
          "s22-10-17 17:00",
          "s22-10-17 21:00",
          "s22-10-18 01:00",
          "s22-10-18 05:00",
          "s22-10-18 09:00",
          "s22-10-18 13:00",
          "s22-10-18 17:00",
          "s22-10-18 21:00",
          "s22-10-19 01:00",
          "s22-10-19 05:00",
          "s22-10-19 09:00",
          "s22-10-19 13:00",
          "s22-10-19 17:00",
          "s22-10-19 21:00",
          "s22-10-20 01:00",
          "s22-10-20 05:00",
          "s22-10-20 09:00",
          "s22-10-20 13:00",
          "s22-10-20 17:00",
          "s22-10-20 21:00",
          "s22-10-21 01:00",
          "s22-10-21 05:00",
          "s22-10-21 09:00",
          "s22-10-21 13:00",
          "s22-10-21 17:00",
          "s22-10-23 21:00",
          "s22-10-24 01:00",
          "s22-10-24 05:00",
          "s22-10-24 09:00",
          "s22-10-24 13:00",
          "s22-10-24 17:00",
          "s22-10-24 21:00",
          "s22-10-25 01:00",
          "s22-10-25 05:00",
          "s22-10-25 09:00",
          "s22-10-25 13:00",
          "s22-10-25 17:00",
          "s22-10-25 21:00",
          "s22-10-26 01:00",
          "s22-10-26 05:00",
          "s22-10-26 09:00",
          "s22-10-26 13:00",
          "s22-10-26 17:00",
          "s22-10-26 21:00",
          "s22-10-27 01:00",
          "s22-10-27 05:00",
          "s22-10-27 09:00",
          "s22-10-27 13:00",
          "s22-10-27 17:00",
          "s22-10-27 21:00",
          "s22-10-28 01:00",
          "s22-10-28 05:00",
          "s22-10-28 09:00",
          "s22-10-28 13:00",
          "s22-10-28 17:00",
          "s22-10-30 21:00",
          "s22-10-31 01:00",
          "s22-10-31 05:00",
          "s22-10-31 09:00",
          "s22-10-31 13:00",
          "s22-10-31 17:00",
          "s22-10-31 21:00",
          "s22-11-01 01:00",
          "s22-11-01 05:00",
          "s22-11-01 09:00",
          "s22-11-01 13:00",
          "s22-11-01 17:00",
          "s22-11-01 21:00",
          "s22-11-02 01:00",
          "s22-11-02 05:00",
          "s22-11-02 09:00",
          "s22-11-02 13:00",
          "s22-11-02 17:00",
          "s22-11-02 21:00",
          "s22-11-03 01:00",
          "s22-11-03 05:00",
          "s22-11-03 09:00",
          "s22-11-03 13:00",
          "s22-11-03 17:00",
          "s22-11-03 21:00",
          "s22-11-04 01:00",
          "s22-11-04 05:00",
          "s22-11-04 09:00",
          "s22-11-04 13:00",
          "s22-11-04 17:00",
          "s22-11-06 22:00",
          "s22-11-07 02:00",
          "s22-11-07 06:00",
          "s22-11-07 10:00",
          "s22-11-07 14:00",
          "s22-11-07 18:00",
          "s22-11-07 22:00",
          "s22-11-08 02:00",
          "s22-11-08 06:00",
          "s22-11-08 10:00",
          "s22-11-08 14:00",
          "s22-11-08 18:00",
          "s22-11-08 22:00",
          "s22-11-09 02:00",
          "s22-11-09 06:00",
          "s22-11-09 10:00",
          "s22-11-09 14:00",
          "s22-11-09 18:00",
          "s22-11-09 22:00",
          "s22-11-10 02:00",
          "s22-11-10 06:00",
          "s22-11-10 10:00",
          "s22-11-10 14:00",
          "s22-11-10 18:00",
          "s22-11-10 22:00",
          "s22-11-11 02:00",
          "s22-11-11 06:00",
          "s22-11-11 10:00",
          "s22-11-11 14:00",
          "s22-11-11 18:00",
          "s22-11-13 22:00",
          "s22-11-14 02:00",
          "s22-11-14 06:00",
          "s22-11-14 10:00",
          "s22-11-14 14:00",
          "s22-11-14 18:00",
          "s22-11-14 22:00",
          "s22-11-15 02:00",
          "s22-11-15 06:00",
          "s22-11-15 10:00",
          "s22-11-15 14:00",
          "s22-11-15 18:00",
          "s22-11-15 22:00",
          "s22-11-16 02:00",
          "s22-11-16 06:00",
          "s22-11-16 10:00",
          "s22-11-16 14:00",
          "s22-11-16 18:00",
          "s22-11-16 22:00",
          "s22-11-17 02:00",
          "s22-11-17 06:00",
          "s22-11-17 10:00",
          "s22-11-17 14:00",
          "s22-11-17 18:00",
          "s22-11-17 22:00",
          "s22-11-18 02:00",
          "s22-11-18 06:00",
          "s22-11-18 10:00",
          "s22-11-18 14:00",
          "s22-11-18 18:00",
          "s22-11-20 22:00",
          "s22-11-21 02:00",
          "s22-11-21 06:00",
          "s22-11-21 10:00",
          "s22-11-21 14:00",
          "s22-11-21 18:00",
          "s22-11-21 22:00",
          "s22-11-22 02:00",
          "s22-11-22 06:00",
          "s22-11-22 10:00",
          "s22-11-22 14:00",
          "s22-11-22 18:00",
          "s22-11-22 22:00",
          "s22-11-23 02:00",
          "s22-11-23 06:00",
          "s22-11-23 10:00",
          "s22-11-23 14:00",
          "s22-11-23 18:00",
          "s22-11-23 22:00",
          "s22-11-24 02:00",
          "s22-11-24 06:00",
          "s22-11-24 10:00",
          "s22-11-24 14:00",
          "s22-11-24 18:00",
          "s22-11-24 22:00",
          "s22-11-25 02:00",
          "s22-11-25 06:00",
          "s22-11-25 10:00",
          "s22-11-25 14:00",
          "s22-11-25 18:00",
          "s22-11-27 22:00",
          "s22-11-28 02:00",
          "s22-11-28 06:00",
          "s22-11-28 10:00",
          "s22-11-28 14:00",
          "s22-11-28 18:00",
          "s22-11-28 22:00",
          "s22-11-29 02:00",
          "s22-11-29 06:00",
          "s22-11-29 10:00",
          "s22-11-29 14:00",
          "s22-11-29 18:00",
          "s22-11-29 22:00",
          "s22-11-30 02:00",
          "s22-11-30 06:00",
          "s22-11-30 10:00",
          "s22-11-30 14:00",
          "s22-11-30 18:00",
          "s22-11-30 22:00",
          "s22-12-01 02:00",
          "s22-12-01 06:00",
          "s22-12-01 10:00",
          "s22-12-01 14:00",
          "s22-12-01 18:00",
          "s22-12-01 22:00",
          "s22-12-02 02:00",
          "s22-12-02 06:00",
          "s22-12-02 10:00",
          "s22-12-02 14:00",
          "s22-12-02 18:00",
          "s22-12-04 22:00",
          "s22-12-05 02:00",
          "s22-12-05 06:00",
          "s22-12-05 10:00",
          "s22-12-05 14:00",
          "s22-12-05 18:00",
          "s22-12-05 22:00",
          "s22-12-06 02:00",
          "s22-12-06 06:00",
          "s22-12-06 10:00",
          "s22-12-06 14:00",
          "s22-12-06 18:00",
          "s22-12-06 22:00",
          "s22-12-07 02:00",
          "s22-12-07 06:00",
          "s22-12-07 10:00",
          "s22-12-07 14:00",
          "s22-12-07 18:00",
          "s22-12-07 22:00",
          "s22-12-08 02:00",
          "s22-12-08 06:00",
          "s22-12-08 10:00",
          "s22-12-08 14:00",
          "s22-12-08 18:00",
          "s22-12-08 22:00",
          "s22-12-09 02:00",
          "s22-12-09 06:00",
          "s22-12-09 10:00",
          "s22-12-09 14:00",
          "s22-12-09 18:00",
          "s22-12-11 22:00",
          "s22-12-12 02:00",
          "s22-12-12 06:00",
          "s22-12-12 10:00",
          "s22-12-12 14:00",
          "s22-12-12 18:00",
          "s22-12-12 22:00",
          "s22-12-13 02:00",
          "s22-12-13 06:00",
          "s22-12-13 10:00",
          "s22-12-13 14:00",
          "s22-12-13 18:00",
          "s22-12-13 22:00",
          "s22-12-14 02:00",
          "s22-12-14 06:00",
          "s22-12-14 10:00",
          "s22-12-14 14:00",
          "s22-12-14 18:00",
          "s22-12-14 22:00",
          "s22-12-15 02:00",
          "s22-12-15 06:00",
          "s22-12-15 10:00",
          "s22-12-15 14:00",
          "s22-12-15 18:00",
          "s22-12-15 22:00",
          "s22-12-16 02:00",
          "s22-12-16 06:00",
          "s22-12-16 10:00",
          "s22-12-16 14:00",
          "s22-12-16 18:00",
          "s22-12-18 22:00",
          "s22-12-19 02:00",
          "s22-12-19 06:00",
          "s22-12-19 10:00",
          "s22-12-19 14:00",
          "s22-12-19 18:00",
          "s22-12-19 22:00",
          "s22-12-20 02:00",
          "s22-12-20 06:00",
          "s22-12-20 10:00",
          "s22-12-20 14:00",
          "s22-12-20 18:00",
          "s22-12-20 22:00",
          "s22-12-21 02:00",
          "s22-12-21 06:00",
          "s22-12-21 10:00",
          "s22-12-21 14:00",
          "s22-12-21 18:00",
          "s22-12-21 22:00",
          "s22-12-22 02:00",
          "s22-12-22 06:00",
          "s22-12-22 10:00",
          "s22-12-22 14:00",
          "s22-12-22 18:00",
          "s22-12-22 22:00",
          "s22-12-23 02:00",
          "s22-12-23 06:00",
          "s22-12-23 10:00",
          "s22-12-23 14:00",
          "s22-12-23 18:00",
          "s22-12-26 22:00",
          "s22-12-27 02:00",
          "s22-12-27 06:00",
          "s22-12-27 10:00",
          "s22-12-27 14:00",
          "s22-12-27 18:00",
          "s22-12-27 22:00",
          "s22-12-28 02:00",
          "s22-12-28 06:00",
          "s22-12-28 10:00",
          "s22-12-28 14:00",
          "s22-12-28 18:00",
          "s22-12-28 22:00",
          "s22-12-29 02:00",
          "s22-12-29 06:00",
          "s22-12-29 10:00",
          "s22-12-29 14:00",
          "s22-12-29 18:00",
          "s22-12-29 22:00",
          "s22-12-30 02:00",
          "s22-12-30 06:00",
          "s22-12-30 10:00",
          "s22-12-30 14:00",
          "s22-12-30 18:00",
          "s23-01-01 22:00",
          "s23-01-02 02:00",
          "s23-01-02 06:00",
          "s23-01-02 10:00",
          "s23-01-02 14:00",
          "s23-01-02 18:00",
          "s23-01-02 22:00",
          "s23-01-03 02:00",
          "s23-01-03 06:00",
          "s23-01-03 10:00",
          "s23-01-03 14:00",
          "s23-01-03 18:00",
          "s23-01-03 22:00",
          "s23-01-04 02:00",
          "s23-01-04 06:00",
          "s23-01-04 10:00",
          "s23-01-04 14:00",
          "s23-01-04 18:00",
          "s23-01-04 22:00",
          "s23-01-05 02:00",
          "s23-01-05 06:00",
          "s23-01-05 10:00",
          "s23-01-05 14:00",
          "s23-01-05 18:00",
          "s23-01-05 22:00",
          "s23-01-06 02:00",
          "s23-01-06 06:00",
          "s23-01-06 10:00",
          "s23-01-06 14:00",
          "s23-01-06 18:00",
          "s23-01-08 22:00",
          "s23-01-09 02:00",
          "s23-01-09 06:00"
         ],
         "xaxis": "x",
         "y": {
          "bdata": "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",
          "dtype": "f8"
         },
         "yaxis": "y"
        },
        {
         "line": {
          "shape": "spline",
          "width": 2
         },
         "name": "MA_20",
         "type": "scatter",
         "x": [
          "s22-09-13 01:00",
          "s22-09-13 05:00",
          "s22-09-13 09:00",
          "s22-09-13 13:00",
          "s22-09-13 17:00",
          "s22-09-13 21:00",
          "s22-09-14 01:00",
          "s22-09-14 05:00",
          "s22-09-14 09:00",
          "s22-09-14 13:00",
          "s22-09-14 17:00",
          "s22-09-14 21:00",
          "s22-09-15 01:00",
          "s22-09-15 05:00",
          "s22-09-15 09:00",
          "s22-09-15 13:00",
          "s22-09-15 17:00",
          "s22-09-15 21:00",
          "s22-09-16 01:00",
          "s22-09-16 05:00",
          "s22-09-16 09:00",
          "s22-09-16 13:00",
          "s22-09-16 17:00",
          "s22-09-18 21:00",
          "s22-09-19 01:00",
          "s22-09-19 05:00",
          "s22-09-19 09:00",
          "s22-09-19 13:00",
          "s22-09-19 17:00",
          "s22-09-19 21:00",
          "s22-09-20 01:00",
          "s22-09-20 05:00",
          "s22-09-20 09:00",
          "s22-09-20 13:00",
          "s22-09-20 17:00",
          "s22-09-20 21:00",
          "s22-09-21 01:00",
          "s22-09-21 05:00",
          "s22-09-21 09:00",
          "s22-09-21 13:00",
          "s22-09-21 17:00",
          "s22-09-21 21:00",
          "s22-09-22 01:00",
          "s22-09-22 05:00",
          "s22-09-22 09:00",
          "s22-09-22 13:00",
          "s22-09-22 17:00",
          "s22-09-22 21:00",
          "s22-09-23 01:00",
          "s22-09-23 05:00",
          "s22-09-23 09:00",
          "s22-09-23 13:00",
          "s22-09-23 17:00",
          "s22-09-25 21:00",
          "s22-09-26 01:00",
          "s22-09-26 05:00",
          "s22-09-26 09:00",
          "s22-09-26 13:00",
          "s22-09-26 17:00",
          "s22-09-26 21:00",
          "s22-09-27 01:00",
          "s22-09-27 05:00",
          "s22-09-27 09:00",
          "s22-09-27 13:00",
          "s22-09-27 17:00",
          "s22-09-27 21:00",
          "s22-09-28 01:00",
          "s22-09-28 05:00",
          "s22-09-28 09:00",
          "s22-09-28 13:00",
          "s22-09-28 17:00",
          "s22-09-28 21:00",
          "s22-09-29 01:00",
          "s22-09-29 05:00",
          "s22-09-29 09:00",
          "s22-09-29 13:00",
          "s22-09-29 17:00",
          "s22-09-29 21:00",
          "s22-09-30 01:00",
          "s22-09-30 05:00",
          "s22-09-30 09:00",
          "s22-09-30 13:00",
          "s22-09-30 17:00",
          "s22-10-02 21:00",
          "s22-10-03 01:00",
          "s22-10-03 05:00",
          "s22-10-03 09:00",
          "s22-10-03 13:00",
          "s22-10-03 17:00",
          "s22-10-03 21:00",
          "s22-10-04 01:00",
          "s22-10-04 05:00",
          "s22-10-04 09:00",
          "s22-10-04 13:00",
          "s22-10-04 17:00",
          "s22-10-04 21:00",
          "s22-10-05 01:00",
          "s22-10-05 05:00",
          "s22-10-05 09:00",
          "s22-10-05 13:00",
          "s22-10-05 17:00",
          "s22-10-05 21:00",
          "s22-10-06 01:00",
          "s22-10-06 05:00",
          "s22-10-06 09:00",
          "s22-10-06 13:00",
          "s22-10-06 17:00",
          "s22-10-06 21:00",
          "s22-10-07 01:00",
          "s22-10-07 05:00",
          "s22-10-07 09:00",
          "s22-10-07 13:00",
          "s22-10-07 17:00",
          "s22-10-09 21:00",
          "s22-10-10 01:00",
          "s22-10-10 05:00",
          "s22-10-10 09:00",
          "s22-10-10 13:00",
          "s22-10-10 17:00",
          "s22-10-10 21:00",
          "s22-10-11 01:00",
          "s22-10-11 05:00",
          "s22-10-11 09:00",
          "s22-10-11 13:00",
          "s22-10-11 17:00",
          "s22-10-11 21:00",
          "s22-10-12 01:00",
          "s22-10-12 05:00",
          "s22-10-12 09:00",
          "s22-10-12 13:00",
          "s22-10-12 17:00",
          "s22-10-12 21:00",
          "s22-10-13 01:00",
          "s22-10-13 05:00",
          "s22-10-13 09:00",
          "s22-10-13 13:00",
          "s22-10-13 17:00",
          "s22-10-13 21:00",
          "s22-10-14 01:00",
          "s22-10-14 05:00",
          "s22-10-14 09:00",
          "s22-10-14 13:00",
          "s22-10-14 17:00",
          "s22-10-16 21:00",
          "s22-10-17 01:00",
          "s22-10-17 05:00",
          "s22-10-17 09:00",
          "s22-10-17 13:00",
          "s22-10-17 17:00",
          "s22-10-17 21:00",
          "s22-10-18 01:00",
          "s22-10-18 05:00",
          "s22-10-18 09:00",
          "s22-10-18 13:00",
          "s22-10-18 17:00",
          "s22-10-18 21:00",
          "s22-10-19 01:00",
          "s22-10-19 05:00",
          "s22-10-19 09:00",
          "s22-10-19 13:00",
          "s22-10-19 17:00",
          "s22-10-19 21:00",
          "s22-10-20 01:00",
          "s22-10-20 05:00",
          "s22-10-20 09:00",
          "s22-10-20 13:00",
          "s22-10-20 17:00",
          "s22-10-20 21:00",
          "s22-10-21 01:00",
          "s22-10-21 05:00",
          "s22-10-21 09:00",
          "s22-10-21 13:00",
          "s22-10-21 17:00",
          "s22-10-23 21:00",
          "s22-10-24 01:00",
          "s22-10-24 05:00",
          "s22-10-24 09:00",
          "s22-10-24 13:00",
          "s22-10-24 17:00",
          "s22-10-24 21:00",
          "s22-10-25 01:00",
          "s22-10-25 05:00",
          "s22-10-25 09:00",
          "s22-10-25 13:00",
          "s22-10-25 17:00",
          "s22-10-25 21:00",
          "s22-10-26 01:00",
          "s22-10-26 05:00",
          "s22-10-26 09:00",
          "s22-10-26 13:00",
          "s22-10-26 17:00",
          "s22-10-26 21:00",
          "s22-10-27 01:00",
          "s22-10-27 05:00",
          "s22-10-27 09:00",
          "s22-10-27 13:00",
          "s22-10-27 17:00",
          "s22-10-27 21:00",
          "s22-10-28 01:00",
          "s22-10-28 05:00",
          "s22-10-28 09:00",
          "s22-10-28 13:00",
          "s22-10-28 17:00",
          "s22-10-30 21:00",
          "s22-10-31 01:00",
          "s22-10-31 05:00",
          "s22-10-31 09:00",
          "s22-10-31 13:00",
          "s22-10-31 17:00",
          "s22-10-31 21:00",
          "s22-11-01 01:00",
          "s22-11-01 05:00",
          "s22-11-01 09:00",
          "s22-11-01 13:00",
          "s22-11-01 17:00",
          "s22-11-01 21:00",
          "s22-11-02 01:00",
          "s22-11-02 05:00",
          "s22-11-02 09:00",
          "s22-11-02 13:00",
          "s22-11-02 17:00",
          "s22-11-02 21:00",
          "s22-11-03 01:00",
          "s22-11-03 05:00",
          "s22-11-03 09:00",
          "s22-11-03 13:00",
          "s22-11-03 17:00",
          "s22-11-03 21:00",
          "s22-11-04 01:00",
          "s22-11-04 05:00",
          "s22-11-04 09:00",
          "s22-11-04 13:00",
          "s22-11-04 17:00",
          "s22-11-06 22:00",
          "s22-11-07 02:00",
          "s22-11-07 06:00",
          "s22-11-07 10:00",
          "s22-11-07 14:00",
          "s22-11-07 18:00",
          "s22-11-07 22:00",
          "s22-11-08 02:00",
          "s22-11-08 06:00",
          "s22-11-08 10:00",
          "s22-11-08 14:00",
          "s22-11-08 18:00",
          "s22-11-08 22:00",
          "s22-11-09 02:00",
          "s22-11-09 06:00",
          "s22-11-09 10:00",
          "s22-11-09 14:00",
          "s22-11-09 18:00",
          "s22-11-09 22:00",
          "s22-11-10 02:00",
          "s22-11-10 06:00",
          "s22-11-10 10:00",
          "s22-11-10 14:00",
          "s22-11-10 18:00",
          "s22-11-10 22:00",
          "s22-11-11 02:00",
          "s22-11-11 06:00",
          "s22-11-11 10:00",
          "s22-11-11 14:00",
          "s22-11-11 18:00",
          "s22-11-13 22:00",
          "s22-11-14 02:00",
          "s22-11-14 06:00",
          "s22-11-14 10:00",
          "s22-11-14 14:00",
          "s22-11-14 18:00",
          "s22-11-14 22:00",
          "s22-11-15 02:00",
          "s22-11-15 06:00",
          "s22-11-15 10:00",
          "s22-11-15 14:00",
          "s22-11-15 18:00",
          "s22-11-15 22:00",
          "s22-11-16 02:00",
          "s22-11-16 06:00",
          "s22-11-16 10:00",
          "s22-11-16 14:00",
          "s22-11-16 18:00",
          "s22-11-16 22:00",
          "s22-11-17 02:00",
          "s22-11-17 06:00",
          "s22-11-17 10:00",
          "s22-11-17 14:00",
          "s22-11-17 18:00",
          "s22-11-17 22:00",
          "s22-11-18 02:00",
          "s22-11-18 06:00",
          "s22-11-18 10:00",
          "s22-11-18 14:00",
          "s22-11-18 18:00",
          "s22-11-20 22:00",
          "s22-11-21 02:00",
          "s22-11-21 06:00",
          "s22-11-21 10:00",
          "s22-11-21 14:00",
          "s22-11-21 18:00",
          "s22-11-21 22:00",
          "s22-11-22 02:00",
          "s22-11-22 06:00",
          "s22-11-22 10:00",
          "s22-11-22 14:00",
          "s22-11-22 18:00",
          "s22-11-22 22:00",
          "s22-11-23 02:00",
          "s22-11-23 06:00",
          "s22-11-23 10:00",
          "s22-11-23 14:00",
          "s22-11-23 18:00",
          "s22-11-23 22:00",
          "s22-11-24 02:00",
          "s22-11-24 06:00",
          "s22-11-24 10:00",
          "s22-11-24 14:00",
          "s22-11-24 18:00",
          "s22-11-24 22:00",
          "s22-11-25 02:00",
          "s22-11-25 06:00",
          "s22-11-25 10:00",
          "s22-11-25 14:00",
          "s22-11-25 18:00",
          "s22-11-27 22:00",
          "s22-11-28 02:00",
          "s22-11-28 06:00",
          "s22-11-28 10:00",
          "s22-11-28 14:00",
          "s22-11-28 18:00",
          "s22-11-28 22:00",
          "s22-11-29 02:00",
          "s22-11-29 06:00",
          "s22-11-29 10:00",
          "s22-11-29 14:00",
          "s22-11-29 18:00",
          "s22-11-29 22:00",
          "s22-11-30 02:00",
          "s22-11-30 06:00",
          "s22-11-30 10:00",
          "s22-11-30 14:00",
          "s22-11-30 18:00",
          "s22-11-30 22:00",
          "s22-12-01 02:00",
          "s22-12-01 06:00",
          "s22-12-01 10:00",
          "s22-12-01 14:00",
          "s22-12-01 18:00",
          "s22-12-01 22:00",
          "s22-12-02 02:00",
          "s22-12-02 06:00",
          "s22-12-02 10:00",
          "s22-12-02 14:00",
          "s22-12-02 18:00",
          "s22-12-04 22:00",
          "s22-12-05 02:00",
          "s22-12-05 06:00",
          "s22-12-05 10:00",
          "s22-12-05 14:00",
          "s22-12-05 18:00",
          "s22-12-05 22:00",
          "s22-12-06 02:00",
          "s22-12-06 06:00",
          "s22-12-06 10:00",
          "s22-12-06 14:00",
          "s22-12-06 18:00",
          "s22-12-06 22:00",
          "s22-12-07 02:00",
          "s22-12-07 06:00",
          "s22-12-07 10:00",
          "s22-12-07 14:00",
          "s22-12-07 18:00",
          "s22-12-07 22:00",
          "s22-12-08 02:00",
          "s22-12-08 06:00",
          "s22-12-08 10:00",
          "s22-12-08 14:00",
          "s22-12-08 18:00",
          "s22-12-08 22:00",
          "s22-12-09 02:00",
          "s22-12-09 06:00",
          "s22-12-09 10:00",
          "s22-12-09 14:00",
          "s22-12-09 18:00",
          "s22-12-11 22:00",
          "s22-12-12 02:00",
          "s22-12-12 06:00",
          "s22-12-12 10:00",
          "s22-12-12 14:00",
          "s22-12-12 18:00",
          "s22-12-12 22:00",
          "s22-12-13 02:00",
          "s22-12-13 06:00",
          "s22-12-13 10:00",
          "s22-12-13 14:00",
          "s22-12-13 18:00",
          "s22-12-13 22:00",
          "s22-12-14 02:00",
          "s22-12-14 06:00",
          "s22-12-14 10:00",
          "s22-12-14 14:00",
          "s22-12-14 18:00",
          "s22-12-14 22:00",
          "s22-12-15 02:00",
          "s22-12-15 06:00",
          "s22-12-15 10:00",
          "s22-12-15 14:00",
          "s22-12-15 18:00",
          "s22-12-15 22:00",
          "s22-12-16 02:00",
          "s22-12-16 06:00",
          "s22-12-16 10:00",
          "s22-12-16 14:00",
          "s22-12-16 18:00",
          "s22-12-18 22:00",
          "s22-12-19 02:00",
          "s22-12-19 06:00",
          "s22-12-19 10:00",
          "s22-12-19 14:00",
          "s22-12-19 18:00",
          "s22-12-19 22:00",
          "s22-12-20 02:00",
          "s22-12-20 06:00",
          "s22-12-20 10:00",
          "s22-12-20 14:00",
          "s22-12-20 18:00",
          "s22-12-20 22:00",
          "s22-12-21 02:00",
          "s22-12-21 06:00",
          "s22-12-21 10:00",
          "s22-12-21 14:00",
          "s22-12-21 18:00",
          "s22-12-21 22:00",
          "s22-12-22 02:00",
          "s22-12-22 06:00",
          "s22-12-22 10:00",
          "s22-12-22 14:00",
          "s22-12-22 18:00",
          "s22-12-22 22:00",
          "s22-12-23 02:00",
          "s22-12-23 06:00",
          "s22-12-23 10:00",
          "s22-12-23 14:00",
          "s22-12-23 18:00",
          "s22-12-26 22:00",
          "s22-12-27 02:00",
          "s22-12-27 06:00",
          "s22-12-27 10:00",
          "s22-12-27 14:00",
          "s22-12-27 18:00",
          "s22-12-27 22:00",
          "s22-12-28 02:00",
          "s22-12-28 06:00",
          "s22-12-28 10:00",
          "s22-12-28 14:00",
          "s22-12-28 18:00",
          "s22-12-28 22:00",
          "s22-12-29 02:00",
          "s22-12-29 06:00",
          "s22-12-29 10:00",
          "s22-12-29 14:00",
          "s22-12-29 18:00",
          "s22-12-29 22:00",
          "s22-12-30 02:00",
          "s22-12-30 06:00",
          "s22-12-30 10:00",
          "s22-12-30 14:00",
          "s22-12-30 18:00",
          "s23-01-01 22:00",
          "s23-01-02 02:00",
          "s23-01-02 06:00",
          "s23-01-02 10:00",
          "s23-01-02 14:00",
          "s23-01-02 18:00",
          "s23-01-02 22:00",
          "s23-01-03 02:00",
          "s23-01-03 06:00",
          "s23-01-03 10:00",
          "s23-01-03 14:00",
          "s23-01-03 18:00",
          "s23-01-03 22:00",
          "s23-01-04 02:00",
          "s23-01-04 06:00",
          "s23-01-04 10:00",
          "s23-01-04 14:00",
          "s23-01-04 18:00",
          "s23-01-04 22:00",
          "s23-01-05 02:00",
          "s23-01-05 06:00",
          "s23-01-05 10:00",
          "s23-01-05 14:00",
          "s23-01-05 18:00",
          "s23-01-05 22:00",
          "s23-01-06 02:00",
          "s23-01-06 06:00",
          "s23-01-06 10:00",
          "s23-01-06 14:00",
          "s23-01-06 18:00",
          "s23-01-08 22:00",
          "s23-01-09 02:00",
          "s23-01-09 06:00"
         ],
         "xaxis": "x",
         "y": {
          "bdata": "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",
          "dtype": "f8"
         },
         "yaxis": "y"
        },
        {
         "line": {
          "shape": "spline",
          "width": 2
         },
         "name": "MA_50",
         "type": "scatter",
         "x": [
          "s22-09-13 01:00",
          "s22-09-13 05:00",
          "s22-09-13 09:00",
          "s22-09-13 13:00",
          "s22-09-13 17:00",
          "s22-09-13 21:00",
          "s22-09-14 01:00",
          "s22-09-14 05:00",
          "s22-09-14 09:00",
          "s22-09-14 13:00",
          "s22-09-14 17:00",
          "s22-09-14 21:00",
          "s22-09-15 01:00",
          "s22-09-15 05:00",
          "s22-09-15 09:00",
          "s22-09-15 13:00",
          "s22-09-15 17:00",
          "s22-09-15 21:00",
          "s22-09-16 01:00",
          "s22-09-16 05:00",
          "s22-09-16 09:00",
          "s22-09-16 13:00",
          "s22-09-16 17:00",
          "s22-09-18 21:00",
          "s22-09-19 01:00",
          "s22-09-19 05:00",
          "s22-09-19 09:00",
          "s22-09-19 13:00",
          "s22-09-19 17:00",
          "s22-09-19 21:00",
          "s22-09-20 01:00",
          "s22-09-20 05:00",
          "s22-09-20 09:00",
          "s22-09-20 13:00",
          "s22-09-20 17:00",
          "s22-09-20 21:00",
          "s22-09-21 01:00",
          "s22-09-21 05:00",
          "s22-09-21 09:00",
          "s22-09-21 13:00",
          "s22-09-21 17:00",
          "s22-09-21 21:00",
          "s22-09-22 01:00",
          "s22-09-22 05:00",
          "s22-09-22 09:00",
          "s22-09-22 13:00",
          "s22-09-22 17:00",
          "s22-09-22 21:00",
          "s22-09-23 01:00",
          "s22-09-23 05:00",
          "s22-09-23 09:00",
          "s22-09-23 13:00",
          "s22-09-23 17:00",
          "s22-09-25 21:00",
          "s22-09-26 01:00",
          "s22-09-26 05:00",
          "s22-09-26 09:00",
          "s22-09-26 13:00",
          "s22-09-26 17:00",
          "s22-09-26 21:00",
          "s22-09-27 01:00",
          "s22-09-27 05:00",
          "s22-09-27 09:00",
          "s22-09-27 13:00",
          "s22-09-27 17:00",
          "s22-09-27 21:00",
          "s22-09-28 01:00",
          "s22-09-28 05:00",
          "s22-09-28 09:00",
          "s22-09-28 13:00",
          "s22-09-28 17:00",
          "s22-09-28 21:00",
          "s22-09-29 01:00",
          "s22-09-29 05:00",
          "s22-09-29 09:00",
          "s22-09-29 13:00",
          "s22-09-29 17:00",
          "s22-09-29 21:00",
          "s22-09-30 01:00",
          "s22-09-30 05:00",
          "s22-09-30 09:00",
          "s22-09-30 13:00",
          "s22-09-30 17:00",
          "s22-10-02 21:00",
          "s22-10-03 01:00",
          "s22-10-03 05:00",
          "s22-10-03 09:00",
          "s22-10-03 13:00",
          "s22-10-03 17:00",
          "s22-10-03 21:00",
          "s22-10-04 01:00",
          "s22-10-04 05:00",
          "s22-10-04 09:00",
          "s22-10-04 13:00",
          "s22-10-04 17:00",
          "s22-10-04 21:00",
          "s22-10-05 01:00",
          "s22-10-05 05:00",
          "s22-10-05 09:00",
          "s22-10-05 13:00",
          "s22-10-05 17:00",
          "s22-10-05 21:00",
          "s22-10-06 01:00",
          "s22-10-06 05:00",
          "s22-10-06 09:00",
          "s22-10-06 13:00",
          "s22-10-06 17:00",
          "s22-10-06 21:00",
          "s22-10-07 01:00",
          "s22-10-07 05:00",
          "s22-10-07 09:00",
          "s22-10-07 13:00",
          "s22-10-07 17:00",
          "s22-10-09 21:00",
          "s22-10-10 01:00",
          "s22-10-10 05:00",
          "s22-10-10 09:00",
          "s22-10-10 13:00",
          "s22-10-10 17:00",
          "s22-10-10 21:00",
          "s22-10-11 01:00",
          "s22-10-11 05:00",
          "s22-10-11 09:00",
          "s22-10-11 13:00",
          "s22-10-11 17:00",
          "s22-10-11 21:00",
          "s22-10-12 01:00",
          "s22-10-12 05:00",
          "s22-10-12 09:00",
          "s22-10-12 13:00",
          "s22-10-12 17:00",
          "s22-10-12 21:00",
          "s22-10-13 01:00",
          "s22-10-13 05:00",
          "s22-10-13 09:00",
          "s22-10-13 13:00",
          "s22-10-13 17:00",
          "s22-10-13 21:00",
          "s22-10-14 01:00",
          "s22-10-14 05:00",
          "s22-10-14 09:00",
          "s22-10-14 13:00",
          "s22-10-14 17:00",
          "s22-10-16 21:00",
          "s22-10-17 01:00",
          "s22-10-17 05:00",
          "s22-10-17 09:00",
          "s22-10-17 13:00",
          "s22-10-17 17:00",
          "s22-10-17 21:00",
          "s22-10-18 01:00",
          "s22-10-18 05:00",
          "s22-10-18 09:00",
          "s22-10-18 13:00",
          "s22-10-18 17:00",
          "s22-10-18 21:00",
          "s22-10-19 01:00",
          "s22-10-19 05:00",
          "s22-10-19 09:00",
          "s22-10-19 13:00",
          "s22-10-19 17:00",
          "s22-10-19 21:00",
          "s22-10-20 01:00",
          "s22-10-20 05:00",
          "s22-10-20 09:00",
          "s22-10-20 13:00",
          "s22-10-20 17:00",
          "s22-10-20 21:00",
          "s22-10-21 01:00",
          "s22-10-21 05:00",
          "s22-10-21 09:00",
          "s22-10-21 13:00",
          "s22-10-21 17:00",
          "s22-10-23 21:00",
          "s22-10-24 01:00",
          "s22-10-24 05:00",
          "s22-10-24 09:00",
          "s22-10-24 13:00",
          "s22-10-24 17:00",
          "s22-10-24 21:00",
          "s22-10-25 01:00",
          "s22-10-25 05:00",
          "s22-10-25 09:00",
          "s22-10-25 13:00",
          "s22-10-25 17:00",
          "s22-10-25 21:00",
          "s22-10-26 01:00",
          "s22-10-26 05:00",
          "s22-10-26 09:00",
          "s22-10-26 13:00",
          "s22-10-26 17:00",
          "s22-10-26 21:00",
          "s22-10-27 01:00",
          "s22-10-27 05:00",
          "s22-10-27 09:00",
          "s22-10-27 13:00",
          "s22-10-27 17:00",
          "s22-10-27 21:00",
          "s22-10-28 01:00",
          "s22-10-28 05:00",
          "s22-10-28 09:00",
          "s22-10-28 13:00",
          "s22-10-28 17:00",
          "s22-10-30 21:00",
          "s22-10-31 01:00",
          "s22-10-31 05:00",
          "s22-10-31 09:00",
          "s22-10-31 13:00",
          "s22-10-31 17:00",
          "s22-10-31 21:00",
          "s22-11-01 01:00",
          "s22-11-01 05:00",
          "s22-11-01 09:00",
          "s22-11-01 13:00",
          "s22-11-01 17:00",
          "s22-11-01 21:00",
          "s22-11-02 01:00",
          "s22-11-02 05:00",
          "s22-11-02 09:00",
          "s22-11-02 13:00",
          "s22-11-02 17:00",
          "s22-11-02 21:00",
          "s22-11-03 01:00",
          "s22-11-03 05:00",
          "s22-11-03 09:00",
          "s22-11-03 13:00",
          "s22-11-03 17:00",
          "s22-11-03 21:00",
          "s22-11-04 01:00",
          "s22-11-04 05:00",
          "s22-11-04 09:00",
          "s22-11-04 13:00",
          "s22-11-04 17:00",
          "s22-11-06 22:00",
          "s22-11-07 02:00",
          "s22-11-07 06:00",
          "s22-11-07 10:00",
          "s22-11-07 14:00",
          "s22-11-07 18:00",
          "s22-11-07 22:00",
          "s22-11-08 02:00",
          "s22-11-08 06:00",
          "s22-11-08 10:00",
          "s22-11-08 14:00",
          "s22-11-08 18:00",
          "s22-11-08 22:00",
          "s22-11-09 02:00",
          "s22-11-09 06:00",
          "s22-11-09 10:00",
          "s22-11-09 14:00",
          "s22-11-09 18:00",
          "s22-11-09 22:00",
          "s22-11-10 02:00",
          "s22-11-10 06:00",
          "s22-11-10 10:00",
          "s22-11-10 14:00",
          "s22-11-10 18:00",
          "s22-11-10 22:00",
          "s22-11-11 02:00",
          "s22-11-11 06:00",
          "s22-11-11 10:00",
          "s22-11-11 14:00",
          "s22-11-11 18:00",
          "s22-11-13 22:00",
          "s22-11-14 02:00",
          "s22-11-14 06:00",
          "s22-11-14 10:00",
          "s22-11-14 14:00",
          "s22-11-14 18:00",
          "s22-11-14 22:00",
          "s22-11-15 02:00",
          "s22-11-15 06:00",
          "s22-11-15 10:00",
          "s22-11-15 14:00",
          "s22-11-15 18:00",
          "s22-11-15 22:00",
          "s22-11-16 02:00",
          "s22-11-16 06:00",
          "s22-11-16 10:00",
          "s22-11-16 14:00",
          "s22-11-16 18:00",
          "s22-11-16 22:00",
          "s22-11-17 02:00",
          "s22-11-17 06:00",
          "s22-11-17 10:00",
          "s22-11-17 14:00",
          "s22-11-17 18:00",
          "s22-11-17 22:00",
          "s22-11-18 02:00",
          "s22-11-18 06:00",
          "s22-11-18 10:00",
          "s22-11-18 14:00",
          "s22-11-18 18:00",
          "s22-11-20 22:00",
          "s22-11-21 02:00",
          "s22-11-21 06:00",
          "s22-11-21 10:00",
          "s22-11-21 14:00",
          "s22-11-21 18:00",
          "s22-11-21 22:00",
          "s22-11-22 02:00",
          "s22-11-22 06:00",
          "s22-11-22 10:00",
          "s22-11-22 14:00",
          "s22-11-22 18:00",
          "s22-11-22 22:00",
          "s22-11-23 02:00",
          "s22-11-23 06:00",
          "s22-11-23 10:00",
          "s22-11-23 14:00",
          "s22-11-23 18:00",
          "s22-11-23 22:00",
          "s22-11-24 02:00",
          "s22-11-24 06:00",
          "s22-11-24 10:00",
          "s22-11-24 14:00",
          "s22-11-24 18:00",
          "s22-11-24 22:00",
          "s22-11-25 02:00",
          "s22-11-25 06:00",
          "s22-11-25 10:00",
          "s22-11-25 14:00",
          "s22-11-25 18:00",
          "s22-11-27 22:00",
          "s22-11-28 02:00",
          "s22-11-28 06:00",
          "s22-11-28 10:00",
          "s22-11-28 14:00",
          "s22-11-28 18:00",
          "s22-11-28 22:00",
          "s22-11-29 02:00",
          "s22-11-29 06:00",
          "s22-11-29 10:00",
          "s22-11-29 14:00",
          "s22-11-29 18:00",
          "s22-11-29 22:00",
          "s22-11-30 02:00",
          "s22-11-30 06:00",
          "s22-11-30 10:00",
          "s22-11-30 14:00",
          "s22-11-30 18:00",
          "s22-11-30 22:00",
          "s22-12-01 02:00",
          "s22-12-01 06:00",
          "s22-12-01 10:00",
          "s22-12-01 14:00",
          "s22-12-01 18:00",
          "s22-12-01 22:00",
          "s22-12-02 02:00",
          "s22-12-02 06:00",
          "s22-12-02 10:00",
          "s22-12-02 14:00",
          "s22-12-02 18:00",
          "s22-12-04 22:00",
          "s22-12-05 02:00",
          "s22-12-05 06:00",
          "s22-12-05 10:00",
          "s22-12-05 14:00",
          "s22-12-05 18:00",
          "s22-12-05 22:00",
          "s22-12-06 02:00",
          "s22-12-06 06:00",
          "s22-12-06 10:00",
          "s22-12-06 14:00",
          "s22-12-06 18:00",
          "s22-12-06 22:00",
          "s22-12-07 02:00",
          "s22-12-07 06:00",
          "s22-12-07 10:00",
          "s22-12-07 14:00",
          "s22-12-07 18:00",
          "s22-12-07 22:00",
          "s22-12-08 02:00",
          "s22-12-08 06:00",
          "s22-12-08 10:00",
          "s22-12-08 14:00",
          "s22-12-08 18:00",
          "s22-12-08 22:00",
          "s22-12-09 02:00",
          "s22-12-09 06:00",
          "s22-12-09 10:00",
          "s22-12-09 14:00",
          "s22-12-09 18:00",
          "s22-12-11 22:00",
          "s22-12-12 02:00",
          "s22-12-12 06:00",
          "s22-12-12 10:00",
          "s22-12-12 14:00",
          "s22-12-12 18:00",
          "s22-12-12 22:00",
          "s22-12-13 02:00",
          "s22-12-13 06:00",
          "s22-12-13 10:00",
          "s22-12-13 14:00",
          "s22-12-13 18:00",
          "s22-12-13 22:00",
          "s22-12-14 02:00",
          "s22-12-14 06:00",
          "s22-12-14 10:00",
          "s22-12-14 14:00",
          "s22-12-14 18:00",
          "s22-12-14 22:00",
          "s22-12-15 02:00",
          "s22-12-15 06:00",
          "s22-12-15 10:00",
          "s22-12-15 14:00",
          "s22-12-15 18:00",
          "s22-12-15 22:00",
          "s22-12-16 02:00",
          "s22-12-16 06:00",
          "s22-12-16 10:00",
          "s22-12-16 14:00",
          "s22-12-16 18:00",
          "s22-12-18 22:00",
          "s22-12-19 02:00",
          "s22-12-19 06:00",
          "s22-12-19 10:00",
          "s22-12-19 14:00",
          "s22-12-19 18:00",
          "s22-12-19 22:00",
          "s22-12-20 02:00",
          "s22-12-20 06:00",
          "s22-12-20 10:00",
          "s22-12-20 14:00",
          "s22-12-20 18:00",
          "s22-12-20 22:00",
          "s22-12-21 02:00",
          "s22-12-21 06:00",
          "s22-12-21 10:00",
          "s22-12-21 14:00",
          "s22-12-21 18:00",
          "s22-12-21 22:00",
          "s22-12-22 02:00",
          "s22-12-22 06:00",
          "s22-12-22 10:00",
          "s22-12-22 14:00",
          "s22-12-22 18:00",
          "s22-12-22 22:00",
          "s22-12-23 02:00",
          "s22-12-23 06:00",
          "s22-12-23 10:00",
          "s22-12-23 14:00",
          "s22-12-23 18:00",
          "s22-12-26 22:00",
          "s22-12-27 02:00",
          "s22-12-27 06:00",
          "s22-12-27 10:00",
          "s22-12-27 14:00",
          "s22-12-27 18:00",
          "s22-12-27 22:00",
          "s22-12-28 02:00",
          "s22-12-28 06:00",
          "s22-12-28 10:00",
          "s22-12-28 14:00",
          "s22-12-28 18:00",
          "s22-12-28 22:00",
          "s22-12-29 02:00",
          "s22-12-29 06:00",
          "s22-12-29 10:00",
          "s22-12-29 14:00",
          "s22-12-29 18:00",
          "s22-12-29 22:00",
          "s22-12-30 02:00",
          "s22-12-30 06:00",
          "s22-12-30 10:00",
          "s22-12-30 14:00",
          "s22-12-30 18:00",
          "s23-01-01 22:00",
          "s23-01-02 02:00",
          "s23-01-02 06:00",
          "s23-01-02 10:00",
          "s23-01-02 14:00",
          "s23-01-02 18:00",
          "s23-01-02 22:00",
          "s23-01-03 02:00",
          "s23-01-03 06:00",
          "s23-01-03 10:00",
          "s23-01-03 14:00",
          "s23-01-03 18:00",
          "s23-01-03 22:00",
          "s23-01-04 02:00",
          "s23-01-04 06:00",
          "s23-01-04 10:00",
          "s23-01-04 14:00",
          "s23-01-04 18:00",
          "s23-01-04 22:00",
          "s23-01-05 02:00",
          "s23-01-05 06:00",
          "s23-01-05 10:00",
          "s23-01-05 14:00",
          "s23-01-05 18:00",
          "s23-01-05 22:00",
          "s23-01-06 02:00",
          "s23-01-06 06:00",
          "s23-01-06 10:00",
          "s23-01-06 14:00",
          "s23-01-06 18:00",
          "s23-01-08 22:00",
          "s23-01-09 02:00",
          "s23-01-09 06:00"
         ],
         "xaxis": "x",
         "y": {
          "bdata": "4xk09E+CZEBvgQTFj4VkQH9v05/9iGRAyvj3GReMZEChnGhXIY9kQIAr2bERkmRA36Y/+5GUZECbyTfb3JZkQPsioS3nmGRApSxDHOuaZEAbu0T11pxkQLsPQGoTn2RAHaz/c5ihZEDDZKpgVKRkQJPBUfLqpmRAFw6EZAGpZEBzDMhe76pkQOpb5nRZrGRAiuB/K9mtZEBu3c1THa5kQDzaOGItrmRAiBHCo42tZECNRdPZyaxkQMQlx53Sq2RAaR1VTRCrZECgceFASKpkQA+v6xfsqGRAZFjFG5mnZEANbJVgcaZkQElL5e0IpWRAjo1AvK6jZEA7pYP1f6JkQHZsBOJ1oWRAUiy3tBqgZEAjiV5GsZ5kQGHD0ytlnWRAJjEIrBycZEDqymd5HppkQA0a+ie4mGRALBN+qZ+XZEA0XrpJDJZkQDIge737k2RA6njMQGWSZEBsskY9RI9kQOHMr+YAi2RABUzg1t2GZEBztRX7y4JkQE2EDU+vfmRAYLAbti16ZECZ8Ev9vHVkQPGAsilXcGRAoaF/gotpZEDmHafoSGJkQPaX3ZOHV2RADU+vlGVOZEBb07zjFEdkQOyGbYsyQWRAObnfoSg6ZEChLedSXDNkQGxblNkgLWRAvvbMkgAnZEAIOIQqNSFkQPBt+rMfG2RAUYNpGD4UZEBE/wQXKw5kQPlJtU/HB2RA9FSH3AwBZEBQjZduEvtjQI0LB0Ky9GNAhqxu9ZzwY0A/OnXls+xjQEDeq1Ym6GNAWi+GcqLjY0A+XHLcKd9jQMQgsHJo22NAyAc9m1XZY0B9Ik+SrtdjQHy45LhT1mNAMevFUE7UY0CzB1qBIdNjQALU1LK10GNA0ZZzKa7OY0C+TX/2I81jQAEYz6Chy2NA2bERiNfJY0BWQ+IeS8ljQK1p3nGKyGNAPN9PjZfIY0DGpwAYz8hjQJZzKa4qyWNAhqdXyjLKY0DOa+wS1ctjQCWS6GUUzWNAut+hKNDPY0BIp658ltNjQJUrvMtF1mNAaFch5SfZY0DDKt7IPNxjQB9LH7qg3mNAtM2N6QnhY0A0ETY8veRjQHLEWnwK6mNA3UHsTKHvY0Aj+N9KdvhjQJaVJqWg/2NAWRe30QAEZEA2AvG6fgdkQLyuX7AbDGRAn1kSoKYQZECwOJz51RRkQDGZKhiVGGRAGVbxRuYbZEAIrBxaZB9kQLaEfNCzI2RAJEBNLVsnZEAJVWr2QCtkQChmvRjKL2RAIeo+AKkzZEBLzR5oBThkQDs7GRwlO2RADCQofow9ZEDmP6TfvkBkQDGUE+0qRGRAOJz51RxIZEAkRWRYxUlkQHgGDf0TSmRAgIKLFTVKZEA89x4uOUpkQPOrOUAwS2RApPyk2qdLZED20akrn01kQC1gArfuTmRAQbyuX7BPZEApP6n26VBkQIiFWtO8U2RAGJXUCWhWZED+1HjpJllkQKipZWt9W2RAescpOpJdZECQa0PFOF9kQPGFyVTBYGRA5IOezaphZECfWRKgpmJkQNYcIJijY2RA29yYnrBkZEBRa5p3nGZkQPRUh9wMaWRANkHUfQBsZEBMAtTUsm9kQOyGbYsyc2RAl24Sg8B2ZEAdcjPcgHlkQLxcxHdifGRAOgt72uF/ZEAaqIx/n4NkQFt381SHiGRAcUIhAg6NZED9SBEZVpFkQIQNT6+UlWRA+9AF9S2ZZEB6cHfWbp1kQAixM4XOoWRAisiwijemZEC0/SsrTapkQB2KAn0ir2RABplk5Cy0ZECP2sTJ/bhkQN21hHzQvWRAKh2s/3PCZEB7ZkmAmsZkQBakGYumy2RAG55eKcvOZED4Tsx6MdJkQGh+NQcI1mRARPrt68DbZEAT8kHPZuFkQDvCacGL5mRA3/3xXrXqZEAqV3iXi+5kQI1donpr8mRAFt7lIr71ZEBhTzv8NflkQGl0B7Ez/WRAc4V3uYgBZUAYsrrVcwRlQFRq9kArBmVA5owo7Q0IZUARx7q4jQplQLjpz36kDGVAVz7L8+AOZUAhPNo4YhFlQOjB3Vm7E2VAsp3vp8YVZUBB1H0AUhdlQA3IXu/+GGVAYDyDhv4ZZUCE+pY5XRplQDwUBfpEGmVAEfxvJTsaZUAf+YOB5xplQN0HILWJG2VAiSmRRC8dZUBFmQ0yyR5lQN9xio7kIGVAJnDrbp4iZUAI6/8c5iNlQH8AUps4JWVA3xrYKsEmZUBq2VpfJChlQMCy0qQUKmVA/U0oRMArZUCvyRr1EC1lQGa4AZ8fLmVA4bTgRV8vZUBWwaikTjBlQPGFyVTBMGVAthDkoIQxZUA/GHjuPTJlQNszSwLUMmVAk2+2uTEzZUB3oblOIzNlQOaRPxh4NGVAoRABh1A1ZUD0SlmGODRlQHL+JhQiMmVAaGFPO/wvZUBSflLt0y1lQGqHvyZrLGVAtiizQSYrZUDzAuyjUyllQA7W/znMJ2VAfLjkuFMmZUBF09nJ4CRlQC0mNh/XImVA+z+H+fIgZUC9OseA7B9lQDj4wmSqHmVAJLTlXIodZUBJY7SOqhxlQC7/If32G2VAs3bbheYaZUD2KFyPwhllQP8+48KBGGVAwLLSpBQYZUBhFW9kHhdlQNv0Zz9SFmVAPJtVn6sVZUAWxhaCHBRlQGMQWDm0EmVArRIsDmcQZUCPqiaIug1lQKnZA63ACmVA8kHPZtUHZUBqEyf3OwRlQBNhw9MrAWVATI47pYP9ZEC2SrA4nPlkQHQHsTOF9mRAgc8PI4TzZEBIp658lu9kQAhyUMJM62RAkWtDxTjnZECa02UxseNkQC457pQO4GRAwLLSpBTcZEDSGK2jqtlkQEM+6Nms1mRAMqzijczTZEAjpkQSvdBkQIb+CS5WzmRA2NMOf03MZEBxcr9DUcpkQGmpvB3hyGRA4KEo0CfIZEBkIxCv68dkQL3GLlG9x2RAaoKo+wDIZEAk88gfDMhkQBhz1xLyx2RA/N6mP/vHZEB0WUxsPshkQOhvQiECyGRAt9YXCW3HZED/fcaFA8dkQC457pQOxmRAt5c0RuvEZECcoiO5/MNkQNE/wcWKwmRAs7CnHf7AZECEZAETuL9kQP8h/fZ1vmRA+rg2VIy9ZEA7HjNQGb1kQPosz4O7u2RANJ2dDI66ZEB0djI4SrpkQJrTZTGxuWRAQ+IeSx+6ZECKB5RNubpkQA7z5QXYu2RAmwMEc/S8ZEBEozuInb1kQAZHyatzvmRAM4rllla/ZECGFtnO979kQNPe4AuTwWRA81meB3fDZEDhI2JKJMVkQPNUh9wMx2RAfVcE/1vJZEC4cCAkC8xkQGb35GGhzmRAV3iXi/jQZECbzk4GR9NkQIguqG+Z1WRAjblrCfnWZECfk943vthkQOkmMQis2mRABRIUP8bcZEBpHVVNEN9kQNeGinH+4GRAk4ychT3jZECbj2tDxeRkQK4l5IOe5WRARuuoaoLmZECPTl35LOdkQAZfmEwV6GRAP+PCgZDoZEDJcad0sOhkQN3IPPIH6WRACP63kh3pZEAPr+sX7OhkQCWS6GUU6WRAHxZqTfPoZEDP8jy4O+lkQLpJDAIr6WRAba0vEtroZEBl3xXB/+hkQAnJAiZw6WRAH4oCfSLpZEATJ/c7FOlkQKBU+3Q86GRAc4Bgjh7nZEAmjdE6quZkQBEebRyx5mRAmA0yycjlZEApP6n26eRkQKSl8naE42RAhIHn3sPhZECM22gAb99kQAwHQrKA3WRA6q2BrRLcZEDUlc/yPNpkQNv5fmq82GRArOek943XZEBgJLTlXNZkQK9amfBL1WRATtGRXP7TZEBNhA1Pr9JkQCwwZHWr0WRA21Axzt/QZECOklfnGNBkQF30FaQZz2RAY3/ZPXnOZEA2WaMeos1kQMZQTrSrzGRAyEYgXtfLZEBXCRaHM8tkQJs4ud+hymRAGm7A54fJZEBbd/NUh8hkQJp8s82Nx2RAP3RBfcvGZECN7iB2psZkQAb1LXO6xmRACeHRxhHHZECN8zehEMdkQImAQ6hSx2RAjuTyH9LHZEDghEIEHMhkQKYKRiV1yGRAqHSw/s/JZEBRiIBDqMpkQGFUUiegy2RAqdkDrcDMZEDOiNLe4M1kQM+goX+Cz2RAl+Kqsu/QZEDka88sCdJkQDJVMCqp02RAhSUeUDbVZEB96IL6ltdkQGmu00hL2WRAzse1oWLaZEB324XmOttkQObG9IQl3GRAW9O84xTdZED/If32dd5kQLMMcayL32RAMlUwKqnhZEBAE2HD0+NkQGQe+YOB5WRAj8L1KFznZEATuHU3T+lkQPx0PGag6mRAJEVkWMXrZECG5jqNtOxkQGHgufdw7WRAtjLhl/rtZEASTgte9O1kQKrsuyL47WRA9gt2w7btZEAhPNo4Yu1kQK0XQznR7GRAP6n26XjsZEAm/FI/b+xkQKA3Fakw7GRAXBsqxvnrZED2tMNfk+tkQLJjIxCv62RA6pCb4QboZEAOSphp++NkQN21hHzQ32RAlxx3SgfbZEC7uI0G8NZkQM0jfzDw0mRATdu/stLOZEB0WUxsPspkQLbDX5M1xmRAegH20anBZEBM4NbdPL1kQLKFIAcluGRAO5LLf0izZEDmdFlMbK5kQLssJjYfqWRAARjPoKGjZEC8APvo1J1kQLYV+8vul2RAjpJX5xiSZECu2F92T4xkQKMjufyHhmRAba0vEtqAZEBIcvkP6XtkQH0iT5Kud2RAJcy0/StzZEB0tRX7y25kQJSCbi9pamRAM6zijcxlZEDhnBGlvWFkQIE+kSdJXWRAbVZ9rrZYZEB88rBQa1RkQO18PzVeUGRAK97IPPJLZEDLZ3ke3EdkQKFns+pzQ2RAFytqMA0/ZEAsQxzr4jpkQGMLQQ5KNmRAI9v5fmoyZECNrz2zJC5kQLVPx2MGKmRALjnulA4mZEB2GmmpvCFkQDbIJCNnHWRAGLK61XMYZED2l92ThxNkQKNYbmk1DmRAUFPL1voIZECw5gDBHANkQAMOoUrNAGRAlN43vvb+Y0A7x4Ds9fxjQCh+jLlr+2NAX7pJDAL5Y0DItaFinPVjQIFzRpT28mNAaYzWUdXwY0AYeO49XO5jQM3km21u7GNAUdobfGHqY0C3XWiu0+hjQBb2tMNf52NALNmxEYjnY0AHJcy0/edjQPz7jAsH6GNAarx0kxjoY0BrSNxj6edjQA+cM6K052NAG9gqweLmY0Cxv+yePOZjQKuVCb/U5WNAqAAYz6DlY0CjtDf4wuRjQD3VITfD42NADB8RUyLjY0B0XmOXqOJjQG76sx8p4mNAr7Zif9nhY0CVfVcE/+FjQA==",
          "dtype": "f8"
         },
         "yaxis": "y"
        },
        {
         "line": {
          "shape": "spline",
          "width": 2
         },
         "name": "MA_100",
         "type": "scatter",
         "x": [
          "s22-09-13 01:00",
          "s22-09-13 05:00",
          "s22-09-13 09:00",
          "s22-09-13 13:00",
          "s22-09-13 17:00",
          "s22-09-13 21:00",
          "s22-09-14 01:00",
          "s22-09-14 05:00",
          "s22-09-14 09:00",
          "s22-09-14 13:00",
          "s22-09-14 17:00",
          "s22-09-14 21:00",
          "s22-09-15 01:00",
          "s22-09-15 05:00",
          "s22-09-15 09:00",
          "s22-09-15 13:00",
          "s22-09-15 17:00",
          "s22-09-15 21:00",
          "s22-09-16 01:00",
          "s22-09-16 05:00",
          "s22-09-16 09:00",
          "s22-09-16 13:00",
          "s22-09-16 17:00",
          "s22-09-18 21:00",
          "s22-09-19 01:00",
          "s22-09-19 05:00",
          "s22-09-19 09:00",
          "s22-09-19 13:00",
          "s22-09-19 17:00",
          "s22-09-19 21:00",
          "s22-09-20 01:00",
          "s22-09-20 05:00",
          "s22-09-20 09:00",
          "s22-09-20 13:00",
          "s22-09-20 17:00",
          "s22-09-20 21:00",
          "s22-09-21 01:00",
          "s22-09-21 05:00",
          "s22-09-21 09:00",
          "s22-09-21 13:00",
          "s22-09-21 17:00",
          "s22-09-21 21:00",
          "s22-09-22 01:00",
          "s22-09-22 05:00",
          "s22-09-22 09:00",
          "s22-09-22 13:00",
          "s22-09-22 17:00",
          "s22-09-22 21:00",
          "s22-09-23 01:00",
          "s22-09-23 05:00",
          "s22-09-23 09:00",
          "s22-09-23 13:00",
          "s22-09-23 17:00",
          "s22-09-25 21:00",
          "s22-09-26 01:00",
          "s22-09-26 05:00",
          "s22-09-26 09:00",
          "s22-09-26 13:00",
          "s22-09-26 17:00",
          "s22-09-26 21:00",
          "s22-09-27 01:00",
          "s22-09-27 05:00",
          "s22-09-27 09:00",
          "s22-09-27 13:00",
          "s22-09-27 17:00",
          "s22-09-27 21:00",
          "s22-09-28 01:00",
          "s22-09-28 05:00",
          "s22-09-28 09:00",
          "s22-09-28 13:00",
          "s22-09-28 17:00",
          "s22-09-28 21:00",
          "s22-09-29 01:00",
          "s22-09-29 05:00",
          "s22-09-29 09:00",
          "s22-09-29 13:00",
          "s22-09-29 17:00",
          "s22-09-29 21:00",
          "s22-09-30 01:00",
          "s22-09-30 05:00",
          "s22-09-30 09:00",
          "s22-09-30 13:00",
          "s22-09-30 17:00",
          "s22-10-02 21:00",
          "s22-10-03 01:00",
          "s22-10-03 05:00",
          "s22-10-03 09:00",
          "s22-10-03 13:00",
          "s22-10-03 17:00",
          "s22-10-03 21:00",
          "s22-10-04 01:00",
          "s22-10-04 05:00",
          "s22-10-04 09:00",
          "s22-10-04 13:00",
          "s22-10-04 17:00",
          "s22-10-04 21:00",
          "s22-10-05 01:00",
          "s22-10-05 05:00",
          "s22-10-05 09:00",
          "s22-10-05 13:00",
          "s22-10-05 17:00",
          "s22-10-05 21:00",
          "s22-10-06 01:00",
          "s22-10-06 05:00",
          "s22-10-06 09:00",
          "s22-10-06 13:00",
          "s22-10-06 17:00",
          "s22-10-06 21:00",
          "s22-10-07 01:00",
          "s22-10-07 05:00",
          "s22-10-07 09:00",
          "s22-10-07 13:00",
          "s22-10-07 17:00",
          "s22-10-09 21:00",
          "s22-10-10 01:00",
          "s22-10-10 05:00",
          "s22-10-10 09:00",
          "s22-10-10 13:00",
          "s22-10-10 17:00",
          "s22-10-10 21:00",
          "s22-10-11 01:00",
          "s22-10-11 05:00",
          "s22-10-11 09:00",
          "s22-10-11 13:00",
          "s22-10-11 17:00",
          "s22-10-11 21:00",
          "s22-10-12 01:00",
          "s22-10-12 05:00",
          "s22-10-12 09:00",
          "s22-10-12 13:00",
          "s22-10-12 17:00",
          "s22-10-12 21:00",
          "s22-10-13 01:00",
          "s22-10-13 05:00",
          "s22-10-13 09:00",
          "s22-10-13 13:00",
          "s22-10-13 17:00",
          "s22-10-13 21:00",
          "s22-10-14 01:00",
          "s22-10-14 05:00",
          "s22-10-14 09:00",
          "s22-10-14 13:00",
          "s22-10-14 17:00",
          "s22-10-16 21:00",
          "s22-10-17 01:00",
          "s22-10-17 05:00",
          "s22-10-17 09:00",
          "s22-10-17 13:00",
          "s22-10-17 17:00",
          "s22-10-17 21:00",
          "s22-10-18 01:00",
          "s22-10-18 05:00",
          "s22-10-18 09:00",
          "s22-10-18 13:00",
          "s22-10-18 17:00",
          "s22-10-18 21:00",
          "s22-10-19 01:00",
          "s22-10-19 05:00",
          "s22-10-19 09:00",
          "s22-10-19 13:00",
          "s22-10-19 17:00",
          "s22-10-19 21:00",
          "s22-10-20 01:00",
          "s22-10-20 05:00",
          "s22-10-20 09:00",
          "s22-10-20 13:00",
          "s22-10-20 17:00",
          "s22-10-20 21:00",
          "s22-10-21 01:00",
          "s22-10-21 05:00",
          "s22-10-21 09:00",
          "s22-10-21 13:00",
          "s22-10-21 17:00",
          "s22-10-23 21:00",
          "s22-10-24 01:00",
          "s22-10-24 05:00",
          "s22-10-24 09:00",
          "s22-10-24 13:00",
          "s22-10-24 17:00",
          "s22-10-24 21:00",
          "s22-10-25 01:00",
          "s22-10-25 05:00",
          "s22-10-25 09:00",
          "s22-10-25 13:00",
          "s22-10-25 17:00",
          "s22-10-25 21:00",
          "s22-10-26 01:00",
          "s22-10-26 05:00",
          "s22-10-26 09:00",
          "s22-10-26 13:00",
          "s22-10-26 17:00",
          "s22-10-26 21:00",
          "s22-10-27 01:00",
          "s22-10-27 05:00",
          "s22-10-27 09:00",
          "s22-10-27 13:00",
          "s22-10-27 17:00",
          "s22-10-27 21:00",
          "s22-10-28 01:00",
          "s22-10-28 05:00",
          "s22-10-28 09:00",
          "s22-10-28 13:00",
          "s22-10-28 17:00",
          "s22-10-30 21:00",
          "s22-10-31 01:00",
          "s22-10-31 05:00",
          "s22-10-31 09:00",
          "s22-10-31 13:00",
          "s22-10-31 17:00",
          "s22-10-31 21:00",
          "s22-11-01 01:00",
          "s22-11-01 05:00",
          "s22-11-01 09:00",
          "s22-11-01 13:00",
          "s22-11-01 17:00",
          "s22-11-01 21:00",
          "s22-11-02 01:00",
          "s22-11-02 05:00",
          "s22-11-02 09:00",
          "s22-11-02 13:00",
          "s22-11-02 17:00",
          "s22-11-02 21:00",
          "s22-11-03 01:00",
          "s22-11-03 05:00",
          "s22-11-03 09:00",
          "s22-11-03 13:00",
          "s22-11-03 17:00",
          "s22-11-03 21:00",
          "s22-11-04 01:00",
          "s22-11-04 05:00",
          "s22-11-04 09:00",
          "s22-11-04 13:00",
          "s22-11-04 17:00",
          "s22-11-06 22:00",
          "s22-11-07 02:00",
          "s22-11-07 06:00",
          "s22-11-07 10:00",
          "s22-11-07 14:00",
          "s22-11-07 18:00",
          "s22-11-07 22:00",
          "s22-11-08 02:00",
          "s22-11-08 06:00",
          "s22-11-08 10:00",
          "s22-11-08 14:00",
          "s22-11-08 18:00",
          "s22-11-08 22:00",
          "s22-11-09 02:00",
          "s22-11-09 06:00",
          "s22-11-09 10:00",
          "s22-11-09 14:00",
          "s22-11-09 18:00",
          "s22-11-09 22:00",
          "s22-11-10 02:00",
          "s22-11-10 06:00",
          "s22-11-10 10:00",
          "s22-11-10 14:00",
          "s22-11-10 18:00",
          "s22-11-10 22:00",
          "s22-11-11 02:00",
          "s22-11-11 06:00",
          "s22-11-11 10:00",
          "s22-11-11 14:00",
          "s22-11-11 18:00",
          "s22-11-13 22:00",
          "s22-11-14 02:00",
          "s22-11-14 06:00",
          "s22-11-14 10:00",
          "s22-11-14 14:00",
          "s22-11-14 18:00",
          "s22-11-14 22:00",
          "s22-11-15 02:00",
          "s22-11-15 06:00",
          "s22-11-15 10:00",
          "s22-11-15 14:00",
          "s22-11-15 18:00",
          "s22-11-15 22:00",
          "s22-11-16 02:00",
          "s22-11-16 06:00",
          "s22-11-16 10:00",
          "s22-11-16 14:00",
          "s22-11-16 18:00",
          "s22-11-16 22:00",
          "s22-11-17 02:00",
          "s22-11-17 06:00",
          "s22-11-17 10:00",
          "s22-11-17 14:00",
          "s22-11-17 18:00",
          "s22-11-17 22:00",
          "s22-11-18 02:00",
          "s22-11-18 06:00",
          "s22-11-18 10:00",
          "s22-11-18 14:00",
          "s22-11-18 18:00",
          "s22-11-20 22:00",
          "s22-11-21 02:00",
          "s22-11-21 06:00",
          "s22-11-21 10:00",
          "s22-11-21 14:00",
          "s22-11-21 18:00",
          "s22-11-21 22:00",
          "s22-11-22 02:00",
          "s22-11-22 06:00",
          "s22-11-22 10:00",
          "s22-11-22 14:00",
          "s22-11-22 18:00",
          "s22-11-22 22:00",
          "s22-11-23 02:00",
          "s22-11-23 06:00",
          "s22-11-23 10:00",
          "s22-11-23 14:00",
          "s22-11-23 18:00",
          "s22-11-23 22:00",
          "s22-11-24 02:00",
          "s22-11-24 06:00",
          "s22-11-24 10:00",
          "s22-11-24 14:00",
          "s22-11-24 18:00",
          "s22-11-24 22:00",
          "s22-11-25 02:00",
          "s22-11-25 06:00",
          "s22-11-25 10:00",
          "s22-11-25 14:00",
          "s22-11-25 18:00",
          "s22-11-27 22:00",
          "s22-11-28 02:00",
          "s22-11-28 06:00",
          "s22-11-28 10:00",
          "s22-11-28 14:00",
          "s22-11-28 18:00",
          "s22-11-28 22:00",
          "s22-11-29 02:00",
          "s22-11-29 06:00",
          "s22-11-29 10:00",
          "s22-11-29 14:00",
          "s22-11-29 18:00",
          "s22-11-29 22:00",
          "s22-11-30 02:00",
          "s22-11-30 06:00",
          "s22-11-30 10:00",
          "s22-11-30 14:00",
          "s22-11-30 18:00",
          "s22-11-30 22:00",
          "s22-12-01 02:00",
          "s22-12-01 06:00",
          "s22-12-01 10:00",
          "s22-12-01 14:00",
          "s22-12-01 18:00",
          "s22-12-01 22:00",
          "s22-12-02 02:00",
          "s22-12-02 06:00",
          "s22-12-02 10:00",
          "s22-12-02 14:00",
          "s22-12-02 18:00",
          "s22-12-04 22:00",
          "s22-12-05 02:00",
          "s22-12-05 06:00",
          "s22-12-05 10:00",
          "s22-12-05 14:00",
          "s22-12-05 18:00",
          "s22-12-05 22:00",
          "s22-12-06 02:00",
          "s22-12-06 06:00",
          "s22-12-06 10:00",
          "s22-12-06 14:00",
          "s22-12-06 18:00",
          "s22-12-06 22:00",
          "s22-12-07 02:00",
          "s22-12-07 06:00",
          "s22-12-07 10:00",
          "s22-12-07 14:00",
          "s22-12-07 18:00",
          "s22-12-07 22:00",
          "s22-12-08 02:00",
          "s22-12-08 06:00",
          "s22-12-08 10:00",
          "s22-12-08 14:00",
          "s22-12-08 18:00",
          "s22-12-08 22:00",
          "s22-12-09 02:00",
          "s22-12-09 06:00",
          "s22-12-09 10:00",
          "s22-12-09 14:00",
          "s22-12-09 18:00",
          "s22-12-11 22:00",
          "s22-12-12 02:00",
          "s22-12-12 06:00",
          "s22-12-12 10:00",
          "s22-12-12 14:00",
          "s22-12-12 18:00",
          "s22-12-12 22:00",
          "s22-12-13 02:00",
          "s22-12-13 06:00",
          "s22-12-13 10:00",
          "s22-12-13 14:00",
          "s22-12-13 18:00",
          "s22-12-13 22:00",
          "s22-12-14 02:00",
          "s22-12-14 06:00",
          "s22-12-14 10:00",
          "s22-12-14 14:00",
          "s22-12-14 18:00",
          "s22-12-14 22:00",
          "s22-12-15 02:00",
          "s22-12-15 06:00",
          "s22-12-15 10:00",
          "s22-12-15 14:00",
          "s22-12-15 18:00",
          "s22-12-15 22:00",
          "s22-12-16 02:00",
          "s22-12-16 06:00",
          "s22-12-16 10:00",
          "s22-12-16 14:00",
          "s22-12-16 18:00",
          "s22-12-18 22:00",
          "s22-12-19 02:00",
          "s22-12-19 06:00",
          "s22-12-19 10:00",
          "s22-12-19 14:00",
          "s22-12-19 18:00",
          "s22-12-19 22:00",
          "s22-12-20 02:00",
          "s22-12-20 06:00",
          "s22-12-20 10:00",
          "s22-12-20 14:00",
          "s22-12-20 18:00",
          "s22-12-20 22:00",
          "s22-12-21 02:00",
          "s22-12-21 06:00",
          "s22-12-21 10:00",
          "s22-12-21 14:00",
          "s22-12-21 18:00",
          "s22-12-21 22:00",
          "s22-12-22 02:00",
          "s22-12-22 06:00",
          "s22-12-22 10:00",
          "s22-12-22 14:00",
          "s22-12-22 18:00",
          "s22-12-22 22:00",
          "s22-12-23 02:00",
          "s22-12-23 06:00",
          "s22-12-23 10:00",
          "s22-12-23 14:00",
          "s22-12-23 18:00",
          "s22-12-26 22:00",
          "s22-12-27 02:00",
          "s22-12-27 06:00",
          "s22-12-27 10:00",
          "s22-12-27 14:00",
          "s22-12-27 18:00",
          "s22-12-27 22:00",
          "s22-12-28 02:00",
          "s22-12-28 06:00",
          "s22-12-28 10:00",
          "s22-12-28 14:00",
          "s22-12-28 18:00",
          "s22-12-28 22:00",
          "s22-12-29 02:00",
          "s22-12-29 06:00",
          "s22-12-29 10:00",
          "s22-12-29 14:00",
          "s22-12-29 18:00",
          "s22-12-29 22:00",
          "s22-12-30 02:00",
          "s22-12-30 06:00",
          "s22-12-30 10:00",
          "s22-12-30 14:00",
          "s22-12-30 18:00",
          "s23-01-01 22:00",
          "s23-01-02 02:00",
          "s23-01-02 06:00",
          "s23-01-02 10:00",
          "s23-01-02 14:00",
          "s23-01-02 18:00",
          "s23-01-02 22:00",
          "s23-01-03 02:00",
          "s23-01-03 06:00",
          "s23-01-03 10:00",
          "s23-01-03 14:00",
          "s23-01-03 18:00",
          "s23-01-03 22:00",
          "s23-01-04 02:00",
          "s23-01-04 06:00",
          "s23-01-04 10:00",
          "s23-01-04 14:00",
          "s23-01-04 18:00",
          "s23-01-04 22:00",
          "s23-01-05 02:00",
          "s23-01-05 06:00",
          "s23-01-05 10:00",
          "s23-01-05 14:00",
          "s23-01-05 18:00",
          "s23-01-05 22:00",
          "s23-01-06 02:00",
          "s23-01-06 06:00",
          "s23-01-06 10:00",
          "s23-01-06 14:00",
          "s23-01-06 18:00",
          "s23-01-08 22:00",
          "s23-01-09 02:00",
          "s23-01-09 06:00"
         ],
         "xaxis": "x",
         "y": {
          "bdata": "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",
          "dtype": "f8"
         },
         "yaxis": "y"
        },
        {
         "line": {
          "shape": "spline",
          "width": 2
         },
         "name": "MA_200",
         "type": "scatter",
         "x": [
          "s22-09-13 01:00",
          "s22-09-13 05:00",
          "s22-09-13 09:00",
          "s22-09-13 13:00",
          "s22-09-13 17:00",
          "s22-09-13 21:00",
          "s22-09-14 01:00",
          "s22-09-14 05:00",
          "s22-09-14 09:00",
          "s22-09-14 13:00",
          "s22-09-14 17:00",
          "s22-09-14 21:00",
          "s22-09-15 01:00",
          "s22-09-15 05:00",
          "s22-09-15 09:00",
          "s22-09-15 13:00",
          "s22-09-15 17:00",
          "s22-09-15 21:00",
          "s22-09-16 01:00",
          "s22-09-16 05:00",
          "s22-09-16 09:00",
          "s22-09-16 13:00",
          "s22-09-16 17:00",
          "s22-09-18 21:00",
          "s22-09-19 01:00",
          "s22-09-19 05:00",
          "s22-09-19 09:00",
          "s22-09-19 13:00",
          "s22-09-19 17:00",
          "s22-09-19 21:00",
          "s22-09-20 01:00",
          "s22-09-20 05:00",
          "s22-09-20 09:00",
          "s22-09-20 13:00",
          "s22-09-20 17:00",
          "s22-09-20 21:00",
          "s22-09-21 01:00",
          "s22-09-21 05:00",
          "s22-09-21 09:00",
          "s22-09-21 13:00",
          "s22-09-21 17:00",
          "s22-09-21 21:00",
          "s22-09-22 01:00",
          "s22-09-22 05:00",
          "s22-09-22 09:00",
          "s22-09-22 13:00",
          "s22-09-22 17:00",
          "s22-09-22 21:00",
          "s22-09-23 01:00",
          "s22-09-23 05:00",
          "s22-09-23 09:00",
          "s22-09-23 13:00",
          "s22-09-23 17:00",
          "s22-09-25 21:00",
          "s22-09-26 01:00",
          "s22-09-26 05:00",
          "s22-09-26 09:00",
          "s22-09-26 13:00",
          "s22-09-26 17:00",
          "s22-09-26 21:00",
          "s22-09-27 01:00",
          "s22-09-27 05:00",
          "s22-09-27 09:00",
          "s22-09-27 13:00",
          "s22-09-27 17:00",
          "s22-09-27 21:00",
          "s22-09-28 01:00",
          "s22-09-28 05:00",
          "s22-09-28 09:00",
          "s22-09-28 13:00",
          "s22-09-28 17:00",
          "s22-09-28 21:00",
          "s22-09-29 01:00",
          "s22-09-29 05:00",
          "s22-09-29 09:00",
          "s22-09-29 13:00",
          "s22-09-29 17:00",
          "s22-09-29 21:00",
          "s22-09-30 01:00",
          "s22-09-30 05:00",
          "s22-09-30 09:00",
          "s22-09-30 13:00",
          "s22-09-30 17:00",
          "s22-10-02 21:00",
          "s22-10-03 01:00",
          "s22-10-03 05:00",
          "s22-10-03 09:00",
          "s22-10-03 13:00",
          "s22-10-03 17:00",
          "s22-10-03 21:00",
          "s22-10-04 01:00",
          "s22-10-04 05:00",
          "s22-10-04 09:00",
          "s22-10-04 13:00",
          "s22-10-04 17:00",
          "s22-10-04 21:00",
          "s22-10-05 01:00",
          "s22-10-05 05:00",
          "s22-10-05 09:00",
          "s22-10-05 13:00",
          "s22-10-05 17:00",
          "s22-10-05 21:00",
          "s22-10-06 01:00",
          "s22-10-06 05:00",
          "s22-10-06 09:00",
          "s22-10-06 13:00",
          "s22-10-06 17:00",
          "s22-10-06 21:00",
          "s22-10-07 01:00",
          "s22-10-07 05:00",
          "s22-10-07 09:00",
          "s22-10-07 13:00",
          "s22-10-07 17:00",
          "s22-10-09 21:00",
          "s22-10-10 01:00",
          "s22-10-10 05:00",
          "s22-10-10 09:00",
          "s22-10-10 13:00",
          "s22-10-10 17:00",
          "s22-10-10 21:00",
          "s22-10-11 01:00",
          "s22-10-11 05:00",
          "s22-10-11 09:00",
          "s22-10-11 13:00",
          "s22-10-11 17:00",
          "s22-10-11 21:00",
          "s22-10-12 01:00",
          "s22-10-12 05:00",
          "s22-10-12 09:00",
          "s22-10-12 13:00",
          "s22-10-12 17:00",
          "s22-10-12 21:00",
          "s22-10-13 01:00",
          "s22-10-13 05:00",
          "s22-10-13 09:00",
          "s22-10-13 13:00",
          "s22-10-13 17:00",
          "s22-10-13 21:00",
          "s22-10-14 01:00",
          "s22-10-14 05:00",
          "s22-10-14 09:00",
          "s22-10-14 13:00",
          "s22-10-14 17:00",
          "s22-10-16 21:00",
          "s22-10-17 01:00",
          "s22-10-17 05:00",
          "s22-10-17 09:00",
          "s22-10-17 13:00",
          "s22-10-17 17:00",
          "s22-10-17 21:00",
          "s22-10-18 01:00",
          "s22-10-18 05:00",
          "s22-10-18 09:00",
          "s22-10-18 13:00",
          "s22-10-18 17:00",
          "s22-10-18 21:00",
          "s22-10-19 01:00",
          "s22-10-19 05:00",
          "s22-10-19 09:00",
          "s22-10-19 13:00",
          "s22-10-19 17:00",
          "s22-10-19 21:00",
          "s22-10-20 01:00",
          "s22-10-20 05:00",
          "s22-10-20 09:00",
          "s22-10-20 13:00",
          "s22-10-20 17:00",
          "s22-10-20 21:00",
          "s22-10-21 01:00",
          "s22-10-21 05:00",
          "s22-10-21 09:00",
          "s22-10-21 13:00",
          "s22-10-21 17:00",
          "s22-10-23 21:00",
          "s22-10-24 01:00",
          "s22-10-24 05:00",
          "s22-10-24 09:00",
          "s22-10-24 13:00",
          "s22-10-24 17:00",
          "s22-10-24 21:00",
          "s22-10-25 01:00",
          "s22-10-25 05:00",
          "s22-10-25 09:00",
          "s22-10-25 13:00",
          "s22-10-25 17:00",
          "s22-10-25 21:00",
          "s22-10-26 01:00",
          "s22-10-26 05:00",
          "s22-10-26 09:00",
          "s22-10-26 13:00",
          "s22-10-26 17:00",
          "s22-10-26 21:00",
          "s22-10-27 01:00",
          "s22-10-27 05:00",
          "s22-10-27 09:00",
          "s22-10-27 13:00",
          "s22-10-27 17:00",
          "s22-10-27 21:00",
          "s22-10-28 01:00",
          "s22-10-28 05:00",
          "s22-10-28 09:00",
          "s22-10-28 13:00",
          "s22-10-28 17:00",
          "s22-10-30 21:00",
          "s22-10-31 01:00",
          "s22-10-31 05:00",
          "s22-10-31 09:00",
          "s22-10-31 13:00",
          "s22-10-31 17:00",
          "s22-10-31 21:00",
          "s22-11-01 01:00",
          "s22-11-01 05:00",
          "s22-11-01 09:00",
          "s22-11-01 13:00",
          "s22-11-01 17:00",
          "s22-11-01 21:00",
          "s22-11-02 01:00",
          "s22-11-02 05:00",
          "s22-11-02 09:00",
          "s22-11-02 13:00",
          "s22-11-02 17:00",
          "s22-11-02 21:00",
          "s22-11-03 01:00",
          "s22-11-03 05:00",
          "s22-11-03 09:00",
          "s22-11-03 13:00",
          "s22-11-03 17:00",
          "s22-11-03 21:00",
          "s22-11-04 01:00",
          "s22-11-04 05:00",
          "s22-11-04 09:00",
          "s22-11-04 13:00",
          "s22-11-04 17:00",
          "s22-11-06 22:00",
          "s22-11-07 02:00",
          "s22-11-07 06:00",
          "s22-11-07 10:00",
          "s22-11-07 14:00",
          "s22-11-07 18:00",
          "s22-11-07 22:00",
          "s22-11-08 02:00",
          "s22-11-08 06:00",
          "s22-11-08 10:00",
          "s22-11-08 14:00",
          "s22-11-08 18:00",
          "s22-11-08 22:00",
          "s22-11-09 02:00",
          "s22-11-09 06:00",
          "s22-11-09 10:00",
          "s22-11-09 14:00",
          "s22-11-09 18:00",
          "s22-11-09 22:00",
          "s22-11-10 02:00",
          "s22-11-10 06:00",
          "s22-11-10 10:00",
          "s22-11-10 14:00",
          "s22-11-10 18:00",
          "s22-11-10 22:00",
          "s22-11-11 02:00",
          "s22-11-11 06:00",
          "s22-11-11 10:00",
          "s22-11-11 14:00",
          "s22-11-11 18:00",
          "s22-11-13 22:00",
          "s22-11-14 02:00",
          "s22-11-14 06:00",
          "s22-11-14 10:00",
          "s22-11-14 14:00",
          "s22-11-14 18:00",
          "s22-11-14 22:00",
          "s22-11-15 02:00",
          "s22-11-15 06:00",
          "s22-11-15 10:00",
          "s22-11-15 14:00",
          "s22-11-15 18:00",
          "s22-11-15 22:00",
          "s22-11-16 02:00",
          "s22-11-16 06:00",
          "s22-11-16 10:00",
          "s22-11-16 14:00",
          "s22-11-16 18:00",
          "s22-11-16 22:00",
          "s22-11-17 02:00",
          "s22-11-17 06:00",
          "s22-11-17 10:00",
          "s22-11-17 14:00",
          "s22-11-17 18:00",
          "s22-11-17 22:00",
          "s22-11-18 02:00",
          "s22-11-18 06:00",
          "s22-11-18 10:00",
          "s22-11-18 14:00",
          "s22-11-18 18:00",
          "s22-11-20 22:00",
          "s22-11-21 02:00",
          "s22-11-21 06:00",
          "s22-11-21 10:00",
          "s22-11-21 14:00",
          "s22-11-21 18:00",
          "s22-11-21 22:00",
          "s22-11-22 02:00",
          "s22-11-22 06:00",
          "s22-11-22 10:00",
          "s22-11-22 14:00",
          "s22-11-22 18:00",
          "s22-11-22 22:00",
          "s22-11-23 02:00",
          "s22-11-23 06:00",
          "s22-11-23 10:00",
          "s22-11-23 14:00",
          "s22-11-23 18:00",
          "s22-11-23 22:00",
          "s22-11-24 02:00",
          "s22-11-24 06:00",
          "s22-11-24 10:00",
          "s22-11-24 14:00",
          "s22-11-24 18:00",
          "s22-11-24 22:00",
          "s22-11-25 02:00",
          "s22-11-25 06:00",
          "s22-11-25 10:00",
          "s22-11-25 14:00",
          "s22-11-25 18:00",
          "s22-11-27 22:00",
          "s22-11-28 02:00",
          "s22-11-28 06:00",
          "s22-11-28 10:00",
          "s22-11-28 14:00",
          "s22-11-28 18:00",
          "s22-11-28 22:00",
          "s22-11-29 02:00",
          "s22-11-29 06:00",
          "s22-11-29 10:00",
          "s22-11-29 14:00",
          "s22-11-29 18:00",
          "s22-11-29 22:00",
          "s22-11-30 02:00",
          "s22-11-30 06:00",
          "s22-11-30 10:00",
          "s22-11-30 14:00",
          "s22-11-30 18:00",
          "s22-11-30 22:00",
          "s22-12-01 02:00",
          "s22-12-01 06:00",
          "s22-12-01 10:00",
          "s22-12-01 14:00",
          "s22-12-01 18:00",
          "s22-12-01 22:00",
          "s22-12-02 02:00",
          "s22-12-02 06:00",
          "s22-12-02 10:00",
          "s22-12-02 14:00",
          "s22-12-02 18:00",
          "s22-12-04 22:00",
          "s22-12-05 02:00",
          "s22-12-05 06:00",
          "s22-12-05 10:00",
          "s22-12-05 14:00",
          "s22-12-05 18:00",
          "s22-12-05 22:00",
          "s22-12-06 02:00",
          "s22-12-06 06:00",
          "s22-12-06 10:00",
          "s22-12-06 14:00",
          "s22-12-06 18:00",
          "s22-12-06 22:00",
          "s22-12-07 02:00",
          "s22-12-07 06:00",
          "s22-12-07 10:00",
          "s22-12-07 14:00",
          "s22-12-07 18:00",
          "s22-12-07 22:00",
          "s22-12-08 02:00",
          "s22-12-08 06:00",
          "s22-12-08 10:00",
          "s22-12-08 14:00",
          "s22-12-08 18:00",
          "s22-12-08 22:00",
          "s22-12-09 02:00",
          "s22-12-09 06:00",
          "s22-12-09 10:00",
          "s22-12-09 14:00",
          "s22-12-09 18:00",
          "s22-12-11 22:00",
          "s22-12-12 02:00",
          "s22-12-12 06:00",
          "s22-12-12 10:00",
          "s22-12-12 14:00",
          "s22-12-12 18:00",
          "s22-12-12 22:00",
          "s22-12-13 02:00",
          "s22-12-13 06:00",
          "s22-12-13 10:00",
          "s22-12-13 14:00",
          "s22-12-13 18:00",
          "s22-12-13 22:00",
          "s22-12-14 02:00",
          "s22-12-14 06:00",
          "s22-12-14 10:00",
          "s22-12-14 14:00",
          "s22-12-14 18:00",
          "s22-12-14 22:00",
          "s22-12-15 02:00",
          "s22-12-15 06:00",
          "s22-12-15 10:00",
          "s22-12-15 14:00",
          "s22-12-15 18:00",
          "s22-12-15 22:00",
          "s22-12-16 02:00",
          "s22-12-16 06:00",
          "s22-12-16 10:00",
          "s22-12-16 14:00",
          "s22-12-16 18:00",
          "s22-12-18 22:00",
          "s22-12-19 02:00",
          "s22-12-19 06:00",
          "s22-12-19 10:00",
          "s22-12-19 14:00",
          "s22-12-19 18:00",
          "s22-12-19 22:00",
          "s22-12-20 02:00",
          "s22-12-20 06:00",
          "s22-12-20 10:00",
          "s22-12-20 14:00",
          "s22-12-20 18:00",
          "s22-12-20 22:00",
          "s22-12-21 02:00",
          "s22-12-21 06:00",
          "s22-12-21 10:00",
          "s22-12-21 14:00",
          "s22-12-21 18:00",
          "s22-12-21 22:00",
          "s22-12-22 02:00",
          "s22-12-22 06:00",
          "s22-12-22 10:00",
          "s22-12-22 14:00",
          "s22-12-22 18:00",
          "s22-12-22 22:00",
          "s22-12-23 02:00",
          "s22-12-23 06:00",
          "s22-12-23 10:00",
          "s22-12-23 14:00",
          "s22-12-23 18:00",
          "s22-12-26 22:00",
          "s22-12-27 02:00",
          "s22-12-27 06:00",
          "s22-12-27 10:00",
          "s22-12-27 14:00",
          "s22-12-27 18:00",
          "s22-12-27 22:00",
          "s22-12-28 02:00",
          "s22-12-28 06:00",
          "s22-12-28 10:00",
          "s22-12-28 14:00",
          "s22-12-28 18:00",
          "s22-12-28 22:00",
          "s22-12-29 02:00",
          "s22-12-29 06:00",
          "s22-12-29 10:00",
          "s22-12-29 14:00",
          "s22-12-29 18:00",
          "s22-12-29 22:00",
          "s22-12-30 02:00",
          "s22-12-30 06:00",
          "s22-12-30 10:00",
          "s22-12-30 14:00",
          "s22-12-30 18:00",
          "s23-01-01 22:00",
          "s23-01-02 02:00",
          "s23-01-02 06:00",
          "s23-01-02 10:00",
          "s23-01-02 14:00",
          "s23-01-02 18:00",
          "s23-01-02 22:00",
          "s23-01-03 02:00",
          "s23-01-03 06:00",
          "s23-01-03 10:00",
          "s23-01-03 14:00",
          "s23-01-03 18:00",
          "s23-01-03 22:00",
          "s23-01-04 02:00",
          "s23-01-04 06:00",
          "s23-01-04 10:00",
          "s23-01-04 14:00",
          "s23-01-04 18:00",
          "s23-01-04 22:00",
          "s23-01-05 02:00",
          "s23-01-05 06:00",
          "s23-01-05 10:00",
          "s23-01-05 14:00",
          "s23-01-05 18:00",
          "s23-01-05 22:00",
          "s23-01-06 02:00",
          "s23-01-06 06:00",
          "s23-01-06 10:00",
          "s23-01-06 14:00",
          "s23-01-06 18:00",
          "s23-01-08 22:00",
          "s23-01-09 02:00",
          "s23-01-09 06:00"
         ],
         "xaxis": "x",
         "y": {
          "bdata": "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",
          "dtype": "f8"
         },
         "yaxis": "y"
        }
       ],
       "layout": {
        "font": {
         "color": "#e1e1e1",
         "size": 8
        },
        "height": 400,
        "margin": {
         "b": 10,
         "l": 10,
         "r": 10,
         "t": 10
        },
        "paper_bgcolor": "#2c303c",
        "plot_bgcolor": "#2c303c",
        "template": {
         "data": {
          "bar": [
           {
            "error_x": {
             "color": "#2a3f5f"
            },
            "error_y": {
             "color": "#2a3f5f"
            },
            "marker": {
             "line": {
              "color": "#E5ECF6",
              "width": 0.5
             },
             "pattern": {
              "fillmode": "overlay",
              "size": 10,
              "solidity": 0.2
             }
            },
            "type": "bar"
           }
          ],
          "barpolar": [
           {
            "marker": {
             "line": {
              "color": "#E5ECF6",
              "width": 0.5
             },
             "pattern": {
              "fillmode": "overlay",
              "size": 10,
              "solidity": 0.2
             }
            },
            "type": "barpolar"
           }
          ],
          "carpet": [
           {
            "aaxis": {
             "endlinecolor": "#2a3f5f",
             "gridcolor": "white",
             "linecolor": "white",
             "minorgridcolor": "white",
             "startlinecolor": "#2a3f5f"
            },
            "baxis": {
             "endlinecolor": "#2a3f5f",
             "gridcolor": "white",
             "linecolor": "white",
             "minorgridcolor": "white",
             "startlinecolor": "#2a3f5f"
            },
            "type": "carpet"
           }
          ],
          "choropleth": [
           {
            "colorbar": {
             "outlinewidth": 0,
             "ticks": ""
            },
            "type": "choropleth"
           }
          ],
          "contour": [
           {
            "colorbar": {
             "outlinewidth": 0,
             "ticks": ""
            },
            "colorscale": [
             [
              0,
              "#0d0887"
             ],
             [
              0.1111111111111111,
              "#46039f"
             ],
             [
              0.2222222222222222,
              "#7201a8"
             ],
             [
              0.3333333333333333,
              "#9c179e"
             ],
             [
              0.4444444444444444,
              "#bd3786"
             ],
             [
              0.5555555555555556,
              "#d8576b"
             ],
             [
              0.6666666666666666,
              "#ed7953"
             ],
             [
              0.7777777777777778,
              "#fb9f3a"
             ],
             [
              0.8888888888888888,
              "#fdca26"
             ],
             [
              1,
              "#f0f921"
             ]
            ],
            "type": "contour"
           }
          ],
          "contourcarpet": [
           {
            "colorbar": {
             "outlinewidth": 0,
             "ticks": ""
            },
            "type": "contourcarpet"
           }
          ],
          "heatmap": [
           {
            "colorbar": {
             "outlinewidth": 0,
             "ticks": ""
            },
            "colorscale": [
             [
              0,
              "#0d0887"
             ],
             [
              0.1111111111111111,
              "#46039f"
             ],
             [
              0.2222222222222222,
              "#7201a8"
             ],
             [
              0.3333333333333333,
              "#9c179e"
             ],
             [
              0.4444444444444444,
              "#bd3786"
             ],
             [
              0.5555555555555556,
              "#d8576b"
             ],
             [
              0.6666666666666666,
              "#ed7953"
             ],
             [
              0.7777777777777778,
              "#fb9f3a"
             ],
             [
              0.8888888888888888,
              "#fdca26"
             ],
             [
              1,
              "#f0f921"
             ]
            ],
            "type": "heatmap"
           }
          ],
          "histogram": [
           {
            "marker": {
             "pattern": {
              "fillmode": "overlay",
              "size": 10,
              "solidity": 0.2
             }
            },
            "type": "histogram"
           }
          ],
          "histogram2d": [
           {
            "colorbar": {
             "outlinewidth": 0,
             "ticks": ""
            },
            "colorscale": [
             [
              0,
              "#0d0887"
             ],
             [
              0.1111111111111111,
              "#46039f"
             ],
             [
              0.2222222222222222,
              "#7201a8"
             ],
             [
              0.3333333333333333,
              "#9c179e"
             ],
             [
              0.4444444444444444,
              "#bd3786"
             ],
             [
              0.5555555555555556,
              "#d8576b"
             ],
             [
              0.6666666666666666,
              "#ed7953"
             ],
             [
              0.7777777777777778,
              "#fb9f3a"
             ],
             [
              0.8888888888888888,
              "#fdca26"
             ],
             [
              1,
              "#f0f921"
             ]
            ],
            "type": "histogram2d"
           }
          ],
          "histogram2dcontour": [
           {
            "colorbar": {
             "outlinewidth": 0,
             "ticks": ""
            },
            "colorscale": [
             [
              0,
              "#0d0887"
             ],
             [
              0.1111111111111111,
              "#46039f"
             ],
             [
              0.2222222222222222,
              "#7201a8"
             ],
             [
              0.3333333333333333,
              "#9c179e"
             ],
             [
              0.4444444444444444,
              "#bd3786"
             ],
             [
              0.5555555555555556,
              "#d8576b"
             ],
             [
              0.6666666666666666,
              "#ed7953"
             ],
             [
              0.7777777777777778,
              "#fb9f3a"
             ],
             [
              0.8888888888888888,
              "#fdca26"
             ],
             [
              1,
              "#f0f921"
             ]
            ],
            "type": "histogram2dcontour"
           }
          ],
          "mesh3d": [
           {
            "colorbar": {
             "outlinewidth": 0,
             "ticks": ""
            },
            "type": "mesh3d"
           }
          ],
          "parcoords": [
           {
            "line": {
             "colorbar": {
              "outlinewidth": 0,
              "ticks": ""
             }
            },
            "type": "parcoords"
           }
          ],
          "pie": [
           {
            "automargin": true,
            "type": "pie"
           }
          ],
          "scatter": [
           {
            "fillpattern": {
             "fillmode": "overlay",
             "size": 10,
             "solidity": 0.2
            },
            "type": "scatter"
           }
          ],
          "scatter3d": [
           {
            "line": {
             "colorbar": {
              "outlinewidth": 0,
              "ticks": ""
             }
            },
            "marker": {
             "colorbar": {
              "outlinewidth": 0,
              "ticks": ""
             }
            },
            "type": "scatter3d"
           }
          ],
          "scattercarpet": [
           {
            "marker": {
             "colorbar": {
              "outlinewidth": 0,
              "ticks": ""
             }
            },
            "type": "scattercarpet"
           }
          ],
          "scattergeo": [
           {
            "marker": {
             "colorbar": {
              "outlinewidth": 0,
              "ticks": ""
             }
            },
            "type": "scattergeo"
           }
          ],
          "scattergl": [
           {
            "marker": {
             "colorbar": {
              "outlinewidth": 0,
              "ticks": ""
             }
            },
            "type": "scattergl"
           }
          ],
          "scattermap": [
           {
            "marker": {
             "colorbar": {
              "outlinewidth": 0,
              "ticks": ""
             }
            },
            "type": "scattermap"
           }
          ],
          "scattermapbox": [
           {
            "marker": {
             "colorbar": {
              "outlinewidth": 0,
              "ticks": ""
             }
            },
            "type": "scattermapbox"
           }
          ],
          "scatterpolar": [
           {
            "marker": {
             "colorbar": {
              "outlinewidth": 0,
              "ticks": ""
             }
            },
            "type": "scatterpolar"
           }
          ],
          "scatterpolargl": [
           {
            "marker": {
             "colorbar": {
              "outlinewidth": 0,
              "ticks": ""
             }
            },
            "type": "scatterpolargl"
           }
          ],
          "scatterternary": [
           {
            "marker": {
             "colorbar": {
              "outlinewidth": 0,
              "ticks": ""
             }
            },
            "type": "scatterternary"
           }
          ],
          "surface": [
           {
            "colorbar": {
             "outlinewidth": 0,
             "ticks": ""
            },
            "colorscale": [
             [
              0,
              "#0d0887"
             ],
             [
              0.1111111111111111,
              "#46039f"
             ],
             [
              0.2222222222222222,
              "#7201a8"
             ],
             [
              0.3333333333333333,
              "#9c179e"
             ],
             [
              0.4444444444444444,
              "#bd3786"
             ],
             [
              0.5555555555555556,
              "#d8576b"
             ],
             [
              0.6666666666666666,
              "#ed7953"
             ],
             [
              0.7777777777777778,
              "#fb9f3a"
             ],
             [
              0.8888888888888888,
              "#fdca26"
             ],
             [
              1,
              "#f0f921"
             ]
            ],
            "type": "surface"
           }
          ],
          "table": [
           {
            "cells": {
             "fill": {
              "color": "#EBF0F8"
             },
             "line": {
              "color": "white"
             }
            },
            "header": {
             "fill": {
              "color": "#C8D4E3"
             },
             "line": {
              "color": "white"
             }
            },
            "type": "table"
           }
          ]
         },
         "layout": {
          "annotationdefaults": {
           "arrowcolor": "#2a3f5f",
           "arrowhead": 0,
           "arrowwidth": 1
          },
          "autotypenumbers": "strict",
          "coloraxis": {
           "colorbar": {
            "outlinewidth": 0,
            "ticks": ""
           }
          },
          "colorscale": {
           "diverging": [
            [
             0,
             "#8e0152"
            ],
            [
             0.1,
             "#c51b7d"
            ],
            [
             0.2,
             "#de77ae"
            ],
            [
             0.3,
             "#f1b6da"
            ],
            [
             0.4,
             "#fde0ef"
            ],
            [
             0.5,
             "#f7f7f7"
            ],
            [
             0.6,
             "#e6f5d0"
            ],
            [
             0.7,
             "#b8e186"
            ],
            [
             0.8,
             "#7fbc41"
            ],
            [
             0.9,
             "#4d9221"
            ],
            [
             1,
             "#276419"
            ]
           ],
           "sequential": [
            [
             0,
             "#0d0887"
            ],
            [
             0.1111111111111111,
             "#46039f"
            ],
            [
             0.2222222222222222,
             "#7201a8"
            ],
            [
             0.3333333333333333,
             "#9c179e"
            ],
            [
             0.4444444444444444,
             "#bd3786"
            ],
            [
             0.5555555555555556,
             "#d8576b"
            ],
            [
             0.6666666666666666,
             "#ed7953"
            ],
            [
             0.7777777777777778,
             "#fb9f3a"
            ],
            [
             0.8888888888888888,
             "#fdca26"
            ],
            [
             1,
             "#f0f921"
            ]
           ],
           "sequentialminus": [
            [
             0,
             "#0d0887"
            ],
            [
             0.1111111111111111,
             "#46039f"
            ],
            [
             0.2222222222222222,
             "#7201a8"
            ],
            [
             0.3333333333333333,
             "#9c179e"
            ],
            [
             0.4444444444444444,
             "#bd3786"
            ],
            [
             0.5555555555555556,
             "#d8576b"
            ],
            [
             0.6666666666666666,
             "#ed7953"
            ],
            [
             0.7777777777777778,
             "#fb9f3a"
            ],
            [
             0.8888888888888888,
             "#fdca26"
            ],
            [
             1,
             "#f0f921"
            ]
           ]
          },
          "colorway": [
           "#636efa",
           "#EF553B",
           "#00cc96",
           "#ab63fa",
           "#FFA15A",
           "#19d3f3",
           "#FF6692",
           "#B6E880",
           "#FF97FF",
           "#FECB52"
          ],
          "font": {
           "color": "#2a3f5f"
          },
          "geo": {
           "bgcolor": "white",
           "lakecolor": "white",
           "landcolor": "#E5ECF6",
           "showlakes": true,
           "showland": true,
           "subunitcolor": "white"
          },
          "hoverlabel": {
           "align": "left"
          },
          "hovermode": "closest",
          "mapbox": {
           "style": "light"
          },
          "paper_bgcolor": "white",
          "plot_bgcolor": "#E5ECF6",
          "polar": {
           "angularaxis": {
            "gridcolor": "white",
            "linecolor": "white",
            "ticks": ""
           },
           "bgcolor": "#E5ECF6",
           "radialaxis": {
            "gridcolor": "white",
            "linecolor": "white",
            "ticks": ""
           }
          },
          "scene": {
           "xaxis": {
            "backgroundcolor": "#E5ECF6",
            "gridcolor": "white",
            "gridwidth": 2,
            "linecolor": "white",
            "showbackground": true,
            "ticks": "",
            "zerolinecolor": "white"
           },
           "yaxis": {
            "backgroundcolor": "#E5ECF6",
            "gridcolor": "white",
            "gridwidth": 2,
            "linecolor": "white",
            "showbackground": true,
            "ticks": "",
            "zerolinecolor": "white"
           },
           "zaxis": {
            "backgroundcolor": "#E5ECF6",
            "gridcolor": "white",
            "gridwidth": 2,
            "linecolor": "white",
            "showbackground": true,
            "ticks": "",
            "zerolinecolor": "white"
           }
          },
          "shapedefaults": {
           "line": {
            "color": "#2a3f5f"
           }
          },
          "ternary": {
           "aaxis": {
            "gridcolor": "white",
            "linecolor": "white",
            "ticks": ""
           },
           "baxis": {
            "gridcolor": "white",
            "linecolor": "white",
            "ticks": ""
           },
           "bgcolor": "#E5ECF6",
           "caxis": {
            "gridcolor": "white",
            "linecolor": "white",
            "ticks": ""
           }
          },
          "title": {
           "x": 0.05
          },
          "xaxis": {
           "automargin": true,
           "gridcolor": "white",
           "linecolor": "white",
           "ticks": "",
           "title": {
            "standoff": 15
           },
           "zerolinecolor": "white",
           "zerolinewidth": 2
          },
          "yaxis": {
           "automargin": true,
           "gridcolor": "white",
           "linecolor": "white",
           "ticks": "",
           "title": {
            "standoff": 15
           },
           "zerolinecolor": "white",
           "zerolinewidth": 2
          }
         }
        },
        "width": 900,
        "xaxis": {
         "anchor": "y",
         "domain": [
          0,
          0.94
         ],
         "gridcolor": "#1f292f",
         "nticks": 5,
         "rangeslider": {
          "visible": false
         }
        },
        "yaxis": {
         "anchor": "x",
         "domain": [
          0,
          1
         ],
         "gridcolor": "#1f292f"
        },
        "yaxis2": {
         "anchor": "x",
         "gridcolor": "#1f292f",
         "overlaying": "y",
         "side": "right"
        }
       }
      }
     },
     "metadata": {},
     "output_type": "display_data"
    }
   ],
   "source": [
    "cp.show_plot(line_traces=traces)"
   ]
  },
  {
   "cell_type": "code",
   "execution_count": 41,
   "id": "aa59bf65",
   "metadata": {},
   "outputs": [],
   "source": [
    "MA_S = \"MA_50\"\n",
    "MA_L = \"MA_200\"\n",
    "BUY = 1\n",
    "SELL = -1\n",
    "NONE = 0"
   ]
  },
  {
   "cell_type": "code",
   "execution_count": 42,
   "id": "3528ed09",
   "metadata": {},
   "outputs": [],
   "source": [
    "df_an = df_ma[['time', 'mid_o', 'mid_h', 'mid_l', 'mid_c', MA_S, MA_L]].copy()"
   ]
  },
  {
   "cell_type": "code",
   "execution_count": 43,
   "id": "a64ba904",
   "metadata": {},
   "outputs": [
    {
     "data": {
      "text/html": [
       "<div>\n",
       "<style scoped>\n",
       "    .dataframe tbody tr th:only-of-type {\n",
       "        vertical-align: middle;\n",
       "    }\n",
       "\n",
       "    .dataframe tbody tr th {\n",
       "        vertical-align: top;\n",
       "    }\n",
       "\n",
       "    .dataframe thead th {\n",
       "        text-align: right;\n",
       "    }\n",
       "</style>\n",
       "<table border=\"1\" class=\"dataframe\">\n",
       "  <thead>\n",
       "    <tr style=\"text-align: right;\">\n",
       "      <th></th>\n",
       "      <th>time</th>\n",
       "      <th>mid_o</th>\n",
       "      <th>mid_h</th>\n",
       "      <th>mid_l</th>\n",
       "      <th>mid_c</th>\n",
       "      <th>MA_50</th>\n",
       "      <th>MA_200</th>\n",
       "    </tr>\n",
       "  </thead>\n",
       "  <tbody>\n",
       "    <tr>\n",
       "      <th>0</th>\n",
       "      <td>2022-09-13 01:00:00+00:00</td>\n",
       "      <td>166.610</td>\n",
       "      <td>166.763</td>\n",
       "      <td>166.424</td>\n",
       "      <td>166.558</td>\n",
       "      <td>164.07226</td>\n",
       "      <td>162.612535</td>\n",
       "    </tr>\n",
       "    <tr>\n",
       "      <th>1</th>\n",
       "      <td>2022-09-13 05:00:00+00:00</td>\n",
       "      <td>166.556</td>\n",
       "      <td>166.938</td>\n",
       "      <td>166.367</td>\n",
       "      <td>166.642</td>\n",
       "      <td>164.17380</td>\n",
       "      <td>162.618655</td>\n",
       "    </tr>\n",
       "    <tr>\n",
       "      <th>2</th>\n",
       "      <td>2022-09-13 09:00:00+00:00</td>\n",
       "      <td>166.642</td>\n",
       "      <td>168.166</td>\n",
       "      <td>166.134</td>\n",
       "      <td>166.873</td>\n",
       "      <td>164.28096</td>\n",
       "      <td>162.629430</td>\n",
       "    </tr>\n",
       "    <tr>\n",
       "      <th>3</th>\n",
       "      <td>2022-09-13 13:00:00+00:00</td>\n",
       "      <td>166.873</td>\n",
       "      <td>166.890</td>\n",
       "      <td>166.120</td>\n",
       "      <td>166.302</td>\n",
       "      <td>164.37782</td>\n",
       "      <td>162.636410</td>\n",
       "    </tr>\n",
       "    <tr>\n",
       "      <th>4</th>\n",
       "      <td>2022-09-13 17:00:00+00:00</td>\n",
       "      <td>166.301</td>\n",
       "      <td>166.433</td>\n",
       "      <td>166.010</td>\n",
       "      <td>166.142</td>\n",
       "      <td>164.47282</td>\n",
       "      <td>162.649450</td>\n",
       "    </tr>\n",
       "  </tbody>\n",
       "</table>\n",
       "</div>"
      ],
      "text/plain": [
       "                       time    mid_o    mid_h    mid_l    mid_c      MA_50  \\\n",
       "0 2022-09-13 01:00:00+00:00  166.610  166.763  166.424  166.558  164.07226   \n",
       "1 2022-09-13 05:00:00+00:00  166.556  166.938  166.367  166.642  164.17380   \n",
       "2 2022-09-13 09:00:00+00:00  166.642  168.166  166.134  166.873  164.28096   \n",
       "3 2022-09-13 13:00:00+00:00  166.873  166.890  166.120  166.302  164.37782   \n",
       "4 2022-09-13 17:00:00+00:00  166.301  166.433  166.010  166.142  164.47282   \n",
       "\n",
       "       MA_200  \n",
       "0  162.612535  \n",
       "1  162.618655  \n",
       "2  162.629430  \n",
       "3  162.636410  \n",
       "4  162.649450  "
      ]
     },
     "execution_count": 43,
     "metadata": {},
     "output_type": "execute_result"
    }
   ],
   "source": [
    "df_an.head()"
   ]
  },
  {
   "cell_type": "code",
   "execution_count": 44,
   "id": "e2715b14",
   "metadata": {},
   "outputs": [],
   "source": [
    "df_an['DELTA'] = df_an.MA_50 - df_an.MA_200\n",
    "df_an['DELTA_PREV'] = df_an.DELTA.shift(1)"
   ]
  },
  {
   "cell_type": "code",
   "execution_count": 45,
   "id": "2449e608",
   "metadata": {},
   "outputs": [],
   "source": [
    "def is_trade(row):\n",
    "    if row.DELTA >= 0  and row.DELTA_PREV < 0:\n",
    "        return BUY\n",
    "    elif row.DELTA < 0  and row.DELTA_PREV >= 0:\n",
    "        return SELL\n",
    "    return NONE"
   ]
  },
  {
   "cell_type": "code",
   "execution_count": 46,
   "id": "9ebd519d",
   "metadata": {},
   "outputs": [],
   "source": [
    "df_an['TRADE'] = df_an.apply(is_trade, axis=1)"
   ]
  },
  {
   "cell_type": "code",
   "execution_count": 47,
   "id": "a4afafb4",
   "metadata": {},
   "outputs": [],
   "source": [
    "df_trades = df_an[df_an.TRADE != NONE].copy()"
   ]
  },
  {
   "cell_type": "code",
   "execution_count": 48,
   "id": "09890362",
   "metadata": {},
   "outputs": [
    {
     "data": {
      "text/html": [
       "<div>\n",
       "<style scoped>\n",
       "    .dataframe tbody tr th:only-of-type {\n",
       "        vertical-align: middle;\n",
       "    }\n",
       "\n",
       "    .dataframe tbody tr th {\n",
       "        vertical-align: top;\n",
       "    }\n",
       "\n",
       "    .dataframe thead th {\n",
       "        text-align: right;\n",
       "    }\n",
       "</style>\n",
       "<table border=\"1\" class=\"dataframe\">\n",
       "  <thead>\n",
       "    <tr style=\"text-align: right;\">\n",
       "      <th></th>\n",
       "      <th>time</th>\n",
       "      <th>mid_o</th>\n",
       "      <th>mid_h</th>\n",
       "      <th>mid_l</th>\n",
       "      <th>mid_c</th>\n",
       "      <th>MA_50</th>\n",
       "      <th>MA_200</th>\n",
       "      <th>DELTA</th>\n",
       "      <th>DELTA_PREV</th>\n",
       "      <th>TRADE</th>\n",
       "    </tr>\n",
       "  </thead>\n",
       "  <tbody>\n",
       "    <tr>\n",
       "      <th>53</th>\n",
       "      <td>2022-09-25 21:00:00+00:00</td>\n",
       "      <td>155.138</td>\n",
       "      <td>155.640</td>\n",
       "      <td>149.333</td>\n",
       "      <td>149.497</td>\n",
       "      <td>162.73530</td>\n",
       "      <td>162.746095</td>\n",
       "      <td>-0.010795</td>\n",
       "      <td>0.256970</td>\n",
       "      <td>-1</td>\n",
       "    </tr>\n",
       "    <tr>\n",
       "      <th>122</th>\n",
       "      <td>2022-10-11 09:00:00+00:00</td>\n",
       "      <td>160.909</td>\n",
       "      <td>161.766</td>\n",
       "      <td>160.778</td>\n",
       "      <td>161.505</td>\n",
       "      <td>162.13024</td>\n",
       "      <td>162.123840</td>\n",
       "      <td>0.006400</td>\n",
       "      <td>-0.101630</td>\n",
       "      <td>1</td>\n",
       "    </tr>\n",
       "    <tr>\n",
       "      <th>275</th>\n",
       "      <td>2022-11-15 22:00:00+00:00</td>\n",
       "      <td>165.286</td>\n",
       "      <td>165.706</td>\n",
       "      <td>164.708</td>\n",
       "      <td>165.493</td>\n",
       "      <td>166.24186</td>\n",
       "      <td>166.275035</td>\n",
       "      <td>-0.033175</td>\n",
       "      <td>0.000815</td>\n",
       "      <td>-1</td>\n",
       "    </tr>\n",
       "    <tr>\n",
       "      <th>400</th>\n",
       "      <td>2022-12-14 18:00:00+00:00</td>\n",
       "      <td>167.771</td>\n",
       "      <td>168.395</td>\n",
       "      <td>167.361</td>\n",
       "      <td>168.376</td>\n",
       "      <td>167.11960</td>\n",
       "      <td>167.093855</td>\n",
       "      <td>0.025745</td>\n",
       "      <td>-0.052325</td>\n",
       "      <td>1</td>\n",
       "    </tr>\n",
       "    <tr>\n",
       "      <th>426</th>\n",
       "      <td>2022-12-21 02:00:00+00:00</td>\n",
       "      <td>160.819</td>\n",
       "      <td>161.042</td>\n",
       "      <td>160.488</td>\n",
       "      <td>160.837</td>\n",
       "      <td>166.46322</td>\n",
       "      <td>166.546680</td>\n",
       "      <td>-0.083460</td>\n",
       "      <td>0.022110</td>\n",
       "      <td>-1</td>\n",
       "    </tr>\n",
       "  </tbody>\n",
       "</table>\n",
       "</div>"
      ],
      "text/plain": [
       "                         time    mid_o    mid_h    mid_l    mid_c      MA_50  \\\n",
       "53  2022-09-25 21:00:00+00:00  155.138  155.640  149.333  149.497  162.73530   \n",
       "122 2022-10-11 09:00:00+00:00  160.909  161.766  160.778  161.505  162.13024   \n",
       "275 2022-11-15 22:00:00+00:00  165.286  165.706  164.708  165.493  166.24186   \n",
       "400 2022-12-14 18:00:00+00:00  167.771  168.395  167.361  168.376  167.11960   \n",
       "426 2022-12-21 02:00:00+00:00  160.819  161.042  160.488  160.837  166.46322   \n",
       "\n",
       "         MA_200     DELTA  DELTA_PREV  TRADE  \n",
       "53   162.746095 -0.010795    0.256970     -1  \n",
       "122  162.123840  0.006400   -0.101630      1  \n",
       "275  166.275035 -0.033175    0.000815     -1  \n",
       "400  167.093855  0.025745   -0.052325      1  \n",
       "426  166.546680 -0.083460    0.022110     -1  "
      ]
     },
     "execution_count": 48,
     "metadata": {},
     "output_type": "execute_result"
    }
   ],
   "source": [
    "df_trades.head()"
   ]
  },
  {
   "cell_type": "code",
   "execution_count": 49,
   "id": "630c1fb8",
   "metadata": {},
   "outputs": [
    {
     "data": {
      "application/vnd.plotly.v1+json": {
       "config": {
        "plotlyServerURL": "https://plot.ly"
       },
       "data": [
        {
         "close": {
          "bdata": "HVpkO98PZUAGgZVDi/xkQCPb+X5qBGVABoGVQ4vYZEA730+Nl7ZkQEa28/3UuGRAGQRWDi2uZEDy0k1iELhkQM/3U+Olw2RAN4lBYOW4ZECBlUOLbLtkQPp+arx0x2RAfT81XrrZZEBkO99PjdNkQMuhRbbz2WRAMzMzMzP7ZECYbhKDwPpkQNV46SYxGGVArkfhehQaZUBMN4lBYB1lQEoMAiuHEmVAYhBYObQAZUAMAiuHFvFkQJZDi2znD2VAsHJoke0EZUCHFtnO9/tkQIXrUbgeBWVA2c73U+PdZEBYObTIduJkQPp+arx0y2RAYhBYObTIZEApXI/C9dBkQMP1KFyP1mRA9ihcj8LNZEDufD81XtpkQKwcWmQ7r2RAi2zn+6mhZED6fmq8dLtkQIcW2c73u2RAhxbZzveTZEA=",
          "dtype": "f8"
         },
         "decreasing": {
          "fillcolor": "#CC2E3C",
          "line": {
           "color": "#FF3A4C"
          }
         },
         "high": {
          "bdata": "VOOlm8QgZUAQWDm0yBJlQBfZzvdTB2VArBxaZDsHZUD2KFyPwuVkQLbz/dR4wWRAukkMAiu7ZEAEVg4tsr1kQEa28/3UyGRAXrpJDALHZEA/NV66ScRkQBSuR+F6zGRAgZVDi2zfZEACK4cW2dZkQHe+nxov3WRAXI/C9SgIZUCNl24SgwhlQHE9CtejGGVAUI2XbhIjZUC0yHa+nyJlQOOlm8QgIGVAvp8aL90UZUD0/dR46QJlQGiR7Xw/FWVA8tJNYhAQZUC6SQwCKwdlQEjhehSuB2VAWDm0yHYKZUBCYOXQIutkQIcW2c7342RAc2iR7XzPZEBcj8L1KNRkQDeJQWDl2GRAcT0K16PYZEB56SYxCPBkQFCNl24S42RAvHSTGAS+ZEAfhetRuMJkQAisHFpkw2RAO99PjZe+ZEA=",
          "dtype": "f8"
         },
         "increasing": {
          "fillcolor": "#24A06B",
          "line": {
           "color": "#2EC886"
          }
         },
         "line": {
          "width": 1
         },
         "low": {
          "bdata": "/Knx0k0KZUDHSzeJQfxkQNV46SYx/GRAZmZmZmbWZEC4HoXrUbRkQNejcD0Ko2RAPzVeukmsZECiRbbz/aRkQM/3U+Olr2RA001iEFitZEBcj8L1KKRkQPYoXI/CsWRAGQRWDi3GZEDb+X5qvMBkQFg5tMh20mRA0SLb+X7SZEAAAAAAAPRkQESLbOf78WRA2c73U+MVZUBmZmZmZhZlQGIQWDm0EGVAPQrXo3D1ZEBg5dAi2+lkQESLbOf76WRA1XjpJjH4ZEAMAiuHFvVkQFK4HoXr+WRAi2zn+6nZZEAUrkfhetBkQLByaJHtyGRA16NwPQq/ZEA9CtejcMVkQLTIdr6fymRAgZVDi2zLZEAv3SQGgc1kQKabxCCwpmRAXI/C9SiMZECamZmZmZ1kQM3MzMzMrGRAz/dT46WPZEA=",
          "dtype": "f8"
         },
         "opacity": 1,
         "open": {
          "bdata": "ke18PzUSZUBg5dAi2w1lQBSuR+F6/GRAPzVeukkEZUB/arx0k9hkQFg5tMh2tmRAKVyPwvW4ZEBGtvP91KxkQOOlm8QguGRAVg4tsp3DZEA3iUFg5bhkQPp+arx0u2RACKwcWmTHZECamZmZmc1kQFYOLbKd02RAy6FFtvPZZEAzMzMzM/tkQBBYObTI+mRA1XjpJjEYZUBzaJHtfBtlQEw3iUFgHWVAtMh2vp8SZUBU46WbxABlQKJFtvP98GRAeekmMQgQZUCTGARWDgVlQPp+arx0+2RAaJHtfD8FZUDn+6nx0t1kQGZmZmZm4mRA+n5qvHTLZEDjpZvEIMxkQJMYBFYO0WRAO99PjZfWZED2KFyPws1kQHsUrkfh2mRAukkMAiuvZEDJdr6fGqNkQPp+arx0u2RApHA9Cte7ZEA=",
          "dtype": "f8"
         },
         "type": "candlestick",
         "x": [
          "s22-11-02 17:00",
          "s22-11-02 21:00",
          "s22-11-03 01:00",
          "s22-11-03 05:00",
          "s22-11-03 09:00",
          "s22-11-03 13:00",
          "s22-11-03 17:00",
          "s22-11-03 21:00",
          "s22-11-04 01:00",
          "s22-11-04 05:00",
          "s22-11-04 09:00",
          "s22-11-04 13:00",
          "s22-11-04 17:00",
          "s22-11-06 22:00",
          "s22-11-07 02:00",
          "s22-11-07 06:00",
          "s22-11-07 10:00",
          "s22-11-07 14:00",
          "s22-11-07 18:00",
          "s22-11-07 22:00",
          "s22-11-08 02:00",
          "s22-11-08 06:00",
          "s22-11-08 10:00",
          "s22-11-08 14:00",
          "s22-11-08 18:00",
          "s22-11-08 22:00",
          "s22-11-09 02:00",
          "s22-11-09 06:00",
          "s22-11-09 10:00",
          "s22-11-09 14:00",
          "s22-11-09 18:00",
          "s22-11-09 22:00",
          "s22-11-10 02:00",
          "s22-11-10 06:00",
          "s22-11-10 10:00",
          "s22-11-10 14:00",
          "s22-11-10 18:00",
          "s22-11-10 22:00",
          "s22-11-11 02:00",
          "s22-11-11 06:00"
         ]
        },
        {
         "line": {
          "shape": "spline",
          "width": 2
         },
         "name": "MA_50",
         "type": "scatter",
         "x": [
          "s22-11-02 17:00",
          "s22-11-02 21:00",
          "s22-11-03 01:00",
          "s22-11-03 05:00",
          "s22-11-03 09:00",
          "s22-11-03 13:00",
          "s22-11-03 17:00",
          "s22-11-03 21:00",
          "s22-11-04 01:00",
          "s22-11-04 05:00",
          "s22-11-04 09:00",
          "s22-11-04 13:00",
          "s22-11-04 17:00",
          "s22-11-06 22:00",
          "s22-11-07 02:00",
          "s22-11-07 06:00",
          "s22-11-07 10:00",
          "s22-11-07 14:00",
          "s22-11-07 18:00",
          "s22-11-07 22:00",
          "s22-11-08 02:00",
          "s22-11-08 06:00",
          "s22-11-08 10:00",
          "s22-11-08 14:00",
          "s22-11-08 18:00",
          "s22-11-08 22:00",
          "s22-11-09 02:00",
          "s22-11-09 06:00",
          "s22-11-09 10:00",
          "s22-11-09 14:00",
          "s22-11-09 18:00",
          "s22-11-09 22:00",
          "s22-11-10 02:00",
          "s22-11-10 06:00",
          "s22-11-10 10:00",
          "s22-11-10 14:00",
          "s22-11-10 18:00",
          "s22-11-10 22:00",
          "s22-11-11 02:00",
          "s22-11-11 06:00"
         ],
         "xaxis": "x",
         "y": {
          "bdata": "d6G5TiMzZUDmkT8YeDRlQKEQAYdQNWVA9EpZhjg0ZUBy/iYUIjJlQGhhTzv8L2VAUn5S7dMtZUBqh78mayxlQLYos0EmK2VA8wLso1MpZUAO1v85zCdlQHy45LhTJmVARdPZyeAkZUAtJjYf1yJlQPs/h/nyIGVAvTrHgOwfZUA4+MJkqh5lQCS05VyKHWVASWO0jqocZUAu/yH99htlQLN224XmGmVA9ihcj8IZZUD/PuPCgRhlQMCy0qQUGGVAYRVvZB4XZUDb9Gc/UhZlQDybVZ+rFWVAFsYWghwUZUBjEFg5tBJlQK0SLA5nEGVAj6omiLoNZUCp2QOtwAplQPJBz2bVB2VAahMn9zsEZUATYcPTKwFlQEyOO6WD/WRAtkqwOJz5ZEB0B7EzhfZkQIHPDyOE82RASKeufJbvZEA=",
          "dtype": "f8"
         },
         "yaxis": "y"
        },
        {
         "line": {
          "shape": "spline",
          "width": 2
         },
         "name": "MA_200",
         "type": "scatter",
         "x": [
          "s22-11-02 17:00",
          "s22-11-02 21:00",
          "s22-11-03 01:00",
          "s22-11-03 05:00",
          "s22-11-03 09:00",
          "s22-11-03 13:00",
          "s22-11-03 17:00",
          "s22-11-03 21:00",
          "s22-11-04 01:00",
          "s22-11-04 05:00",
          "s22-11-04 09:00",
          "s22-11-04 13:00",
          "s22-11-04 17:00",
          "s22-11-06 22:00",
          "s22-11-07 02:00",
          "s22-11-07 06:00",
          "s22-11-07 10:00",
          "s22-11-07 14:00",
          "s22-11-07 18:00",
          "s22-11-07 22:00",
          "s22-11-08 02:00",
          "s22-11-08 06:00",
          "s22-11-08 10:00",
          "s22-11-08 14:00",
          "s22-11-08 18:00",
          "s22-11-08 22:00",
          "s22-11-09 02:00",
          "s22-11-09 06:00",
          "s22-11-09 10:00",
          "s22-11-09 14:00",
          "s22-11-09 18:00",
          "s22-11-09 22:00",
          "s22-11-10 02:00",
          "s22-11-10 06:00",
          "s22-11-10 10:00",
          "s22-11-10 14:00",
          "s22-11-10 18:00",
          "s22-11-10 22:00",
          "s22-11-11 02:00",
          "s22-11-11 06:00"
         ],
         "xaxis": "x",
         "y": {
          "bdata": "9ihcj0KKZECKk/sdCotkQMnIWdjTi2RAdLD+z2GMZECoV8oyxIxkQG7YtigzjWRAY7ml1ZCNZEBATS1b641kQMHFihpMjmRANlmjHqKOZECGFtnO945kQLZ/ZaVJj2RAbNRDNLqPZECygAncOpBkQF2Kq8q+kGRAYB+dunKRZEDysFBrGpJkQAaBlUMLk2RAD6/rF+yTZEAshxbZzpRkQBO4dTfPlWRApDZxcr+WZEAdcjPcgJdkQOSghJm2mGRAZVjFGxmaZEAIclDCTJtkQIhQpWaPnGRAk5GzsKedZEB31m670J5kQBvYKsHin2RAjswjfzChZEBvzojS3qJkQHReY5eopGRAKSLDKl6nZEC6g9iZwqlkQAOCOXp8q2RA9iNFZNisZECDhv4Jrq5kQAQEc/R4sGRA7dgIxOuxZEA=",
          "dtype": "f8"
         },
         "yaxis": "y"
        }
       ],
       "layout": {
        "font": {
         "color": "#e1e1e1",
         "size": 8
        },
        "height": 400,
        "margin": {
         "b": 10,
         "l": 10,
         "r": 10,
         "t": 10
        },
        "paper_bgcolor": "#2c303c",
        "plot_bgcolor": "#2c303c",
        "template": {
         "data": {
          "bar": [
           {
            "error_x": {
             "color": "#2a3f5f"
            },
            "error_y": {
             "color": "#2a3f5f"
            },
            "marker": {
             "line": {
              "color": "#E5ECF6",
              "width": 0.5
             },
             "pattern": {
              "fillmode": "overlay",
              "size": 10,
              "solidity": 0.2
             }
            },
            "type": "bar"
           }
          ],
          "barpolar": [
           {
            "marker": {
             "line": {
              "color": "#E5ECF6",
              "width": 0.5
             },
             "pattern": {
              "fillmode": "overlay",
              "size": 10,
              "solidity": 0.2
             }
            },
            "type": "barpolar"
           }
          ],
          "carpet": [
           {
            "aaxis": {
             "endlinecolor": "#2a3f5f",
             "gridcolor": "white",
             "linecolor": "white",
             "minorgridcolor": "white",
             "startlinecolor": "#2a3f5f"
            },
            "baxis": {
             "endlinecolor": "#2a3f5f",
             "gridcolor": "white",
             "linecolor": "white",
             "minorgridcolor": "white",
             "startlinecolor": "#2a3f5f"
            },
            "type": "carpet"
           }
          ],
          "choropleth": [
           {
            "colorbar": {
             "outlinewidth": 0,
             "ticks": ""
            },
            "type": "choropleth"
           }
          ],
          "contour": [
           {
            "colorbar": {
             "outlinewidth": 0,
             "ticks": ""
            },
            "colorscale": [
             [
              0,
              "#0d0887"
             ],
             [
              0.1111111111111111,
              "#46039f"
             ],
             [
              0.2222222222222222,
              "#7201a8"
             ],
             [
              0.3333333333333333,
              "#9c179e"
             ],
             [
              0.4444444444444444,
              "#bd3786"
             ],
             [
              0.5555555555555556,
              "#d8576b"
             ],
             [
              0.6666666666666666,
              "#ed7953"
             ],
             [
              0.7777777777777778,
              "#fb9f3a"
             ],
             [
              0.8888888888888888,
              "#fdca26"
             ],
             [
              1,
              "#f0f921"
             ]
            ],
            "type": "contour"
           }
          ],
          "contourcarpet": [
           {
            "colorbar": {
             "outlinewidth": 0,
             "ticks": ""
            },
            "type": "contourcarpet"
           }
          ],
          "heatmap": [
           {
            "colorbar": {
             "outlinewidth": 0,
             "ticks": ""
            },
            "colorscale": [
             [
              0,
              "#0d0887"
             ],
             [
              0.1111111111111111,
              "#46039f"
             ],
             [
              0.2222222222222222,
              "#7201a8"
             ],
             [
              0.3333333333333333,
              "#9c179e"
             ],
             [
              0.4444444444444444,
              "#bd3786"
             ],
             [
              0.5555555555555556,
              "#d8576b"
             ],
             [
              0.6666666666666666,
              "#ed7953"
             ],
             [
              0.7777777777777778,
              "#fb9f3a"
             ],
             [
              0.8888888888888888,
              "#fdca26"
             ],
             [
              1,
              "#f0f921"
             ]
            ],
            "type": "heatmap"
           }
          ],
          "histogram": [
           {
            "marker": {
             "pattern": {
              "fillmode": "overlay",
              "size": 10,
              "solidity": 0.2
             }
            },
            "type": "histogram"
           }
          ],
          "histogram2d": [
           {
            "colorbar": {
             "outlinewidth": 0,
             "ticks": ""
            },
            "colorscale": [
             [
              0,
              "#0d0887"
             ],
             [
              0.1111111111111111,
              "#46039f"
             ],
             [
              0.2222222222222222,
              "#7201a8"
             ],
             [
              0.3333333333333333,
              "#9c179e"
             ],
             [
              0.4444444444444444,
              "#bd3786"
             ],
             [
              0.5555555555555556,
              "#d8576b"
             ],
             [
              0.6666666666666666,
              "#ed7953"
             ],
             [
              0.7777777777777778,
              "#fb9f3a"
             ],
             [
              0.8888888888888888,
              "#fdca26"
             ],
             [
              1,
              "#f0f921"
             ]
            ],
            "type": "histogram2d"
           }
          ],
          "histogram2dcontour": [
           {
            "colorbar": {
             "outlinewidth": 0,
             "ticks": ""
            },
            "colorscale": [
             [
              0,
              "#0d0887"
             ],
             [
              0.1111111111111111,
              "#46039f"
             ],
             [
              0.2222222222222222,
              "#7201a8"
             ],
             [
              0.3333333333333333,
              "#9c179e"
             ],
             [
              0.4444444444444444,
              "#bd3786"
             ],
             [
              0.5555555555555556,
              "#d8576b"
             ],
             [
              0.6666666666666666,
              "#ed7953"
             ],
             [
              0.7777777777777778,
              "#fb9f3a"
             ],
             [
              0.8888888888888888,
              "#fdca26"
             ],
             [
              1,
              "#f0f921"
             ]
            ],
            "type": "histogram2dcontour"
           }
          ],
          "mesh3d": [
           {
            "colorbar": {
             "outlinewidth": 0,
             "ticks": ""
            },
            "type": "mesh3d"
           }
          ],
          "parcoords": [
           {
            "line": {
             "colorbar": {
              "outlinewidth": 0,
              "ticks": ""
             }
            },
            "type": "parcoords"
           }
          ],
          "pie": [
           {
            "automargin": true,
            "type": "pie"
           }
          ],
          "scatter": [
           {
            "fillpattern": {
             "fillmode": "overlay",
             "size": 10,
             "solidity": 0.2
            },
            "type": "scatter"
           }
          ],
          "scatter3d": [
           {
            "line": {
             "colorbar": {
              "outlinewidth": 0,
              "ticks": ""
             }
            },
            "marker": {
             "colorbar": {
              "outlinewidth": 0,
              "ticks": ""
             }
            },
            "type": "scatter3d"
           }
          ],
          "scattercarpet": [
           {
            "marker": {
             "colorbar": {
              "outlinewidth": 0,
              "ticks": ""
             }
            },
            "type": "scattercarpet"
           }
          ],
          "scattergeo": [
           {
            "marker": {
             "colorbar": {
              "outlinewidth": 0,
              "ticks": ""
             }
            },
            "type": "scattergeo"
           }
          ],
          "scattergl": [
           {
            "marker": {
             "colorbar": {
              "outlinewidth": 0,
              "ticks": ""
             }
            },
            "type": "scattergl"
           }
          ],
          "scattermap": [
           {
            "marker": {
             "colorbar": {
              "outlinewidth": 0,
              "ticks": ""
             }
            },
            "type": "scattermap"
           }
          ],
          "scattermapbox": [
           {
            "marker": {
             "colorbar": {
              "outlinewidth": 0,
              "ticks": ""
             }
            },
            "type": "scattermapbox"
           }
          ],
          "scatterpolar": [
           {
            "marker": {
             "colorbar": {
              "outlinewidth": 0,
              "ticks": ""
             }
            },
            "type": "scatterpolar"
           }
          ],
          "scatterpolargl": [
           {
            "marker": {
             "colorbar": {
              "outlinewidth": 0,
              "ticks": ""
             }
            },
            "type": "scatterpolargl"
           }
          ],
          "scatterternary": [
           {
            "marker": {
             "colorbar": {
              "outlinewidth": 0,
              "ticks": ""
             }
            },
            "type": "scatterternary"
           }
          ],
          "surface": [
           {
            "colorbar": {
             "outlinewidth": 0,
             "ticks": ""
            },
            "colorscale": [
             [
              0,
              "#0d0887"
             ],
             [
              0.1111111111111111,
              "#46039f"
             ],
             [
              0.2222222222222222,
              "#7201a8"
             ],
             [
              0.3333333333333333,
              "#9c179e"
             ],
             [
              0.4444444444444444,
              "#bd3786"
             ],
             [
              0.5555555555555556,
              "#d8576b"
             ],
             [
              0.6666666666666666,
              "#ed7953"
             ],
             [
              0.7777777777777778,
              "#fb9f3a"
             ],
             [
              0.8888888888888888,
              "#fdca26"
             ],
             [
              1,
              "#f0f921"
             ]
            ],
            "type": "surface"
           }
          ],
          "table": [
           {
            "cells": {
             "fill": {
              "color": "#EBF0F8"
             },
             "line": {
              "color": "white"
             }
            },
            "header": {
             "fill": {
              "color": "#C8D4E3"
             },
             "line": {
              "color": "white"
             }
            },
            "type": "table"
           }
          ]
         },
         "layout": {
          "annotationdefaults": {
           "arrowcolor": "#2a3f5f",
           "arrowhead": 0,
           "arrowwidth": 1
          },
          "autotypenumbers": "strict",
          "coloraxis": {
           "colorbar": {
            "outlinewidth": 0,
            "ticks": ""
           }
          },
          "colorscale": {
           "diverging": [
            [
             0,
             "#8e0152"
            ],
            [
             0.1,
             "#c51b7d"
            ],
            [
             0.2,
             "#de77ae"
            ],
            [
             0.3,
             "#f1b6da"
            ],
            [
             0.4,
             "#fde0ef"
            ],
            [
             0.5,
             "#f7f7f7"
            ],
            [
             0.6,
             "#e6f5d0"
            ],
            [
             0.7,
             "#b8e186"
            ],
            [
             0.8,
             "#7fbc41"
            ],
            [
             0.9,
             "#4d9221"
            ],
            [
             1,
             "#276419"
            ]
           ],
           "sequential": [
            [
             0,
             "#0d0887"
            ],
            [
             0.1111111111111111,
             "#46039f"
            ],
            [
             0.2222222222222222,
             "#7201a8"
            ],
            [
             0.3333333333333333,
             "#9c179e"
            ],
            [
             0.4444444444444444,
             "#bd3786"
            ],
            [
             0.5555555555555556,
             "#d8576b"
            ],
            [
             0.6666666666666666,
             "#ed7953"
            ],
            [
             0.7777777777777778,
             "#fb9f3a"
            ],
            [
             0.8888888888888888,
             "#fdca26"
            ],
            [
             1,
             "#f0f921"
            ]
           ],
           "sequentialminus": [
            [
             0,
             "#0d0887"
            ],
            [
             0.1111111111111111,
             "#46039f"
            ],
            [
             0.2222222222222222,
             "#7201a8"
            ],
            [
             0.3333333333333333,
             "#9c179e"
            ],
            [
             0.4444444444444444,
             "#bd3786"
            ],
            [
             0.5555555555555556,
             "#d8576b"
            ],
            [
             0.6666666666666666,
             "#ed7953"
            ],
            [
             0.7777777777777778,
             "#fb9f3a"
            ],
            [
             0.8888888888888888,
             "#fdca26"
            ],
            [
             1,
             "#f0f921"
            ]
           ]
          },
          "colorway": [
           "#636efa",
           "#EF553B",
           "#00cc96",
           "#ab63fa",
           "#FFA15A",
           "#19d3f3",
           "#FF6692",
           "#B6E880",
           "#FF97FF",
           "#FECB52"
          ],
          "font": {
           "color": "#2a3f5f"
          },
          "geo": {
           "bgcolor": "white",
           "lakecolor": "white",
           "landcolor": "#E5ECF6",
           "showlakes": true,
           "showland": true,
           "subunitcolor": "white"
          },
          "hoverlabel": {
           "align": "left"
          },
          "hovermode": "closest",
          "mapbox": {
           "style": "light"
          },
          "paper_bgcolor": "white",
          "plot_bgcolor": "#E5ECF6",
          "polar": {
           "angularaxis": {
            "gridcolor": "white",
            "linecolor": "white",
            "ticks": ""
           },
           "bgcolor": "#E5ECF6",
           "radialaxis": {
            "gridcolor": "white",
            "linecolor": "white",
            "ticks": ""
           }
          },
          "scene": {
           "xaxis": {
            "backgroundcolor": "#E5ECF6",
            "gridcolor": "white",
            "gridwidth": 2,
            "linecolor": "white",
            "showbackground": true,
            "ticks": "",
            "zerolinecolor": "white"
           },
           "yaxis": {
            "backgroundcolor": "#E5ECF6",
            "gridcolor": "white",
            "gridwidth": 2,
            "linecolor": "white",
            "showbackground": true,
            "ticks": "",
            "zerolinecolor": "white"
           },
           "zaxis": {
            "backgroundcolor": "#E5ECF6",
            "gridcolor": "white",
            "gridwidth": 2,
            "linecolor": "white",
            "showbackground": true,
            "ticks": "",
            "zerolinecolor": "white"
           }
          },
          "shapedefaults": {
           "line": {
            "color": "#2a3f5f"
           }
          },
          "ternary": {
           "aaxis": {
            "gridcolor": "white",
            "linecolor": "white",
            "ticks": ""
           },
           "baxis": {
            "gridcolor": "white",
            "linecolor": "white",
            "ticks": ""
           },
           "bgcolor": "#E5ECF6",
           "caxis": {
            "gridcolor": "white",
            "linecolor": "white",
            "ticks": ""
           }
          },
          "title": {
           "x": 0.05
          },
          "xaxis": {
           "automargin": true,
           "gridcolor": "white",
           "linecolor": "white",
           "ticks": "",
           "title": {
            "standoff": 15
           },
           "zerolinecolor": "white",
           "zerolinewidth": 2
          },
          "yaxis": {
           "automargin": true,
           "gridcolor": "white",
           "linecolor": "white",
           "ticks": "",
           "title": {
            "standoff": 15
           },
           "zerolinecolor": "white",
           "zerolinewidth": 2
          }
         }
        },
        "width": 900,
        "xaxis": {
         "anchor": "y",
         "domain": [
          0,
          0.94
         ],
         "gridcolor": "#1f292f",
         "nticks": 5,
         "rangeslider": {
          "visible": false
         }
        },
        "yaxis": {
         "anchor": "x",
         "domain": [
          0,
          1
         ],
         "gridcolor": "#1f292f"
        },
        "yaxis2": {
         "anchor": "x",
         "gridcolor": "#1f292f",
         "overlaying": "y",
         "side": "right"
        }
       }
      }
     },
     "metadata": {},
     "output_type": "display_data"
    }
   ],
   "source": [
    "cp = CandlePlot(df_an.iloc[220:260])\n",
    "cp.show_plot(line_traces=[MA_S, MA_L])"
   ]
  },
  {
   "cell_type": "code",
   "execution_count": 50,
   "id": "a3d019ff",
   "metadata": {},
   "outputs": [],
   "source": [
    "ic.LoadInstruments(\"../data\")"
   ]
  },
  {
   "cell_type": "code",
   "execution_count": 51,
   "id": "9348690c",
   "metadata": {},
   "outputs": [
    {
     "data": {
      "text/plain": [
       "{'name': 'GBP_JPY', 'ins_type': 'CURRENCY', 'displayName': 'GBP/JPY', 'pipLocation': 0.01, 'tradeUnitsPrecision': 0, 'marginRate': 0.05}"
      ]
     },
     "execution_count": 51,
     "metadata": {},
     "output_type": "execute_result"
    }
   ],
   "source": [
    "ic.instruments_dict[pair]"
   ]
  },
  {
   "cell_type": "code",
   "execution_count": 52,
   "id": "62f27766",
   "metadata": {},
   "outputs": [],
   "source": [
    "ins_data = ic.instruments_dict[pair]"
   ]
  },
  {
   "cell_type": "code",
   "execution_count": 25,
   "id": "f998eb8b",
   "metadata": {},
   "outputs": [
    {
     "data": {
      "text/plain": [
       "(22, 10)"
      ]
     },
     "execution_count": 25,
     "metadata": {},
     "output_type": "execute_result"
    }
   ],
   "source": [
    "df_trades.shape"
   ]
  },
  {
   "cell_type": "code",
   "execution_count": 26,
   "id": "5da185ff",
   "metadata": {},
   "outputs": [],
   "source": [
    "df_trades['DIFF'] = df_trades.mid_c.diff().shift(-1)\n",
    "df_trades.fillna(0, inplace=True)"
   ]
  },
  {
   "cell_type": "code",
   "execution_count": 27,
   "id": "6dd32d74",
   "metadata": {},
   "outputs": [],
   "source": [
    "df_trades['GAIN'] = df_trades['DIFF'] / ins_data.pipLocation\n",
    "df_trades['GAIN'] = df_trades['GAIN'] * df_trades['TRADE'] "
   ]
  },
  {
   "cell_type": "code",
   "execution_count": 28,
   "id": "4e3a69f8",
   "metadata": {},
   "outputs": [
    {
     "data": {
      "text/plain": [
       "np.float64(-2469.0999999999917)"
      ]
     },
     "execution_count": 28,
     "metadata": {},
     "output_type": "execute_result"
    }
   ],
   "source": [
    "df_trades.GAIN.sum()"
   ]
  },
  {
   "cell_type": "code",
   "execution_count": 29,
   "id": "ac5dbabc",
   "metadata": {},
   "outputs": [],
   "source": [
    "df_trades['GAIN_C'] = df_trades['GAIN'].cumsum()"
   ]
  },
  {
   "cell_type": "code",
   "execution_count": 30,
   "id": "7a0ad325",
   "metadata": {},
   "outputs": [
    {
     "data": {
      "application/vnd.plotly.v1+json": {
       "config": {
        "plotlyServerURL": "https://plot.ly"
       },
       "data": [
        {
         "line": {
          "shape": "spline",
          "width": 2
         },
         "name": "GAIN_C",
         "type": "scatter",
         "x": [
          "s22-09-07 21:00",
          "s22-09-25 21:00",
          "s22-10-11 09:00",
          "s22-11-15 22:00",
          "s22-12-14 18:00",
          "s22-12-21 02:00",
          "s23-01-31 06:00",
          "s23-02-08 06:00",
          "s23-02-15 10:00",
          "s23-03-22 21:00",
          "s23-04-04 05:00",
          "s23-07-27 01:00",
          "s23-08-09 09:00",
          "s23-09-15 01:00",
          "s23-10-31 09:00",
          "s23-12-11 02:00",
          "s24-01-12 10:00",
          "s24-07-25 01:00",
          "s24-09-26 01:00",
          "s24-11-21 22:00",
          "s24-12-19 18:00",
          "s25-01-16 02:00"
         ],
         "xaxis": "x",
         "y": {
          "bdata": "X2ZmZmbqmcDFzMzMzFamwCwzMzMzOaPAyMzMzMx5pcCYmZmZmV2rwGlmZmZmRavANTMzMzM/rcCYmZmZmVivwGJmZmZmU6/A/f////+TscArMzMzM+qmwI2ZmZmZv6fAv8zMzMw4p8CLmZmZmXanwFhmZmZmNqjA9v/////eqcD2/////3igwE1mZmZmKpvAsszMzMwImcCvzMzMzNqcwCIzMzMzSqPAIjMzMzNKo8A=",
          "dtype": "f8"
         },
         "yaxis": "y"
        }
       ],
       "layout": {
        "font": {
         "color": "#e1e1e1",
         "size": 8
        },
        "height": 400,
        "margin": {
         "b": 10,
         "l": 10,
         "r": 10,
         "t": 10
        },
        "paper_bgcolor": "#2c303c",
        "plot_bgcolor": "#2c303c",
        "template": {
         "data": {
          "bar": [
           {
            "error_x": {
             "color": "#2a3f5f"
            },
            "error_y": {
             "color": "#2a3f5f"
            },
            "marker": {
             "line": {
              "color": "#E5ECF6",
              "width": 0.5
             },
             "pattern": {
              "fillmode": "overlay",
              "size": 10,
              "solidity": 0.2
             }
            },
            "type": "bar"
           }
          ],
          "barpolar": [
           {
            "marker": {
             "line": {
              "color": "#E5ECF6",
              "width": 0.5
             },
             "pattern": {
              "fillmode": "overlay",
              "size": 10,
              "solidity": 0.2
             }
            },
            "type": "barpolar"
           }
          ],
          "carpet": [
           {
            "aaxis": {
             "endlinecolor": "#2a3f5f",
             "gridcolor": "white",
             "linecolor": "white",
             "minorgridcolor": "white",
             "startlinecolor": "#2a3f5f"
            },
            "baxis": {
             "endlinecolor": "#2a3f5f",
             "gridcolor": "white",
             "linecolor": "white",
             "minorgridcolor": "white",
             "startlinecolor": "#2a3f5f"
            },
            "type": "carpet"
           }
          ],
          "choropleth": [
           {
            "colorbar": {
             "outlinewidth": 0,
             "ticks": ""
            },
            "type": "choropleth"
           }
          ],
          "contour": [
           {
            "colorbar": {
             "outlinewidth": 0,
             "ticks": ""
            },
            "colorscale": [
             [
              0,
              "#0d0887"
             ],
             [
              0.1111111111111111,
              "#46039f"
             ],
             [
              0.2222222222222222,
              "#7201a8"
             ],
             [
              0.3333333333333333,
              "#9c179e"
             ],
             [
              0.4444444444444444,
              "#bd3786"
             ],
             [
              0.5555555555555556,
              "#d8576b"
             ],
             [
              0.6666666666666666,
              "#ed7953"
             ],
             [
              0.7777777777777778,
              "#fb9f3a"
             ],
             [
              0.8888888888888888,
              "#fdca26"
             ],
             [
              1,
              "#f0f921"
             ]
            ],
            "type": "contour"
           }
          ],
          "contourcarpet": [
           {
            "colorbar": {
             "outlinewidth": 0,
             "ticks": ""
            },
            "type": "contourcarpet"
           }
          ],
          "heatmap": [
           {
            "colorbar": {
             "outlinewidth": 0,
             "ticks": ""
            },
            "colorscale": [
             [
              0,
              "#0d0887"
             ],
             [
              0.1111111111111111,
              "#46039f"
             ],
             [
              0.2222222222222222,
              "#7201a8"
             ],
             [
              0.3333333333333333,
              "#9c179e"
             ],
             [
              0.4444444444444444,
              "#bd3786"
             ],
             [
              0.5555555555555556,
              "#d8576b"
             ],
             [
              0.6666666666666666,
              "#ed7953"
             ],
             [
              0.7777777777777778,
              "#fb9f3a"
             ],
             [
              0.8888888888888888,
              "#fdca26"
             ],
             [
              1,
              "#f0f921"
             ]
            ],
            "type": "heatmap"
           }
          ],
          "histogram": [
           {
            "marker": {
             "pattern": {
              "fillmode": "overlay",
              "size": 10,
              "solidity": 0.2
             }
            },
            "type": "histogram"
           }
          ],
          "histogram2d": [
           {
            "colorbar": {
             "outlinewidth": 0,
             "ticks": ""
            },
            "colorscale": [
             [
              0,
              "#0d0887"
             ],
             [
              0.1111111111111111,
              "#46039f"
             ],
             [
              0.2222222222222222,
              "#7201a8"
             ],
             [
              0.3333333333333333,
              "#9c179e"
             ],
             [
              0.4444444444444444,
              "#bd3786"
             ],
             [
              0.5555555555555556,
              "#d8576b"
             ],
             [
              0.6666666666666666,
              "#ed7953"
             ],
             [
              0.7777777777777778,
              "#fb9f3a"
             ],
             [
              0.8888888888888888,
              "#fdca26"
             ],
             [
              1,
              "#f0f921"
             ]
            ],
            "type": "histogram2d"
           }
          ],
          "histogram2dcontour": [
           {
            "colorbar": {
             "outlinewidth": 0,
             "ticks": ""
            },
            "colorscale": [
             [
              0,
              "#0d0887"
             ],
             [
              0.1111111111111111,
              "#46039f"
             ],
             [
              0.2222222222222222,
              "#7201a8"
             ],
             [
              0.3333333333333333,
              "#9c179e"
             ],
             [
              0.4444444444444444,
              "#bd3786"
             ],
             [
              0.5555555555555556,
              "#d8576b"
             ],
             [
              0.6666666666666666,
              "#ed7953"
             ],
             [
              0.7777777777777778,
              "#fb9f3a"
             ],
             [
              0.8888888888888888,
              "#fdca26"
             ],
             [
              1,
              "#f0f921"
             ]
            ],
            "type": "histogram2dcontour"
           }
          ],
          "mesh3d": [
           {
            "colorbar": {
             "outlinewidth": 0,
             "ticks": ""
            },
            "type": "mesh3d"
           }
          ],
          "parcoords": [
           {
            "line": {
             "colorbar": {
              "outlinewidth": 0,
              "ticks": ""
             }
            },
            "type": "parcoords"
           }
          ],
          "pie": [
           {
            "automargin": true,
            "type": "pie"
           }
          ],
          "scatter": [
           {
            "fillpattern": {
             "fillmode": "overlay",
             "size": 10,
             "solidity": 0.2
            },
            "type": "scatter"
           }
          ],
          "scatter3d": [
           {
            "line": {
             "colorbar": {
              "outlinewidth": 0,
              "ticks": ""
             }
            },
            "marker": {
             "colorbar": {
              "outlinewidth": 0,
              "ticks": ""
             }
            },
            "type": "scatter3d"
           }
          ],
          "scattercarpet": [
           {
            "marker": {
             "colorbar": {
              "outlinewidth": 0,
              "ticks": ""
             }
            },
            "type": "scattercarpet"
           }
          ],
          "scattergeo": [
           {
            "marker": {
             "colorbar": {
              "outlinewidth": 0,
              "ticks": ""
             }
            },
            "type": "scattergeo"
           }
          ],
          "scattergl": [
           {
            "marker": {
             "colorbar": {
              "outlinewidth": 0,
              "ticks": ""
             }
            },
            "type": "scattergl"
           }
          ],
          "scattermap": [
           {
            "marker": {
             "colorbar": {
              "outlinewidth": 0,
              "ticks": ""
             }
            },
            "type": "scattermap"
           }
          ],
          "scattermapbox": [
           {
            "marker": {
             "colorbar": {
              "outlinewidth": 0,
              "ticks": ""
             }
            },
            "type": "scattermapbox"
           }
          ],
          "scatterpolar": [
           {
            "marker": {
             "colorbar": {
              "outlinewidth": 0,
              "ticks": ""
             }
            },
            "type": "scatterpolar"
           }
          ],
          "scatterpolargl": [
           {
            "marker": {
             "colorbar": {
              "outlinewidth": 0,
              "ticks": ""
             }
            },
            "type": "scatterpolargl"
           }
          ],
          "scatterternary": [
           {
            "marker": {
             "colorbar": {
              "outlinewidth": 0,
              "ticks": ""
             }
            },
            "type": "scatterternary"
           }
          ],
          "surface": [
           {
            "colorbar": {
             "outlinewidth": 0,
             "ticks": ""
            },
            "colorscale": [
             [
              0,
              "#0d0887"
             ],
             [
              0.1111111111111111,
              "#46039f"
             ],
             [
              0.2222222222222222,
              "#7201a8"
             ],
             [
              0.3333333333333333,
              "#9c179e"
             ],
             [
              0.4444444444444444,
              "#bd3786"
             ],
             [
              0.5555555555555556,
              "#d8576b"
             ],
             [
              0.6666666666666666,
              "#ed7953"
             ],
             [
              0.7777777777777778,
              "#fb9f3a"
             ],
             [
              0.8888888888888888,
              "#fdca26"
             ],
             [
              1,
              "#f0f921"
             ]
            ],
            "type": "surface"
           }
          ],
          "table": [
           {
            "cells": {
             "fill": {
              "color": "#EBF0F8"
             },
             "line": {
              "color": "white"
             }
            },
            "header": {
             "fill": {
              "color": "#C8D4E3"
             },
             "line": {
              "color": "white"
             }
            },
            "type": "table"
           }
          ]
         },
         "layout": {
          "annotationdefaults": {
           "arrowcolor": "#2a3f5f",
           "arrowhead": 0,
           "arrowwidth": 1
          },
          "autotypenumbers": "strict",
          "coloraxis": {
           "colorbar": {
            "outlinewidth": 0,
            "ticks": ""
           }
          },
          "colorscale": {
           "diverging": [
            [
             0,
             "#8e0152"
            ],
            [
             0.1,
             "#c51b7d"
            ],
            [
             0.2,
             "#de77ae"
            ],
            [
             0.3,
             "#f1b6da"
            ],
            [
             0.4,
             "#fde0ef"
            ],
            [
             0.5,
             "#f7f7f7"
            ],
            [
             0.6,
             "#e6f5d0"
            ],
            [
             0.7,
             "#b8e186"
            ],
            [
             0.8,
             "#7fbc41"
            ],
            [
             0.9,
             "#4d9221"
            ],
            [
             1,
             "#276419"
            ]
           ],
           "sequential": [
            [
             0,
             "#0d0887"
            ],
            [
             0.1111111111111111,
             "#46039f"
            ],
            [
             0.2222222222222222,
             "#7201a8"
            ],
            [
             0.3333333333333333,
             "#9c179e"
            ],
            [
             0.4444444444444444,
             "#bd3786"
            ],
            [
             0.5555555555555556,
             "#d8576b"
            ],
            [
             0.6666666666666666,
             "#ed7953"
            ],
            [
             0.7777777777777778,
             "#fb9f3a"
            ],
            [
             0.8888888888888888,
             "#fdca26"
            ],
            [
             1,
             "#f0f921"
            ]
           ],
           "sequentialminus": [
            [
             0,
             "#0d0887"
            ],
            [
             0.1111111111111111,
             "#46039f"
            ],
            [
             0.2222222222222222,
             "#7201a8"
            ],
            [
             0.3333333333333333,
             "#9c179e"
            ],
            [
             0.4444444444444444,
             "#bd3786"
            ],
            [
             0.5555555555555556,
             "#d8576b"
            ],
            [
             0.6666666666666666,
             "#ed7953"
            ],
            [
             0.7777777777777778,
             "#fb9f3a"
            ],
            [
             0.8888888888888888,
             "#fdca26"
            ],
            [
             1,
             "#f0f921"
            ]
           ]
          },
          "colorway": [
           "#636efa",
           "#EF553B",
           "#00cc96",
           "#ab63fa",
           "#FFA15A",
           "#19d3f3",
           "#FF6692",
           "#B6E880",
           "#FF97FF",
           "#FECB52"
          ],
          "font": {
           "color": "#2a3f5f"
          },
          "geo": {
           "bgcolor": "white",
           "lakecolor": "white",
           "landcolor": "#E5ECF6",
           "showlakes": true,
           "showland": true,
           "subunitcolor": "white"
          },
          "hoverlabel": {
           "align": "left"
          },
          "hovermode": "closest",
          "mapbox": {
           "style": "light"
          },
          "paper_bgcolor": "white",
          "plot_bgcolor": "#E5ECF6",
          "polar": {
           "angularaxis": {
            "gridcolor": "white",
            "linecolor": "white",
            "ticks": ""
           },
           "bgcolor": "#E5ECF6",
           "radialaxis": {
            "gridcolor": "white",
            "linecolor": "white",
            "ticks": ""
           }
          },
          "scene": {
           "xaxis": {
            "backgroundcolor": "#E5ECF6",
            "gridcolor": "white",
            "gridwidth": 2,
            "linecolor": "white",
            "showbackground": true,
            "ticks": "",
            "zerolinecolor": "white"
           },
           "yaxis": {
            "backgroundcolor": "#E5ECF6",
            "gridcolor": "white",
            "gridwidth": 2,
            "linecolor": "white",
            "showbackground": true,
            "ticks": "",
            "zerolinecolor": "white"
           },
           "zaxis": {
            "backgroundcolor": "#E5ECF6",
            "gridcolor": "white",
            "gridwidth": 2,
            "linecolor": "white",
            "showbackground": true,
            "ticks": "",
            "zerolinecolor": "white"
           }
          },
          "shapedefaults": {
           "line": {
            "color": "#2a3f5f"
           }
          },
          "ternary": {
           "aaxis": {
            "gridcolor": "white",
            "linecolor": "white",
            "ticks": ""
           },
           "baxis": {
            "gridcolor": "white",
            "linecolor": "white",
            "ticks": ""
           },
           "bgcolor": "#E5ECF6",
           "caxis": {
            "gridcolor": "white",
            "linecolor": "white",
            "ticks": ""
           }
          },
          "title": {
           "x": 0.05
          },
          "xaxis": {
           "automargin": true,
           "gridcolor": "white",
           "linecolor": "white",
           "ticks": "",
           "title": {
            "standoff": 15
           },
           "zerolinecolor": "white",
           "zerolinewidth": 2
          },
          "yaxis": {
           "automargin": true,
           "gridcolor": "white",
           "linecolor": "white",
           "ticks": "",
           "title": {
            "standoff": 15
           },
           "zerolinecolor": "white",
           "zerolinewidth": 2
          }
         }
        },
        "width": 900,
        "xaxis": {
         "anchor": "y",
         "domain": [
          0,
          0.94
         ],
         "gridcolor": "#1f292f",
         "nticks": 5,
         "rangeslider": {
          "visible": false
         }
        },
        "yaxis": {
         "anchor": "x",
         "domain": [
          0,
          1
         ],
         "gridcolor": "#1f292f"
        },
        "yaxis2": {
         "anchor": "x",
         "gridcolor": "#1f292f",
         "overlaying": "y",
         "side": "right"
        }
       }
      }
     },
     "metadata": {},
     "output_type": "display_data"
    }
   ],
   "source": [
    "cp = CandlePlot(df_trades, candles=False)\n",
    "cp.show_plot(line_traces=['GAIN_C'])"
   ]
  },
  {
   "cell_type": "code",
   "execution_count": null,
   "id": "31383e17",
   "metadata": {},
   "outputs": [],
   "source": []
  },
  {
   "cell_type": "code",
   "execution_count": null,
   "id": "e5580b55",
   "metadata": {},
   "outputs": [],
   "source": []
  },
  {
   "cell_type": "code",
   "execution_count": null,
   "id": "88c7d0cb",
   "metadata": {},
   "outputs": [],
   "source": []
  }
 ],
 "metadata": {
  "kernelspec": {
   "display_name": "Python 3 (ipykernel)",
   "language": "python",
   "name": "python3"
  },
  "language_info": {
   "codemirror_mode": {
    "name": "ipython",
    "version": 3
   },
   "file_extension": ".py",
   "mimetype": "text/x-python",
   "name": "python",
   "nbconvert_exporter": "python",
   "pygments_lexer": "ipython3",
   "version": "3.10.1"
  }
 },
 "nbformat": 4,
 "nbformat_minor": 5
}
