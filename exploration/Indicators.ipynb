{
 "cells": [
  {
   "cell_type": "code",
   "execution_count": 1,
   "id": "dae82e64",
   "metadata": {},
   "outputs": [],
   "source": [
    "import sys\n",
    "sys.path.append('../')\n",
    "from plotting import CandlePlot\n",
    "import pandas as pd"
   ]
  },
  {
   "cell_type": "code",
   "execution_count": 3,
   "id": "56cdab80",
   "metadata": {},
   "outputs": [],
   "source": [
    "from technicals.indicators import BollingerBands, ATR, KeltnerChannels, RSI, MACD"
   ]
  },
  {
   "cell_type": "code",
   "execution_count": 4,
   "id": "beef41a3",
   "metadata": {},
   "outputs": [],
   "source": [
    "df = pd.read_pickle(\"../data/AUD_CAD_H1.pkl\")"
   ]
  },
  {
   "cell_type": "code",
   "execution_count": 5,
   "id": "4bf91b0c",
   "metadata": {},
   "outputs": [],
   "source": [
    "df_an = df.copy()"
   ]
  },
  {
   "cell_type": "code",
   "execution_count": 11,
   "id": "a768d934",
   "metadata": {},
   "outputs": [],
   "source": [
    "df_an1 = df.copy()"
   ]
  },
  {
   "cell_type": "code",
   "execution_count": 12,
   "id": "fe336cb4",
   "metadata": {},
   "outputs": [],
   "source": [
    "df_an1 = RSI(df_an)"
   ]
  },
  {
   "cell_type": "code",
   "execution_count": 15,
   "id": "7a02b8b6",
   "metadata": {},
   "outputs": [
    {
     "data": {
      "application/vnd.plotly.v1+json": {
       "config": {
        "plotlyServerURL": "https://plot.ly"
       },
       "data": [
        {
         "close": {
          "bdata": "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",
          "dtype": "f8"
         },
         "decreasing": {
          "fillcolor": "#CC2E3C",
          "line": {
           "color": "#FF3A4C"
          }
         },
         "high": {
          "bdata": "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",
          "dtype": "f8"
         },
         "increasing": {
          "fillcolor": "#24A06B",
          "line": {
           "color": "#2EC886"
          }
         },
         "line": {
          "width": 1
         },
         "low": {
          "bdata": "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",
          "dtype": "f8"
         },
         "opacity": 1,
         "open": {
          "bdata": "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",
          "dtype": "f8"
         },
         "type": "candlestick",
         "x": [
          "s21-12-14 12:00",
          "s21-12-14 13:00",
          "s21-12-14 14:00",
          "s21-12-14 15:00",
          "s21-12-14 16:00",
          "s21-12-14 17:00",
          "s21-12-14 18:00",
          "s21-12-14 19:00",
          "s21-12-14 20:00",
          "s21-12-14 21:00",
          "s21-12-14 22:00",
          "s21-12-14 23:00",
          "s21-12-15 00:00",
          "s21-12-15 01:00",
          "s21-12-15 02:00",
          "s21-12-15 03:00",
          "s21-12-15 04:00",
          "s21-12-15 05:00",
          "s21-12-15 06:00",
          "s21-12-15 07:00",
          "s21-12-15 08:00",
          "s21-12-15 09:00",
          "s21-12-15 10:00",
          "s21-12-15 11:00",
          "s21-12-15 12:00",
          "s21-12-15 13:00",
          "s21-12-15 14:00",
          "s21-12-15 15:00",
          "s21-12-15 16:00",
          "s21-12-15 17:00",
          "s21-12-15 18:00",
          "s21-12-15 19:00",
          "s21-12-15 20:00",
          "s21-12-15 21:00",
          "s21-12-15 22:00",
          "s21-12-15 23:00",
          "s21-12-16 00:00",
          "s21-12-16 01:00",
          "s21-12-16 02:00",
          "s21-12-16 03:00",
          "s21-12-16 04:00",
          "s21-12-16 05:00",
          "s21-12-16 06:00",
          "s21-12-16 07:00",
          "s21-12-16 08:00",
          "s21-12-16 09:00",
          "s21-12-16 10:00",
          "s21-12-16 11:00",
          "s21-12-16 12:00",
          "s21-12-16 13:00",
          "s21-12-16 14:00",
          "s21-12-16 15:00",
          "s21-12-16 16:00",
          "s21-12-16 17:00",
          "s21-12-16 18:00",
          "s21-12-16 19:00",
          "s21-12-16 20:00",
          "s21-12-16 21:00",
          "s21-12-16 22:00",
          "s21-12-16 23:00",
          "s21-12-17 00:00",
          "s21-12-17 01:00",
          "s21-12-17 02:00",
          "s21-12-17 03:00",
          "s21-12-17 04:00",
          "s21-12-17 05:00",
          "s21-12-17 06:00",
          "s21-12-17 07:00",
          "s21-12-17 08:00",
          "s21-12-17 09:00",
          "s21-12-17 10:00",
          "s21-12-17 11:00",
          "s21-12-17 12:00",
          "s21-12-17 13:00",
          "s21-12-17 14:00",
          "s21-12-17 15:00",
          "s21-12-17 16:00",
          "s21-12-17 17:00",
          "s21-12-17 18:00",
          "s21-12-17 19:00",
          "s21-12-17 20:00",
          "s21-12-17 21:00",
          "s21-12-19 22:00",
          "s21-12-19 23:00",
          "s21-12-20 00:00",
          "s21-12-20 01:00",
          "s21-12-20 02:00",
          "s21-12-20 03:00",
          "s21-12-20 04:00",
          "s21-12-20 05:00",
          "s21-12-20 06:00",
          "s21-12-20 07:00",
          "s21-12-20 08:00",
          "s21-12-20 09:00",
          "s21-12-20 10:00",
          "s21-12-20 11:00",
          "s21-12-20 12:00",
          "s21-12-20 13:00",
          "s21-12-20 14:00",
          "s21-12-20 15:00",
          "s21-12-20 16:00",
          "s21-12-20 17:00",
          "s21-12-20 18:00",
          "s21-12-20 19:00",
          "s21-12-20 20:00",
          "s21-12-20 21:00",
          "s21-12-20 22:00",
          "s21-12-20 23:00",
          "s21-12-21 00:00",
          "s21-12-21 01:00",
          "s21-12-21 02:00",
          "s21-12-21 03:00",
          "s21-12-21 04:00",
          "s21-12-21 05:00",
          "s21-12-21 06:00",
          "s21-12-21 07:00",
          "s21-12-21 08:00",
          "s21-12-21 09:00",
          "s21-12-21 10:00",
          "s21-12-21 11:00",
          "s21-12-21 12:00",
          "s21-12-21 13:00",
          "s21-12-21 14:00",
          "s21-12-21 15:00",
          "s21-12-21 16:00",
          "s21-12-21 17:00",
          "s21-12-21 18:00",
          "s21-12-21 19:00",
          "s21-12-21 20:00",
          "s21-12-21 21:00",
          "s21-12-21 22:00",
          "s21-12-21 23:00",
          "s21-12-22 00:00",
          "s21-12-22 01:00",
          "s21-12-22 02:00",
          "s21-12-22 03:00",
          "s21-12-22 04:00",
          "s21-12-22 05:00",
          "s21-12-22 06:00",
          "s21-12-22 07:00",
          "s21-12-22 08:00",
          "s21-12-22 09:00",
          "s21-12-22 10:00",
          "s21-12-22 11:00",
          "s21-12-22 12:00",
          "s21-12-22 13:00",
          "s21-12-22 14:00",
          "s21-12-22 15:00",
          "s21-12-22 16:00",
          "s21-12-22 17:00",
          "s21-12-22 18:00",
          "s21-12-22 19:00",
          "s21-12-22 20:00",
          "s21-12-22 21:00",
          "s21-12-22 22:00",
          "s21-12-22 23:00",
          "s21-12-23 00:00",
          "s21-12-23 01:00",
          "s21-12-23 02:00",
          "s21-12-23 03:00",
          "s21-12-23 04:00",
          "s21-12-23 05:00",
          "s21-12-23 06:00",
          "s21-12-23 07:00",
          "s21-12-23 08:00",
          "s21-12-23 09:00",
          "s21-12-23 10:00",
          "s21-12-23 11:00",
          "s21-12-23 12:00",
          "s21-12-23 13:00",
          "s21-12-23 14:00",
          "s21-12-23 15:00",
          "s21-12-23 16:00",
          "s21-12-23 17:00",
          "s21-12-23 18:00",
          "s21-12-23 19:00",
          "s21-12-23 20:00",
          "s21-12-23 21:00",
          "s21-12-23 22:00",
          "s21-12-23 23:00",
          "s21-12-24 00:00",
          "s21-12-24 01:00",
          "s21-12-24 02:00",
          "s21-12-24 03:00",
          "s21-12-24 04:00",
          "s21-12-24 05:00",
          "s21-12-24 06:00",
          "s21-12-24 07:00",
          "s21-12-24 08:00",
          "s21-12-24 09:00",
          "s21-12-24 10:00",
          "s21-12-24 11:00",
          "s21-12-24 12:00",
          "s21-12-24 13:00",
          "s21-12-24 14:00",
          "s21-12-24 15:00",
          "s21-12-24 16:00",
          "s21-12-24 17:00",
          "s21-12-24 18:00",
          "s21-12-24 19:00",
          "s21-12-24 20:00",
          "s21-12-24 21:00",
          "s21-12-26 22:00",
          "s21-12-26 23:00",
          "s21-12-27 00:00",
          "s21-12-27 01:00",
          "s21-12-27 02:00",
          "s21-12-27 03:00",
          "s21-12-27 04:00",
          "s21-12-27 05:00",
          "s21-12-27 06:00",
          "s21-12-27 07:00",
          "s21-12-27 08:00",
          "s21-12-27 09:00",
          "s21-12-27 10:00",
          "s21-12-27 11:00",
          "s21-12-27 12:00",
          "s21-12-27 13:00",
          "s21-12-27 14:00",
          "s21-12-27 15:00",
          "s21-12-27 16:00",
          "s21-12-27 17:00",
          "s21-12-27 18:00",
          "s21-12-27 19:00",
          "s21-12-27 20:00",
          "s21-12-27 21:00",
          "s21-12-27 22:00",
          "s21-12-27 23:00",
          "s21-12-28 00:00",
          "s21-12-28 01:00",
          "s21-12-28 02:00",
          "s21-12-28 03:00",
          "s21-12-28 04:00",
          "s21-12-28 05:00",
          "s21-12-28 06:00",
          "s21-12-28 07:00",
          "s21-12-28 08:00",
          "s21-12-28 09:00",
          "s21-12-28 10:00",
          "s21-12-28 11:00",
          "s21-12-28 12:00",
          "s21-12-28 13:00",
          "s21-12-28 14:00",
          "s21-12-28 15:00",
          "s21-12-28 16:00",
          "s21-12-28 17:00",
          "s21-12-28 18:00",
          "s21-12-28 19:00",
          "s21-12-28 20:00",
          "s21-12-28 21:00",
          "s21-12-28 22:00",
          "s21-12-28 23:00",
          "s21-12-29 00:00",
          "s21-12-29 01:00",
          "s21-12-29 02:00",
          "s21-12-29 03:00",
          "s21-12-29 04:00",
          "s21-12-29 05:00",
          "s21-12-29 06:00",
          "s21-12-29 07:00",
          "s21-12-29 08:00",
          "s21-12-29 09:00",
          "s21-12-29 10:00",
          "s21-12-29 11:00",
          "s21-12-29 12:00",
          "s21-12-29 13:00",
          "s21-12-29 14:00",
          "s21-12-29 15:00",
          "s21-12-29 16:00",
          "s21-12-29 17:00",
          "s21-12-29 18:00",
          "s21-12-29 19:00",
          "s21-12-29 20:00",
          "s21-12-29 21:00",
          "s21-12-29 22:00",
          "s21-12-29 23:00",
          "s21-12-30 00:00",
          "s21-12-30 01:00",
          "s21-12-30 02:00",
          "s21-12-30 03:00",
          "s21-12-30 04:00",
          "s21-12-30 05:00",
          "s21-12-30 06:00",
          "s21-12-30 07:00",
          "s21-12-30 08:00",
          "s21-12-30 09:00",
          "s21-12-30 10:00",
          "s21-12-30 11:00",
          "s21-12-30 12:00",
          "s21-12-30 13:00",
          "s21-12-30 14:00",
          "s21-12-30 15:00",
          "s21-12-30 16:00",
          "s21-12-30 17:00",
          "s21-12-30 18:00",
          "s21-12-30 19:00",
          "s21-12-30 20:00",
          "s21-12-30 21:00",
          "s21-12-30 22:00",
          "s21-12-30 23:00"
         ]
        },
        {
         "line": {
          "shape": "spline",
          "width": 2
         },
         "name": "RSI_14",
         "type": "scatter",
         "x": [
          "s21-12-14 12:00",
          "s21-12-14 13:00",
          "s21-12-14 14:00",
          "s21-12-14 15:00",
          "s21-12-14 16:00",
          "s21-12-14 17:00",
          "s21-12-14 18:00",
          "s21-12-14 19:00",
          "s21-12-14 20:00",
          "s21-12-14 21:00",
          "s21-12-14 22:00",
          "s21-12-14 23:00",
          "s21-12-15 00:00",
          "s21-12-15 01:00",
          "s21-12-15 02:00",
          "s21-12-15 03:00",
          "s21-12-15 04:00",
          "s21-12-15 05:00",
          "s21-12-15 06:00",
          "s21-12-15 07:00",
          "s21-12-15 08:00",
          "s21-12-15 09:00",
          "s21-12-15 10:00",
          "s21-12-15 11:00",
          "s21-12-15 12:00",
          "s21-12-15 13:00",
          "s21-12-15 14:00",
          "s21-12-15 15:00",
          "s21-12-15 16:00",
          "s21-12-15 17:00",
          "s21-12-15 18:00",
          "s21-12-15 19:00",
          "s21-12-15 20:00",
          "s21-12-15 21:00",
          "s21-12-15 22:00",
          "s21-12-15 23:00",
          "s21-12-16 00:00",
          "s21-12-16 01:00",
          "s21-12-16 02:00",
          "s21-12-16 03:00",
          "s21-12-16 04:00",
          "s21-12-16 05:00",
          "s21-12-16 06:00",
          "s21-12-16 07:00",
          "s21-12-16 08:00",
          "s21-12-16 09:00",
          "s21-12-16 10:00",
          "s21-12-16 11:00",
          "s21-12-16 12:00",
          "s21-12-16 13:00",
          "s21-12-16 14:00",
          "s21-12-16 15:00",
          "s21-12-16 16:00",
          "s21-12-16 17:00",
          "s21-12-16 18:00",
          "s21-12-16 19:00",
          "s21-12-16 20:00",
          "s21-12-16 21:00",
          "s21-12-16 22:00",
          "s21-12-16 23:00",
          "s21-12-17 00:00",
          "s21-12-17 01:00",
          "s21-12-17 02:00",
          "s21-12-17 03:00",
          "s21-12-17 04:00",
          "s21-12-17 05:00",
          "s21-12-17 06:00",
          "s21-12-17 07:00",
          "s21-12-17 08:00",
          "s21-12-17 09:00",
          "s21-12-17 10:00",
          "s21-12-17 11:00",
          "s21-12-17 12:00",
          "s21-12-17 13:00",
          "s21-12-17 14:00",
          "s21-12-17 15:00",
          "s21-12-17 16:00",
          "s21-12-17 17:00",
          "s21-12-17 18:00",
          "s21-12-17 19:00",
          "s21-12-17 20:00",
          "s21-12-17 21:00",
          "s21-12-19 22:00",
          "s21-12-19 23:00",
          "s21-12-20 00:00",
          "s21-12-20 01:00",
          "s21-12-20 02:00",
          "s21-12-20 03:00",
          "s21-12-20 04:00",
          "s21-12-20 05:00",
          "s21-12-20 06:00",
          "s21-12-20 07:00",
          "s21-12-20 08:00",
          "s21-12-20 09:00",
          "s21-12-20 10:00",
          "s21-12-20 11:00",
          "s21-12-20 12:00",
          "s21-12-20 13:00",
          "s21-12-20 14:00",
          "s21-12-20 15:00",
          "s21-12-20 16:00",
          "s21-12-20 17:00",
          "s21-12-20 18:00",
          "s21-12-20 19:00",
          "s21-12-20 20:00",
          "s21-12-20 21:00",
          "s21-12-20 22:00",
          "s21-12-20 23:00",
          "s21-12-21 00:00",
          "s21-12-21 01:00",
          "s21-12-21 02:00",
          "s21-12-21 03:00",
          "s21-12-21 04:00",
          "s21-12-21 05:00",
          "s21-12-21 06:00",
          "s21-12-21 07:00",
          "s21-12-21 08:00",
          "s21-12-21 09:00",
          "s21-12-21 10:00",
          "s21-12-21 11:00",
          "s21-12-21 12:00",
          "s21-12-21 13:00",
          "s21-12-21 14:00",
          "s21-12-21 15:00",
          "s21-12-21 16:00",
          "s21-12-21 17:00",
          "s21-12-21 18:00",
          "s21-12-21 19:00",
          "s21-12-21 20:00",
          "s21-12-21 21:00",
          "s21-12-21 22:00",
          "s21-12-21 23:00",
          "s21-12-22 00:00",
          "s21-12-22 01:00",
          "s21-12-22 02:00",
          "s21-12-22 03:00",
          "s21-12-22 04:00",
          "s21-12-22 05:00",
          "s21-12-22 06:00",
          "s21-12-22 07:00",
          "s21-12-22 08:00",
          "s21-12-22 09:00",
          "s21-12-22 10:00",
          "s21-12-22 11:00",
          "s21-12-22 12:00",
          "s21-12-22 13:00",
          "s21-12-22 14:00",
          "s21-12-22 15:00",
          "s21-12-22 16:00",
          "s21-12-22 17:00",
          "s21-12-22 18:00",
          "s21-12-22 19:00",
          "s21-12-22 20:00",
          "s21-12-22 21:00",
          "s21-12-22 22:00",
          "s21-12-22 23:00",
          "s21-12-23 00:00",
          "s21-12-23 01:00",
          "s21-12-23 02:00",
          "s21-12-23 03:00",
          "s21-12-23 04:00",
          "s21-12-23 05:00",
          "s21-12-23 06:00",
          "s21-12-23 07:00",
          "s21-12-23 08:00",
          "s21-12-23 09:00",
          "s21-12-23 10:00",
          "s21-12-23 11:00",
          "s21-12-23 12:00",
          "s21-12-23 13:00",
          "s21-12-23 14:00",
          "s21-12-23 15:00",
          "s21-12-23 16:00",
          "s21-12-23 17:00",
          "s21-12-23 18:00",
          "s21-12-23 19:00",
          "s21-12-23 20:00",
          "s21-12-23 21:00",
          "s21-12-23 22:00",
          "s21-12-23 23:00",
          "s21-12-24 00:00",
          "s21-12-24 01:00",
          "s21-12-24 02:00",
          "s21-12-24 03:00",
          "s21-12-24 04:00",
          "s21-12-24 05:00",
          "s21-12-24 06:00",
          "s21-12-24 07:00",
          "s21-12-24 08:00",
          "s21-12-24 09:00",
          "s21-12-24 10:00",
          "s21-12-24 11:00",
          "s21-12-24 12:00",
          "s21-12-24 13:00",
          "s21-12-24 14:00",
          "s21-12-24 15:00",
          "s21-12-24 16:00",
          "s21-12-24 17:00",
          "s21-12-24 18:00",
          "s21-12-24 19:00",
          "s21-12-24 20:00",
          "s21-12-24 21:00",
          "s21-12-26 22:00",
          "s21-12-26 23:00",
          "s21-12-27 00:00",
          "s21-12-27 01:00",
          "s21-12-27 02:00",
          "s21-12-27 03:00",
          "s21-12-27 04:00",
          "s21-12-27 05:00",
          "s21-12-27 06:00",
          "s21-12-27 07:00",
          "s21-12-27 08:00",
          "s21-12-27 09:00",
          "s21-12-27 10:00",
          "s21-12-27 11:00",
          "s21-12-27 12:00",
          "s21-12-27 13:00",
          "s21-12-27 14:00",
          "s21-12-27 15:00",
          "s21-12-27 16:00",
          "s21-12-27 17:00",
          "s21-12-27 18:00",
          "s21-12-27 19:00",
          "s21-12-27 20:00",
          "s21-12-27 21:00",
          "s21-12-27 22:00",
          "s21-12-27 23:00",
          "s21-12-28 00:00",
          "s21-12-28 01:00",
          "s21-12-28 02:00",
          "s21-12-28 03:00",
          "s21-12-28 04:00",
          "s21-12-28 05:00",
          "s21-12-28 06:00",
          "s21-12-28 07:00",
          "s21-12-28 08:00",
          "s21-12-28 09:00",
          "s21-12-28 10:00",
          "s21-12-28 11:00",
          "s21-12-28 12:00",
          "s21-12-28 13:00",
          "s21-12-28 14:00",
          "s21-12-28 15:00",
          "s21-12-28 16:00",
          "s21-12-28 17:00",
          "s21-12-28 18:00",
          "s21-12-28 19:00",
          "s21-12-28 20:00",
          "s21-12-28 21:00",
          "s21-12-28 22:00",
          "s21-12-28 23:00",
          "s21-12-29 00:00",
          "s21-12-29 01:00",
          "s21-12-29 02:00",
          "s21-12-29 03:00",
          "s21-12-29 04:00",
          "s21-12-29 05:00",
          "s21-12-29 06:00",
          "s21-12-29 07:00",
          "s21-12-29 08:00",
          "s21-12-29 09:00",
          "s21-12-29 10:00",
          "s21-12-29 11:00",
          "s21-12-29 12:00",
          "s21-12-29 13:00",
          "s21-12-29 14:00",
          "s21-12-29 15:00",
          "s21-12-29 16:00",
          "s21-12-29 17:00",
          "s21-12-29 18:00",
          "s21-12-29 19:00",
          "s21-12-29 20:00",
          "s21-12-29 21:00",
          "s21-12-29 22:00",
          "s21-12-29 23:00",
          "s21-12-30 00:00",
          "s21-12-30 01:00",
          "s21-12-30 02:00",
          "s21-12-30 03:00",
          "s21-12-30 04:00",
          "s21-12-30 05:00",
          "s21-12-30 06:00",
          "s21-12-30 07:00",
          "s21-12-30 08:00",
          "s21-12-30 09:00",
          "s21-12-30 10:00",
          "s21-12-30 11:00",
          "s21-12-30 12:00",
          "s21-12-30 13:00",
          "s21-12-30 14:00",
          "s21-12-30 15:00",
          "s21-12-30 16:00",
          "s21-12-30 17:00",
          "s21-12-30 18:00",
          "s21-12-30 19:00",
          "s21-12-30 20:00",
          "s21-12-30 21:00",
          "s21-12-30 22:00",
          "s21-12-30 23:00"
         ],
         "xaxis": "x",
         "y": {
          "bdata": "68XMSf9zTUD3HVE4FgBMQHpYhB4zVk5A9zzKaAT6TkClS53RloFLQMv1v+DB3EtAAFlH/DjTTECBCi91x2hMQHgZl7rs+0pAJij1w8dhTkAv9NL5mB1KQH9gJWGN7kxAVQR60OJiS0ARiVXL8o9LQP/qFGX4WEpAk/pqqaphSkD1cwknoENMQBiWl33ANE5Ai9tknUZ8UEDGiukvU/xOQCoOHuQ2slFAEPfvy5C2UUCFvyizcn5RQA4yW77oP1JAcutcSTc4U0CyNuMIn9VTQM6EIAlzy1BAZMKt5R2SUUAVHMy6kdxRQMqeYrqFDVFAozh++wEfUUASiEpVYwtQQBgMup0CsVFANNYgjv6dUEAYd3knNKhPQChhFUphSk9AZBDC5SgDUUC7k+M5H7hNQMX6K01Gl0pA8z/k99IeTEABD8Bi4aBMQHuFKExuAEpAY4D1AjXGSkBZSwmqkf1IQNnpTl8BK0xA/XCpWzoNTkD9YBiD1xRMQO/g70VyMU1A47zwLPOMT0BUmgWxqB1PQM+1jIYgA0xAYsZaSYRRRkDjElIFZRJHQHrdTRq9ZEVA0pPmASeNRkBk97E8XO1FQOg6QtmF2EVA+YXsIbERRkBcI5oAwp1EQKAlOnMth0RAs4v7QQwiRkDBE6PvclJHQMETo+9yUkdAM25A6riuREAzuKb8/c1FQE7zsGa960ZAsPQGjBhGREAr19j4AAhCQNNBxTqINUdAco2P7/S6REAaSqMNHnlGQAXXJiT19EVAkrL4MpC9SECzERmtSf9JQMGuv2/lJExAhQzcVzKkR0AWk6LAW+ZHQLW21ASrmUlA9U0sh7TySkCDgKxquBtMQNqr5yTT6kpAYe/a447xSkAiI6KZ9d1LQMAhCDYe7UhAO3Ayiq3eSUB5l5/oNWNJQIsyVmuynUlAN3jI8WPYR0AYI/KNN/VGQD8GERGH0kZAz4iZm31mQ0A0kj1DN31DQKUOs/LSvEhAIH+KMtZlRkA1wJVgdARLQLjWZEam80pAhErlARMZTEATUXUHrK1QQDkOaOnSAlFAKxTDoDuGUEAgITSbRnJQQAVv9uKrAE9AcDUcapgTUEB14mIFR+RNQMtf5wEShUtAuA6J+bKZTEBnmwxt79JJQAuMudWsbkpAA7H7qHTRSEDB9abqSBRLQKQhyk2VwEhAXwh3U7eOSEB7jakRBQ1JQI9HL64AMEpAz0zW1wUSTECHs9887j1LQFCnBbKibk9AWKZK2WuFUEAoy2uHH2FRQP6vVYzWS1BAgaIz6kp+T0BH7xzVvxBOQINJ7PAF1k5AcsomKg1/T0BIRRxZw29QQHQOv+F7lFFA8Lbo9fnxUUA8CryJiWRSQEY/+FoVH1FAIBlwc58RUEBXVB5AfHxOQL4s/jKadE9AP8Z9dva0S0AuSKTGLThLQIILSAZoxEdAba+1W1ksREB3o7leKvZFQLXQXgldD0RABYK1ydkJRUC8cuvJpPtIQOMhyjf+QUpA1d0gtAVOTUC1ERRC3adPQLURFELdp09AgTw3M//pUECAQKQZIudSQNXdNjW3Y1BA6nRB1B8oT0CuYV6UrCZQQBpPvBRUMFFAf7Aw+DsZUEAQngnaHHtOQLQZ720qK05A9Uio8UaTTUBGLOR5mdhKQEWwEf13/k1AiJ4EO3l1TEA7CNMMhQRMQF8uEIWlyUpA28WAQ08ISkAfwXvMFgpLQEpN2RQkQExA6wYw4ZW6TEBuhrZBms9NQAUSU3vLok9A6bppKNQ7UEBOYNOtExxQQJD+8lzsQFBAYpi35RL7TUBZRC2fJ0tOQIuMwKDAjUtAm2v8v6vgTkD3Uv6F2L9LQHD36owAIU5AMxQZUjQWTUC/IDrmKa5OQH0tQBY1fkxAA3Ik5QX+SkDNlbG7I+hIQNK88+XZxkpAGKmpqbElSkCKENG7Z4BJQF7Vj3KIeUpAJiDyYko2R0BiwprTEFJKQOktma77+0pA6S2Zrvv7SkBlx4if8UxLQNYV8x766E1A0f9fQ5kHS0B86aQq9vREQA5R7nWqYENAj2carxK2R0B7sR/HQFBIQJJrGo8nQUZA8TIZGVRCREBxhlSa98VFQM19mX8yIUVAuuxwBVOpRkBaWHLgGwtIQJv0reRw10pAamfMbl8QRUCNoqMkArxFQM6oa5OQK0lAJeHNGC05SUD5QlfyrfhJQMzNb10pz0pANpL9JmpISkAFFqAIYt9JQEEaiOydd0hAQledhUYbSUAd584ElNhIQGxAP0NVKEZAf07RjFLmQ0B6O7K6jWVGQKZw1JjTS0dARP0dIN3FSUCXiz7XpBpLQL+cc5du6UhA6AQ+izFTRUBJxBeCLcBIQOJzHBmu+EZAYSzrCz7MSUDv5FPc4dtJQP0GDOfnukdAaxMnYnCaR0B2Z8KAW2pFQH+Pz0ssFUZArRkzajUBSECuVKZ2dQNGQKlSNe9pvkdAY4Nx8PXlR0BmGbsBE5BJQNsNzp2iwUlAhTppcsIpSkAYX/VCVMpJQI06N+YHjkpAqvhxs+ZNT0B6gTgJil1OQB+SnMpEBVBAyox3S2QdUEDktq+/v2VOQA6tZbT6IkxA3FoTPnDTRkAEm/BikLxJQD5cpO4/3EhA85N1S+QiSEB38Z+EkcBIQLfuGwa3tUdAr2t4QnlmR0A1YnFSUzJGQGAihrHGh0pAbT0qzOwjSkCPcFZJTGBGQPbS32psEEdAFTBr4+CGSkBHxRKHAdBMQLLJPY4hKUpAvE+otUg5R0DWRMdK0GtKQG8nsKnox0pAXmI4ors3RkCA+DqF/lNIQJlDfsXm4ElABefSpqE5S0CgA8r2xgpJQKivmuFbIU5AlOiiTMs/UEBP+Qg6kmtKQKHA2nPZw0pA1yW54ielSkBHA3ia71pLQPL0rx9n4ktA4Y+iRW4ISUC158sC5CBJQDnAm1S9BUtAN1fCx+RbSEC+JOlQmWNLQAMX2aKgq0tA6XNy7YENTEBX5NieUCVMQNV3aM3BMUtApafexvUFS0CXN9E58tpNQImEk4Jgk0xA7YhJ2tfuTkCr6vZgJhhNQEv0sq0RQ0tAgLqQtwWDTUA4K6ASBOZKQJ0bJHmOuEtA5VVVs0tzR0C2BzCqriVHQGhGeq1yF0VA5F352N1OQUB4phYSfS8/QJCypAIMfz1A2DBXg2zcOkDYrn/Elso6QOzZVbd5vz9A",
          "dtype": "f8"
         },
         "yaxis": "y2"
        }
       ],
       "layout": {
        "font": {
         "color": "#e1e1e1",
         "size": 8
        },
        "height": 400,
        "margin": {
         "b": 10,
         "l": 10,
         "r": 10,
         "t": 10
        },
        "paper_bgcolor": "#2c303c",
        "plot_bgcolor": "#2c303c",
        "template": {
         "data": {
          "bar": [
           {
            "error_x": {
             "color": "#2a3f5f"
            },
            "error_y": {
             "color": "#2a3f5f"
            },
            "marker": {
             "line": {
              "color": "#E5ECF6",
              "width": 0.5
             },
             "pattern": {
              "fillmode": "overlay",
              "size": 10,
              "solidity": 0.2
             }
            },
            "type": "bar"
           }
          ],
          "barpolar": [
           {
            "marker": {
             "line": {
              "color": "#E5ECF6",
              "width": 0.5
             },
             "pattern": {
              "fillmode": "overlay",
              "size": 10,
              "solidity": 0.2
             }
            },
            "type": "barpolar"
           }
          ],
          "carpet": [
           {
            "aaxis": {
             "endlinecolor": "#2a3f5f",
             "gridcolor": "white",
             "linecolor": "white",
             "minorgridcolor": "white",
             "startlinecolor": "#2a3f5f"
            },
            "baxis": {
             "endlinecolor": "#2a3f5f",
             "gridcolor": "white",
             "linecolor": "white",
             "minorgridcolor": "white",
             "startlinecolor": "#2a3f5f"
            },
            "type": "carpet"
           }
          ],
          "choropleth": [
           {
            "colorbar": {
             "outlinewidth": 0,
             "ticks": ""
            },
            "type": "choropleth"
           }
          ],
          "contour": [
           {
            "colorbar": {
             "outlinewidth": 0,
             "ticks": ""
            },
            "colorscale": [
             [
              0,
              "#0d0887"
             ],
             [
              0.1111111111111111,
              "#46039f"
             ],
             [
              0.2222222222222222,
              "#7201a8"
             ],
             [
              0.3333333333333333,
              "#9c179e"
             ],
             [
              0.4444444444444444,
              "#bd3786"
             ],
             [
              0.5555555555555556,
              "#d8576b"
             ],
             [
              0.6666666666666666,
              "#ed7953"
             ],
             [
              0.7777777777777778,
              "#fb9f3a"
             ],
             [
              0.8888888888888888,
              "#fdca26"
             ],
             [
              1,
              "#f0f921"
             ]
            ],
            "type": "contour"
           }
          ],
          "contourcarpet": [
           {
            "colorbar": {
             "outlinewidth": 0,
             "ticks": ""
            },
            "type": "contourcarpet"
           }
          ],
          "heatmap": [
           {
            "colorbar": {
             "outlinewidth": 0,
             "ticks": ""
            },
            "colorscale": [
             [
              0,
              "#0d0887"
             ],
             [
              0.1111111111111111,
              "#46039f"
             ],
             [
              0.2222222222222222,
              "#7201a8"
             ],
             [
              0.3333333333333333,
              "#9c179e"
             ],
             [
              0.4444444444444444,
              "#bd3786"
             ],
             [
              0.5555555555555556,
              "#d8576b"
             ],
             [
              0.6666666666666666,
              "#ed7953"
             ],
             [
              0.7777777777777778,
              "#fb9f3a"
             ],
             [
              0.8888888888888888,
              "#fdca26"
             ],
             [
              1,
              "#f0f921"
             ]
            ],
            "type": "heatmap"
           }
          ],
          "histogram": [
           {
            "marker": {
             "pattern": {
              "fillmode": "overlay",
              "size": 10,
              "solidity": 0.2
             }
            },
            "type": "histogram"
           }
          ],
          "histogram2d": [
           {
            "colorbar": {
             "outlinewidth": 0,
             "ticks": ""
            },
            "colorscale": [
             [
              0,
              "#0d0887"
             ],
             [
              0.1111111111111111,
              "#46039f"
             ],
             [
              0.2222222222222222,
              "#7201a8"
             ],
             [
              0.3333333333333333,
              "#9c179e"
             ],
             [
              0.4444444444444444,
              "#bd3786"
             ],
             [
              0.5555555555555556,
              "#d8576b"
             ],
             [
              0.6666666666666666,
              "#ed7953"
             ],
             [
              0.7777777777777778,
              "#fb9f3a"
             ],
             [
              0.8888888888888888,
              "#fdca26"
             ],
             [
              1,
              "#f0f921"
             ]
            ],
            "type": "histogram2d"
           }
          ],
          "histogram2dcontour": [
           {
            "colorbar": {
             "outlinewidth": 0,
             "ticks": ""
            },
            "colorscale": [
             [
              0,
              "#0d0887"
             ],
             [
              0.1111111111111111,
              "#46039f"
             ],
             [
              0.2222222222222222,
              "#7201a8"
             ],
             [
              0.3333333333333333,
              "#9c179e"
             ],
             [
              0.4444444444444444,
              "#bd3786"
             ],
             [
              0.5555555555555556,
              "#d8576b"
             ],
             [
              0.6666666666666666,
              "#ed7953"
             ],
             [
              0.7777777777777778,
              "#fb9f3a"
             ],
             [
              0.8888888888888888,
              "#fdca26"
             ],
             [
              1,
              "#f0f921"
             ]
            ],
            "type": "histogram2dcontour"
           }
          ],
          "mesh3d": [
           {
            "colorbar": {
             "outlinewidth": 0,
             "ticks": ""
            },
            "type": "mesh3d"
           }
          ],
          "parcoords": [
           {
            "line": {
             "colorbar": {
              "outlinewidth": 0,
              "ticks": ""
             }
            },
            "type": "parcoords"
           }
          ],
          "pie": [
           {
            "automargin": true,
            "type": "pie"
           }
          ],
          "scatter": [
           {
            "fillpattern": {
             "fillmode": "overlay",
             "size": 10,
             "solidity": 0.2
            },
            "type": "scatter"
           }
          ],
          "scatter3d": [
           {
            "line": {
             "colorbar": {
              "outlinewidth": 0,
              "ticks": ""
             }
            },
            "marker": {
             "colorbar": {
              "outlinewidth": 0,
              "ticks": ""
             }
            },
            "type": "scatter3d"
           }
          ],
          "scattercarpet": [
           {
            "marker": {
             "colorbar": {
              "outlinewidth": 0,
              "ticks": ""
             }
            },
            "type": "scattercarpet"
           }
          ],
          "scattergeo": [
           {
            "marker": {
             "colorbar": {
              "outlinewidth": 0,
              "ticks": ""
             }
            },
            "type": "scattergeo"
           }
          ],
          "scattergl": [
           {
            "marker": {
             "colorbar": {
              "outlinewidth": 0,
              "ticks": ""
             }
            },
            "type": "scattergl"
           }
          ],
          "scattermap": [
           {
            "marker": {
             "colorbar": {
              "outlinewidth": 0,
              "ticks": ""
             }
            },
            "type": "scattermap"
           }
          ],
          "scattermapbox": [
           {
            "marker": {
             "colorbar": {
              "outlinewidth": 0,
              "ticks": ""
             }
            },
            "type": "scattermapbox"
           }
          ],
          "scatterpolar": [
           {
            "marker": {
             "colorbar": {
              "outlinewidth": 0,
              "ticks": ""
             }
            },
            "type": "scatterpolar"
           }
          ],
          "scatterpolargl": [
           {
            "marker": {
             "colorbar": {
              "outlinewidth": 0,
              "ticks": ""
             }
            },
            "type": "scatterpolargl"
           }
          ],
          "scatterternary": [
           {
            "marker": {
             "colorbar": {
              "outlinewidth": 0,
              "ticks": ""
             }
            },
            "type": "scatterternary"
           }
          ],
          "surface": [
           {
            "colorbar": {
             "outlinewidth": 0,
             "ticks": ""
            },
            "colorscale": [
             [
              0,
              "#0d0887"
             ],
             [
              0.1111111111111111,
              "#46039f"
             ],
             [
              0.2222222222222222,
              "#7201a8"
             ],
             [
              0.3333333333333333,
              "#9c179e"
             ],
             [
              0.4444444444444444,
              "#bd3786"
             ],
             [
              0.5555555555555556,
              "#d8576b"
             ],
             [
              0.6666666666666666,
              "#ed7953"
             ],
             [
              0.7777777777777778,
              "#fb9f3a"
             ],
             [
              0.8888888888888888,
              "#fdca26"
             ],
             [
              1,
              "#f0f921"
             ]
            ],
            "type": "surface"
           }
          ],
          "table": [
           {
            "cells": {
             "fill": {
              "color": "#EBF0F8"
             },
             "line": {
              "color": "white"
             }
            },
            "header": {
             "fill": {
              "color": "#C8D4E3"
             },
             "line": {
              "color": "white"
             }
            },
            "type": "table"
           }
          ]
         },
         "layout": {
          "annotationdefaults": {
           "arrowcolor": "#2a3f5f",
           "arrowhead": 0,
           "arrowwidth": 1
          },
          "autotypenumbers": "strict",
          "coloraxis": {
           "colorbar": {
            "outlinewidth": 0,
            "ticks": ""
           }
          },
          "colorscale": {
           "diverging": [
            [
             0,
             "#8e0152"
            ],
            [
             0.1,
             "#c51b7d"
            ],
            [
             0.2,
             "#de77ae"
            ],
            [
             0.3,
             "#f1b6da"
            ],
            [
             0.4,
             "#fde0ef"
            ],
            [
             0.5,
             "#f7f7f7"
            ],
            [
             0.6,
             "#e6f5d0"
            ],
            [
             0.7,
             "#b8e186"
            ],
            [
             0.8,
             "#7fbc41"
            ],
            [
             0.9,
             "#4d9221"
            ],
            [
             1,
             "#276419"
            ]
           ],
           "sequential": [
            [
             0,
             "#0d0887"
            ],
            [
             0.1111111111111111,
             "#46039f"
            ],
            [
             0.2222222222222222,
             "#7201a8"
            ],
            [
             0.3333333333333333,
             "#9c179e"
            ],
            [
             0.4444444444444444,
             "#bd3786"
            ],
            [
             0.5555555555555556,
             "#d8576b"
            ],
            [
             0.6666666666666666,
             "#ed7953"
            ],
            [
             0.7777777777777778,
             "#fb9f3a"
            ],
            [
             0.8888888888888888,
             "#fdca26"
            ],
            [
             1,
             "#f0f921"
            ]
           ],
           "sequentialminus": [
            [
             0,
             "#0d0887"
            ],
            [
             0.1111111111111111,
             "#46039f"
            ],
            [
             0.2222222222222222,
             "#7201a8"
            ],
            [
             0.3333333333333333,
             "#9c179e"
            ],
            [
             0.4444444444444444,
             "#bd3786"
            ],
            [
             0.5555555555555556,
             "#d8576b"
            ],
            [
             0.6666666666666666,
             "#ed7953"
            ],
            [
             0.7777777777777778,
             "#fb9f3a"
            ],
            [
             0.8888888888888888,
             "#fdca26"
            ],
            [
             1,
             "#f0f921"
            ]
           ]
          },
          "colorway": [
           "#636efa",
           "#EF553B",
           "#00cc96",
           "#ab63fa",
           "#FFA15A",
           "#19d3f3",
           "#FF6692",
           "#B6E880",
           "#FF97FF",
           "#FECB52"
          ],
          "font": {
           "color": "#2a3f5f"
          },
          "geo": {
           "bgcolor": "white",
           "lakecolor": "white",
           "landcolor": "#E5ECF6",
           "showlakes": true,
           "showland": true,
           "subunitcolor": "white"
          },
          "hoverlabel": {
           "align": "left"
          },
          "hovermode": "closest",
          "mapbox": {
           "style": "light"
          },
          "paper_bgcolor": "white",
          "plot_bgcolor": "#E5ECF6",
          "polar": {
           "angularaxis": {
            "gridcolor": "white",
            "linecolor": "white",
            "ticks": ""
           },
           "bgcolor": "#E5ECF6",
           "radialaxis": {
            "gridcolor": "white",
            "linecolor": "white",
            "ticks": ""
           }
          },
          "scene": {
           "xaxis": {
            "backgroundcolor": "#E5ECF6",
            "gridcolor": "white",
            "gridwidth": 2,
            "linecolor": "white",
            "showbackground": true,
            "ticks": "",
            "zerolinecolor": "white"
           },
           "yaxis": {
            "backgroundcolor": "#E5ECF6",
            "gridcolor": "white",
            "gridwidth": 2,
            "linecolor": "white",
            "showbackground": true,
            "ticks": "",
            "zerolinecolor": "white"
           },
           "zaxis": {
            "backgroundcolor": "#E5ECF6",
            "gridcolor": "white",
            "gridwidth": 2,
            "linecolor": "white",
            "showbackground": true,
            "ticks": "",
            "zerolinecolor": "white"
           }
          },
          "shapedefaults": {
           "line": {
            "color": "#2a3f5f"
           }
          },
          "ternary": {
           "aaxis": {
            "gridcolor": "white",
            "linecolor": "white",
            "ticks": ""
           },
           "baxis": {
            "gridcolor": "white",
            "linecolor": "white",
            "ticks": ""
           },
           "bgcolor": "#E5ECF6",
           "caxis": {
            "gridcolor": "white",
            "linecolor": "white",
            "ticks": ""
           }
          },
          "title": {
           "x": 0.05
          },
          "xaxis": {
           "automargin": true,
           "gridcolor": "white",
           "linecolor": "white",
           "ticks": "",
           "title": {
            "standoff": 15
           },
           "zerolinecolor": "white",
           "zerolinewidth": 2
          },
          "yaxis": {
           "automargin": true,
           "gridcolor": "white",
           "linecolor": "white",
           "ticks": "",
           "title": {
            "standoff": 15
           },
           "zerolinecolor": "white",
           "zerolinewidth": 2
          }
         }
        },
        "width": 900,
        "xaxis": {
         "anchor": "y",
         "domain": [
          0,
          0.94
         ],
         "gridcolor": "#1f292f",
         "nticks": 5,
         "rangeslider": {
          "visible": false
         }
        },
        "yaxis": {
         "anchor": "x",
         "domain": [
          0,
          1
         ],
         "gridcolor": "#1f292f"
        },
        "yaxis2": {
         "anchor": "x",
         "gridcolor": "#1f292f",
         "overlaying": "y",
         "side": "right"
        }
       }
      }
     },
     "metadata": {},
     "output_type": "display_data"
    }
   ],
   "source": [
    "dfp1 = df_an1.iloc[-300:]\n",
    "cp1 = CandlePlot(dfp1, candles=True)\n",
    "cp1.show_plot(line_traces=[], sec_traces=['RSI_14'])"
   ]
  },
  {
   "cell_type": "code",
   "execution_count": 6,
   "id": "4cbda831",
   "metadata": {},
   "outputs": [],
   "source": [
    "df_an = MACD(df_an)"
   ]
  },
  {
   "cell_type": "code",
   "execution_count": 7,
   "id": "92f180aa",
   "metadata": {},
   "outputs": [
    {
     "data": {
      "text/html": [
       "<div>\n",
       "<style scoped>\n",
       "    .dataframe tbody tr th:only-of-type {\n",
       "        vertical-align: middle;\n",
       "    }\n",
       "\n",
       "    .dataframe tbody tr th {\n",
       "        vertical-align: top;\n",
       "    }\n",
       "\n",
       "    .dataframe thead th {\n",
       "        text-align: right;\n",
       "    }\n",
       "</style>\n",
       "<table border=\"1\" class=\"dataframe\">\n",
       "  <thead>\n",
       "    <tr style=\"text-align: right;\">\n",
       "      <th></th>\n",
       "      <th>time</th>\n",
       "      <th>volume</th>\n",
       "      <th>mid_o</th>\n",
       "      <th>mid_h</th>\n",
       "      <th>mid_l</th>\n",
       "      <th>mid_c</th>\n",
       "      <th>bid_o</th>\n",
       "      <th>bid_h</th>\n",
       "      <th>bid_l</th>\n",
       "      <th>bid_c</th>\n",
       "      <th>ask_o</th>\n",
       "      <th>ask_h</th>\n",
       "      <th>ask_l</th>\n",
       "      <th>ask_c</th>\n",
       "      <th>MACD</th>\n",
       "      <th>SIGNAL</th>\n",
       "      <th>HIST</th>\n",
       "    </tr>\n",
       "  </thead>\n",
       "  <tbody>\n",
       "    <tr>\n",
       "      <th>37214</th>\n",
       "      <td>2021-12-30 19:00:00+00:00</td>\n",
       "      <td>1135</td>\n",
       "      <td>0.92553</td>\n",
       "      <td>0.92578</td>\n",
       "      <td>0.92433</td>\n",
       "      <td>0.92470</td>\n",
       "      <td>0.92545</td>\n",
       "      <td>0.92571</td>\n",
       "      <td>0.92423</td>\n",
       "      <td>0.92460</td>\n",
       "      <td>0.92561</td>\n",
       "      <td>0.92588</td>\n",
       "      <td>0.92442</td>\n",
       "      <td>0.92479</td>\n",
       "      <td>-0.000341</td>\n",
       "      <td>0.000114</td>\n",
       "      <td>-0.000455</td>\n",
       "    </tr>\n",
       "    <tr>\n",
       "      <th>37215</th>\n",
       "      <td>2021-12-30 20:00:00+00:00</td>\n",
       "      <td>897</td>\n",
       "      <td>0.92472</td>\n",
       "      <td>0.92485</td>\n",
       "      <td>0.92402</td>\n",
       "      <td>0.92426</td>\n",
       "      <td>0.92464</td>\n",
       "      <td>0.92477</td>\n",
       "      <td>0.92393</td>\n",
       "      <td>0.92417</td>\n",
       "      <td>0.92481</td>\n",
       "      <td>0.92494</td>\n",
       "      <td>0.92410</td>\n",
       "      <td>0.92434</td>\n",
       "      <td>-0.000554</td>\n",
       "      <td>-0.000020</td>\n",
       "      <td>-0.000535</td>\n",
       "    </tr>\n",
       "    <tr>\n",
       "      <th>37216</th>\n",
       "      <td>2021-12-30 21:00:00+00:00</td>\n",
       "      <td>1057</td>\n",
       "      <td>0.92426</td>\n",
       "      <td>0.92426</td>\n",
       "      <td>0.92311</td>\n",
       "      <td>0.92352</td>\n",
       "      <td>0.92416</td>\n",
       "      <td>0.92416</td>\n",
       "      <td>0.92299</td>\n",
       "      <td>0.92333</td>\n",
       "      <td>0.92435</td>\n",
       "      <td>0.92435</td>\n",
       "      <td>0.92323</td>\n",
       "      <td>0.92370</td>\n",
       "      <td>-0.000774</td>\n",
       "      <td>-0.000171</td>\n",
       "      <td>-0.000604</td>\n",
       "    </tr>\n",
       "    <tr>\n",
       "      <th>37217</th>\n",
       "      <td>2021-12-30 22:00:00+00:00</td>\n",
       "      <td>714</td>\n",
       "      <td>0.92479</td>\n",
       "      <td>0.92482</td>\n",
       "      <td>0.92307</td>\n",
       "      <td>0.92350</td>\n",
       "      <td>0.92379</td>\n",
       "      <td>0.92396</td>\n",
       "      <td>0.92282</td>\n",
       "      <td>0.92330</td>\n",
       "      <td>0.92579</td>\n",
       "      <td>0.92582</td>\n",
       "      <td>0.92329</td>\n",
       "      <td>0.92369</td>\n",
       "      <td>-0.000939</td>\n",
       "      <td>-0.000324</td>\n",
       "      <td>-0.000615</td>\n",
       "    </tr>\n",
       "    <tr>\n",
       "      <th>37218</th>\n",
       "      <td>2021-12-30 23:00:00+00:00</td>\n",
       "      <td>778</td>\n",
       "      <td>0.92352</td>\n",
       "      <td>0.92408</td>\n",
       "      <td>0.92284</td>\n",
       "      <td>0.92402</td>\n",
       "      <td>0.92330</td>\n",
       "      <td>0.92397</td>\n",
       "      <td>0.92268</td>\n",
       "      <td>0.92392</td>\n",
       "      <td>0.92373</td>\n",
       "      <td>0.92420</td>\n",
       "      <td>0.92297</td>\n",
       "      <td>0.92413</td>\n",
       "      <td>-0.001016</td>\n",
       "      <td>-0.000463</td>\n",
       "      <td>-0.000553</td>\n",
       "    </tr>\n",
       "  </tbody>\n",
       "</table>\n",
       "</div>"
      ],
      "text/plain": [
       "                           time  volume    mid_o    mid_h    mid_l    mid_c  \\\n",
       "37214 2021-12-30 19:00:00+00:00    1135  0.92553  0.92578  0.92433  0.92470   \n",
       "37215 2021-12-30 20:00:00+00:00     897  0.92472  0.92485  0.92402  0.92426   \n",
       "37216 2021-12-30 21:00:00+00:00    1057  0.92426  0.92426  0.92311  0.92352   \n",
       "37217 2021-12-30 22:00:00+00:00     714  0.92479  0.92482  0.92307  0.92350   \n",
       "37218 2021-12-30 23:00:00+00:00     778  0.92352  0.92408  0.92284  0.92402   \n",
       "\n",
       "         bid_o    bid_h    bid_l    bid_c    ask_o    ask_h    ask_l    ask_c  \\\n",
       "37214  0.92545  0.92571  0.92423  0.92460  0.92561  0.92588  0.92442  0.92479   \n",
       "37215  0.92464  0.92477  0.92393  0.92417  0.92481  0.92494  0.92410  0.92434   \n",
       "37216  0.92416  0.92416  0.92299  0.92333  0.92435  0.92435  0.92323  0.92370   \n",
       "37217  0.92379  0.92396  0.92282  0.92330  0.92579  0.92582  0.92329  0.92369   \n",
       "37218  0.92330  0.92397  0.92268  0.92392  0.92373  0.92420  0.92297  0.92413   \n",
       "\n",
       "           MACD    SIGNAL      HIST  \n",
       "37214 -0.000341  0.000114 -0.000455  \n",
       "37215 -0.000554 -0.000020 -0.000535  \n",
       "37216 -0.000774 -0.000171 -0.000604  \n",
       "37217 -0.000939 -0.000324 -0.000615  \n",
       "37218 -0.001016 -0.000463 -0.000553  "
      ]
     },
     "execution_count": 7,
     "metadata": {},
     "output_type": "execute_result"
    }
   ],
   "source": [
    "df_an.tail()"
   ]
  },
  {
   "cell_type": "code",
   "execution_count": 8,
   "id": "f5b7225d",
   "metadata": {},
   "outputs": [
    {
     "data": {
      "application/vnd.plotly.v1+json": {
       "config": {
        "plotlyServerURL": "https://plot.ly"
       },
       "data": [
        {
         "close": {
          "bdata": "I4RHG0es7T8mjdE6qprtP7FQa5p3nO0/EY3uIHam7T/YnlkSoKbtP9QOf03WqO0/ehnFckur7T9Ei2zn+6ntP5sg6j4Aqe0/LzTXaaSl7T8s1JrmHaftP/QVpBmLpu0/cXK/Q1Gg7T+14EVfQZrtP+V+h6JAn+0/U8vW+iKh7T/YnlkSoKbtP315AfbRqe0/93XgnBGl7T95knTN5JvtP4f58gLso+0/Hm0csRaf7T8uBDkoYabtP/QVpBmLpu0/U8vW+iKh7T/GpwAYz6DtP7Swpx3+mu0/zse1oWKc7T84hCo1e6DtPwjm6PF7m+0/AfbRqSuf7T+PGaiMf5/tP8IXJlMFo+0/M8SxLm6j7T8VHcnlP6TtP/rVHCCYo+0/FO0qpPyk7T/l1TkGZK/tP+c1donqre0/GQRWDi2y7T9tOZfiqrLtPwAd5ssLsO0/sacd/pqs7T9Ra5p3nKLtP0brqGqCqO0/uycPC7Wm7T++h0uOO6XtPy4EOShhpu0/3C4012mk7T+kcD0K16PtP6gAGM+goe0/myDqPgCp7T9/2T15WKjtP/5l9+Rhoe0/beLkfoei7T/UDn9N1qjtPyAkC5jAre0/myDqPgCp7T/ejnBa8KLtP5nwS/28qe0/e0ljtI6q7T9xcr9DUaDtPzBkdavnpO0/RuuoaoKo7T/PTgZHyavtP0lL5e0Ip+0/E0TdByC17T898gcDz73tP3VZTGw+ru0/5dU5BmSv7T9XsmMjEK/tP3CZ02Uxse0/UMJM27+y7T/rxVBOtKvtP5VgcTjzq+0/4nX9gt2w7T/RrkLKT6rtP4qw4emVsu0/bAn5oGez7T/4/DBCeLTtP6KXUSy3tO0/NEsC1NSy7T+mJyzxgLLtP2GJB5RNue0/gpAsYAK37T8iq1s9J73tP5lH/mDgue0/StI1k2+27T+yLm6jAbztP54Hd2fttu0/8Nx7uOS47T+r56T3ja/tP60XQznRru0/tmeWBKip7T/LZ3ke3J3tP/OOU3Qkl+0/3QcgtYmT7T8hdqbQeY3tP1pkO99Pje0/izIbZJKR7T8=",
          "dtype": "f8"
         },
         "decreasing": {
          "fillcolor": "#CC2E3C",
          "line": {
           "color": "#FF3A4C"
          }
         },
         "high": {
          "bdata": "I4RHG0es7T/hRV9BmrHtP91e0hito+0/donqrYGt7T8F3V7SGK3tP3oZxXJLq+0/kwA1tWyt7T/qlbIMcaztP7GnHf6arO0/e0ljtI6q7T/ytWeWBKjtP2Ni83FtqO0/Y2LzcW2o7T//lZUmpaDtPxsN4C2QoO0/i4nNx7Wh7T9kkpGzsKftP3tJY7SOqu0/mMCtu3mq7T/WbrvQXKftP7+36c9+pO0/aVIKur2k7T/YnlkSoKbtP7nH0ocuqO0/1T4djxmo7T+/t+nPfqTtP+HurN12oe0/yAc9m1Wf7T/h7qzddqHtP/+VlSaloO0/GH0Facai7T/H155ZEqDtP8DnhxHCo+0/2c73U+Ol7T+DaRg+IqbtP4I5evzepu0/YTJVMCqp7T9UUiegibDtP8cuUb01sO0/bTmX4qqy7T8R5KCEmbbtP4Bgjh6/t+0/qYdodAex7T+TADW1bK3tPwqd19glqu0/7fXuj/eq7T+fsMQDyqbtP7snDwu1pu0/71UrE36p7T/RrkLKT6rtPycUIuAQqu0/RIts5/up7T8GDf0TXKztP1/SGK2jqu0/2c73U+Ol7T9+qZ83FantP5HQlnMpru0/ICQLmMCt7T+xpx3+mqztPybkg57Nqu0/sacd/pqs7T9cctwpHaztP76HS447pe0/KETAIVSp7T8F3V7SGK3tP0ErMGR1q+0/7nw/NV667T8wEtpyLsXtP8P1KFyPwu0/E0TdByC17T9uaTUk7rHtP6YnLPGAsu0/2lVI+Um17T+KsOHplbLtP2mpvB3htO0/UyKJXkax7T8ZBFYOLbLtP4qw4emVsu0/3bWEfNCz7T+DwMqhRbbtPxHkoISZtu0/MLsnDwu17T9NMnIW9rTtP2GJB5RNue0/k1fnGJC97T/GhQMhWcDtPzqSy39Iv+0/JAuYwK277T+Uh4Va07ztPyKrWz0nve0/6xwDste77T+9NbBVgsXtP/M8uDtrt+0/HsTOFDqv7T+Z8Ev9vKntP+RO6WD9n+0/RpT2Bl+Y7T/dByC1iZPtP5z51RwgmO0/4GdcOBCS7T8=",
          "dtype": "f8"
         },
         "increasing": {
          "fillcolor": "#24A06B",
          "line": {
           "color": "#2EC886"
          }
         },
         "line": {
          "width": 1
         },
         "low": {
          "bdata": "4L4OnDOi7T+C4seYu5btP30iT5Kume0/6Q5iZwqd7T+JKZFEL6PtP2fyzTY3pu0/f9k9eVio7T/whclUwajtP7nH0ocuqO0/Tdu/stKk7T9N27+y0qTtPxmto6oJou0/Hm0csRaf7T+GcqJdhZTtP7XgRV9Bmu0/djI4Sl6d7T+PGaiMf5/tP6pgVFInoO0/paDbSxqj7T/QJ/Ik6ZrtP+tunuqQm+0/lNkgk4yc7T9Zi08BMJ7tP4f58gLso+0/HT1+b9Of7T+SeeQPBp7tPxgmUwWjku0/RWRYxRuZ7T/P91PjpZvtP+2ePCzUmu0/CRaHM7+a7T+TqYJRSZ3tP48ZqIx/n+0/w0fElEii7T+pMLYQ5KDtP8NHxJRIou0/bLJGPUSj7T9pUgq6vaTtPwXdXtIYre0/Psvz4O6s7T88a7ddaK7tPzkLe9rhr+0/Z/LNNjem7T+0sKcd/prtP8NHxJRIou0/2c73U+Ol7T/ejnBa8KLtP+C+Dpwzou0/ilkvhnKi7T+kcD0K16PtP/+VlSaloO0/HT1+b9Of7T8Rje4gdqbtP1mLTwEwnu0/5X6HokCf7T+O6QlLPKDtP0gbR6zFp+0/uvdwyXGn7T//lZUmpaDtP+HurN12oe0/gjl6/N6m7T/mriXkg57tP5J55A8Gnu0/w0fElEii7T/cLjTXaaTtP1KbOLnfoe0/LzTXaaSl7T80SwLU1LLtP7GnHf6arO0/CD2bVZ+r7T/t9e6P96rtPz2bVZ+rre0/dVlMbD6u7T+zB1qBIavtP2EyVTAqqe0/lWBxOPOr7T+BCdy6m6ftP9nO91Pjpe0/kKD4Meau7T8ZBFYOLbLtPzHrxVBOtO0/OQt72uGv7T/HLlG9NbDtPxtkkpGzsO0/u37Bbti27T8R5KCEmbbtP6A3Fakwtu0/MevFUE607T9oeR7cnbXtP25pNSTuse0/3xXB/1ay7T9bQj7o2aztP89OBkfJq+0/hZm2f2Wl7T/LZ3ke3J3tPxXGFoIclO0/izIbZJKR7T+1iZP7HYrtPydmvRjKie0/uRluwOeH7T8=",
          "dtype": "f8"
         },
         "opacity": 1,
         "open": {
          "bdata": "FO0qpPyk7T+XkA96NqvtP1YrE36pn+0/6Q5iZwqd7T/YnlkSoKbtP7snDwu1pu0/1A5/Tdao7T8IPZtVn6vtP315AfbRqe0/Df0TXKyo7T8vNNdppKXtP0lL5e0Ip+0/uycPC7Wm7T//lZUmpaDtP7XgRV9Bmu0/AfbRqSuf7T+MuWsJ+aDtP7snDwu1pu0/tmeWBKip7T/3deCcEaXtP3mSdM3km+0/h/nyAuyj7T875Ga4AZ/tP2fyzTY3pu0/SnuDL0ym7T+MuWsJ+aDtP4y5awn5oO0/lzldFhOb7T+xUGuad5ztP/+VlSaloO0/tLCnHf6a7T/IBz2bVZ/tP48ZqIx/n+0/paDbSxqj7T8zxLEubqPtPxUdyeU/pO0/h/nyAuyj7T/3deCcEaXtPx7EzhQ6r+0/5zV2ieqt7T+L4H8r2bHtP205l+Kqsu0/OQt72uGv7T8jhEcbR6ztPxh9BWnGou0/1A5/Tdao7T+fsMQDyqbtP9r+lZUmpe0/2J5ZEqCm7T8VHcnlP6TtP0p7gy9Mpu0/Vft0PGag7T+bIOo+AKntP2Ni83FtqO0/i4nNx7Wh7T8YfQVpxqLtP2EyVTAqqe0/donqrYGt7T/UDn9N1qjtPxh9BWnGou0/71UrE36p7T9f0hito6rtP+RO6WD9n+0/2v6VlSal7T9/2T15WKjtP0ErMGR1q+0/gjl6/N6m7T8TRN0HILXtP8oV3uUivu0/A30iT5Ku7T+r56T3ja/tP+XVOQZkr+0/4nX9gt2w7T+KsOHplbLtPzkLe9rhr+0/lWBxOPOr7T/F/rJ78rDtP+4ljdE6qu0/w552+Guy7T9Pkq6ZfLPtPzHrxVBOtO0/vw6cM6K07T+mJyzxgLLtPxkEVg4tsu0/76zddqG57T+CkCxgArftPwU0ETY8ve0/mUf+YOC57T9K0jWTb7btPz9SRIZVvO0/EeSghJm27T9+AFKbOLntPzkLe9rhr+0/yY6NQLyu7T8oRMAhVKntP67wLhfxne0/uqC+ZU6X7T/dByC1iZPtP/JetTLhl+0/IXam0HmN7T8=",
          "dtype": "f8"
         },
         "type": "candlestick",
         "x": [
          "s21-12-24 20:00",
          "s21-12-24 21:00",
          "s21-12-26 22:00",
          "s21-12-26 23:00",
          "s21-12-27 00:00",
          "s21-12-27 01:00",
          "s21-12-27 02:00",
          "s21-12-27 03:00",
          "s21-12-27 04:00",
          "s21-12-27 05:00",
          "s21-12-27 06:00",
          "s21-12-27 07:00",
          "s21-12-27 08:00",
          "s21-12-27 09:00",
          "s21-12-27 10:00",
          "s21-12-27 11:00",
          "s21-12-27 12:00",
          "s21-12-27 13:00",
          "s21-12-27 14:00",
          "s21-12-27 15:00",
          "s21-12-27 16:00",
          "s21-12-27 17:00",
          "s21-12-27 18:00",
          "s21-12-27 19:00",
          "s21-12-27 20:00",
          "s21-12-27 21:00",
          "s21-12-27 22:00",
          "s21-12-27 23:00",
          "s21-12-28 00:00",
          "s21-12-28 01:00",
          "s21-12-28 02:00",
          "s21-12-28 03:00",
          "s21-12-28 04:00",
          "s21-12-28 05:00",
          "s21-12-28 06:00",
          "s21-12-28 07:00",
          "s21-12-28 08:00",
          "s21-12-28 09:00",
          "s21-12-28 10:00",
          "s21-12-28 11:00",
          "s21-12-28 12:00",
          "s21-12-28 13:00",
          "s21-12-28 14:00",
          "s21-12-28 15:00",
          "s21-12-28 16:00",
          "s21-12-28 17:00",
          "s21-12-28 18:00",
          "s21-12-28 19:00",
          "s21-12-28 20:00",
          "s21-12-28 21:00",
          "s21-12-28 22:00",
          "s21-12-28 23:00",
          "s21-12-29 00:00",
          "s21-12-29 01:00",
          "s21-12-29 02:00",
          "s21-12-29 03:00",
          "s21-12-29 04:00",
          "s21-12-29 05:00",
          "s21-12-29 06:00",
          "s21-12-29 07:00",
          "s21-12-29 08:00",
          "s21-12-29 09:00",
          "s21-12-29 10:00",
          "s21-12-29 11:00",
          "s21-12-29 12:00",
          "s21-12-29 13:00",
          "s21-12-29 14:00",
          "s21-12-29 15:00",
          "s21-12-29 16:00",
          "s21-12-29 17:00",
          "s21-12-29 18:00",
          "s21-12-29 19:00",
          "s21-12-29 20:00",
          "s21-12-29 21:00",
          "s21-12-29 22:00",
          "s21-12-29 23:00",
          "s21-12-30 00:00",
          "s21-12-30 01:00",
          "s21-12-30 02:00",
          "s21-12-30 03:00",
          "s21-12-30 04:00",
          "s21-12-30 05:00",
          "s21-12-30 06:00",
          "s21-12-30 07:00",
          "s21-12-30 08:00",
          "s21-12-30 09:00",
          "s21-12-30 10:00",
          "s21-12-30 11:00",
          "s21-12-30 12:00",
          "s21-12-30 13:00",
          "s21-12-30 14:00",
          "s21-12-30 15:00",
          "s21-12-30 16:00",
          "s21-12-30 17:00",
          "s21-12-30 18:00",
          "s21-12-30 19:00",
          "s21-12-30 20:00",
          "s21-12-30 21:00",
          "s21-12-30 22:00",
          "s21-12-30 23:00"
         ]
        }
       ],
       "layout": {
        "font": {
         "color": "#e1e1e1",
         "size": 8
        },
        "height": 400,
        "margin": {
         "b": 10,
         "l": 10,
         "r": 10,
         "t": 10
        },
        "paper_bgcolor": "#2c303c",
        "plot_bgcolor": "#2c303c",
        "template": {
         "data": {
          "bar": [
           {
            "error_x": {
             "color": "#2a3f5f"
            },
            "error_y": {
             "color": "#2a3f5f"
            },
            "marker": {
             "line": {
              "color": "#E5ECF6",
              "width": 0.5
             },
             "pattern": {
              "fillmode": "overlay",
              "size": 10,
              "solidity": 0.2
             }
            },
            "type": "bar"
           }
          ],
          "barpolar": [
           {
            "marker": {
             "line": {
              "color": "#E5ECF6",
              "width": 0.5
             },
             "pattern": {
              "fillmode": "overlay",
              "size": 10,
              "solidity": 0.2
             }
            },
            "type": "barpolar"
           }
          ],
          "carpet": [
           {
            "aaxis": {
             "endlinecolor": "#2a3f5f",
             "gridcolor": "white",
             "linecolor": "white",
             "minorgridcolor": "white",
             "startlinecolor": "#2a3f5f"
            },
            "baxis": {
             "endlinecolor": "#2a3f5f",
             "gridcolor": "white",
             "linecolor": "white",
             "minorgridcolor": "white",
             "startlinecolor": "#2a3f5f"
            },
            "type": "carpet"
           }
          ],
          "choropleth": [
           {
            "colorbar": {
             "outlinewidth": 0,
             "ticks": ""
            },
            "type": "choropleth"
           }
          ],
          "contour": [
           {
            "colorbar": {
             "outlinewidth": 0,
             "ticks": ""
            },
            "colorscale": [
             [
              0,
              "#0d0887"
             ],
             [
              0.1111111111111111,
              "#46039f"
             ],
             [
              0.2222222222222222,
              "#7201a8"
             ],
             [
              0.3333333333333333,
              "#9c179e"
             ],
             [
              0.4444444444444444,
              "#bd3786"
             ],
             [
              0.5555555555555556,
              "#d8576b"
             ],
             [
              0.6666666666666666,
              "#ed7953"
             ],
             [
              0.7777777777777778,
              "#fb9f3a"
             ],
             [
              0.8888888888888888,
              "#fdca26"
             ],
             [
              1,
              "#f0f921"
             ]
            ],
            "type": "contour"
           }
          ],
          "contourcarpet": [
           {
            "colorbar": {
             "outlinewidth": 0,
             "ticks": ""
            },
            "type": "contourcarpet"
           }
          ],
          "heatmap": [
           {
            "colorbar": {
             "outlinewidth": 0,
             "ticks": ""
            },
            "colorscale": [
             [
              0,
              "#0d0887"
             ],
             [
              0.1111111111111111,
              "#46039f"
             ],
             [
              0.2222222222222222,
              "#7201a8"
             ],
             [
              0.3333333333333333,
              "#9c179e"
             ],
             [
              0.4444444444444444,
              "#bd3786"
             ],
             [
              0.5555555555555556,
              "#d8576b"
             ],
             [
              0.6666666666666666,
              "#ed7953"
             ],
             [
              0.7777777777777778,
              "#fb9f3a"
             ],
             [
              0.8888888888888888,
              "#fdca26"
             ],
             [
              1,
              "#f0f921"
             ]
            ],
            "type": "heatmap"
           }
          ],
          "histogram": [
           {
            "marker": {
             "pattern": {
              "fillmode": "overlay",
              "size": 10,
              "solidity": 0.2
             }
            },
            "type": "histogram"
           }
          ],
          "histogram2d": [
           {
            "colorbar": {
             "outlinewidth": 0,
             "ticks": ""
            },
            "colorscale": [
             [
              0,
              "#0d0887"
             ],
             [
              0.1111111111111111,
              "#46039f"
             ],
             [
              0.2222222222222222,
              "#7201a8"
             ],
             [
              0.3333333333333333,
              "#9c179e"
             ],
             [
              0.4444444444444444,
              "#bd3786"
             ],
             [
              0.5555555555555556,
              "#d8576b"
             ],
             [
              0.6666666666666666,
              "#ed7953"
             ],
             [
              0.7777777777777778,
              "#fb9f3a"
             ],
             [
              0.8888888888888888,
              "#fdca26"
             ],
             [
              1,
              "#f0f921"
             ]
            ],
            "type": "histogram2d"
           }
          ],
          "histogram2dcontour": [
           {
            "colorbar": {
             "outlinewidth": 0,
             "ticks": ""
            },
            "colorscale": [
             [
              0,
              "#0d0887"
             ],
             [
              0.1111111111111111,
              "#46039f"
             ],
             [
              0.2222222222222222,
              "#7201a8"
             ],
             [
              0.3333333333333333,
              "#9c179e"
             ],
             [
              0.4444444444444444,
              "#bd3786"
             ],
             [
              0.5555555555555556,
              "#d8576b"
             ],
             [
              0.6666666666666666,
              "#ed7953"
             ],
             [
              0.7777777777777778,
              "#fb9f3a"
             ],
             [
              0.8888888888888888,
              "#fdca26"
             ],
             [
              1,
              "#f0f921"
             ]
            ],
            "type": "histogram2dcontour"
           }
          ],
          "mesh3d": [
           {
            "colorbar": {
             "outlinewidth": 0,
             "ticks": ""
            },
            "type": "mesh3d"
           }
          ],
          "parcoords": [
           {
            "line": {
             "colorbar": {
              "outlinewidth": 0,
              "ticks": ""
             }
            },
            "type": "parcoords"
           }
          ],
          "pie": [
           {
            "automargin": true,
            "type": "pie"
           }
          ],
          "scatter": [
           {
            "fillpattern": {
             "fillmode": "overlay",
             "size": 10,
             "solidity": 0.2
            },
            "type": "scatter"
           }
          ],
          "scatter3d": [
           {
            "line": {
             "colorbar": {
              "outlinewidth": 0,
              "ticks": ""
             }
            },
            "marker": {
             "colorbar": {
              "outlinewidth": 0,
              "ticks": ""
             }
            },
            "type": "scatter3d"
           }
          ],
          "scattercarpet": [
           {
            "marker": {
             "colorbar": {
              "outlinewidth": 0,
              "ticks": ""
             }
            },
            "type": "scattercarpet"
           }
          ],
          "scattergeo": [
           {
            "marker": {
             "colorbar": {
              "outlinewidth": 0,
              "ticks": ""
             }
            },
            "type": "scattergeo"
           }
          ],
          "scattergl": [
           {
            "marker": {
             "colorbar": {
              "outlinewidth": 0,
              "ticks": ""
             }
            },
            "type": "scattergl"
           }
          ],
          "scattermap": [
           {
            "marker": {
             "colorbar": {
              "outlinewidth": 0,
              "ticks": ""
             }
            },
            "type": "scattermap"
           }
          ],
          "scattermapbox": [
           {
            "marker": {
             "colorbar": {
              "outlinewidth": 0,
              "ticks": ""
             }
            },
            "type": "scattermapbox"
           }
          ],
          "scatterpolar": [
           {
            "marker": {
             "colorbar": {
              "outlinewidth": 0,
              "ticks": ""
             }
            },
            "type": "scatterpolar"
           }
          ],
          "scatterpolargl": [
           {
            "marker": {
             "colorbar": {
              "outlinewidth": 0,
              "ticks": ""
             }
            },
            "type": "scatterpolargl"
           }
          ],
          "scatterternary": [
           {
            "marker": {
             "colorbar": {
              "outlinewidth": 0,
              "ticks": ""
             }
            },
            "type": "scatterternary"
           }
          ],
          "surface": [
           {
            "colorbar": {
             "outlinewidth": 0,
             "ticks": ""
            },
            "colorscale": [
             [
              0,
              "#0d0887"
             ],
             [
              0.1111111111111111,
              "#46039f"
             ],
             [
              0.2222222222222222,
              "#7201a8"
             ],
             [
              0.3333333333333333,
              "#9c179e"
             ],
             [
              0.4444444444444444,
              "#bd3786"
             ],
             [
              0.5555555555555556,
              "#d8576b"
             ],
             [
              0.6666666666666666,
              "#ed7953"
             ],
             [
              0.7777777777777778,
              "#fb9f3a"
             ],
             [
              0.8888888888888888,
              "#fdca26"
             ],
             [
              1,
              "#f0f921"
             ]
            ],
            "type": "surface"
           }
          ],
          "table": [
           {
            "cells": {
             "fill": {
              "color": "#EBF0F8"
             },
             "line": {
              "color": "white"
             }
            },
            "header": {
             "fill": {
              "color": "#C8D4E3"
             },
             "line": {
              "color": "white"
             }
            },
            "type": "table"
           }
          ]
         },
         "layout": {
          "annotationdefaults": {
           "arrowcolor": "#2a3f5f",
           "arrowhead": 0,
           "arrowwidth": 1
          },
          "autotypenumbers": "strict",
          "coloraxis": {
           "colorbar": {
            "outlinewidth": 0,
            "ticks": ""
           }
          },
          "colorscale": {
           "diverging": [
            [
             0,
             "#8e0152"
            ],
            [
             0.1,
             "#c51b7d"
            ],
            [
             0.2,
             "#de77ae"
            ],
            [
             0.3,
             "#f1b6da"
            ],
            [
             0.4,
             "#fde0ef"
            ],
            [
             0.5,
             "#f7f7f7"
            ],
            [
             0.6,
             "#e6f5d0"
            ],
            [
             0.7,
             "#b8e186"
            ],
            [
             0.8,
             "#7fbc41"
            ],
            [
             0.9,
             "#4d9221"
            ],
            [
             1,
             "#276419"
            ]
           ],
           "sequential": [
            [
             0,
             "#0d0887"
            ],
            [
             0.1111111111111111,
             "#46039f"
            ],
            [
             0.2222222222222222,
             "#7201a8"
            ],
            [
             0.3333333333333333,
             "#9c179e"
            ],
            [
             0.4444444444444444,
             "#bd3786"
            ],
            [
             0.5555555555555556,
             "#d8576b"
            ],
            [
             0.6666666666666666,
             "#ed7953"
            ],
            [
             0.7777777777777778,
             "#fb9f3a"
            ],
            [
             0.8888888888888888,
             "#fdca26"
            ],
            [
             1,
             "#f0f921"
            ]
           ],
           "sequentialminus": [
            [
             0,
             "#0d0887"
            ],
            [
             0.1111111111111111,
             "#46039f"
            ],
            [
             0.2222222222222222,
             "#7201a8"
            ],
            [
             0.3333333333333333,
             "#9c179e"
            ],
            [
             0.4444444444444444,
             "#bd3786"
            ],
            [
             0.5555555555555556,
             "#d8576b"
            ],
            [
             0.6666666666666666,
             "#ed7953"
            ],
            [
             0.7777777777777778,
             "#fb9f3a"
            ],
            [
             0.8888888888888888,
             "#fdca26"
            ],
            [
             1,
             "#f0f921"
            ]
           ]
          },
          "colorway": [
           "#636efa",
           "#EF553B",
           "#00cc96",
           "#ab63fa",
           "#FFA15A",
           "#19d3f3",
           "#FF6692",
           "#B6E880",
           "#FF97FF",
           "#FECB52"
          ],
          "font": {
           "color": "#2a3f5f"
          },
          "geo": {
           "bgcolor": "white",
           "lakecolor": "white",
           "landcolor": "#E5ECF6",
           "showlakes": true,
           "showland": true,
           "subunitcolor": "white"
          },
          "hoverlabel": {
           "align": "left"
          },
          "hovermode": "closest",
          "mapbox": {
           "style": "light"
          },
          "paper_bgcolor": "white",
          "plot_bgcolor": "#E5ECF6",
          "polar": {
           "angularaxis": {
            "gridcolor": "white",
            "linecolor": "white",
            "ticks": ""
           },
           "bgcolor": "#E5ECF6",
           "radialaxis": {
            "gridcolor": "white",
            "linecolor": "white",
            "ticks": ""
           }
          },
          "scene": {
           "xaxis": {
            "backgroundcolor": "#E5ECF6",
            "gridcolor": "white",
            "gridwidth": 2,
            "linecolor": "white",
            "showbackground": true,
            "ticks": "",
            "zerolinecolor": "white"
           },
           "yaxis": {
            "backgroundcolor": "#E5ECF6",
            "gridcolor": "white",
            "gridwidth": 2,
            "linecolor": "white",
            "showbackground": true,
            "ticks": "",
            "zerolinecolor": "white"
           },
           "zaxis": {
            "backgroundcolor": "#E5ECF6",
            "gridcolor": "white",
            "gridwidth": 2,
            "linecolor": "white",
            "showbackground": true,
            "ticks": "",
            "zerolinecolor": "white"
           }
          },
          "shapedefaults": {
           "line": {
            "color": "#2a3f5f"
           }
          },
          "ternary": {
           "aaxis": {
            "gridcolor": "white",
            "linecolor": "white",
            "ticks": ""
           },
           "baxis": {
            "gridcolor": "white",
            "linecolor": "white",
            "ticks": ""
           },
           "bgcolor": "#E5ECF6",
           "caxis": {
            "gridcolor": "white",
            "linecolor": "white",
            "ticks": ""
           }
          },
          "title": {
           "x": 0.05
          },
          "xaxis": {
           "automargin": true,
           "gridcolor": "white",
           "linecolor": "white",
           "ticks": "",
           "title": {
            "standoff": 15
           },
           "zerolinecolor": "white",
           "zerolinewidth": 2
          },
          "yaxis": {
           "automargin": true,
           "gridcolor": "white",
           "linecolor": "white",
           "ticks": "",
           "title": {
            "standoff": 15
           },
           "zerolinecolor": "white",
           "zerolinewidth": 2
          }
         }
        },
        "width": 900,
        "xaxis": {
         "anchor": "y",
         "domain": [
          0,
          0.94
         ],
         "gridcolor": "#1f292f",
         "nticks": 5,
         "rangeslider": {
          "visible": false
         }
        },
        "yaxis": {
         "anchor": "x",
         "domain": [
          0,
          1
         ],
         "gridcolor": "#1f292f"
        },
        "yaxis2": {
         "anchor": "x",
         "gridcolor": "#1f292f",
         "overlaying": "y",
         "side": "right"
        }
       }
      }
     },
     "metadata": {},
     "output_type": "display_data"
    }
   ],
   "source": [
    "dfp = df_an.iloc[-100:]\n",
    "cp = CandlePlot(dfp, candles=True)\n",
    "cp.show_plot(line_traces=[], sec_traces=[])"
   ]
  },
  {
   "cell_type": "code",
   "execution_count": 9,
   "id": "2fbc028f",
   "metadata": {},
   "outputs": [],
   "source": [
    "import plotly.graph_objects as go"
   ]
  },
  {
   "cell_type": "code",
   "execution_count": 10,
   "id": "1e45762a",
   "metadata": {},
   "outputs": [
    {
     "data": {
      "application/vnd.plotly.v1+json": {
       "config": {
        "plotlyServerURL": "https://plot.ly"
       },
       "data": [
        {
         "name": "HIST",
         "type": "bar",
         "x": [
          "s21-12-24 20:00",
          "s21-12-24 21:00",
          "s21-12-26 22:00",
          "s21-12-26 23:00",
          "s21-12-27 00:00",
          "s21-12-27 01:00",
          "s21-12-27 02:00",
          "s21-12-27 03:00",
          "s21-12-27 04:00",
          "s21-12-27 05:00",
          "s21-12-27 06:00",
          "s21-12-27 07:00",
          "s21-12-27 08:00",
          "s21-12-27 09:00",
          "s21-12-27 10:00",
          "s21-12-27 11:00",
          "s21-12-27 12:00",
          "s21-12-27 13:00",
          "s21-12-27 14:00",
          "s21-12-27 15:00",
          "s21-12-27 16:00",
          "s21-12-27 17:00",
          "s21-12-27 18:00",
          "s21-12-27 19:00",
          "s21-12-27 20:00",
          "s21-12-27 21:00",
          "s21-12-27 22:00",
          "s21-12-27 23:00",
          "s21-12-28 00:00",
          "s21-12-28 01:00",
          "s21-12-28 02:00",
          "s21-12-28 03:00",
          "s21-12-28 04:00",
          "s21-12-28 05:00",
          "s21-12-28 06:00",
          "s21-12-28 07:00",
          "s21-12-28 08:00",
          "s21-12-28 09:00",
          "s21-12-28 10:00",
          "s21-12-28 11:00",
          "s21-12-28 12:00",
          "s21-12-28 13:00",
          "s21-12-28 14:00",
          "s21-12-28 15:00",
          "s21-12-28 16:00",
          "s21-12-28 17:00",
          "s21-12-28 18:00",
          "s21-12-28 19:00",
          "s21-12-28 20:00",
          "s21-12-28 21:00",
          "s21-12-28 22:00",
          "s21-12-28 23:00",
          "s21-12-29 00:00",
          "s21-12-29 01:00",
          "s21-12-29 02:00",
          "s21-12-29 03:00",
          "s21-12-29 04:00",
          "s21-12-29 05:00",
          "s21-12-29 06:00",
          "s21-12-29 07:00",
          "s21-12-29 08:00",
          "s21-12-29 09:00",
          "s21-12-29 10:00",
          "s21-12-29 11:00",
          "s21-12-29 12:00",
          "s21-12-29 13:00",
          "s21-12-29 14:00",
          "s21-12-29 15:00",
          "s21-12-29 16:00",
          "s21-12-29 17:00",
          "s21-12-29 18:00",
          "s21-12-29 19:00",
          "s21-12-29 20:00",
          "s21-12-29 21:00",
          "s21-12-29 22:00",
          "s21-12-29 23:00",
          "s21-12-30 00:00",
          "s21-12-30 01:00",
          "s21-12-30 02:00",
          "s21-12-30 03:00",
          "s21-12-30 04:00",
          "s21-12-30 05:00",
          "s21-12-30 06:00",
          "s21-12-30 07:00",
          "s21-12-30 08:00",
          "s21-12-30 09:00",
          "s21-12-30 10:00",
          "s21-12-30 11:00",
          "s21-12-30 12:00",
          "s21-12-30 13:00",
          "s21-12-30 14:00",
          "s21-12-30 15:00",
          "s21-12-30 16:00",
          "s21-12-30 17:00",
          "s21-12-30 18:00",
          "s21-12-30 19:00",
          "s21-12-30 20:00",
          "s21-12-30 21:00",
          "s21-12-30 22:00",
          "s21-12-30 23:00"
         ],
         "y": {
          "bdata": "CCR1+17A/r7OIGivmN0Yv3DNqogTGh6/sEiz8dCPBb/gfcXGsPLmPjAmacNgbBA/wFHCaj6sHT+A7eWE9yIhPwA+qrqy5iA/mskjVcI/GT/hOnUZHeQVP7TI/o+wuxE/cG+ov4NU2z5tev7Ij5UUv4r7yP0sARe/CJY9Kb8lE78Y4KcH+ZzwvsQM8dqXuAg/bD2QwDNpCT9QN5Ht0Kj4vgBikc+CNM6+AL07FZKj/L5oAkt3LDvyPvgAXpQ2rAg/WM5wajFW9z7gLQzJVUvRPmj7EjyQEwu/wpcYHmnSEr8AJktf3NMIv5h1LSQDjhG/vFUh/I/IB7/oVSf24Vf6vhiIzL/EB/M+qGn/clXYCT9EqiBJaXkTP55uDBqhnRU/SyUtCIcDGT9RNVWU7a4nPw3RHvQCCCw/a6AJWdfUMD/vWcLTh/AxP77UI+0GSjA/l0ciRvEUKT9WP80x9TIRP3CXP635dPw+AEE+2ua+7r6YpgldxjAMv3KPgGZy+xG/9CUX0/j9F7/EhNFsah4cvxs1Zci6ECG/kW6DHplbFb9OFzcFRacLvx9W3wZz0xa/shHzHasZGb9QHNaCE+MIvxg5ZA/XXvg+EpTab59Z/j5aVjpN83vxvqBCjBbRHuE+PrShjvGs/j5OHrQzsZ4Ev9ixSImtjQe/JrYSb/ww875GboUcVc35PqDjGwp4Aes+j2NY3V/0HT8F2+Ge804vPzdvYw3m2yc/Xb8aDo7nIj8uMifQG3McP7xBqd8b4Rg//Bqix5rlFz9QVr5V2t77PmAhuu68yPC+gAQqBpnY2b4Qmm1IGPILv4D2Zoju7vK+ANz8m2XD4j5okoGH+2MAPyB1WyqjjQY/gCocJfYrAD+Q3QNjQSrxPqBYoXRPuQ0/eOCG5cCODj9g8+I0kYEaP0hcztcTnxg/0MbDgOpzDD+Ez+rjhGkRP9BkAfzunvw+AG4Rj8wM6z6YjrN+yjkTv6RSaZjKayG/UHXgPTsbK79TleNcShY2v3V3638C2D2/L/ZlhlSGQb+Lvg32b8dDvwhS35FiJUS/oJFs2LsiQr8=",
          "dtype": "f8"
         }
        },
        {
         "line": {
          "shape": "spline",
          "width": 2
         },
         "name": "SIGNAL",
         "type": "scatter",
         "x": [
          "s21-12-24 20:00",
          "s21-12-24 21:00",
          "s21-12-26 22:00",
          "s21-12-26 23:00",
          "s21-12-27 00:00",
          "s21-12-27 01:00",
          "s21-12-27 02:00",
          "s21-12-27 03:00",
          "s21-12-27 04:00",
          "s21-12-27 05:00",
          "s21-12-27 06:00",
          "s21-12-27 07:00",
          "s21-12-27 08:00",
          "s21-12-27 09:00",
          "s21-12-27 10:00",
          "s21-12-27 11:00",
          "s21-12-27 12:00",
          "s21-12-27 13:00",
          "s21-12-27 14:00",
          "s21-12-27 15:00",
          "s21-12-27 16:00",
          "s21-12-27 17:00",
          "s21-12-27 18:00",
          "s21-12-27 19:00",
          "s21-12-27 20:00",
          "s21-12-27 21:00",
          "s21-12-27 22:00",
          "s21-12-27 23:00",
          "s21-12-28 00:00",
          "s21-12-28 01:00",
          "s21-12-28 02:00",
          "s21-12-28 03:00",
          "s21-12-28 04:00",
          "s21-12-28 05:00",
          "s21-12-28 06:00",
          "s21-12-28 07:00",
          "s21-12-28 08:00",
          "s21-12-28 09:00",
          "s21-12-28 10:00",
          "s21-12-28 11:00",
          "s21-12-28 12:00",
          "s21-12-28 13:00",
          "s21-12-28 14:00",
          "s21-12-28 15:00",
          "s21-12-28 16:00",
          "s21-12-28 17:00",
          "s21-12-28 18:00",
          "s21-12-28 19:00",
          "s21-12-28 20:00",
          "s21-12-28 21:00",
          "s21-12-28 22:00",
          "s21-12-28 23:00",
          "s21-12-29 00:00",
          "s21-12-29 01:00",
          "s21-12-29 02:00",
          "s21-12-29 03:00",
          "s21-12-29 04:00",
          "s21-12-29 05:00",
          "s21-12-29 06:00",
          "s21-12-29 07:00",
          "s21-12-29 08:00",
          "s21-12-29 09:00",
          "s21-12-29 10:00",
          "s21-12-29 11:00",
          "s21-12-29 12:00",
          "s21-12-29 13:00",
          "s21-12-29 14:00",
          "s21-12-29 15:00",
          "s21-12-29 16:00",
          "s21-12-29 17:00",
          "s21-12-29 18:00",
          "s21-12-29 19:00",
          "s21-12-29 20:00",
          "s21-12-29 21:00",
          "s21-12-29 22:00",
          "s21-12-29 23:00",
          "s21-12-30 00:00",
          "s21-12-30 01:00",
          "s21-12-30 02:00",
          "s21-12-30 03:00",
          "s21-12-30 04:00",
          "s21-12-30 05:00",
          "s21-12-30 06:00",
          "s21-12-30 07:00",
          "s21-12-30 08:00",
          "s21-12-30 09:00",
          "s21-12-30 10:00",
          "s21-12-30 11:00",
          "s21-12-30 12:00",
          "s21-12-30 13:00",
          "s21-12-30 14:00",
          "s21-12-30 15:00",
          "s21-12-30 16:00",
          "s21-12-30 17:00",
          "s21-12-30 18:00",
          "s21-12-30 19:00",
          "s21-12-30 20:00",
          "s21-12-30 21:00",
          "s21-12-30 22:00",
          "s21-12-30 23:00"
         ],
         "xaxis": "x",
         "y": {
          "bdata": "f4t6faHcKr+Zj2eTVPgtv6R0PoLL3TC/6g7MCUqKMb/vgz6oZFwxv4zxB5yeVTC/4Ji3arX1LL+AHX6J96wovwCO09pKcyS/zRQvkFJLIb/h2gDanR0dv7QoAbaxrhi/94YCp19BGL+TJUKZw2YdvzsyWmyHkyG//OSBUT/4I7/9I78ZJ30kvzETEJyd8SK/Ww8HYApbIb8WmXPnUCAiv3gqQ2qFPiK/YAjt+qEjI79NsDKXyJEivz7Q7C0FByG/y0mZolNMIL9vMQf3vCkgvyZhyPr12iG/H3SLHkM1JL+AJoDkgMIlvzTVBUlB9Ce/kerHSMpwKb9DJXlYiUMqvwPBejJLqym/aspK28UNKL8itSaymJ4lv08n5Y7k6iK/SwW/W+eUH7+iapSRcL0Tv2kIFF685fa+pTwJg9A2Bj9F+EYV8AsdP4NmNYH7qiY/afi90jfwLD9VoPd4lhYvPxKdYUY++i8/EKT4qkJ/Lz+mCShFNrwtP7n3V/jHfCs/+hL13Qh9KD9i4lqQO/kkPxuVQd4MtSA/kU7idDMTHD+nazvUSp4YPx+WgxJu6RI/ZKMNlgZGCT9QHFi1QQ0DP3SjRJccGQY/9/U/hVDkCT8tq5gb0rQHP1hvAS2/xgg/4aXVXl2cDD9OnugRsXQHP9hxlq9FkQE/JjZoQ0xW/j7dyETF0GQCPxiH5kXoFAQ/cVxJGoyHET/7JN30gpcgP8kANnh8jiY/o7C8+19IKz/plsF1w9YuP5Ff23hz+TA/QYFVJc13Mj+beqyOSOcyPxaS8ZolpDI/EmjrAU2KMj9C+6c/vKoxP2hfhoUAXzE/IFm+UIeEMT+zZfospwcyP1xBTUYUvDI/sCJ293M9Mz8nMgL9HIIzP+w8p3jnbzQ/8XPTf11kNT8ooyGTdgw3P+6IntBnljg/JqekJAd6OT8fVONyn5A6P7NZ0y4bAzs/kHzxxzQ5Oz+mQwYgmAU6P1IZ+cwe2Dc/qAo9Zbd0ND+mSgicSd4tP9UdJbiQ5B0/LzqbUmGg9L7UJWEgfFsmv/A7IFlvQDW/wYRWRc1RPr8=",
          "dtype": "f8"
         },
         "yaxis": "y"
        },
        {
         "line": {
          "shape": "spline",
          "width": 2
         },
         "name": "MACD",
         "type": "scatter",
         "x": [
          "s21-12-24 20:00",
          "s21-12-24 21:00",
          "s21-12-26 22:00",
          "s21-12-26 23:00",
          "s21-12-27 00:00",
          "s21-12-27 01:00",
          "s21-12-27 02:00",
          "s21-12-27 03:00",
          "s21-12-27 04:00",
          "s21-12-27 05:00",
          "s21-12-27 06:00",
          "s21-12-27 07:00",
          "s21-12-27 08:00",
          "s21-12-27 09:00",
          "s21-12-27 10:00",
          "s21-12-27 11:00",
          "s21-12-27 12:00",
          "s21-12-27 13:00",
          "s21-12-27 14:00",
          "s21-12-27 15:00",
          "s21-12-27 16:00",
          "s21-12-27 17:00",
          "s21-12-27 18:00",
          "s21-12-27 19:00",
          "s21-12-27 20:00",
          "s21-12-27 21:00",
          "s21-12-27 22:00",
          "s21-12-27 23:00",
          "s21-12-28 00:00",
          "s21-12-28 01:00",
          "s21-12-28 02:00",
          "s21-12-28 03:00",
          "s21-12-28 04:00",
          "s21-12-28 05:00",
          "s21-12-28 06:00",
          "s21-12-28 07:00",
          "s21-12-28 08:00",
          "s21-12-28 09:00",
          "s21-12-28 10:00",
          "s21-12-28 11:00",
          "s21-12-28 12:00",
          "s21-12-28 13:00",
          "s21-12-28 14:00",
          "s21-12-28 15:00",
          "s21-12-28 16:00",
          "s21-12-28 17:00",
          "s21-12-28 18:00",
          "s21-12-28 19:00",
          "s21-12-28 20:00",
          "s21-12-28 21:00",
          "s21-12-28 22:00",
          "s21-12-28 23:00",
          "s21-12-29 00:00",
          "s21-12-29 01:00",
          "s21-12-29 02:00",
          "s21-12-29 03:00",
          "s21-12-29 04:00",
          "s21-12-29 05:00",
          "s21-12-29 06:00",
          "s21-12-29 07:00",
          "s21-12-29 08:00",
          "s21-12-29 09:00",
          "s21-12-29 10:00",
          "s21-12-29 11:00",
          "s21-12-29 12:00",
          "s21-12-29 13:00",
          "s21-12-29 14:00",
          "s21-12-29 15:00",
          "s21-12-29 16:00",
          "s21-12-29 17:00",
          "s21-12-29 18:00",
          "s21-12-29 19:00",
          "s21-12-29 20:00",
          "s21-12-29 21:00",
          "s21-12-29 22:00",
          "s21-12-29 23:00",
          "s21-12-30 00:00",
          "s21-12-30 01:00",
          "s21-12-30 02:00",
          "s21-12-30 03:00",
          "s21-12-30 04:00",
          "s21-12-30 05:00",
          "s21-12-30 06:00",
          "s21-12-30 07:00",
          "s21-12-30 08:00",
          "s21-12-30 09:00",
          "s21-12-30 10:00",
          "s21-12-30 11:00",
          "s21-12-30 12:00",
          "s21-12-30 13:00",
          "s21-12-30 14:00",
          "s21-12-30 15:00",
          "s21-12-30 16:00",
          "s21-12-30 17:00",
          "s21-12-30 18:00",
          "s21-12-30 19:00",
          "s21-12-30 20:00",
          "s21-12-30 21:00",
          "s21-12-30 22:00",
          "s21-12-30 23:00"
         ],
         "xaxis": "x",
         "y": {
          "bdata": "ADDpXK20Lr8A0I11kDM1vwAoaWRQZDi/AHgCKEQ8NL8AWAgiz6QwvwBQW9YMdSi/AOCsaiw/HL8AwGASACgOvwCASgHBZPy+AMB0lsWtAr8AgC4CA+b8vgCACZgEzPu+AAAIaxeMFr8AUCCxKf4ovwCwPusdFC2/ALAg5h6LLb8AILQ6xpAmvwCgp0rvhhm/AADG33oBFr8AwCUFazUlvwBwgXVXtyK/AICUPRS4Jr8AUEkIY0ogvwCgqhHvtxW/AGCW6hrDGr8AoH2RxD4fvwAgzQnanyi/AMCXrXeeLb8A8FL8d/crvwBIjm2hXTC/AEDQR+5iL78AED6XhY4tvwAwgZpSSie/APCKfrCXIb8AwCwbyMMXvwDgvQMoOBC/AIBHToFF+r4AABaXaqAbPwBQXGhLKyk/AMhqabGbMz8AGBTZgzM5PwCIvq2Enzs/ACBwjJQCOz8AIO+ICNgzPwDIBL5uxDE/AMBUPVSTLT8AoOWtBLAmPwCwF8UOfyI/AADT6Bj8GD8AgMhnGagLPwAA6Ih668a+AIB7WWne+j4AwD+jUJUFPwAA3qInUO++AIDYpU/tCL8AAPg1R1fnvgBgew9EJBE/AKCWHpCIFD8AAPfpsO39PgCApHJzDg0/AEATE2v5FT8AAKTx/q/WPgAAyWaf8ee+AACrqJ9K5j4AgIdTe0sPPwCAbUhG1Qo/AODQ+/W9Jz8AgN9JO/M3PwC4zEIxNTc/ALjrBPcXNz8AmOquKIg2PwCwxXC6MTc/AAg+1zNxOD8AYAg0NqU0PwDwBcyZlzE/AMDSneoiMj8AkDRt8lgsPwDw/5wRMDA/AECefaIaMj8AmOqdJhQ0PwCwmKvIjTU/AKgZvPJCNT8AcDITwZQ0PwBoO2cRJzg/AFCEnDU2OT8AYFrg2qw9PwAgksYsvj4/ACC9dIQIPT8ACN6rAOs+PwBwkx4KzTw/AAhqLJsRPD8AYFmAJTc1PwDgiAFzRC4/AEAzGWecGz8AwH07lpwcvwAw4lHeXja/AND6kFcrQr8ACCb+Tl5JvwBwbz6axU6/AOqLPdGlUL8=",
          "dtype": "f8"
         },
         "yaxis": "y"
        }
       ],
       "layout": {
        "font": {
         "color": "#e1e1e1",
         "size": 8
        },
        "height": 400,
        "margin": {
         "b": 10,
         "l": 10,
         "r": 10,
         "t": 10
        },
        "paper_bgcolor": "#2c303c",
        "plot_bgcolor": "#2c303c",
        "template": {
         "data": {
          "bar": [
           {
            "error_x": {
             "color": "#2a3f5f"
            },
            "error_y": {
             "color": "#2a3f5f"
            },
            "marker": {
             "line": {
              "color": "#E5ECF6",
              "width": 0.5
             },
             "pattern": {
              "fillmode": "overlay",
              "size": 10,
              "solidity": 0.2
             }
            },
            "type": "bar"
           }
          ],
          "barpolar": [
           {
            "marker": {
             "line": {
              "color": "#E5ECF6",
              "width": 0.5
             },
             "pattern": {
              "fillmode": "overlay",
              "size": 10,
              "solidity": 0.2
             }
            },
            "type": "barpolar"
           }
          ],
          "carpet": [
           {
            "aaxis": {
             "endlinecolor": "#2a3f5f",
             "gridcolor": "white",
             "linecolor": "white",
             "minorgridcolor": "white",
             "startlinecolor": "#2a3f5f"
            },
            "baxis": {
             "endlinecolor": "#2a3f5f",
             "gridcolor": "white",
             "linecolor": "white",
             "minorgridcolor": "white",
             "startlinecolor": "#2a3f5f"
            },
            "type": "carpet"
           }
          ],
          "choropleth": [
           {
            "colorbar": {
             "outlinewidth": 0,
             "ticks": ""
            },
            "type": "choropleth"
           }
          ],
          "contour": [
           {
            "colorbar": {
             "outlinewidth": 0,
             "ticks": ""
            },
            "colorscale": [
             [
              0,
              "#0d0887"
             ],
             [
              0.1111111111111111,
              "#46039f"
             ],
             [
              0.2222222222222222,
              "#7201a8"
             ],
             [
              0.3333333333333333,
              "#9c179e"
             ],
             [
              0.4444444444444444,
              "#bd3786"
             ],
             [
              0.5555555555555556,
              "#d8576b"
             ],
             [
              0.6666666666666666,
              "#ed7953"
             ],
             [
              0.7777777777777778,
              "#fb9f3a"
             ],
             [
              0.8888888888888888,
              "#fdca26"
             ],
             [
              1,
              "#f0f921"
             ]
            ],
            "type": "contour"
           }
          ],
          "contourcarpet": [
           {
            "colorbar": {
             "outlinewidth": 0,
             "ticks": ""
            },
            "type": "contourcarpet"
           }
          ],
          "heatmap": [
           {
            "colorbar": {
             "outlinewidth": 0,
             "ticks": ""
            },
            "colorscale": [
             [
              0,
              "#0d0887"
             ],
             [
              0.1111111111111111,
              "#46039f"
             ],
             [
              0.2222222222222222,
              "#7201a8"
             ],
             [
              0.3333333333333333,
              "#9c179e"
             ],
             [
              0.4444444444444444,
              "#bd3786"
             ],
             [
              0.5555555555555556,
              "#d8576b"
             ],
             [
              0.6666666666666666,
              "#ed7953"
             ],
             [
              0.7777777777777778,
              "#fb9f3a"
             ],
             [
              0.8888888888888888,
              "#fdca26"
             ],
             [
              1,
              "#f0f921"
             ]
            ],
            "type": "heatmap"
           }
          ],
          "histogram": [
           {
            "marker": {
             "pattern": {
              "fillmode": "overlay",
              "size": 10,
              "solidity": 0.2
             }
            },
            "type": "histogram"
           }
          ],
          "histogram2d": [
           {
            "colorbar": {
             "outlinewidth": 0,
             "ticks": ""
            },
            "colorscale": [
             [
              0,
              "#0d0887"
             ],
             [
              0.1111111111111111,
              "#46039f"
             ],
             [
              0.2222222222222222,
              "#7201a8"
             ],
             [
              0.3333333333333333,
              "#9c179e"
             ],
             [
              0.4444444444444444,
              "#bd3786"
             ],
             [
              0.5555555555555556,
              "#d8576b"
             ],
             [
              0.6666666666666666,
              "#ed7953"
             ],
             [
              0.7777777777777778,
              "#fb9f3a"
             ],
             [
              0.8888888888888888,
              "#fdca26"
             ],
             [
              1,
              "#f0f921"
             ]
            ],
            "type": "histogram2d"
           }
          ],
          "histogram2dcontour": [
           {
            "colorbar": {
             "outlinewidth": 0,
             "ticks": ""
            },
            "colorscale": [
             [
              0,
              "#0d0887"
             ],
             [
              0.1111111111111111,
              "#46039f"
             ],
             [
              0.2222222222222222,
              "#7201a8"
             ],
             [
              0.3333333333333333,
              "#9c179e"
             ],
             [
              0.4444444444444444,
              "#bd3786"
             ],
             [
              0.5555555555555556,
              "#d8576b"
             ],
             [
              0.6666666666666666,
              "#ed7953"
             ],
             [
              0.7777777777777778,
              "#fb9f3a"
             ],
             [
              0.8888888888888888,
              "#fdca26"
             ],
             [
              1,
              "#f0f921"
             ]
            ],
            "type": "histogram2dcontour"
           }
          ],
          "mesh3d": [
           {
            "colorbar": {
             "outlinewidth": 0,
             "ticks": ""
            },
            "type": "mesh3d"
           }
          ],
          "parcoords": [
           {
            "line": {
             "colorbar": {
              "outlinewidth": 0,
              "ticks": ""
             }
            },
            "type": "parcoords"
           }
          ],
          "pie": [
           {
            "automargin": true,
            "type": "pie"
           }
          ],
          "scatter": [
           {
            "fillpattern": {
             "fillmode": "overlay",
             "size": 10,
             "solidity": 0.2
            },
            "type": "scatter"
           }
          ],
          "scatter3d": [
           {
            "line": {
             "colorbar": {
              "outlinewidth": 0,
              "ticks": ""
             }
            },
            "marker": {
             "colorbar": {
              "outlinewidth": 0,
              "ticks": ""
             }
            },
            "type": "scatter3d"
           }
          ],
          "scattercarpet": [
           {
            "marker": {
             "colorbar": {
              "outlinewidth": 0,
              "ticks": ""
             }
            },
            "type": "scattercarpet"
           }
          ],
          "scattergeo": [
           {
            "marker": {
             "colorbar": {
              "outlinewidth": 0,
              "ticks": ""
             }
            },
            "type": "scattergeo"
           }
          ],
          "scattergl": [
           {
            "marker": {
             "colorbar": {
              "outlinewidth": 0,
              "ticks": ""
             }
            },
            "type": "scattergl"
           }
          ],
          "scattermap": [
           {
            "marker": {
             "colorbar": {
              "outlinewidth": 0,
              "ticks": ""
             }
            },
            "type": "scattermap"
           }
          ],
          "scattermapbox": [
           {
            "marker": {
             "colorbar": {
              "outlinewidth": 0,
              "ticks": ""
             }
            },
            "type": "scattermapbox"
           }
          ],
          "scatterpolar": [
           {
            "marker": {
             "colorbar": {
              "outlinewidth": 0,
              "ticks": ""
             }
            },
            "type": "scatterpolar"
           }
          ],
          "scatterpolargl": [
           {
            "marker": {
             "colorbar": {
              "outlinewidth": 0,
              "ticks": ""
             }
            },
            "type": "scatterpolargl"
           }
          ],
          "scatterternary": [
           {
            "marker": {
             "colorbar": {
              "outlinewidth": 0,
              "ticks": ""
             }
            },
            "type": "scatterternary"
           }
          ],
          "surface": [
           {
            "colorbar": {
             "outlinewidth": 0,
             "ticks": ""
            },
            "colorscale": [
             [
              0,
              "#0d0887"
             ],
             [
              0.1111111111111111,
              "#46039f"
             ],
             [
              0.2222222222222222,
              "#7201a8"
             ],
             [
              0.3333333333333333,
              "#9c179e"
             ],
             [
              0.4444444444444444,
              "#bd3786"
             ],
             [
              0.5555555555555556,
              "#d8576b"
             ],
             [
              0.6666666666666666,
              "#ed7953"
             ],
             [
              0.7777777777777778,
              "#fb9f3a"
             ],
             [
              0.8888888888888888,
              "#fdca26"
             ],
             [
              1,
              "#f0f921"
             ]
            ],
            "type": "surface"
           }
          ],
          "table": [
           {
            "cells": {
             "fill": {
              "color": "#EBF0F8"
             },
             "line": {
              "color": "white"
             }
            },
            "header": {
             "fill": {
              "color": "#C8D4E3"
             },
             "line": {
              "color": "white"
             }
            },
            "type": "table"
           }
          ]
         },
         "layout": {
          "annotationdefaults": {
           "arrowcolor": "#2a3f5f",
           "arrowhead": 0,
           "arrowwidth": 1
          },
          "autotypenumbers": "strict",
          "coloraxis": {
           "colorbar": {
            "outlinewidth": 0,
            "ticks": ""
           }
          },
          "colorscale": {
           "diverging": [
            [
             0,
             "#8e0152"
            ],
            [
             0.1,
             "#c51b7d"
            ],
            [
             0.2,
             "#de77ae"
            ],
            [
             0.3,
             "#f1b6da"
            ],
            [
             0.4,
             "#fde0ef"
            ],
            [
             0.5,
             "#f7f7f7"
            ],
            [
             0.6,
             "#e6f5d0"
            ],
            [
             0.7,
             "#b8e186"
            ],
            [
             0.8,
             "#7fbc41"
            ],
            [
             0.9,
             "#4d9221"
            ],
            [
             1,
             "#276419"
            ]
           ],
           "sequential": [
            [
             0,
             "#0d0887"
            ],
            [
             0.1111111111111111,
             "#46039f"
            ],
            [
             0.2222222222222222,
             "#7201a8"
            ],
            [
             0.3333333333333333,
             "#9c179e"
            ],
            [
             0.4444444444444444,
             "#bd3786"
            ],
            [
             0.5555555555555556,
             "#d8576b"
            ],
            [
             0.6666666666666666,
             "#ed7953"
            ],
            [
             0.7777777777777778,
             "#fb9f3a"
            ],
            [
             0.8888888888888888,
             "#fdca26"
            ],
            [
             1,
             "#f0f921"
            ]
           ],
           "sequentialminus": [
            [
             0,
             "#0d0887"
            ],
            [
             0.1111111111111111,
             "#46039f"
            ],
            [
             0.2222222222222222,
             "#7201a8"
            ],
            [
             0.3333333333333333,
             "#9c179e"
            ],
            [
             0.4444444444444444,
             "#bd3786"
            ],
            [
             0.5555555555555556,
             "#d8576b"
            ],
            [
             0.6666666666666666,
             "#ed7953"
            ],
            [
             0.7777777777777778,
             "#fb9f3a"
            ],
            [
             0.8888888888888888,
             "#fdca26"
            ],
            [
             1,
             "#f0f921"
            ]
           ]
          },
          "colorway": [
           "#636efa",
           "#EF553B",
           "#00cc96",
           "#ab63fa",
           "#FFA15A",
           "#19d3f3",
           "#FF6692",
           "#B6E880",
           "#FF97FF",
           "#FECB52"
          ],
          "font": {
           "color": "#2a3f5f"
          },
          "geo": {
           "bgcolor": "white",
           "lakecolor": "white",
           "landcolor": "#E5ECF6",
           "showlakes": true,
           "showland": true,
           "subunitcolor": "white"
          },
          "hoverlabel": {
           "align": "left"
          },
          "hovermode": "closest",
          "mapbox": {
           "style": "light"
          },
          "paper_bgcolor": "white",
          "plot_bgcolor": "#E5ECF6",
          "polar": {
           "angularaxis": {
            "gridcolor": "white",
            "linecolor": "white",
            "ticks": ""
           },
           "bgcolor": "#E5ECF6",
           "radialaxis": {
            "gridcolor": "white",
            "linecolor": "white",
            "ticks": ""
           }
          },
          "scene": {
           "xaxis": {
            "backgroundcolor": "#E5ECF6",
            "gridcolor": "white",
            "gridwidth": 2,
            "linecolor": "white",
            "showbackground": true,
            "ticks": "",
            "zerolinecolor": "white"
           },
           "yaxis": {
            "backgroundcolor": "#E5ECF6",
            "gridcolor": "white",
            "gridwidth": 2,
            "linecolor": "white",
            "showbackground": true,
            "ticks": "",
            "zerolinecolor": "white"
           },
           "zaxis": {
            "backgroundcolor": "#E5ECF6",
            "gridcolor": "white",
            "gridwidth": 2,
            "linecolor": "white",
            "showbackground": true,
            "ticks": "",
            "zerolinecolor": "white"
           }
          },
          "shapedefaults": {
           "line": {
            "color": "#2a3f5f"
           }
          },
          "ternary": {
           "aaxis": {
            "gridcolor": "white",
            "linecolor": "white",
            "ticks": ""
           },
           "baxis": {
            "gridcolor": "white",
            "linecolor": "white",
            "ticks": ""
           },
           "bgcolor": "#E5ECF6",
           "caxis": {
            "gridcolor": "white",
            "linecolor": "white",
            "ticks": ""
           }
          },
          "title": {
           "x": 0.05
          },
          "xaxis": {
           "automargin": true,
           "gridcolor": "white",
           "linecolor": "white",
           "ticks": "",
           "title": {
            "standoff": 15
           },
           "zerolinecolor": "white",
           "zerolinewidth": 2
          },
          "yaxis": {
           "automargin": true,
           "gridcolor": "white",
           "linecolor": "white",
           "ticks": "",
           "title": {
            "standoff": 15
           },
           "zerolinecolor": "white",
           "zerolinewidth": 2
          }
         }
        },
        "width": 900,
        "xaxis": {
         "anchor": "y",
         "domain": [
          0,
          0.94
         ],
         "gridcolor": "#1f292f",
         "nticks": 5,
         "rangeslider": {
          "visible": false
         }
        },
        "yaxis": {
         "anchor": "x",
         "domain": [
          0,
          1
         ],
         "gridcolor": "#1f292f"
        },
        "yaxis2": {
         "anchor": "x",
         "gridcolor": "#1f292f",
         "overlaying": "y",
         "side": "right"
        }
       }
      }
     },
     "metadata": {},
     "output_type": "display_data"
    }
   ],
   "source": [
    "cp = CandlePlot(dfp, candles=False)\n",
    "cp.fig.add_trace(go.Bar(\n",
    "    x=cp.df_plot.sTime,\n",
    "    y=cp.df_plot.HIST,\n",
    "    name=\"HIST\"\n",
    "))\n",
    "cp.show_plot(line_traces=['SIGNAL', 'MACD'], sec_traces=[])"
   ]
  },
  {
   "cell_type": "code",
   "execution_count": null,
   "id": "8b836ece",
   "metadata": {},
   "outputs": [],
   "source": []
  },
  {
   "cell_type": "code",
   "execution_count": null,
   "id": "a70408e6",
   "metadata": {},
   "outputs": [],
   "source": []
  },
  {
   "cell_type": "code",
   "execution_count": null,
   "id": "b1d1d8e5",
   "metadata": {},
   "outputs": [],
   "source": []
  }
 ],
 "metadata": {
  "kernelspec": {
   "display_name": "Python 3",
   "language": "python",
   "name": "python3"
  },
  "language_info": {
   "codemirror_mode": {
    "name": "ipython",
    "version": 3
   },
   "file_extension": ".py",
   "mimetype": "text/x-python",
   "name": "python",
   "nbconvert_exporter": "python",
   "pygments_lexer": "ipython3",
   "version": "3.13.1"
  }
 },
 "nbformat": 4,
 "nbformat_minor": 5
}
