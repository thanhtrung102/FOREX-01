{
 "cells": [
  {
   "cell_type": "code",
   "execution_count": 1,
   "metadata": {},
   "outputs": [],
   "source": [
    "import pandas as pd\n",
    "import plotly.graph_objects as go\n",
    "import datetime as dt\n",
    "from plotting import CandlePlot"
   ]
  },
  {
   "cell_type": "code",
   "execution_count": 2,
   "metadata": {},
   "outputs": [],
   "source": [
    "pair = \"EUR_USD\"\n",
    "granularity = \"H4\"\n",
    "df = pd.read_pickle(f\"../data/{pair}_{granularity}.pkl\")"
   ]
  },
  {
   "cell_type": "code",
   "execution_count": 3,
   "metadata": {},
   "outputs": [],
   "source": [
    "df_plot = df.iloc[:100]"
   ]
  },
  {
   "cell_type": "code",
   "execution_count": 4,
   "metadata": {},
   "outputs": [
    {
     "data": {
      "text/plain": [
       "(100, 14)"
      ]
     },
     "execution_count": 4,
     "metadata": {},
     "output_type": "execute_result"
    }
   ],
   "source": [
    "df_plot.shape"
   ]
  },
  {
   "cell_type": "code",
   "execution_count": 5,
   "metadata": {},
   "outputs": [],
   "source": [
    "cp = CandlePlot(df_plot)\n"
   ]
  },
  {
   "cell_type": "code",
   "execution_count": 6,
   "metadata": {},
   "outputs": [
    {
     "data": {
      "application/vnd.plotly.v1+json": {
       "config": {
        "plotlyServerURL": "https://plot.ly"
       },
       "data": [
        {
         "close": {
          "bdata": "6lvmdFlM8D+JXkax3FLwP37GhQMhWfA/FytqMA1D8D/GbTSAt0DwP1UYWwhyUPA/cF8HzhlR8D8vUb01sFXwP1/v/nivWvA/f4eiQJ9I8D/iOzHrxVDwP3fWbrvQXPA/XwfOGVFa8D9dp5GWylvwPw1xrIvbaPA/G4F4Xb9g8D8AkX77OnDwP7SrkPKTavA/9kArMGR18D+QFJFhFW/wP4rNx7WhYvA/LQlQU8tW8D8A4xk09E/wP07RkVz+Q/A/qfbpeMxA8D8jSnuDL0zwP3dn7bYLTfA/B9MwfERM8D+vzjEgez3wP4Vf6udNRfA/wa27eapD8D9QATCeQUPwP3QHsTOFTvA/d2fttgtN8D/FG5lH/mDwPzDYDdsWZfA/Olj/5zBf8D/HSzeJQWDwPwhagSGrW/A/ODKP/MFA8D/QRNjw9ErwP7X9KytNSvA/FeP8TShE8D/O/GoOEEzwP8pUwaikTvA/jL6CNGNR8D//ykqTUlDwP+WbbW5MT/A/A0NWt3pO8D+PNo5Yi0/wP1IP0egOYvA/4XoUrkdh8D99rrZif1nwP5612y40V/A/95LGaB1V8D/zAuyjU1fwP9CbilQYW/A/hgMhWcCE8D/3r6w0KYXwP7QCQ1a3evA/7ginBS968D/cKR2s/3PwP3k7wmnBi/A/IEYIjzaO8D+6SQwCK4fwPxQ/xty1hPA/OdbFbTSA8D+Kq8q+K4LwP0D2evfHe/A/5nlwd9Zu8D9FR3L5D2nwP2B2Tx4WavA/Pj+MEB5t8D8RAYdQpWbwP034pX7eVPA/4Nv0Zz9S8D/VBFH3AUjwP+G04EVfQfA/HjNQGf8+8D83GsBbIEHwP2Kh1jTvOPA/tHbbheY68D9rSNxj6UPwPxJr8SkARvA/oKaWrfVF8D98D5ccd0rwP9c07zhFR/A/jX+fceFA8D+kNnFyv0PwPw2reCPzSPA/6StIMxZN8D+/fR04Z0TwP6MG0zB8RPA/EoPAyqFF8D8U7Sqk/CTwPxY1mIbhI/A/OIQqNXsg8D9zuiwmNh/wP2pq2VpfJPA/7Z48LNQa8D8=",
          "dtype": "f8"
         },
         "decreasing": {
          "fillcolor": "#CC2E3C",
          "line": {
           "color": "#FF3A4C"
          }
         },
         "high": {
          "bdata": "Zd8Vwf9W8D9dv2A3bFvwPwA6zJcXYPA/8KKvIM1Y8D9JERlW8UbwP/1qDhDMUfA/F4IclDBT8D9cj8L1KFzwP4BlpUkpaPA/vyuC/61k8D8QejarPlfwPz7o2az6XPA/IoleRrFc8D+lLEMc62LwP3b9gt2wbfA/H2gFhqxu8D83T3XIzXDwP8ai6exkcPA/1QloImx48D/ayeAoeXXwP/5IERlWcfA/26LMBplk8D84+MJkqmDwP3GPpQ9dUPA/gv+tZMdG8D+srdhfdk/wPx+6oL5lTvA/g4b+CS5W8D8/kSdJ10zwP9c07zhFR/A/gy9MpgpG8D+cFrzoK0jwP482jliLT/A/cF8HzhlR8D81mIbhI2LwP0eP39v0Z/A/ngyOkldn8D+nXOFdLmLwP26GG/D5YfA/p3Sw/s9h8D+wVYLF4UzwPzsBTYQNT/A/C3va4a9J8D8jSnuDL0zwP9VbA1slWPA/+yKhLedS8D8Jih9j7lrwPzGx+bg2VPA/w2SqYFRS8D+M1lHVBFHwP05/9iNFZPA/2nIuxVVl8D+k5NU5BmTwP+5Cc51GWvA/f/YjRWRY8D+ZDTLJyFnwP1x381SHXPA/IF7XL9iN8D8QBp57D5fwP58CYDyDhvA/Pq4NFeN88D8KgPEMGnrwP13Ed2LWi/A/cRsN4C2Q8D+FQgQcQpXwP0c9RKM7iPA/LlbUYBqG8D9PXfksz4PwP9tQMc7fhPA/rhIsDmd+8D+/mgMEc3TwP1mGONbFbfA/knTN5Jtt8D+u00hL5W3wPw/R6A5iZ/A/DkqYaftX8D9BSBYwgVvwP9O84xQdSfA/ho+IKZFE8D8v+grSjEXwP75Nf/YjRfA/si5uowE88D+rlQm/1E/wPwtjC0EOSvA/SOF6FK5H8D9B8WPMXUvwP83km21uTPA/QfFjzF1L8D8a+ie4WFHwPxeCHJQwU/A/HooCfSJP8D8DQ1a3ek7wP0WBPpEnSfA/6StIMxZN8D/YZI16iEbwPw39E1ysKPA/hIHn3sMl8D9rmnecoiPwP56Y9WIoJ/A/MXxETIkk8D8=",
          "dtype": "f8"
         },
         "increasing": {
          "fillcolor": "#24A06B",
          "line": {
           "color": "#2EC886"
          }
         },
         "line": {
          "width": 1
         },
         "low": {
          "bdata": "RFGgT+RJ8D9eaK7TSEvwP5YmpaDbS/A/WMoyxLEu8D+k374OnDPwP8i1oWKcP/A/dk8eFmpN8D88MevFUE7wP6W9wRcmU/A/nUZaKm9H8D95WKg1zTvwP1dgyOpWT/A/MbH5uDZU8D9/9iNFZFjwP/MC7KNTV/A/QBh47j1c8D931m670FzwP9uizAaZZPA/8PlhhPBo8D+0k8FR8mrwP9VbA1slWPA/+KqVCb9U8D/RdHYyOErwP6VmD7QCQ/A/PQrXo3A98D9xOPOrOUDwP+VEuwopP/A/t0WZDTJJ8D9uUWaDTDLwPwZM4NbdPPA/5US7Cik/8D/9E1ysqEHwP46vPbMkQPA/b9i2KLNB8D+71XPS+0bwPzyInSl0XvA/rTQpBd1e8D/L2xFOC17wP5olAWpqWfA/5US7Cik/8D/ulA7W/znwP0op6PaSRvA/GqN1VDVB8D8ziuWWVkPwP2e4AZ8fRvA/ZohjXdxG8D9YqDXNO07wP3mvWpnwS/A/BYvDmV9N8D8hAg6hSk3wP8k88gcDT/A/DkqYaftX8D+dhT3t8FfwP96rVib8UvA/wjQMHxFT8D9OKETAIVTwP8JM27+yUvA/t7QaEvdY8D+U+x2KAn3wP/Fo44i1ePA/8YCyKVd48D/eWbvtQnPwP6kT0ETYcPA/FW9kHvmD8D8xthDkoITwPx+/t+nPfvA/y7kUV5V98D+wcmiR7XzwP6DDfHkBdvA/yjLEsS5u8D/hYkUNpmHwP0d3EDtTaPA/ZAYq499n8D8YITzaOGLwP8R8eQH2UfA/soUgByVM8D8uymyQSUbwP8jNcAM+P/A/lZ9U+3Q88D8+IqZEEj3wP54Hd2ftNvA/isiwijcy8D+YF2AfnTrwP/zjvWplQvA/wJXs2AhE8D/4a7JGPUTwPwU0ETY8PfA/z72HS4478D+RD3o2qz7wP95UpMLYQvA/gv+tZMdG8D9tkElGzkLwP3lYqDXNO/A/xm00gLdA8D9N845TdCTwP6pIhbGFIPA/rthfdk8e8D/pJjEIrBzwP67YX3ZPHvA/ieqtga0S8D8=",
          "dtype": "f8"
         },
         "opacity": 1,
         "open": {
          "bdata": "4QuTqYJR8D9cIEHxY0zwP23n+6nxUvA/8KKvIM1Y8D+J78SsF0PwP+LkfoeiQPA/GyrG+ZtQ8D/+mqxRD1HwP6AVGLK6VfA/Qni0ccRa8D8Nw0fElEjwP43uIHamUPA/DAIrhxZZ8D/uQnOdRlrwPyTRyyiWW/A/8PlhhPBo8D8bgXhdv2DwP+MZNPRPcPA/JVgczvxq8D/ayeAoeXXwPx5QNuUKb/A/w7tcxHdi8D+fzarP1VbwPznRrkLKT/A/+YOB595D8D/+Q/rt60DwPyNKe4MvTPA/BaOSOgFN8D8jSnuDL0zwPz0K16NwPfA/TtGRXP5D8D9rYKsEi0PwP9481SE3Q/A/A0NWt3pO8D9a8KKvIE3wP3DOiNLeYPA/aK7TSEtl8D86WP/nMF/wP8dLN4lBYPA/CFqBIatb8D9UqdkDrUDwP+27IvjfSvA/gLdAguJH8D+jHqLRHUTwP0DBxYoaTPA/ylTBqKRO8D/9gt2wbVHwP3GPpQ9dUPA/V3iXi/hO8D/mywuwj07wP6yt2F92T/A/w9MrZRli8D9wtrkxPWHwPwzqW+Z0WfA/EHo2qz5X8D8TChFwCFXwPxB6Nqs+V/A/Xtcv2A1b8D9pjNZR1YTwP/evrDQphfA/Ja/OMSB78D8KgPEMGnrwP9wpHaz/c/A/lrIMcayL8D9ZNJ2dDI7wP57Swfo/h/A/bATidf2C8D851sVtNIDwP4qryr4rgvA/XW3F/rJ78D/JAiZw627wP0VHcvkPafA/7+GS405p8D9bttYXCW3wPxEBh1ClZvA/vrwA++hU8D/DZKpgVFLwP9UEUfcBSPA/ih9j7lpC8D87qpog6j7wPzcawFsgQfA/RSqMLQQ58D/Q7SWN0TrwP07RkVz+Q/A/S1mGONZF8D8u4jsx60XwP5iG4SNiSvA/1zTvOEVH8D9wCFVq9kDwP4e/JmvUQ/A/f4eiQJ9I8D8Fo5I6AU3wPzFCeLRxRPA/MUJ4tHFE8D8Sg8DKoUXwPxTtKqT8JPA/o1huaTUk8D8bDeAtkCDwP+V+h6JAH/A/+KV+3lQk8D8=",
          "dtype": "f8"
         },
         "type": "candlestick",
         "x": [
          "s22-07-27 21:00",
          "s22-07-28 01:00",
          "s22-07-28 05:00",
          "s22-07-28 09:00",
          "s22-07-28 13:00",
          "s22-07-28 17:00",
          "s22-07-28 21:00",
          "s22-07-29 01:00",
          "s22-07-29 05:00",
          "s22-07-29 09:00",
          "s22-07-29 13:00",
          "s22-07-29 17:00",
          "s22-07-31 21:00",
          "s22-08-01 01:00",
          "s22-08-01 05:00",
          "s22-08-01 09:00",
          "s22-08-01 13:00",
          "s22-08-01 17:00",
          "s22-08-01 21:00",
          "s22-08-02 01:00",
          "s22-08-02 05:00",
          "s22-08-02 09:00",
          "s22-08-02 13:00",
          "s22-08-02 17:00",
          "s22-08-02 21:00",
          "s22-08-03 01:00",
          "s22-08-03 05:00",
          "s22-08-03 09:00",
          "s22-08-03 13:00",
          "s22-08-03 17:00",
          "s22-08-03 21:00",
          "s22-08-04 01:00",
          "s22-08-04 05:00",
          "s22-08-04 09:00",
          "s22-08-04 13:00",
          "s22-08-04 17:00",
          "s22-08-04 21:00",
          "s22-08-05 01:00",
          "s22-08-05 05:00",
          "s22-08-05 09:00",
          "s22-08-05 13:00",
          "s22-08-05 17:00",
          "s22-08-07 21:00",
          "s22-08-08 01:00",
          "s22-08-08 05:00",
          "s22-08-08 09:00",
          "s22-08-08 13:00",
          "s22-08-08 17:00",
          "s22-08-08 21:00",
          "s22-08-09 01:00",
          "s22-08-09 05:00",
          "s22-08-09 09:00",
          "s22-08-09 13:00",
          "s22-08-09 17:00",
          "s22-08-09 21:00",
          "s22-08-10 01:00",
          "s22-08-10 05:00",
          "s22-08-10 09:00",
          "s22-08-10 13:00",
          "s22-08-10 17:00",
          "s22-08-10 21:00",
          "s22-08-11 01:00",
          "s22-08-11 05:00",
          "s22-08-11 09:00",
          "s22-08-11 13:00",
          "s22-08-11 17:00",
          "s22-08-11 21:00",
          "s22-08-12 01:00",
          "s22-08-12 05:00",
          "s22-08-12 09:00",
          "s22-08-12 13:00",
          "s22-08-12 17:00",
          "s22-08-14 21:00",
          "s22-08-15 01:00",
          "s22-08-15 05:00",
          "s22-08-15 09:00",
          "s22-08-15 13:00",
          "s22-08-15 17:00",
          "s22-08-15 21:00",
          "s22-08-16 01:00",
          "s22-08-16 05:00",
          "s22-08-16 09:00",
          "s22-08-16 13:00",
          "s22-08-16 17:00",
          "s22-08-16 21:00",
          "s22-08-17 01:00",
          "s22-08-17 05:00",
          "s22-08-17 09:00",
          "s22-08-17 13:00",
          "s22-08-17 17:00",
          "s22-08-17 21:00",
          "s22-08-18 01:00",
          "s22-08-18 05:00",
          "s22-08-18 09:00",
          "s22-08-18 13:00",
          "s22-08-18 17:00",
          "s22-08-18 21:00",
          "s22-08-19 01:00",
          "s22-08-19 05:00",
          "s22-08-19 09:00"
         ]
        }
       ],
       "layout": {
        "font": {
         "color": "#e1e1e1",
         "size": 8
        },
        "height": 400,
        "margin": {
         "b": 10,
         "l": 10,
         "r": 10,
         "t": 10
        },
        "paper_bgcolor": "#2c303c",
        "plot_bgcolor": "#2c303c",
        "template": {
         "data": {
          "bar": [
           {
            "error_x": {
             "color": "#2a3f5f"
            },
            "error_y": {
             "color": "#2a3f5f"
            },
            "marker": {
             "line": {
              "color": "#E5ECF6",
              "width": 0.5
             },
             "pattern": {
              "fillmode": "overlay",
              "size": 10,
              "solidity": 0.2
             }
            },
            "type": "bar"
           }
          ],
          "barpolar": [
           {
            "marker": {
             "line": {
              "color": "#E5ECF6",
              "width": 0.5
             },
             "pattern": {
              "fillmode": "overlay",
              "size": 10,
              "solidity": 0.2
             }
            },
            "type": "barpolar"
           }
          ],
          "carpet": [
           {
            "aaxis": {
             "endlinecolor": "#2a3f5f",
             "gridcolor": "white",
             "linecolor": "white",
             "minorgridcolor": "white",
             "startlinecolor": "#2a3f5f"
            },
            "baxis": {
             "endlinecolor": "#2a3f5f",
             "gridcolor": "white",
             "linecolor": "white",
             "minorgridcolor": "white",
             "startlinecolor": "#2a3f5f"
            },
            "type": "carpet"
           }
          ],
          "choropleth": [
           {
            "colorbar": {
             "outlinewidth": 0,
             "ticks": ""
            },
            "type": "choropleth"
           }
          ],
          "contour": [
           {
            "colorbar": {
             "outlinewidth": 0,
             "ticks": ""
            },
            "colorscale": [
             [
              0,
              "#0d0887"
             ],
             [
              0.1111111111111111,
              "#46039f"
             ],
             [
              0.2222222222222222,
              "#7201a8"
             ],
             [
              0.3333333333333333,
              "#9c179e"
             ],
             [
              0.4444444444444444,
              "#bd3786"
             ],
             [
              0.5555555555555556,
              "#d8576b"
             ],
             [
              0.6666666666666666,
              "#ed7953"
             ],
             [
              0.7777777777777778,
              "#fb9f3a"
             ],
             [
              0.8888888888888888,
              "#fdca26"
             ],
             [
              1,
              "#f0f921"
             ]
            ],
            "type": "contour"
           }
          ],
          "contourcarpet": [
           {
            "colorbar": {
             "outlinewidth": 0,
             "ticks": ""
            },
            "type": "contourcarpet"
           }
          ],
          "heatmap": [
           {
            "colorbar": {
             "outlinewidth": 0,
             "ticks": ""
            },
            "colorscale": [
             [
              0,
              "#0d0887"
             ],
             [
              0.1111111111111111,
              "#46039f"
             ],
             [
              0.2222222222222222,
              "#7201a8"
             ],
             [
              0.3333333333333333,
              "#9c179e"
             ],
             [
              0.4444444444444444,
              "#bd3786"
             ],
             [
              0.5555555555555556,
              "#d8576b"
             ],
             [
              0.6666666666666666,
              "#ed7953"
             ],
             [
              0.7777777777777778,
              "#fb9f3a"
             ],
             [
              0.8888888888888888,
              "#fdca26"
             ],
             [
              1,
              "#f0f921"
             ]
            ],
            "type": "heatmap"
           }
          ],
          "histogram": [
           {
            "marker": {
             "pattern": {
              "fillmode": "overlay",
              "size": 10,
              "solidity": 0.2
             }
            },
            "type": "histogram"
           }
          ],
          "histogram2d": [
           {
            "colorbar": {
             "outlinewidth": 0,
             "ticks": ""
            },
            "colorscale": [
             [
              0,
              "#0d0887"
             ],
             [
              0.1111111111111111,
              "#46039f"
             ],
             [
              0.2222222222222222,
              "#7201a8"
             ],
             [
              0.3333333333333333,
              "#9c179e"
             ],
             [
              0.4444444444444444,
              "#bd3786"
             ],
             [
              0.5555555555555556,
              "#d8576b"
             ],
             [
              0.6666666666666666,
              "#ed7953"
             ],
             [
              0.7777777777777778,
              "#fb9f3a"
             ],
             [
              0.8888888888888888,
              "#fdca26"
             ],
             [
              1,
              "#f0f921"
             ]
            ],
            "type": "histogram2d"
           }
          ],
          "histogram2dcontour": [
           {
            "colorbar": {
             "outlinewidth": 0,
             "ticks": ""
            },
            "colorscale": [
             [
              0,
              "#0d0887"
             ],
             [
              0.1111111111111111,
              "#46039f"
             ],
             [
              0.2222222222222222,
              "#7201a8"
             ],
             [
              0.3333333333333333,
              "#9c179e"
             ],
             [
              0.4444444444444444,
              "#bd3786"
             ],
             [
              0.5555555555555556,
              "#d8576b"
             ],
             [
              0.6666666666666666,
              "#ed7953"
             ],
             [
              0.7777777777777778,
              "#fb9f3a"
             ],
             [
              0.8888888888888888,
              "#fdca26"
             ],
             [
              1,
              "#f0f921"
             ]
            ],
            "type": "histogram2dcontour"
           }
          ],
          "mesh3d": [
           {
            "colorbar": {
             "outlinewidth": 0,
             "ticks": ""
            },
            "type": "mesh3d"
           }
          ],
          "parcoords": [
           {
            "line": {
             "colorbar": {
              "outlinewidth": 0,
              "ticks": ""
             }
            },
            "type": "parcoords"
           }
          ],
          "pie": [
           {
            "automargin": true,
            "type": "pie"
           }
          ],
          "scatter": [
           {
            "fillpattern": {
             "fillmode": "overlay",
             "size": 10,
             "solidity": 0.2
            },
            "type": "scatter"
           }
          ],
          "scatter3d": [
           {
            "line": {
             "colorbar": {
              "outlinewidth": 0,
              "ticks": ""
             }
            },
            "marker": {
             "colorbar": {
              "outlinewidth": 0,
              "ticks": ""
             }
            },
            "type": "scatter3d"
           }
          ],
          "scattercarpet": [
           {
            "marker": {
             "colorbar": {
              "outlinewidth": 0,
              "ticks": ""
             }
            },
            "type": "scattercarpet"
           }
          ],
          "scattergeo": [
           {
            "marker": {
             "colorbar": {
              "outlinewidth": 0,
              "ticks": ""
             }
            },
            "type": "scattergeo"
           }
          ],
          "scattergl": [
           {
            "marker": {
             "colorbar": {
              "outlinewidth": 0,
              "ticks": ""
             }
            },
            "type": "scattergl"
           }
          ],
          "scattermap": [
           {
            "marker": {
             "colorbar": {
              "outlinewidth": 0,
              "ticks": ""
             }
            },
            "type": "scattermap"
           }
          ],
          "scattermapbox": [
           {
            "marker": {
             "colorbar": {
              "outlinewidth": 0,
              "ticks": ""
             }
            },
            "type": "scattermapbox"
           }
          ],
          "scatterpolar": [
           {
            "marker": {
             "colorbar": {
              "outlinewidth": 0,
              "ticks": ""
             }
            },
            "type": "scatterpolar"
           }
          ],
          "scatterpolargl": [
           {
            "marker": {
             "colorbar": {
              "outlinewidth": 0,
              "ticks": ""
             }
            },
            "type": "scatterpolargl"
           }
          ],
          "scatterternary": [
           {
            "marker": {
             "colorbar": {
              "outlinewidth": 0,
              "ticks": ""
             }
            },
            "type": "scatterternary"
           }
          ],
          "surface": [
           {
            "colorbar": {
             "outlinewidth": 0,
             "ticks": ""
            },
            "colorscale": [
             [
              0,
              "#0d0887"
             ],
             [
              0.1111111111111111,
              "#46039f"
             ],
             [
              0.2222222222222222,
              "#7201a8"
             ],
             [
              0.3333333333333333,
              "#9c179e"
             ],
             [
              0.4444444444444444,
              "#bd3786"
             ],
             [
              0.5555555555555556,
              "#d8576b"
             ],
             [
              0.6666666666666666,
              "#ed7953"
             ],
             [
              0.7777777777777778,
              "#fb9f3a"
             ],
             [
              0.8888888888888888,
              "#fdca26"
             ],
             [
              1,
              "#f0f921"
             ]
            ],
            "type": "surface"
           }
          ],
          "table": [
           {
            "cells": {
             "fill": {
              "color": "#EBF0F8"
             },
             "line": {
              "color": "white"
             }
            },
            "header": {
             "fill": {
              "color": "#C8D4E3"
             },
             "line": {
              "color": "white"
             }
            },
            "type": "table"
           }
          ]
         },
         "layout": {
          "annotationdefaults": {
           "arrowcolor": "#2a3f5f",
           "arrowhead": 0,
           "arrowwidth": 1
          },
          "autotypenumbers": "strict",
          "coloraxis": {
           "colorbar": {
            "outlinewidth": 0,
            "ticks": ""
           }
          },
          "colorscale": {
           "diverging": [
            [
             0,
             "#8e0152"
            ],
            [
             0.1,
             "#c51b7d"
            ],
            [
             0.2,
             "#de77ae"
            ],
            [
             0.3,
             "#f1b6da"
            ],
            [
             0.4,
             "#fde0ef"
            ],
            [
             0.5,
             "#f7f7f7"
            ],
            [
             0.6,
             "#e6f5d0"
            ],
            [
             0.7,
             "#b8e186"
            ],
            [
             0.8,
             "#7fbc41"
            ],
            [
             0.9,
             "#4d9221"
            ],
            [
             1,
             "#276419"
            ]
           ],
           "sequential": [
            [
             0,
             "#0d0887"
            ],
            [
             0.1111111111111111,
             "#46039f"
            ],
            [
             0.2222222222222222,
             "#7201a8"
            ],
            [
             0.3333333333333333,
             "#9c179e"
            ],
            [
             0.4444444444444444,
             "#bd3786"
            ],
            [
             0.5555555555555556,
             "#d8576b"
            ],
            [
             0.6666666666666666,
             "#ed7953"
            ],
            [
             0.7777777777777778,
             "#fb9f3a"
            ],
            [
             0.8888888888888888,
             "#fdca26"
            ],
            [
             1,
             "#f0f921"
            ]
           ],
           "sequentialminus": [
            [
             0,
             "#0d0887"
            ],
            [
             0.1111111111111111,
             "#46039f"
            ],
            [
             0.2222222222222222,
             "#7201a8"
            ],
            [
             0.3333333333333333,
             "#9c179e"
            ],
            [
             0.4444444444444444,
             "#bd3786"
            ],
            [
             0.5555555555555556,
             "#d8576b"
            ],
            [
             0.6666666666666666,
             "#ed7953"
            ],
            [
             0.7777777777777778,
             "#fb9f3a"
            ],
            [
             0.8888888888888888,
             "#fdca26"
            ],
            [
             1,
             "#f0f921"
            ]
           ]
          },
          "colorway": [
           "#636efa",
           "#EF553B",
           "#00cc96",
           "#ab63fa",
           "#FFA15A",
           "#19d3f3",
           "#FF6692",
           "#B6E880",
           "#FF97FF",
           "#FECB52"
          ],
          "font": {
           "color": "#2a3f5f"
          },
          "geo": {
           "bgcolor": "white",
           "lakecolor": "white",
           "landcolor": "#E5ECF6",
           "showlakes": true,
           "showland": true,
           "subunitcolor": "white"
          },
          "hoverlabel": {
           "align": "left"
          },
          "hovermode": "closest",
          "mapbox": {
           "style": "light"
          },
          "paper_bgcolor": "white",
          "plot_bgcolor": "#E5ECF6",
          "polar": {
           "angularaxis": {
            "gridcolor": "white",
            "linecolor": "white",
            "ticks": ""
           },
           "bgcolor": "#E5ECF6",
           "radialaxis": {
            "gridcolor": "white",
            "linecolor": "white",
            "ticks": ""
           }
          },
          "scene": {
           "xaxis": {
            "backgroundcolor": "#E5ECF6",
            "gridcolor": "white",
            "gridwidth": 2,
            "linecolor": "white",
            "showbackground": true,
            "ticks": "",
            "zerolinecolor": "white"
           },
           "yaxis": {
            "backgroundcolor": "#E5ECF6",
            "gridcolor": "white",
            "gridwidth": 2,
            "linecolor": "white",
            "showbackground": true,
            "ticks": "",
            "zerolinecolor": "white"
           },
           "zaxis": {
            "backgroundcolor": "#E5ECF6",
            "gridcolor": "white",
            "gridwidth": 2,
            "linecolor": "white",
            "showbackground": true,
            "ticks": "",
            "zerolinecolor": "white"
           }
          },
          "shapedefaults": {
           "line": {
            "color": "#2a3f5f"
           }
          },
          "ternary": {
           "aaxis": {
            "gridcolor": "white",
            "linecolor": "white",
            "ticks": ""
           },
           "baxis": {
            "gridcolor": "white",
            "linecolor": "white",
            "ticks": ""
           },
           "bgcolor": "#E5ECF6",
           "caxis": {
            "gridcolor": "white",
            "linecolor": "white",
            "ticks": ""
           }
          },
          "title": {
           "x": 0.05
          },
          "xaxis": {
           "automargin": true,
           "gridcolor": "white",
           "linecolor": "white",
           "ticks": "",
           "title": {
            "standoff": 15
           },
           "zerolinecolor": "white",
           "zerolinewidth": 2
          },
          "yaxis": {
           "automargin": true,
           "gridcolor": "white",
           "linecolor": "white",
           "ticks": "",
           "title": {
            "standoff": 15
           },
           "zerolinecolor": "white",
           "zerolinewidth": 2
          }
         }
        },
        "width": 900,
        "xaxis": {
         "anchor": "y",
         "domain": [
          0,
          0.94
         ],
         "gridcolor": "#1f292f",
         "nticks": 5,
         "rangeslider": {
          "visible": false
         }
        },
        "yaxis": {
         "anchor": "x",
         "domain": [
          0,
          1
         ],
         "gridcolor": "#1f292f"
        },
        "yaxis2": {
         "anchor": "x",
         "gridcolor": "#1f292f",
         "overlaying": "y",
         "side": "right"
        }
       }
      }
     },
     "metadata": {},
     "output_type": "display_data"
    }
   ],
   "source": [
    "cp.show_plot()\n"
   ]
  },
  {
   "cell_type": "code",
   "execution_count": null,
   "metadata": {},
   "outputs": [],
   "source": []
  }
 ],
 "metadata": {
  "kernelspec": {
   "display_name": "venv",
   "language": "python",
   "name": "python3"
  },
  "language_info": {
   "codemirror_mode": {
    "name": "ipython",
    "version": 3
   },
   "file_extension": ".py",
   "mimetype": "text/x-python",
   "name": "python",
   "nbconvert_exporter": "python",
   "pygments_lexer": "ipython3",
   "version": "3.13.1"
  }
 },
 "nbformat": 4,
 "nbformat_minor": 2
}
