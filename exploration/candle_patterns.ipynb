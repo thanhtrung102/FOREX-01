{
 "cells": [
  {
   "cell_type": "code",
   "execution_count": 1,
   "id": "5ffd4abf",
   "metadata": {},
   "outputs": [],
   "source": [
    "import sys\n",
    "sys.path.append(\"../\")\n",
    "from plotting import CandlePlot\n",
    "import pandas as pd"
   ]
  },
  {
   "cell_type": "code",
   "execution_count": 4,
   "id": "f967eddc",
   "metadata": {},
   "outputs": [],
   "source": [
    "from technicals.patterns import apply_patterns"
   ]
  },
  {
   "cell_type": "code",
   "execution_count": 5,
   "id": "87cab222",
   "metadata": {},
   "outputs": [],
   "source": [
    "df = pd.read_pickle(\"../data/GBP_JPY_H1.pkl\")"
   ]
  },
  {
   "cell_type": "code",
   "execution_count": 6,
   "id": "47d4a3ea",
   "metadata": {},
   "outputs": [],
   "source": [
    "df_an = df[['time', 'mid_o', 'mid_h', 'mid_l', 'mid_c']].copy()"
   ]
  },
  {
   "cell_type": "code",
   "execution_count": 7,
   "id": "222ffdc4",
   "metadata": {},
   "outputs": [
    {
     "data": {
      "text/html": [
       "<div>\n",
       "<style scoped>\n",
       "    .dataframe tbody tr th:only-of-type {\n",
       "        vertical-align: middle;\n",
       "    }\n",
       "\n",
       "    .dataframe tbody tr th {\n",
       "        vertical-align: top;\n",
       "    }\n",
       "\n",
       "    .dataframe thead th {\n",
       "        text-align: right;\n",
       "    }\n",
       "</style>\n",
       "<table border=\"1\" class=\"dataframe\">\n",
       "  <thead>\n",
       "    <tr style=\"text-align: right;\">\n",
       "      <th></th>\n",
       "      <th>time</th>\n",
       "      <th>mid_o</th>\n",
       "      <th>mid_h</th>\n",
       "      <th>mid_l</th>\n",
       "      <th>mid_c</th>\n",
       "    </tr>\n",
       "  </thead>\n",
       "  <tbody>\n",
       "    <tr>\n",
       "      <th>37219</th>\n",
       "      <td>2021-12-30 19:00:00+00:00</td>\n",
       "      <td>155.312</td>\n",
       "      <td>155.444</td>\n",
       "      <td>155.274</td>\n",
       "      <td>155.444</td>\n",
       "    </tr>\n",
       "    <tr>\n",
       "      <th>37220</th>\n",
       "      <td>2021-12-30 20:00:00+00:00</td>\n",
       "      <td>155.442</td>\n",
       "      <td>155.470</td>\n",
       "      <td>155.289</td>\n",
       "      <td>155.312</td>\n",
       "    </tr>\n",
       "    <tr>\n",
       "      <th>37221</th>\n",
       "      <td>2021-12-30 21:00:00+00:00</td>\n",
       "      <td>155.317</td>\n",
       "      <td>155.382</td>\n",
       "      <td>155.286</td>\n",
       "      <td>155.382</td>\n",
       "    </tr>\n",
       "    <tr>\n",
       "      <th>37222</th>\n",
       "      <td>2021-12-30 22:00:00+00:00</td>\n",
       "      <td>155.353</td>\n",
       "      <td>155.381</td>\n",
       "      <td>155.282</td>\n",
       "      <td>155.329</td>\n",
       "    </tr>\n",
       "    <tr>\n",
       "      <th>37223</th>\n",
       "      <td>2021-12-30 23:00:00+00:00</td>\n",
       "      <td>155.336</td>\n",
       "      <td>155.360</td>\n",
       "      <td>155.284</td>\n",
       "      <td>155.310</td>\n",
       "    </tr>\n",
       "  </tbody>\n",
       "</table>\n",
       "</div>"
      ],
      "text/plain": [
       "                           time    mid_o    mid_h    mid_l    mid_c\n",
       "37219 2021-12-30 19:00:00+00:00  155.312  155.444  155.274  155.444\n",
       "37220 2021-12-30 20:00:00+00:00  155.442  155.470  155.289  155.312\n",
       "37221 2021-12-30 21:00:00+00:00  155.317  155.382  155.286  155.382\n",
       "37222 2021-12-30 22:00:00+00:00  155.353  155.381  155.282  155.329\n",
       "37223 2021-12-30 23:00:00+00:00  155.336  155.360  155.284  155.310"
      ]
     },
     "execution_count": 7,
     "metadata": {},
     "output_type": "execute_result"
    }
   ],
   "source": [
    "df_an.tail()"
   ]
  },
  {
   "cell_type": "code",
   "execution_count": 8,
   "id": "0e071e3c",
   "metadata": {},
   "outputs": [],
   "source": [
    "#direction = df_an.mid_c - df_an.mid_o\n",
    "#body_size = abs(direction)\n",
    "#direction = [1 if x>=0 else 0 for x in direction ]\n",
    "#full_range = df_an.mid_h - df_an.mid_l\n",
    "#body_perc = (body_size / full_range) * 100\n",
    "#body_lower = df_an[['mid_c', 'mid_o']].min(axis=1)\n",
    "#body_upper = df_an[['mid_c', 'mid_o']].max(axis=1)\n",
    "#body_bottom_perc = ((body_lower - df_an.mid_l) / full_range) * 100\n",
    "#body_top_perc = ((body_upper - df_an.mid_l) / full_range) * 100"
   ]
  },
  {
   "cell_type": "code",
   "execution_count": 9,
   "id": "efb50bc8",
   "metadata": {},
   "outputs": [],
   "source": [
    "#df_an['body_upper'] = body_upper\n",
    "#df_an['body_lower'] = body_lower\n",
    "#df_an['body_perc'] = body_perc\n",
    "#df_an['body_bottom_perc'] = body_bottom_perc\n",
    "#df_an['body_top_perc'] = body_top_perc\n",
    "#df_an['full_range'] = full_range"
   ]
  },
  {
   "cell_type": "code",
   "execution_count": 10,
   "id": "fe531185",
   "metadata": {},
   "outputs": [],
   "source": [
    "df_an = apply_patterns(df_an)"
   ]
  },
  {
   "cell_type": "code",
   "execution_count": 1,
   "id": "32b8cdd0",
   "metadata": {},
   "outputs": [],
   "source": [
    "HANGING_MAN_BODY = 15.0\n",
    "HANGING_MAN_HEIGHT = 75.0\n",
    "SHOOTING_STAR_HEIGHT = 25.0\n",
    "SPINNING_TOP_MIN = 40.0\n",
    "SPINNING_TOP_MAX = 60.0\n",
    "MARUBOZU = 98.0\n",
    "ENGULFING_FACTOR = 1.1\n",
    "\n",
    "apply_marubozu = lambda x: x.body_perc > MARUBOZU\n",
    "\n",
    "def apply_hanging_man(row):\n",
    "    if row.body_bottom_perc > HANGING_MAN_HEIGHT:\n",
    "        if row.body_perc < HANGING_MAN_BODY:\n",
    "            return True\n",
    "    return False\n",
    "\n",
    "def apply_shooting_star(row):\n",
    "    if row.body_top_perc < SHOOTING_STAR_HEIGHT:\n",
    "        if row.body_perc < HANGING_MAN_BODY:\n",
    "            return True\n",
    "    return False\n",
    "\n",
    "def apply_spinning_top(row):\n",
    "    if row.body_top_perc < SPINNING_TOP_MAX:\n",
    "        if row.body_bottom_perc > SPINNING_TOP_MIN:\n",
    "            if row.body_perc < HANGING_MAN_BODY:\n",
    "                return True\n",
    "    return False\n",
    "\n",
    "def apply_engulfing(row):\n",
    "    if row.direction != row.direction_prev:\n",
    "        if row.body_size > row.body_size_prev * ENGULFING_FACTOR:\n",
    "            return True\n",
    "    return False\n",
    "\n",
    "TWEEZER_BODY = 15.0\n",
    "TWEEZER_HL = 0.01\n",
    "TWEEZER_TOP_BODY = 40.0\n",
    "TWEEZER_BOTTOM_BODY = 60.0\n",
    "\n",
    "def apply_tweezer_top(row):\n",
    "    if abs(row.body_size_change) < TWEEZER_BODY:\n",
    "        if row.direction == -1 and row.direction != row.direction_prev:\n",
    "            if abs(row.low_change) < TWEEZER_HL and abs(row.high_change) < TWEEZER_HL:\n",
    "                if row.body_top_perc < TWEEZER_TOP_BODY:\n",
    "                    return True\n",
    "    return False               \n",
    "\n",
    "def apply_tweezer_bottom(row):\n",
    "    if abs(row.body_size_change) < TWEEZER_BODY:\n",
    "        if row.direction == 1 and row.direction != row.direction_prev:\n",
    "            if abs(row.low_change) < TWEEZER_HL and abs(row.high_change) < TWEEZER_HL:\n",
    "                if row.body_bottom_perc > TWEEZER_BOTTOM_BODY:\n",
    "                    return True\n",
    "    return False     \n",
    "\n",
    "MORNING_STAR_PREV2_BODY = 90.0\n",
    "MORNING_STAR_PREV_BODY = 10.0\n",
    "\n",
    "def apply_morning_star(row, direction=1):\n",
    "    if row.body_perc_prev_2 > MORNING_STAR_PREV2_BODY:\n",
    "        if row.body_perc_prev < MORNING_STAR_PREV_BODY:\n",
    "            if row.direction == direction and row.direction_prev_2 != direction:\n",
    "                if direction == 1:\n",
    "                    if row.mid_c > row.mid_point_prev_2:\n",
    "                        return True\n",
    "                else:\n",
    "                    if row.mid_c < row.mid_point_prev_2:\n",
    "                        return True\n",
    "    return False"
   ]
  },
  {
   "cell_type": "code",
   "execution_count": 2,
   "id": "be8af8e2",
   "metadata": {},
   "outputs": [
    {
     "ename": "NameError",
     "evalue": "name 'df_an' is not defined",
     "output_type": "error",
     "traceback": [
      "\u001b[1;31m---------------------------------------------------------------------------\u001b[0m",
      "\u001b[1;31mNameError\u001b[0m                                 Traceback (most recent call last)",
      "Cell \u001b[1;32mIn[2], line 1\u001b[0m\n\u001b[1;32m----> 1\u001b[0m df_an[\u001b[38;5;124m'\u001b[39m\u001b[38;5;124mbody_size_prev\u001b[39m\u001b[38;5;124m'\u001b[39m] \u001b[38;5;241m=\u001b[39m \u001b[43mdf_an\u001b[49m\u001b[38;5;241m.\u001b[39mbody_size\u001b[38;5;241m.\u001b[39mshift(\u001b[38;5;241m1\u001b[39m)\n\u001b[0;32m      2\u001b[0m df_an[\u001b[38;5;124m'\u001b[39m\u001b[38;5;124mdirection_prev\u001b[39m\u001b[38;5;124m'\u001b[39m] \u001b[38;5;241m=\u001b[39m df_an\u001b[38;5;241m.\u001b[39mdirection\u001b[38;5;241m.\u001b[39mshift(\u001b[38;5;241m1\u001b[39m)\n\u001b[0;32m      3\u001b[0m df_an[\u001b[38;5;124m'\u001b[39m\u001b[38;5;124mdirection_prev_2\u001b[39m\u001b[38;5;124m'\u001b[39m] \u001b[38;5;241m=\u001b[39m df_an\u001b[38;5;241m.\u001b[39mdirection\u001b[38;5;241m.\u001b[39mshift(\u001b[38;5;241m2\u001b[39m)\n",
      "\u001b[1;31mNameError\u001b[0m: name 'df_an' is not defined"
     ]
    }
   ],
   "source": [
    "df_an['body_size_prev'] = df_an.body_size.shift(1)\n",
    "df_an['direction_prev'] = df_an.direction.shift(1)\n",
    "df_an['direction_prev_2'] = df_an.direction.shift(2)\n",
    "df_an['body_perc_prev'] = df_an.body_perc.shift(1)\n",
    "df_an['body_perc_prev_2'] = df_an.body_perc.shift(2)\n",
    "df_an['HANGING_MAN'] = df_an.apply(apply_hanging_man, axis=1)\n",
    "df_an['SHOOTING_STAR'] = df_an.apply(apply_shooting_star, axis=1)\n",
    "df_an['SPINNING_TOP'] = df_an.apply(apply_spinning_top, axis=1)\n",
    "df_an['MARUBOZU'] = df_an.apply(apply_marubozu, axis=1)\n",
    "df_an['ENGULFING'] = df_an.apply(apply_engulfing, axis=1)\n",
    "df_an['TWEEZER_TOP'] = df_an.apply(apply_tweezer_top, axis=1)\n",
    "df_an['TWEEZER_BOTTOM'] = df_an.apply(apply_tweezer_bottom, axis=1)\n",
    "df_an['MORNING_STAR'] = df_an.apply(apply_morning_star, axis=1)\n",
    "df_an['EVENING_STAR'] = df_an.apply(apply_morning_star, axis=1, direction=-1)"
   ]
  },
  {
   "cell_type": "code",
   "execution_count": 13,
   "id": "a84ed860",
   "metadata": {},
   "outputs": [
    {
     "data": {
      "text/html": [
       "<div>\n",
       "<style scoped>\n",
       "    .dataframe tbody tr th:only-of-type {\n",
       "        vertical-align: middle;\n",
       "    }\n",
       "\n",
       "    .dataframe tbody tr th {\n",
       "        vertical-align: top;\n",
       "    }\n",
       "\n",
       "    .dataframe thead th {\n",
       "        text-align: right;\n",
       "    }\n",
       "</style>\n",
       "<table border=\"1\" class=\"dataframe\">\n",
       "  <thead>\n",
       "    <tr style=\"text-align: right;\">\n",
       "      <th></th>\n",
       "      <th>time</th>\n",
       "      <th>mid_o</th>\n",
       "      <th>mid_h</th>\n",
       "      <th>mid_l</th>\n",
       "      <th>mid_c</th>\n",
       "      <th>body_lower</th>\n",
       "      <th>body_upper</th>\n",
       "      <th>body_bottom_perc</th>\n",
       "      <th>body_top_perc</th>\n",
       "      <th>body_perc</th>\n",
       "      <th>...</th>\n",
       "      <th>body_perc_prev_2</th>\n",
       "      <th>HANGING_MAN</th>\n",
       "      <th>SHOOTING_STAR</th>\n",
       "      <th>SPINNING_TOP</th>\n",
       "      <th>MARUBOZU</th>\n",
       "      <th>ENGULFING</th>\n",
       "      <th>TWEEZER_TOP</th>\n",
       "      <th>TWEEZER_BOTTOM</th>\n",
       "      <th>MORNING_STAR</th>\n",
       "      <th>EVENING_STAR</th>\n",
       "    </tr>\n",
       "  </thead>\n",
       "  <tbody>\n",
       "    <tr>\n",
       "      <th>3962</th>\n",
       "      <td>2016-08-25 01:00:00+00:00</td>\n",
       "      <td>133.144</td>\n",
       "      <td>133.179</td>\n",
       "      <td>133.018</td>\n",
       "      <td>133.018</td>\n",
       "      <td>133.018</td>\n",
       "      <td>133.144</td>\n",
       "      <td>0.000000</td>\n",
       "      <td>78.260870</td>\n",
       "      <td>78.260870</td>\n",
       "      <td>...</td>\n",
       "      <td>95.500000</td>\n",
       "      <td>False</td>\n",
       "      <td>False</td>\n",
       "      <td>False</td>\n",
       "      <td>False</td>\n",
       "      <td>True</td>\n",
       "      <td>False</td>\n",
       "      <td>False</td>\n",
       "      <td>False</td>\n",
       "      <td>True</td>\n",
       "    </tr>\n",
       "    <tr>\n",
       "      <th>8904</th>\n",
       "      <td>2017-06-13 01:00:00+00:00</td>\n",
       "      <td>139.270</td>\n",
       "      <td>139.436</td>\n",
       "      <td>139.128</td>\n",
       "      <td>139.202</td>\n",
       "      <td>139.202</td>\n",
       "      <td>139.270</td>\n",
       "      <td>24.025974</td>\n",
       "      <td>46.103896</td>\n",
       "      <td>22.077922</td>\n",
       "      <td>...</td>\n",
       "      <td>92.814371</td>\n",
       "      <td>False</td>\n",
       "      <td>False</td>\n",
       "      <td>False</td>\n",
       "      <td>False</td>\n",
       "      <td>False</td>\n",
       "      <td>False</td>\n",
       "      <td>False</td>\n",
       "      <td>False</td>\n",
       "      <td>True</td>\n",
       "    </tr>\n",
       "    <tr>\n",
       "      <th>13219</th>\n",
       "      <td>2018-02-21 19:00:00+00:00</td>\n",
       "      <td>150.360</td>\n",
       "      <td>150.502</td>\n",
       "      <td>150.124</td>\n",
       "      <td>150.171</td>\n",
       "      <td>150.171</td>\n",
       "      <td>150.360</td>\n",
       "      <td>12.433862</td>\n",
       "      <td>62.433862</td>\n",
       "      <td>50.000000</td>\n",
       "      <td>...</td>\n",
       "      <td>91.696751</td>\n",
       "      <td>False</td>\n",
       "      <td>False</td>\n",
       "      <td>False</td>\n",
       "      <td>False</td>\n",
       "      <td>True</td>\n",
       "      <td>False</td>\n",
       "      <td>False</td>\n",
       "      <td>False</td>\n",
       "      <td>True</td>\n",
       "    </tr>\n",
       "    <tr>\n",
       "      <th>15175</th>\n",
       "      <td>2018-06-15 06:00:00+00:00</td>\n",
       "      <td>146.788</td>\n",
       "      <td>146.819</td>\n",
       "      <td>146.635</td>\n",
       "      <td>146.654</td>\n",
       "      <td>146.654</td>\n",
       "      <td>146.788</td>\n",
       "      <td>10.326087</td>\n",
       "      <td>83.152174</td>\n",
       "      <td>72.826087</td>\n",
       "      <td>...</td>\n",
       "      <td>100.000000</td>\n",
       "      <td>False</td>\n",
       "      <td>False</td>\n",
       "      <td>False</td>\n",
       "      <td>False</td>\n",
       "      <td>True</td>\n",
       "      <td>False</td>\n",
       "      <td>False</td>\n",
       "      <td>False</td>\n",
       "      <td>True</td>\n",
       "    </tr>\n",
       "    <tr>\n",
       "      <th>26233</th>\n",
       "      <td>2020-03-26 21:00:00+00:00</td>\n",
       "      <td>133.752</td>\n",
       "      <td>133.778</td>\n",
       "      <td>133.044</td>\n",
       "      <td>133.091</td>\n",
       "      <td>133.091</td>\n",
       "      <td>133.752</td>\n",
       "      <td>6.403270</td>\n",
       "      <td>96.457766</td>\n",
       "      <td>90.054496</td>\n",
       "      <td>...</td>\n",
       "      <td>91.059908</td>\n",
       "      <td>False</td>\n",
       "      <td>False</td>\n",
       "      <td>False</td>\n",
       "      <td>False</td>\n",
       "      <td>False</td>\n",
       "      <td>False</td>\n",
       "      <td>False</td>\n",
       "      <td>False</td>\n",
       "      <td>True</td>\n",
       "    </tr>\n",
       "    <tr>\n",
       "      <th>27388</th>\n",
       "      <td>2020-06-03 01:00:00+00:00</td>\n",
       "      <td>136.900</td>\n",
       "      <td>137.010</td>\n",
       "      <td>136.462</td>\n",
       "      <td>136.504</td>\n",
       "      <td>136.504</td>\n",
       "      <td>136.900</td>\n",
       "      <td>7.664234</td>\n",
       "      <td>79.927007</td>\n",
       "      <td>72.262774</td>\n",
       "      <td>...</td>\n",
       "      <td>95.781250</td>\n",
       "      <td>False</td>\n",
       "      <td>False</td>\n",
       "      <td>False</td>\n",
       "      <td>False</td>\n",
       "      <td>False</td>\n",
       "      <td>False</td>\n",
       "      <td>False</td>\n",
       "      <td>False</td>\n",
       "      <td>True</td>\n",
       "    </tr>\n",
       "  </tbody>\n",
       "</table>\n",
       "<p>6 rows × 31 columns</p>\n",
       "</div>"
      ],
      "text/plain": [
       "                           time    mid_o    mid_h    mid_l    mid_c  \\\n",
       "3962  2016-08-25 01:00:00+00:00  133.144  133.179  133.018  133.018   \n",
       "8904  2017-06-13 01:00:00+00:00  139.270  139.436  139.128  139.202   \n",
       "13219 2018-02-21 19:00:00+00:00  150.360  150.502  150.124  150.171   \n",
       "15175 2018-06-15 06:00:00+00:00  146.788  146.819  146.635  146.654   \n",
       "26233 2020-03-26 21:00:00+00:00  133.752  133.778  133.044  133.091   \n",
       "27388 2020-06-03 01:00:00+00:00  136.900  137.010  136.462  136.504   \n",
       "\n",
       "       body_lower  body_upper  body_bottom_perc  body_top_perc  body_perc  \\\n",
       "3962      133.018     133.144          0.000000      78.260870  78.260870   \n",
       "8904      139.202     139.270         24.025974      46.103896  22.077922   \n",
       "13219     150.171     150.360         12.433862      62.433862  50.000000   \n",
       "15175     146.654     146.788         10.326087      83.152174  72.826087   \n",
       "26233     133.091     133.752          6.403270      96.457766  90.054496   \n",
       "27388     136.504     136.900          7.664234      79.927007  72.262774   \n",
       "\n",
       "       ...  body_perc_prev_2  HANGING_MAN  SHOOTING_STAR  SPINNING_TOP  \\\n",
       "3962   ...         95.500000        False          False         False   \n",
       "8904   ...         92.814371        False          False         False   \n",
       "13219  ...         91.696751        False          False         False   \n",
       "15175  ...        100.000000        False          False         False   \n",
       "26233  ...         91.059908        False          False         False   \n",
       "27388  ...         95.781250        False          False         False   \n",
       "\n",
       "       MARUBOZU  ENGULFING  TWEEZER_TOP  TWEEZER_BOTTOM  MORNING_STAR  \\\n",
       "3962      False       True        False           False         False   \n",
       "8904      False      False        False           False         False   \n",
       "13219     False       True        False           False         False   \n",
       "15175     False       True        False           False         False   \n",
       "26233     False      False        False           False         False   \n",
       "27388     False      False        False           False         False   \n",
       "\n",
       "       EVENING_STAR  \n",
       "3962           True  \n",
       "8904           True  \n",
       "13219          True  \n",
       "15175          True  \n",
       "26233          True  \n",
       "27388          True  \n",
       "\n",
       "[6 rows x 31 columns]"
      ]
     },
     "execution_count": 13,
     "metadata": {},
     "output_type": "execute_result"
    }
   ],
   "source": [
    "df_an[df_an['EVENING_STAR'] == True]"
   ]
  },
  {
   "cell_type": "code",
   "execution_count": 14,
   "id": "38e39572",
   "metadata": {},
   "outputs": [],
   "source": [
    "import plotly.graph_objects as go"
   ]
  },
  {
   "cell_type": "code",
   "execution_count": 15,
   "id": "e113e4a1",
   "metadata": {},
   "outputs": [
    {
     "data": {
      "application/vnd.plotly.v1+json": {
       "config": {
        "plotlyServerURL": "https://plot.ly"
       },
       "data": [
        {
         "close": {
          "bdata": "001iEFh5YEC0yHa+n2pgQP7UeOkmUWBAnMQgsHJgYEB56SYxCHxgQJzEILByaGBArkfhehSGYEDFILByaIFgQCcxCKwcgmBA7FG4HoWHYEBmZmZmZmZgQJHtfD81amBAIbByaJFtYEDRItv5fmJgQEw3iUFgaWBA/tR46SZpYEAMAiuHFmlgQG3n+6nxYmBAexSuR+FWYECe76fGS3tgQLgehetRaGBA001iEFhlYEBCYOXQImtgQAIrhxbZamBAWDm0yHZuYECJQWDl0HpgQOkmMQisjGBAbef7qfGaYEAIrBxaZKdgQD81XrpJoGBAVOOlm8SYYEC4HoXrUbhgQPLSTWIQuGBA9P3UeOmiYEAhsHJokZ1gQBkEVg4tomBANV66SQyaYEBqvHSTGIxgQO58PzVemmBAVg4tsp2nYEC4HoXrUZhgQCcxCKwcomBAbef7qfGaYEAOLbKd75tgQBBYObTIjmBAWmQ730+dYEDsUbgehatgQA4tsp3vn2BA2/l+aryoYEDRItv5fppgQDMzMzMzm2BAqMZLN4m1YEBMN4lBYMFgQDVeukkMwmBA8tJNYhDQYEDHSzeJQdBgQE5iEFg5zGBAAAAAAADEYEC+nxov3bBgQJqZmZmZuWBA7nw/NV62YEBeukkMAqNgQLx0kxgEnmBAarx0kxicYEDVeOkmMaxgQMdLN4lBuGBA5/up8dK1YEDb+X5qvKxgQPyp8dJNqmBAtMh2vp+yYEDsUbgehb9gQMP1KFyPxmBAObTIdr7HYED+1HjpJrFgQJHtfD81xmBAkxgEVg69YEAEVg4tsrVgQEoMAiuHtmBAYhBYObS4YEBSuB6F67lgQPp+arx0u2BA/tR46SaxYECTGARWDrlgQNnO91PjtWBARrbz/dS4YEDhehSuR7lgQNnO91PjvWBATDeJQWC5YEDFILByaLFgQESLbOf7sWBAvHSTGASuYEC28/3UeLFgQBfZzvdTs2BAH4XrUbi+YEAdWmQ738dgQG3n+6nxwmBAGQRWDi3KYEDFILByaMlgQPhT46WbvGBAsHJoke28YEA=",
          "dtype": "f8"
         },
         "decreasing": {
          "fillcolor": "#CC2E3C",
          "line": {
           "color": "#FF3A4C"
          }
         },
         "high": {
          "bdata": "O99PjZeOYECq8dJNYoBgQIcW2c73a2BAiUFg5dBiYEC+nxov3YBgQLgehetRgGBAx0s3iUGIYECe76fGS49gQDeJQWDlkGBA7FG4HoWHYEC6SQwCK4dgQHE9CtejbGBAhxbZzvdzYEC28/3UeG1gQLbz/dR4aWBA30+Nl25uYEAIrBxaZG9gQO58PzVebmBAL90kBoFlYEDy0k1iEHxgQOF6FK5HgWBALbKd76duYEAtsp3vp25gQFCNl24Sd2BANV66SQxyYEDdJAaBlXtgQBsv3SQGkWBATDeJQWCdYECsHFpkO69gQLTIdr6fqmBApHA9CtejYEDRItv5frpgQK5H4XoUumBAN4lBYOW4YEDZzvdT46lgQFCNl24Sq2BAkxgEVg6lYEB7FK5H4ZpgQHWTGARWnmBAzczMzMysYEDsUbgehatgQO58PzVeomBADi2yne+nYEDVeOkmMaRgQHNoke18n2BA9ihcj8KlYEAdWmQ7369gQA4tsp3vr2BAH4XrUbiuYECTGARWDq1gQDVeukkMnmBAAiuHFtm2YEAGgZVDi8xgQClcj8L1yGBAYOXQItvRYECsHFpkO9dgQH9qvHST2GBAPzVeuknIYEBI4XoUrsdgQGDl0CLbvWBAUrgehevFYEAMAiuHFrlgQFTjpZvEpGBAIbByaJGhYEAv3SQGga1gQM3MzMzMvGBAarx0kxi8YECHFtnO97tgQBBYObTItmBA9P3UeOm2YEBGtvP91MBgQOkmMQiszGBATDeJQWDNYEA/NV66SchgQLbz/dR4yWBAVOOlm8TIYEAEVg4tsr1gQGIQWDm0uGBAhxbZzve7YEDl0CLb+b5gQCPb+X5qxGBA+n5qvHS7YEDD9Shcj7pgQAisHFpku2BAAAAAAADEYECTGARWDsVgQIPAyqFFvmBAWDm0yHa+YEC6SQwCK7tgQPyp8dJNtmBAuB6F61G4YECF61G4HrVgQJZDi2znt2BAtvP91HjBYEAtsp3vp8pgQCUGgZVDy2BAGQRWDi3OYEDjpZvEINBgQPLSTWIQ1GBAnMQgsHLIYEA=",
          "dtype": "f8"
         },
         "increasing": {
          "fillcolor": "#24A06B",
          "line": {
           "color": "#2EC886"
          }
         },
         "line": {
          "width": 1
         },
         "low": {
          "bdata": "dZMYBFZ2YEB56SYxCGRgQAaBlUOLTGBASOF6FK47YEBGtvP91FxgQI2XbhKDZGBArkfhehRmYEAj2/l+anxgQOF6FK5HgWBAsp3vp8Z/YECJQWDl0GJgQBkEVg4tUmBA16NwPQpnYEBKDAIrh1pgQFg5tMh2VmBAEoPAyqFhYEDNzMzMzGRgQPp+arx0X2BAg8DKoUVWYEBmZmZmZlZgQH0/NV66ZWBAeekmMQhUYEA3iUFg5VRgQNejcD0KZ2BACtejcD1eYECF61G4HmlgQFg5tMh2cmBAGy/dJAaBYEBzaJHtfJdgQMHKoUW2m2BASOF6FK6PYECyne+nxpdgQLbz/dR4qWBAxSCwcmihYEAK16NwPZZgQLTIdr6fmmBAeekmMQiUYEAZBFYOLYpgQDEIrBxahGBABoGVQ4uUYEDpJjEIrJRgQAaBlUOLlGBAdZMYBFaWYEA730+Nl5ZgQOF6FK5HhWBAbxKDwMqNYEBt5/up8ZpgQHsUrkfhjmBAF9nO91ObYEB/arx0k5hgQBkEVg4tkmBAsHJoke2YYEAzMzMzM69gQNejcD0Kt2BAvHSTGAS+YEAX2c73U8tgQD0K16NwyWBAQmDl0CK7YEDJdr6fGq9gQH9qvHSTsGBA001iEFixYEC28/3UeKFgQH0/NV66mWBAuB6F61GYYEAQWDm0yJpgQJqZmZmZqWBAObTIdr6vYEAMAiuHFqVgQBkEVg4tqmBA+FPjpZugYEBoke18P7FgQMHKoUW2t2BAMzMzMzPDYEB/arx0k7BgQClcj8L1rGBAxSCwcmi5YED8qfHSTbJgQAAAAAAAsGBA7FG4HoWvYEDJdr6fGrdgQB+F61G4rmBAcT0K16OwYECBlUOLbK9gQGq8dJMYsGBANV66SQyiYEAj2/l+arRgQHnpJjEIuGBAAAAAAAC4YEAfhetRuK5gQOOlm8QgsGBAMQisHFqsYECsHFpkO6dgQA4tsp3vq2BACKwcWmSzYEDFILByaLlgQL6fGi/dvGBAcT0K16PAYEAZBFYOLcJgQKAaL90ktmBACtejcD22YEA=",
          "dtype": "f8"
         },
         "opacity": 1,
         "open": {
          "bdata": "EFg5tMiGYEA9CtejcHlgQKabxCCwamBA8KfGSzdRYECq8dJNYmBgQIcW2c73e2BAuB6F61FoYECgGi/dJIZgQKjGSzeJgWBAJzEIrByCYEC6SQwCK4dgQIPAyqFFZmBAdZMYBFZqYEC28/3UeG1gQMP1KFyPYmBA8KfGSzdpYEAMAiuHFmlgQPCnxks3aWBAUI2XbhJjYEAQWDm0yFZgQDMzMzMze2BAqvHSTWJoYEA9CtejcGVgQFCNl24Sa2BAppvEILBqYEBKDAIrh25gQB+F61G4emBA2/l+aryMYEDXo3A9CptgQPp+arx0p2BAMQisHFqgYEBiEFg5tJhgQMdLN4lBuGBA8tJNYhC4YEAQWDm0yKJgQARWDi2ynWBA/Knx0k2iYEBSuB6F65lgQAAAAAAAjGBA/Knx0k2aYEA5tMh2vqdgQE5iEFg5mGBAke18PzWiYEBQjZduEptgQGq8dJMYnGBAexSuR+GOYEDFILByaJ1gQN0kBoGVq2BAAAAAAACgYEBGtvP91KhgQGZmZmZmmmBAyXa+nxqbYEA9CtejcLVgQOF6FK5HwWBARIts5/vBYEBcj8L1KNBgQKrx0k1i0GBAKVyPwvW8YEBzaJHtfMNgQGIQWDm0sGBAfT81Xrq5YEBYObTIdrZgQHsUrkfhomBAy6FFtvOdYEAAAAAAAJxgQGq8dJMYrGBA1XjpJjG4YEDLoUW287VgQOkmMQisrGBACtejcD2qYEBKDAIrh7JgQIGVQ4tsv2BALbKd76fGYEBI4XoUrsdgQPCnxks3sWBAoBov3STGYECiRbbz/bxgQPYoXI/CtWBAWDm0yHa2YEBU46WbxLhgQESLbOf7uWBA+n5qvHS7YEDhehSuR7FgQClcj8L1uGBAvHSTGAS2YEApXI/C9bhgQMUgsHJouWBA5/up8dK9YEDhehSuR7lgQLbz/dR4sWBAJzEIrByyYECuR+F6FK5gQKjGSzeJsWBACKwcWmSzYEAtsp3vp75gQA4tsp3vx2BAXrpJDALDYECuR+F6FMpgQCGwcmiRyWBAYhBYObS8YEA=",
          "dtype": "f8"
         },
         "type": "candlestick",
         "x": [
          "s20-03-25 12:00",
          "s20-03-25 13:00",
          "s20-03-25 14:00",
          "s20-03-25 15:00",
          "s20-03-25 16:00",
          "s20-03-25 17:00",
          "s20-03-25 18:00",
          "s20-03-25 19:00",
          "s20-03-25 20:00",
          "s20-03-25 21:00",
          "s20-03-25 22:00",
          "s20-03-25 23:00",
          "s20-03-26 00:00",
          "s20-03-26 01:00",
          "s20-03-26 02:00",
          "s20-03-26 03:00",
          "s20-03-26 04:00",
          "s20-03-26 05:00",
          "s20-03-26 06:00",
          "s20-03-26 07:00",
          "s20-03-26 08:00",
          "s20-03-26 09:00",
          "s20-03-26 10:00",
          "s20-03-26 11:00",
          "s20-03-26 12:00",
          "s20-03-26 13:00",
          "s20-03-26 14:00",
          "s20-03-26 15:00",
          "s20-03-26 16:00",
          "s20-03-26 17:00",
          "s20-03-26 18:00",
          "s20-03-26 19:00",
          "s20-03-26 20:00",
          "s20-03-26 21:00",
          "s20-03-26 22:00",
          "s20-03-26 23:00",
          "s20-03-27 00:00",
          "s20-03-27 01:00",
          "s20-03-27 02:00",
          "s20-03-27 03:00",
          "s20-03-27 04:00",
          "s20-03-27 05:00",
          "s20-03-27 06:00",
          "s20-03-27 07:00",
          "s20-03-27 08:00",
          "s20-03-27 09:00",
          "s20-03-27 10:00",
          "s20-03-27 11:00",
          "s20-03-27 12:00",
          "s20-03-27 13:00",
          "s20-03-27 14:00",
          "s20-03-27 15:00",
          "s20-03-27 16:00",
          "s20-03-27 17:00",
          "s20-03-27 18:00",
          "s20-03-27 19:00",
          "s20-03-27 20:00",
          "s20-03-29 21:00",
          "s20-03-29 22:00",
          "s20-03-29 23:00",
          "s20-03-30 00:00",
          "s20-03-30 01:00",
          "s20-03-30 02:00",
          "s20-03-30 03:00",
          "s20-03-30 04:00",
          "s20-03-30 05:00",
          "s20-03-30 06:00",
          "s20-03-30 07:00",
          "s20-03-30 08:00",
          "s20-03-30 09:00",
          "s20-03-30 10:00",
          "s20-03-30 11:00",
          "s20-03-30 12:00",
          "s20-03-30 13:00",
          "s20-03-30 14:00",
          "s20-03-30 15:00",
          "s20-03-30 16:00",
          "s20-03-30 17:00",
          "s20-03-30 18:00",
          "s20-03-30 19:00",
          "s20-03-30 20:00",
          "s20-03-30 21:00",
          "s20-03-30 22:00",
          "s20-03-30 23:00",
          "s20-03-31 00:00",
          "s20-03-31 01:00",
          "s20-03-31 02:00",
          "s20-03-31 03:00",
          "s20-03-31 04:00",
          "s20-03-31 05:00",
          "s20-03-31 06:00",
          "s20-03-31 07:00",
          "s20-03-31 08:00",
          "s20-03-31 09:00",
          "s20-03-31 10:00",
          "s20-03-31 11:00",
          "s20-03-31 12:00",
          "s20-03-31 13:00",
          "s20-03-31 14:00",
          "s20-03-31 15:00"
         ]
        },
        {
         "close": {
          "bdata": "9P3UeOmiYEA=",
          "dtype": "f8"
         },
         "decreasing": {
          "fillcolor": "#0066FF",
          "line": {
           "color": "#0066FF"
          }
         },
         "high": {
          "bdata": "N4lBYOW4YEA=",
          "dtype": "f8"
         },
         "increasing": {
          "fillcolor": "#0066FF",
          "line": {
           "color": "#0066FF"
          }
         },
         "line": {
          "width": 1
         },
         "low": {
          "bdata": "xSCwcmihYEA=",
          "dtype": "f8"
         },
         "opacity": 1,
         "open": {
          "bdata": "8tJNYhC4YEA=",
          "dtype": "f8"
         },
         "type": "candlestick",
         "x": [
          "s20-03-26 21:00"
         ]
        }
       ],
       "layout": {
        "font": {
         "color": "#e1e1e1",
         "size": 8
        },
        "height": 400,
        "margin": {
         "b": 10,
         "l": 10,
         "r": 10,
         "t": 10
        },
        "paper_bgcolor": "#2c303c",
        "plot_bgcolor": "#2c303c",
        "template": {
         "data": {
          "bar": [
           {
            "error_x": {
             "color": "#2a3f5f"
            },
            "error_y": {
             "color": "#2a3f5f"
            },
            "marker": {
             "line": {
              "color": "#E5ECF6",
              "width": 0.5
             },
             "pattern": {
              "fillmode": "overlay",
              "size": 10,
              "solidity": 0.2
             }
            },
            "type": "bar"
           }
          ],
          "barpolar": [
           {
            "marker": {
             "line": {
              "color": "#E5ECF6",
              "width": 0.5
             },
             "pattern": {
              "fillmode": "overlay",
              "size": 10,
              "solidity": 0.2
             }
            },
            "type": "barpolar"
           }
          ],
          "carpet": [
           {
            "aaxis": {
             "endlinecolor": "#2a3f5f",
             "gridcolor": "white",
             "linecolor": "white",
             "minorgridcolor": "white",
             "startlinecolor": "#2a3f5f"
            },
            "baxis": {
             "endlinecolor": "#2a3f5f",
             "gridcolor": "white",
             "linecolor": "white",
             "minorgridcolor": "white",
             "startlinecolor": "#2a3f5f"
            },
            "type": "carpet"
           }
          ],
          "choropleth": [
           {
            "colorbar": {
             "outlinewidth": 0,
             "ticks": ""
            },
            "type": "choropleth"
           }
          ],
          "contour": [
           {
            "colorbar": {
             "outlinewidth": 0,
             "ticks": ""
            },
            "colorscale": [
             [
              0,
              "#0d0887"
             ],
             [
              0.1111111111111111,
              "#46039f"
             ],
             [
              0.2222222222222222,
              "#7201a8"
             ],
             [
              0.3333333333333333,
              "#9c179e"
             ],
             [
              0.4444444444444444,
              "#bd3786"
             ],
             [
              0.5555555555555556,
              "#d8576b"
             ],
             [
              0.6666666666666666,
              "#ed7953"
             ],
             [
              0.7777777777777778,
              "#fb9f3a"
             ],
             [
              0.8888888888888888,
              "#fdca26"
             ],
             [
              1,
              "#f0f921"
             ]
            ],
            "type": "contour"
           }
          ],
          "contourcarpet": [
           {
            "colorbar": {
             "outlinewidth": 0,
             "ticks": ""
            },
            "type": "contourcarpet"
           }
          ],
          "heatmap": [
           {
            "colorbar": {
             "outlinewidth": 0,
             "ticks": ""
            },
            "colorscale": [
             [
              0,
              "#0d0887"
             ],
             [
              0.1111111111111111,
              "#46039f"
             ],
             [
              0.2222222222222222,
              "#7201a8"
             ],
             [
              0.3333333333333333,
              "#9c179e"
             ],
             [
              0.4444444444444444,
              "#bd3786"
             ],
             [
              0.5555555555555556,
              "#d8576b"
             ],
             [
              0.6666666666666666,
              "#ed7953"
             ],
             [
              0.7777777777777778,
              "#fb9f3a"
             ],
             [
              0.8888888888888888,
              "#fdca26"
             ],
             [
              1,
              "#f0f921"
             ]
            ],
            "type": "heatmap"
           }
          ],
          "histogram": [
           {
            "marker": {
             "pattern": {
              "fillmode": "overlay",
              "size": 10,
              "solidity": 0.2
             }
            },
            "type": "histogram"
           }
          ],
          "histogram2d": [
           {
            "colorbar": {
             "outlinewidth": 0,
             "ticks": ""
            },
            "colorscale": [
             [
              0,
              "#0d0887"
             ],
             [
              0.1111111111111111,
              "#46039f"
             ],
             [
              0.2222222222222222,
              "#7201a8"
             ],
             [
              0.3333333333333333,
              "#9c179e"
             ],
             [
              0.4444444444444444,
              "#bd3786"
             ],
             [
              0.5555555555555556,
              "#d8576b"
             ],
             [
              0.6666666666666666,
              "#ed7953"
             ],
             [
              0.7777777777777778,
              "#fb9f3a"
             ],
             [
              0.8888888888888888,
              "#fdca26"
             ],
             [
              1,
              "#f0f921"
             ]
            ],
            "type": "histogram2d"
           }
          ],
          "histogram2dcontour": [
           {
            "colorbar": {
             "outlinewidth": 0,
             "ticks": ""
            },
            "colorscale": [
             [
              0,
              "#0d0887"
             ],
             [
              0.1111111111111111,
              "#46039f"
             ],
             [
              0.2222222222222222,
              "#7201a8"
             ],
             [
              0.3333333333333333,
              "#9c179e"
             ],
             [
              0.4444444444444444,
              "#bd3786"
             ],
             [
              0.5555555555555556,
              "#d8576b"
             ],
             [
              0.6666666666666666,
              "#ed7953"
             ],
             [
              0.7777777777777778,
              "#fb9f3a"
             ],
             [
              0.8888888888888888,
              "#fdca26"
             ],
             [
              1,
              "#f0f921"
             ]
            ],
            "type": "histogram2dcontour"
           }
          ],
          "mesh3d": [
           {
            "colorbar": {
             "outlinewidth": 0,
             "ticks": ""
            },
            "type": "mesh3d"
           }
          ],
          "parcoords": [
           {
            "line": {
             "colorbar": {
              "outlinewidth": 0,
              "ticks": ""
             }
            },
            "type": "parcoords"
           }
          ],
          "pie": [
           {
            "automargin": true,
            "type": "pie"
           }
          ],
          "scatter": [
           {
            "fillpattern": {
             "fillmode": "overlay",
             "size": 10,
             "solidity": 0.2
            },
            "type": "scatter"
           }
          ],
          "scatter3d": [
           {
            "line": {
             "colorbar": {
              "outlinewidth": 0,
              "ticks": ""
             }
            },
            "marker": {
             "colorbar": {
              "outlinewidth": 0,
              "ticks": ""
             }
            },
            "type": "scatter3d"
           }
          ],
          "scattercarpet": [
           {
            "marker": {
             "colorbar": {
              "outlinewidth": 0,
              "ticks": ""
             }
            },
            "type": "scattercarpet"
           }
          ],
          "scattergeo": [
           {
            "marker": {
             "colorbar": {
              "outlinewidth": 0,
              "ticks": ""
             }
            },
            "type": "scattergeo"
           }
          ],
          "scattergl": [
           {
            "marker": {
             "colorbar": {
              "outlinewidth": 0,
              "ticks": ""
             }
            },
            "type": "scattergl"
           }
          ],
          "scattermap": [
           {
            "marker": {
             "colorbar": {
              "outlinewidth": 0,
              "ticks": ""
             }
            },
            "type": "scattermap"
           }
          ],
          "scattermapbox": [
           {
            "marker": {
             "colorbar": {
              "outlinewidth": 0,
              "ticks": ""
             }
            },
            "type": "scattermapbox"
           }
          ],
          "scatterpolar": [
           {
            "marker": {
             "colorbar": {
              "outlinewidth": 0,
              "ticks": ""
             }
            },
            "type": "scatterpolar"
           }
          ],
          "scatterpolargl": [
           {
            "marker": {
             "colorbar": {
              "outlinewidth": 0,
              "ticks": ""
             }
            },
            "type": "scatterpolargl"
           }
          ],
          "scatterternary": [
           {
            "marker": {
             "colorbar": {
              "outlinewidth": 0,
              "ticks": ""
             }
            },
            "type": "scatterternary"
           }
          ],
          "surface": [
           {
            "colorbar": {
             "outlinewidth": 0,
             "ticks": ""
            },
            "colorscale": [
             [
              0,
              "#0d0887"
             ],
             [
              0.1111111111111111,
              "#46039f"
             ],
             [
              0.2222222222222222,
              "#7201a8"
             ],
             [
              0.3333333333333333,
              "#9c179e"
             ],
             [
              0.4444444444444444,
              "#bd3786"
             ],
             [
              0.5555555555555556,
              "#d8576b"
             ],
             [
              0.6666666666666666,
              "#ed7953"
             ],
             [
              0.7777777777777778,
              "#fb9f3a"
             ],
             [
              0.8888888888888888,
              "#fdca26"
             ],
             [
              1,
              "#f0f921"
             ]
            ],
            "type": "surface"
           }
          ],
          "table": [
           {
            "cells": {
             "fill": {
              "color": "#EBF0F8"
             },
             "line": {
              "color": "white"
             }
            },
            "header": {
             "fill": {
              "color": "#C8D4E3"
             },
             "line": {
              "color": "white"
             }
            },
            "type": "table"
           }
          ]
         },
         "layout": {
          "annotationdefaults": {
           "arrowcolor": "#2a3f5f",
           "arrowhead": 0,
           "arrowwidth": 1
          },
          "autotypenumbers": "strict",
          "coloraxis": {
           "colorbar": {
            "outlinewidth": 0,
            "ticks": ""
           }
          },
          "colorscale": {
           "diverging": [
            [
             0,
             "#8e0152"
            ],
            [
             0.1,
             "#c51b7d"
            ],
            [
             0.2,
             "#de77ae"
            ],
            [
             0.3,
             "#f1b6da"
            ],
            [
             0.4,
             "#fde0ef"
            ],
            [
             0.5,
             "#f7f7f7"
            ],
            [
             0.6,
             "#e6f5d0"
            ],
            [
             0.7,
             "#b8e186"
            ],
            [
             0.8,
             "#7fbc41"
            ],
            [
             0.9,
             "#4d9221"
            ],
            [
             1,
             "#276419"
            ]
           ],
           "sequential": [
            [
             0,
             "#0d0887"
            ],
            [
             0.1111111111111111,
             "#46039f"
            ],
            [
             0.2222222222222222,
             "#7201a8"
            ],
            [
             0.3333333333333333,
             "#9c179e"
            ],
            [
             0.4444444444444444,
             "#bd3786"
            ],
            [
             0.5555555555555556,
             "#d8576b"
            ],
            [
             0.6666666666666666,
             "#ed7953"
            ],
            [
             0.7777777777777778,
             "#fb9f3a"
            ],
            [
             0.8888888888888888,
             "#fdca26"
            ],
            [
             1,
             "#f0f921"
            ]
           ],
           "sequentialminus": [
            [
             0,
             "#0d0887"
            ],
            [
             0.1111111111111111,
             "#46039f"
            ],
            [
             0.2222222222222222,
             "#7201a8"
            ],
            [
             0.3333333333333333,
             "#9c179e"
            ],
            [
             0.4444444444444444,
             "#bd3786"
            ],
            [
             0.5555555555555556,
             "#d8576b"
            ],
            [
             0.6666666666666666,
             "#ed7953"
            ],
            [
             0.7777777777777778,
             "#fb9f3a"
            ],
            [
             0.8888888888888888,
             "#fdca26"
            ],
            [
             1,
             "#f0f921"
            ]
           ]
          },
          "colorway": [
           "#636efa",
           "#EF553B",
           "#00cc96",
           "#ab63fa",
           "#FFA15A",
           "#19d3f3",
           "#FF6692",
           "#B6E880",
           "#FF97FF",
           "#FECB52"
          ],
          "font": {
           "color": "#2a3f5f"
          },
          "geo": {
           "bgcolor": "white",
           "lakecolor": "white",
           "landcolor": "#E5ECF6",
           "showlakes": true,
           "showland": true,
           "subunitcolor": "white"
          },
          "hoverlabel": {
           "align": "left"
          },
          "hovermode": "closest",
          "mapbox": {
           "style": "light"
          },
          "paper_bgcolor": "white",
          "plot_bgcolor": "#E5ECF6",
          "polar": {
           "angularaxis": {
            "gridcolor": "white",
            "linecolor": "white",
            "ticks": ""
           },
           "bgcolor": "#E5ECF6",
           "radialaxis": {
            "gridcolor": "white",
            "linecolor": "white",
            "ticks": ""
           }
          },
          "scene": {
           "xaxis": {
            "backgroundcolor": "#E5ECF6",
            "gridcolor": "white",
            "gridwidth": 2,
            "linecolor": "white",
            "showbackground": true,
            "ticks": "",
            "zerolinecolor": "white"
           },
           "yaxis": {
            "backgroundcolor": "#E5ECF6",
            "gridcolor": "white",
            "gridwidth": 2,
            "linecolor": "white",
            "showbackground": true,
            "ticks": "",
            "zerolinecolor": "white"
           },
           "zaxis": {
            "backgroundcolor": "#E5ECF6",
            "gridcolor": "white",
            "gridwidth": 2,
            "linecolor": "white",
            "showbackground": true,
            "ticks": "",
            "zerolinecolor": "white"
           }
          },
          "shapedefaults": {
           "line": {
            "color": "#2a3f5f"
           }
          },
          "ternary": {
           "aaxis": {
            "gridcolor": "white",
            "linecolor": "white",
            "ticks": ""
           },
           "baxis": {
            "gridcolor": "white",
            "linecolor": "white",
            "ticks": ""
           },
           "bgcolor": "#E5ECF6",
           "caxis": {
            "gridcolor": "white",
            "linecolor": "white",
            "ticks": ""
           }
          },
          "title": {
           "x": 0.05
          },
          "xaxis": {
           "automargin": true,
           "gridcolor": "white",
           "linecolor": "white",
           "ticks": "",
           "title": {
            "standoff": 15
           },
           "zerolinecolor": "white",
           "zerolinewidth": 2
          },
          "yaxis": {
           "automargin": true,
           "gridcolor": "white",
           "linecolor": "white",
           "ticks": "",
           "title": {
            "standoff": 15
           },
           "zerolinecolor": "white",
           "zerolinewidth": 2
          }
         }
        },
        "width": 900,
        "xaxis": {
         "anchor": "y",
         "domain": [
          0,
          0.94
         ],
         "gridcolor": "#1f292f",
         "nticks": 5,
         "rangeslider": {
          "visible": false
         }
        },
        "yaxis": {
         "anchor": "x",
         "domain": [
          0,
          1
         ],
         "gridcolor": "#1f292f"
        },
        "yaxis2": {
         "anchor": "x",
         "gridcolor": "#1f292f",
         "overlaying": "y",
         "side": "right"
        }
       }
      }
     },
     "metadata": {},
     "output_type": "display_data"
    }
   ],
   "source": [
    "MARKER = '#0066FF'\n",
    "dfp = df_an.iloc[26200:26300]\n",
    "cp = CandlePlot(dfp, candles=True)\n",
    "df_temp = cp.df_plot[cp.df_plot.EVENING_STAR==True]\n",
    "cp.fig.add_trace(go.Candlestick(\n",
    "                x=df_temp.sTime,\n",
    "                open=df_temp.mid_o,\n",
    "                high=df_temp.mid_h,\n",
    "                low=df_temp.mid_l,\n",
    "                close=df_temp.mid_c,\n",
    "                line=dict(width=1), opacity=1,\n",
    "                increasing_fillcolor=MARKER,\n",
    "                decreasing_fillcolor=MARKER,\n",
    "                increasing_line_color=MARKER,  \n",
    "                decreasing_line_color=MARKER\n",
    "            ))\n",
    "\n",
    "cp.show_plot()"
   ]
  },
  {
   "cell_type": "code",
   "execution_count": null,
   "id": "231cd433",
   "metadata": {},
   "outputs": [],
   "source": []
  },
  {
   "cell_type": "code",
   "execution_count": null,
   "id": "6c2da3d1",
   "metadata": {},
   "outputs": [],
   "source": []
  },
  {
   "cell_type": "code",
   "execution_count": null,
   "id": "b0187afb",
   "metadata": {},
   "outputs": [],
   "source": []
  },
  {
   "cell_type": "code",
   "execution_count": null,
   "id": "18441f94",
   "metadata": {},
   "outputs": [],
   "source": []
  },
  {
   "cell_type": "code",
   "execution_count": null,
   "id": "87f6fbf3",
   "metadata": {},
   "outputs": [],
   "source": []
  }
 ],
 "metadata": {
  "kernelspec": {
   "display_name": "Python 3",
   "language": "python",
   "name": "python3"
  },
  "language_info": {
   "codemirror_mode": {
    "name": "ipython",
    "version": 3
   },
   "file_extension": ".py",
   "mimetype": "text/x-python",
   "name": "python",
   "nbconvert_exporter": "python",
   "pygments_lexer": "ipython3",
   "version": "3.13.1"
  }
 },
 "nbformat": 4,
 "nbformat_minor": 5
}
