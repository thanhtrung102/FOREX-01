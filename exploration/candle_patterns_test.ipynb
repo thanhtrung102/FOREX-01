{
 "cells": [
  {
   "cell_type": "code",
   "execution_count": 1,
   "id": "c57a360f",
   "metadata": {},
   "outputs": [],
   "source": [
    "import sys\n",
    "sys.path.append(\"../\")\n",
    "from plotting import CandlePlot\n",
    "import pandas as pd"
   ]
  },
  {
   "cell_type": "code",
   "execution_count": 2,
   "id": "41024369",
   "metadata": {},
   "outputs": [],
   "source": [
    "from technicals.patterns import apply_patterns"
   ]
  },
  {
   "cell_type": "code",
   "execution_count": 3,
   "id": "8c9f7457",
   "metadata": {},
   "outputs": [],
   "source": [
    "df = pd.read_pickle(\"../data/GBP_JPY_H1.pkl\")"
   ]
  },
  {
   "cell_type": "code",
   "execution_count": 4,
   "id": "b7c9f42d",
   "metadata": {},
   "outputs": [],
   "source": [
    "df_an = df[['time', 'mid_o', 'mid_h', 'mid_l', 'mid_c']].copy()"
   ]
  },
  {
   "cell_type": "code",
   "execution_count": 5,
   "id": "9a60edd2",
   "metadata": {},
   "outputs": [
    {
     "data": {
      "text/html": [
       "<div>\n",
       "<style scoped>\n",
       "    .dataframe tbody tr th:only-of-type {\n",
       "        vertical-align: middle;\n",
       "    }\n",
       "\n",
       "    .dataframe tbody tr th {\n",
       "        vertical-align: top;\n",
       "    }\n",
       "\n",
       "    .dataframe thead th {\n",
       "        text-align: right;\n",
       "    }\n",
       "</style>\n",
       "<table border=\"1\" class=\"dataframe\">\n",
       "  <thead>\n",
       "    <tr style=\"text-align: right;\">\n",
       "      <th></th>\n",
       "      <th>time</th>\n",
       "      <th>mid_o</th>\n",
       "      <th>mid_h</th>\n",
       "      <th>mid_l</th>\n",
       "      <th>mid_c</th>\n",
       "    </tr>\n",
       "  </thead>\n",
       "  <tbody>\n",
       "    <tr>\n",
       "      <th>37219</th>\n",
       "      <td>2021-12-30 19:00:00+00:00</td>\n",
       "      <td>155.312</td>\n",
       "      <td>155.444</td>\n",
       "      <td>155.274</td>\n",
       "      <td>155.444</td>\n",
       "    </tr>\n",
       "    <tr>\n",
       "      <th>37220</th>\n",
       "      <td>2021-12-30 20:00:00+00:00</td>\n",
       "      <td>155.442</td>\n",
       "      <td>155.470</td>\n",
       "      <td>155.289</td>\n",
       "      <td>155.312</td>\n",
       "    </tr>\n",
       "    <tr>\n",
       "      <th>37221</th>\n",
       "      <td>2021-12-30 21:00:00+00:00</td>\n",
       "      <td>155.317</td>\n",
       "      <td>155.382</td>\n",
       "      <td>155.286</td>\n",
       "      <td>155.382</td>\n",
       "    </tr>\n",
       "    <tr>\n",
       "      <th>37222</th>\n",
       "      <td>2021-12-30 22:00:00+00:00</td>\n",
       "      <td>155.353</td>\n",
       "      <td>155.381</td>\n",
       "      <td>155.282</td>\n",
       "      <td>155.329</td>\n",
       "    </tr>\n",
       "    <tr>\n",
       "      <th>37223</th>\n",
       "      <td>2021-12-30 23:00:00+00:00</td>\n",
       "      <td>155.336</td>\n",
       "      <td>155.360</td>\n",
       "      <td>155.284</td>\n",
       "      <td>155.310</td>\n",
       "    </tr>\n",
       "  </tbody>\n",
       "</table>\n",
       "</div>"
      ],
      "text/plain": [
       "                           time    mid_o    mid_h    mid_l    mid_c\n",
       "37219 2021-12-30 19:00:00+00:00  155.312  155.444  155.274  155.444\n",
       "37220 2021-12-30 20:00:00+00:00  155.442  155.470  155.289  155.312\n",
       "37221 2021-12-30 21:00:00+00:00  155.317  155.382  155.286  155.382\n",
       "37222 2021-12-30 22:00:00+00:00  155.353  155.381  155.282  155.329\n",
       "37223 2021-12-30 23:00:00+00:00  155.336  155.360  155.284  155.310"
      ]
     },
     "execution_count": 5,
     "metadata": {},
     "output_type": "execute_result"
    }
   ],
   "source": [
    "df_an.tail()"
   ]
  },
  {
   "cell_type": "code",
   "execution_count": 6,
   "id": "3a57a72b",
   "metadata": {},
   "outputs": [],
   "source": [
    "df_an = apply_patterns(df_an)"
   ]
  },
  {
   "cell_type": "code",
   "execution_count": 7,
   "id": "06fc50f0",
   "metadata": {},
   "outputs": [
    {
     "data": {
      "text/html": [
       "<div>\n",
       "<style scoped>\n",
       "    .dataframe tbody tr th:only-of-type {\n",
       "        vertical-align: middle;\n",
       "    }\n",
       "\n",
       "    .dataframe tbody tr th {\n",
       "        vertical-align: top;\n",
       "    }\n",
       "\n",
       "    .dataframe thead th {\n",
       "        text-align: right;\n",
       "    }\n",
       "</style>\n",
       "<table border=\"1\" class=\"dataframe\">\n",
       "  <thead>\n",
       "    <tr style=\"text-align: right;\">\n",
       "      <th></th>\n",
       "      <th>time</th>\n",
       "      <th>mid_o</th>\n",
       "      <th>mid_h</th>\n",
       "      <th>mid_l</th>\n",
       "      <th>mid_c</th>\n",
       "      <th>body_lower</th>\n",
       "      <th>body_upper</th>\n",
       "      <th>body_bottom_perc</th>\n",
       "      <th>body_top_perc</th>\n",
       "      <th>body_perc</th>\n",
       "      <th>...</th>\n",
       "      <th>body_perc_prev_2</th>\n",
       "      <th>HANGING_MAN</th>\n",
       "      <th>SHOOTING_STAR</th>\n",
       "      <th>SPINNING_TOP</th>\n",
       "      <th>MARUBOZU</th>\n",
       "      <th>ENGULFING</th>\n",
       "      <th>TWEEZER_TOP</th>\n",
       "      <th>TWEEZER_BOTTOM</th>\n",
       "      <th>MORNING_STAR</th>\n",
       "      <th>EVENING_STAR</th>\n",
       "    </tr>\n",
       "  </thead>\n",
       "  <tbody>\n",
       "    <tr>\n",
       "      <th>37219</th>\n",
       "      <td>2021-12-30 19:00:00+00:00</td>\n",
       "      <td>155.312</td>\n",
       "      <td>155.444</td>\n",
       "      <td>155.274</td>\n",
       "      <td>155.444</td>\n",
       "      <td>155.312</td>\n",
       "      <td>155.444</td>\n",
       "      <td>22.352941</td>\n",
       "      <td>100.000000</td>\n",
       "      <td>77.647059</td>\n",
       "      <td>...</td>\n",
       "      <td>86.390533</td>\n",
       "      <td>False</td>\n",
       "      <td>False</td>\n",
       "      <td>False</td>\n",
       "      <td>False</td>\n",
       "      <td>True</td>\n",
       "      <td>False</td>\n",
       "      <td>False</td>\n",
       "      <td>False</td>\n",
       "      <td>False</td>\n",
       "    </tr>\n",
       "    <tr>\n",
       "      <th>37220</th>\n",
       "      <td>2021-12-30 20:00:00+00:00</td>\n",
       "      <td>155.442</td>\n",
       "      <td>155.470</td>\n",
       "      <td>155.289</td>\n",
       "      <td>155.312</td>\n",
       "      <td>155.312</td>\n",
       "      <td>155.442</td>\n",
       "      <td>12.707182</td>\n",
       "      <td>84.530387</td>\n",
       "      <td>71.823204</td>\n",
       "      <td>...</td>\n",
       "      <td>12.337662</td>\n",
       "      <td>False</td>\n",
       "      <td>False</td>\n",
       "      <td>False</td>\n",
       "      <td>False</td>\n",
       "      <td>False</td>\n",
       "      <td>False</td>\n",
       "      <td>False</td>\n",
       "      <td>False</td>\n",
       "      <td>False</td>\n",
       "    </tr>\n",
       "    <tr>\n",
       "      <th>37221</th>\n",
       "      <td>2021-12-30 21:00:00+00:00</td>\n",
       "      <td>155.317</td>\n",
       "      <td>155.382</td>\n",
       "      <td>155.286</td>\n",
       "      <td>155.382</td>\n",
       "      <td>155.317</td>\n",
       "      <td>155.382</td>\n",
       "      <td>32.291667</td>\n",
       "      <td>100.000000</td>\n",
       "      <td>67.708333</td>\n",
       "      <td>...</td>\n",
       "      <td>77.647059</td>\n",
       "      <td>False</td>\n",
       "      <td>False</td>\n",
       "      <td>False</td>\n",
       "      <td>False</td>\n",
       "      <td>False</td>\n",
       "      <td>False</td>\n",
       "      <td>False</td>\n",
       "      <td>False</td>\n",
       "      <td>False</td>\n",
       "    </tr>\n",
       "    <tr>\n",
       "      <th>37222</th>\n",
       "      <td>2021-12-30 22:00:00+00:00</td>\n",
       "      <td>155.353</td>\n",
       "      <td>155.381</td>\n",
       "      <td>155.282</td>\n",
       "      <td>155.329</td>\n",
       "      <td>155.329</td>\n",
       "      <td>155.353</td>\n",
       "      <td>47.474747</td>\n",
       "      <td>71.717172</td>\n",
       "      <td>24.242424</td>\n",
       "      <td>...</td>\n",
       "      <td>71.823204</td>\n",
       "      <td>False</td>\n",
       "      <td>False</td>\n",
       "      <td>False</td>\n",
       "      <td>False</td>\n",
       "      <td>False</td>\n",
       "      <td>False</td>\n",
       "      <td>False</td>\n",
       "      <td>False</td>\n",
       "      <td>False</td>\n",
       "    </tr>\n",
       "    <tr>\n",
       "      <th>37223</th>\n",
       "      <td>2021-12-30 23:00:00+00:00</td>\n",
       "      <td>155.336</td>\n",
       "      <td>155.360</td>\n",
       "      <td>155.284</td>\n",
       "      <td>155.310</td>\n",
       "      <td>155.310</td>\n",
       "      <td>155.336</td>\n",
       "      <td>34.210526</td>\n",
       "      <td>68.421053</td>\n",
       "      <td>34.210526</td>\n",
       "      <td>...</td>\n",
       "      <td>67.708333</td>\n",
       "      <td>False</td>\n",
       "      <td>False</td>\n",
       "      <td>False</td>\n",
       "      <td>False</td>\n",
       "      <td>False</td>\n",
       "      <td>False</td>\n",
       "      <td>False</td>\n",
       "      <td>False</td>\n",
       "      <td>False</td>\n",
       "    </tr>\n",
       "  </tbody>\n",
       "</table>\n",
       "<p>5 rows × 31 columns</p>\n",
       "</div>"
      ],
      "text/plain": [
       "                           time    mid_o    mid_h    mid_l    mid_c  \\\n",
       "37219 2021-12-30 19:00:00+00:00  155.312  155.444  155.274  155.444   \n",
       "37220 2021-12-30 20:00:00+00:00  155.442  155.470  155.289  155.312   \n",
       "37221 2021-12-30 21:00:00+00:00  155.317  155.382  155.286  155.382   \n",
       "37222 2021-12-30 22:00:00+00:00  155.353  155.381  155.282  155.329   \n",
       "37223 2021-12-30 23:00:00+00:00  155.336  155.360  155.284  155.310   \n",
       "\n",
       "       body_lower  body_upper  body_bottom_perc  body_top_perc  body_perc  \\\n",
       "37219     155.312     155.444         22.352941     100.000000  77.647059   \n",
       "37220     155.312     155.442         12.707182      84.530387  71.823204   \n",
       "37221     155.317     155.382         32.291667     100.000000  67.708333   \n",
       "37222     155.329     155.353         47.474747      71.717172  24.242424   \n",
       "37223     155.310     155.336         34.210526      68.421053  34.210526   \n",
       "\n",
       "       ...  body_perc_prev_2  HANGING_MAN  SHOOTING_STAR  SPINNING_TOP  \\\n",
       "37219  ...         86.390533        False          False         False   \n",
       "37220  ...         12.337662        False          False         False   \n",
       "37221  ...         77.647059        False          False         False   \n",
       "37222  ...         71.823204        False          False         False   \n",
       "37223  ...         67.708333        False          False         False   \n",
       "\n",
       "       MARUBOZU  ENGULFING  TWEEZER_TOP  TWEEZER_BOTTOM  MORNING_STAR  \\\n",
       "37219     False       True        False           False         False   \n",
       "37220     False      False        False           False         False   \n",
       "37221     False      False        False           False         False   \n",
       "37222     False      False        False           False         False   \n",
       "37223     False      False        False           False         False   \n",
       "\n",
       "       EVENING_STAR  \n",
       "37219         False  \n",
       "37220         False  \n",
       "37221         False  \n",
       "37222         False  \n",
       "37223         False  \n",
       "\n",
       "[5 rows x 31 columns]"
      ]
     },
     "execution_count": 7,
     "metadata": {},
     "output_type": "execute_result"
    }
   ],
   "source": [
    "df_an.tail()"
   ]
  },
  {
   "cell_type": "code",
   "execution_count": 8,
   "id": "29d539d6",
   "metadata": {},
   "outputs": [],
   "source": [
    "import plotly.graph_objects as go"
   ]
  },
  {
   "cell_type": "code",
   "execution_count": 9,
   "id": "fc7b9b79",
   "metadata": {},
   "outputs": [
    {
     "data": {
      "text/html": [
       "<div>\n",
       "<style scoped>\n",
       "    .dataframe tbody tr th:only-of-type {\n",
       "        vertical-align: middle;\n",
       "    }\n",
       "\n",
       "    .dataframe tbody tr th {\n",
       "        vertical-align: top;\n",
       "    }\n",
       "\n",
       "    .dataframe thead th {\n",
       "        text-align: right;\n",
       "    }\n",
       "</style>\n",
       "<table border=\"1\" class=\"dataframe\">\n",
       "  <thead>\n",
       "    <tr style=\"text-align: right;\">\n",
       "      <th></th>\n",
       "      <th>time</th>\n",
       "      <th>mid_o</th>\n",
       "      <th>mid_h</th>\n",
       "      <th>mid_l</th>\n",
       "      <th>mid_c</th>\n",
       "      <th>body_lower</th>\n",
       "      <th>body_upper</th>\n",
       "      <th>body_bottom_perc</th>\n",
       "      <th>body_top_perc</th>\n",
       "      <th>body_perc</th>\n",
       "      <th>...</th>\n",
       "      <th>body_perc_prev_2</th>\n",
       "      <th>HANGING_MAN</th>\n",
       "      <th>SHOOTING_STAR</th>\n",
       "      <th>SPINNING_TOP</th>\n",
       "      <th>MARUBOZU</th>\n",
       "      <th>ENGULFING</th>\n",
       "      <th>TWEEZER_TOP</th>\n",
       "      <th>TWEEZER_BOTTOM</th>\n",
       "      <th>MORNING_STAR</th>\n",
       "      <th>EVENING_STAR</th>\n",
       "    </tr>\n",
       "  </thead>\n",
       "  <tbody>\n",
       "    <tr>\n",
       "      <th>648</th>\n",
       "      <td>2016-02-15 00:00:00+00:00</td>\n",
       "      <td>165.061</td>\n",
       "      <td>165.061</td>\n",
       "      <td>164.381</td>\n",
       "      <td>164.392</td>\n",
       "      <td>164.392</td>\n",
       "      <td>165.061</td>\n",
       "      <td>1.617647</td>\n",
       "      <td>100.000000</td>\n",
       "      <td>98.382353</td>\n",
       "      <td>...</td>\n",
       "      <td>67.384615</td>\n",
       "      <td>False</td>\n",
       "      <td>False</td>\n",
       "      <td>False</td>\n",
       "      <td>True</td>\n",
       "      <td>True</td>\n",
       "      <td>False</td>\n",
       "      <td>False</td>\n",
       "      <td>False</td>\n",
       "      <td>False</td>\n",
       "    </tr>\n",
       "    <tr>\n",
       "      <th>728</th>\n",
       "      <td>2016-02-18 08:00:00+00:00</td>\n",
       "      <td>162.826</td>\n",
       "      <td>162.828</td>\n",
       "      <td>162.259</td>\n",
       "      <td>162.259</td>\n",
       "      <td>162.259</td>\n",
       "      <td>162.826</td>\n",
       "      <td>0.000000</td>\n",
       "      <td>99.648506</td>\n",
       "      <td>99.648506</td>\n",
       "      <td>...</td>\n",
       "      <td>70.539419</td>\n",
       "      <td>False</td>\n",
       "      <td>False</td>\n",
       "      <td>False</td>\n",
       "      <td>True</td>\n",
       "      <td>True</td>\n",
       "      <td>False</td>\n",
       "      <td>False</td>\n",
       "      <td>False</td>\n",
       "      <td>False</td>\n",
       "    </tr>\n",
       "    <tr>\n",
       "      <th>798</th>\n",
       "      <td>2016-02-23 06:00:00+00:00</td>\n",
       "      <td>158.767</td>\n",
       "      <td>158.767</td>\n",
       "      <td>158.190</td>\n",
       "      <td>158.194</td>\n",
       "      <td>158.194</td>\n",
       "      <td>158.767</td>\n",
       "      <td>0.693241</td>\n",
       "      <td>100.000000</td>\n",
       "      <td>99.306759</td>\n",
       "      <td>...</td>\n",
       "      <td>54.626533</td>\n",
       "      <td>False</td>\n",
       "      <td>False</td>\n",
       "      <td>False</td>\n",
       "      <td>True</td>\n",
       "      <td>True</td>\n",
       "      <td>False</td>\n",
       "      <td>False</td>\n",
       "      <td>False</td>\n",
       "      <td>False</td>\n",
       "    </tr>\n",
       "    <tr>\n",
       "      <th>1338</th>\n",
       "      <td>2016-03-24 17:00:00+00:00</td>\n",
       "      <td>159.437</td>\n",
       "      <td>159.843</td>\n",
       "      <td>159.433</td>\n",
       "      <td>159.840</td>\n",
       "      <td>159.437</td>\n",
       "      <td>159.840</td>\n",
       "      <td>0.975610</td>\n",
       "      <td>99.268293</td>\n",
       "      <td>98.292683</td>\n",
       "      <td>...</td>\n",
       "      <td>62.244898</td>\n",
       "      <td>False</td>\n",
       "      <td>False</td>\n",
       "      <td>False</td>\n",
       "      <td>True</td>\n",
       "      <td>False</td>\n",
       "      <td>False</td>\n",
       "      <td>False</td>\n",
       "      <td>False</td>\n",
       "      <td>False</td>\n",
       "    </tr>\n",
       "    <tr>\n",
       "      <th>1471</th>\n",
       "      <td>2016-04-01 06:00:00+00:00</td>\n",
       "      <td>160.924</td>\n",
       "      <td>161.449</td>\n",
       "      <td>160.916</td>\n",
       "      <td>161.448</td>\n",
       "      <td>160.924</td>\n",
       "      <td>161.448</td>\n",
       "      <td>1.500938</td>\n",
       "      <td>99.812383</td>\n",
       "      <td>98.311445</td>\n",
       "      <td>...</td>\n",
       "      <td>33.333333</td>\n",
       "      <td>False</td>\n",
       "      <td>False</td>\n",
       "      <td>False</td>\n",
       "      <td>True</td>\n",
       "      <td>False</td>\n",
       "      <td>False</td>\n",
       "      <td>False</td>\n",
       "      <td>False</td>\n",
       "      <td>False</td>\n",
       "    </tr>\n",
       "    <tr>\n",
       "      <th>...</th>\n",
       "      <td>...</td>\n",
       "      <td>...</td>\n",
       "      <td>...</td>\n",
       "      <td>...</td>\n",
       "      <td>...</td>\n",
       "      <td>...</td>\n",
       "      <td>...</td>\n",
       "      <td>...</td>\n",
       "      <td>...</td>\n",
       "      <td>...</td>\n",
       "      <td>...</td>\n",
       "      <td>...</td>\n",
       "      <td>...</td>\n",
       "      <td>...</td>\n",
       "      <td>...</td>\n",
       "      <td>...</td>\n",
       "      <td>...</td>\n",
       "      <td>...</td>\n",
       "      <td>...</td>\n",
       "      <td>...</td>\n",
       "      <td>...</td>\n",
       "    </tr>\n",
       "    <tr>\n",
       "      <th>35395</th>\n",
       "      <td>2021-09-15 16:00:00+00:00</td>\n",
       "      <td>151.368</td>\n",
       "      <td>151.368</td>\n",
       "      <td>151.258</td>\n",
       "      <td>151.258</td>\n",
       "      <td>151.258</td>\n",
       "      <td>151.368</td>\n",
       "      <td>0.000000</td>\n",
       "      <td>100.000000</td>\n",
       "      <td>100.000000</td>\n",
       "      <td>...</td>\n",
       "      <td>59.330144</td>\n",
       "      <td>False</td>\n",
       "      <td>False</td>\n",
       "      <td>False</td>\n",
       "      <td>True</td>\n",
       "      <td>False</td>\n",
       "      <td>False</td>\n",
       "      <td>False</td>\n",
       "      <td>False</td>\n",
       "      <td>False</td>\n",
       "    </tr>\n",
       "    <tr>\n",
       "      <th>35452</th>\n",
       "      <td>2021-09-20 01:00:00+00:00</td>\n",
       "      <td>151.000</td>\n",
       "      <td>151.002</td>\n",
       "      <td>150.728</td>\n",
       "      <td>150.730</td>\n",
       "      <td>150.730</td>\n",
       "      <td>151.000</td>\n",
       "      <td>0.729927</td>\n",
       "      <td>99.270073</td>\n",
       "      <td>98.540146</td>\n",
       "      <td>...</td>\n",
       "      <td>33.333333</td>\n",
       "      <td>False</td>\n",
       "      <td>False</td>\n",
       "      <td>False</td>\n",
       "      <td>True</td>\n",
       "      <td>True</td>\n",
       "      <td>False</td>\n",
       "      <td>False</td>\n",
       "      <td>False</td>\n",
       "      <td>False</td>\n",
       "    </tr>\n",
       "    <tr>\n",
       "      <th>35564</th>\n",
       "      <td>2021-09-24 17:00:00+00:00</td>\n",
       "      <td>151.506</td>\n",
       "      <td>151.508</td>\n",
       "      <td>151.360</td>\n",
       "      <td>151.360</td>\n",
       "      <td>151.360</td>\n",
       "      <td>151.506</td>\n",
       "      <td>0.000000</td>\n",
       "      <td>98.648649</td>\n",
       "      <td>98.648649</td>\n",
       "      <td>...</td>\n",
       "      <td>35.193133</td>\n",
       "      <td>False</td>\n",
       "      <td>False</td>\n",
       "      <td>False</td>\n",
       "      <td>True</td>\n",
       "      <td>True</td>\n",
       "      <td>False</td>\n",
       "      <td>False</td>\n",
       "      <td>False</td>\n",
       "      <td>False</td>\n",
       "    </tr>\n",
       "    <tr>\n",
       "      <th>35639</th>\n",
       "      <td>2021-09-29 20:00:00+00:00</td>\n",
       "      <td>150.213</td>\n",
       "      <td>150.362</td>\n",
       "      <td>150.213</td>\n",
       "      <td>150.360</td>\n",
       "      <td>150.213</td>\n",
       "      <td>150.360</td>\n",
       "      <td>0.000000</td>\n",
       "      <td>98.657718</td>\n",
       "      <td>98.657718</td>\n",
       "      <td>...</td>\n",
       "      <td>41.121495</td>\n",
       "      <td>False</td>\n",
       "      <td>False</td>\n",
       "      <td>False</td>\n",
       "      <td>True</td>\n",
       "      <td>False</td>\n",
       "      <td>False</td>\n",
       "      <td>False</td>\n",
       "      <td>False</td>\n",
       "      <td>False</td>\n",
       "    </tr>\n",
       "    <tr>\n",
       "      <th>35665</th>\n",
       "      <td>2021-09-30 22:00:00+00:00</td>\n",
       "      <td>149.954</td>\n",
       "      <td>150.108</td>\n",
       "      <td>149.954</td>\n",
       "      <td>150.108</td>\n",
       "      <td>149.954</td>\n",
       "      <td>150.108</td>\n",
       "      <td>0.000000</td>\n",
       "      <td>100.000000</td>\n",
       "      <td>100.000000</td>\n",
       "      <td>...</td>\n",
       "      <td>2.325581</td>\n",
       "      <td>False</td>\n",
       "      <td>False</td>\n",
       "      <td>False</td>\n",
       "      <td>True</td>\n",
       "      <td>True</td>\n",
       "      <td>False</td>\n",
       "      <td>False</td>\n",
       "      <td>False</td>\n",
       "      <td>False</td>\n",
       "    </tr>\n",
       "  </tbody>\n",
       "</table>\n",
       "<p>100 rows × 31 columns</p>\n",
       "</div>"
      ],
      "text/plain": [
       "                           time    mid_o    mid_h    mid_l    mid_c  \\\n",
       "648   2016-02-15 00:00:00+00:00  165.061  165.061  164.381  164.392   \n",
       "728   2016-02-18 08:00:00+00:00  162.826  162.828  162.259  162.259   \n",
       "798   2016-02-23 06:00:00+00:00  158.767  158.767  158.190  158.194   \n",
       "1338  2016-03-24 17:00:00+00:00  159.437  159.843  159.433  159.840   \n",
       "1471  2016-04-01 06:00:00+00:00  160.924  161.449  160.916  161.448   \n",
       "...                         ...      ...      ...      ...      ...   \n",
       "35395 2021-09-15 16:00:00+00:00  151.368  151.368  151.258  151.258   \n",
       "35452 2021-09-20 01:00:00+00:00  151.000  151.002  150.728  150.730   \n",
       "35564 2021-09-24 17:00:00+00:00  151.506  151.508  151.360  151.360   \n",
       "35639 2021-09-29 20:00:00+00:00  150.213  150.362  150.213  150.360   \n",
       "35665 2021-09-30 22:00:00+00:00  149.954  150.108  149.954  150.108   \n",
       "\n",
       "       body_lower  body_upper  body_bottom_perc  body_top_perc   body_perc  \\\n",
       "648       164.392     165.061          1.617647     100.000000   98.382353   \n",
       "728       162.259     162.826          0.000000      99.648506   99.648506   \n",
       "798       158.194     158.767          0.693241     100.000000   99.306759   \n",
       "1338      159.437     159.840          0.975610      99.268293   98.292683   \n",
       "1471      160.924     161.448          1.500938      99.812383   98.311445   \n",
       "...           ...         ...               ...            ...         ...   \n",
       "35395     151.258     151.368          0.000000     100.000000  100.000000   \n",
       "35452     150.730     151.000          0.729927      99.270073   98.540146   \n",
       "35564     151.360     151.506          0.000000      98.648649   98.648649   \n",
       "35639     150.213     150.360          0.000000      98.657718   98.657718   \n",
       "35665     149.954     150.108          0.000000     100.000000  100.000000   \n",
       "\n",
       "       ...  body_perc_prev_2  HANGING_MAN  SHOOTING_STAR  SPINNING_TOP  \\\n",
       "648    ...         67.384615        False          False         False   \n",
       "728    ...         70.539419        False          False         False   \n",
       "798    ...         54.626533        False          False         False   \n",
       "1338   ...         62.244898        False          False         False   \n",
       "1471   ...         33.333333        False          False         False   \n",
       "...    ...               ...          ...            ...           ...   \n",
       "35395  ...         59.330144        False          False         False   \n",
       "35452  ...         33.333333        False          False         False   \n",
       "35564  ...         35.193133        False          False         False   \n",
       "35639  ...         41.121495        False          False         False   \n",
       "35665  ...          2.325581        False          False         False   \n",
       "\n",
       "       MARUBOZU  ENGULFING  TWEEZER_TOP  TWEEZER_BOTTOM  MORNING_STAR  \\\n",
       "648        True       True        False           False         False   \n",
       "728        True       True        False           False         False   \n",
       "798        True       True        False           False         False   \n",
       "1338       True      False        False           False         False   \n",
       "1471       True      False        False           False         False   \n",
       "...         ...        ...          ...             ...           ...   \n",
       "35395      True      False        False           False         False   \n",
       "35452      True       True        False           False         False   \n",
       "35564      True       True        False           False         False   \n",
       "35639      True      False        False           False         False   \n",
       "35665      True       True        False           False         False   \n",
       "\n",
       "       EVENING_STAR  \n",
       "648           False  \n",
       "728           False  \n",
       "798           False  \n",
       "1338          False  \n",
       "1471          False  \n",
       "...             ...  \n",
       "35395         False  \n",
       "35452         False  \n",
       "35564         False  \n",
       "35639         False  \n",
       "35665         False  \n",
       "\n",
       "[100 rows x 31 columns]"
      ]
     },
     "execution_count": 9,
     "metadata": {},
     "output_type": "execute_result"
    }
   ],
   "source": [
    "df_an[df_an.MARUBOZU==True]"
   ]
  },
  {
   "cell_type": "code",
   "execution_count": 10,
   "id": "1423fcd9",
   "metadata": {},
   "outputs": [
    {
     "data": {
      "application/vnd.plotly.v1+json": {
       "config": {
        "plotlyServerURL": "https://plot.ly"
       },
       "data": [
        {
         "close": {
          "bdata": "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",
          "dtype": "f8"
         },
         "decreasing": {
          "fillcolor": "#CC2E3C",
          "line": {
           "color": "#FF3A4C"
          }
         },
         "high": {
          "bdata": "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",
          "dtype": "f8"
         },
         "increasing": {
          "fillcolor": "#24A06B",
          "line": {
           "color": "#2EC886"
          }
         },
         "line": {
          "width": 1
         },
         "low": {
          "bdata": "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",
          "dtype": "f8"
         },
         "opacity": 1,
         "open": {
          "bdata": "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",
          "dtype": "f8"
         },
         "type": "candlestick",
         "x": [
          "s16-02-11 00:00",
          "s16-02-11 01:00",
          "s16-02-11 02:00",
          "s16-02-11 03:00",
          "s16-02-11 04:00",
          "s16-02-11 05:00",
          "s16-02-11 06:00",
          "s16-02-11 07:00",
          "s16-02-11 08:00",
          "s16-02-11 09:00",
          "s16-02-11 10:00",
          "s16-02-11 11:00",
          "s16-02-11 12:00",
          "s16-02-11 13:00",
          "s16-02-11 14:00",
          "s16-02-11 15:00",
          "s16-02-11 16:00",
          "s16-02-11 17:00",
          "s16-02-11 18:00",
          "s16-02-11 19:00",
          "s16-02-11 20:00",
          "s16-02-11 21:00",
          "s16-02-11 22:00",
          "s16-02-11 23:00",
          "s16-02-12 00:00",
          "s16-02-12 01:00",
          "s16-02-12 02:00",
          "s16-02-12 03:00",
          "s16-02-12 04:00",
          "s16-02-12 05:00",
          "s16-02-12 06:00",
          "s16-02-12 07:00",
          "s16-02-12 08:00",
          "s16-02-12 09:00",
          "s16-02-12 10:00",
          "s16-02-12 11:00",
          "s16-02-12 12:00",
          "s16-02-12 13:00",
          "s16-02-12 14:00",
          "s16-02-12 15:00",
          "s16-02-12 16:00",
          "s16-02-12 17:00",
          "s16-02-12 18:00",
          "s16-02-12 19:00",
          "s16-02-12 20:00",
          "s16-02-12 21:00",
          "s16-02-14 22:00",
          "s16-02-14 23:00",
          "s16-02-15 00:00",
          "s16-02-15 01:00",
          "s16-02-15 02:00",
          "s16-02-15 03:00",
          "s16-02-15 04:00",
          "s16-02-15 05:00",
          "s16-02-15 06:00",
          "s16-02-15 07:00",
          "s16-02-15 08:00",
          "s16-02-15 09:00",
          "s16-02-15 10:00",
          "s16-02-15 11:00",
          "s16-02-15 12:00",
          "s16-02-15 13:00",
          "s16-02-15 14:00",
          "s16-02-15 15:00",
          "s16-02-15 16:00",
          "s16-02-15 17:00",
          "s16-02-15 18:00",
          "s16-02-15 19:00",
          "s16-02-15 20:00",
          "s16-02-15 21:00",
          "s16-02-15 22:00",
          "s16-02-15 23:00",
          "s16-02-16 00:00",
          "s16-02-16 01:00",
          "s16-02-16 02:00",
          "s16-02-16 03:00",
          "s16-02-16 04:00",
          "s16-02-16 05:00",
          "s16-02-16 06:00",
          "s16-02-16 07:00",
          "s16-02-16 08:00",
          "s16-02-16 09:00",
          "s16-02-16 10:00",
          "s16-02-16 11:00",
          "s16-02-16 12:00",
          "s16-02-16 13:00",
          "s16-02-16 14:00",
          "s16-02-16 15:00",
          "s16-02-16 16:00",
          "s16-02-16 17:00",
          "s16-02-16 18:00",
          "s16-02-16 19:00",
          "s16-02-16 20:00",
          "s16-02-16 21:00",
          "s16-02-16 22:00",
          "s16-02-16 23:00",
          "s16-02-17 00:00",
          "s16-02-17 01:00",
          "s16-02-17 02:00",
          "s16-02-17 03:00",
          "s16-02-17 04:00",
          "s16-02-17 05:00",
          "s16-02-17 06:00",
          "s16-02-17 07:00",
          "s16-02-17 08:00",
          "s16-02-17 09:00",
          "s16-02-17 10:00",
          "s16-02-17 11:00",
          "s16-02-17 12:00",
          "s16-02-17 13:00",
          "s16-02-17 14:00",
          "s16-02-17 15:00",
          "s16-02-17 16:00",
          "s16-02-17 17:00",
          "s16-02-17 18:00",
          "s16-02-17 19:00",
          "s16-02-17 20:00",
          "s16-02-17 21:00",
          "s16-02-17 22:00",
          "s16-02-17 23:00",
          "s16-02-18 00:00",
          "s16-02-18 01:00",
          "s16-02-18 02:00",
          "s16-02-18 03:00",
          "s16-02-18 04:00",
          "s16-02-18 05:00",
          "s16-02-18 06:00",
          "s16-02-18 07:00",
          "s16-02-18 08:00",
          "s16-02-18 09:00",
          "s16-02-18 10:00",
          "s16-02-18 11:00",
          "s16-02-18 12:00",
          "s16-02-18 13:00",
          "s16-02-18 14:00",
          "s16-02-18 15:00",
          "s16-02-18 16:00",
          "s16-02-18 17:00",
          "s16-02-18 18:00",
          "s16-02-18 19:00",
          "s16-02-18 20:00",
          "s16-02-18 21:00",
          "s16-02-18 22:00",
          "s16-02-18 23:00",
          "s16-02-19 00:00",
          "s16-02-19 01:00",
          "s16-02-19 02:00",
          "s16-02-19 03:00",
          "s16-02-19 04:00",
          "s16-02-19 05:00",
          "s16-02-19 06:00",
          "s16-02-19 07:00",
          "s16-02-19 08:00",
          "s16-02-19 09:00",
          "s16-02-19 10:00",
          "s16-02-19 11:00",
          "s16-02-19 12:00",
          "s16-02-19 13:00",
          "s16-02-19 14:00",
          "s16-02-19 15:00",
          "s16-02-19 16:00",
          "s16-02-19 17:00",
          "s16-02-19 18:00",
          "s16-02-19 19:00",
          "s16-02-19 20:00",
          "s16-02-19 21:00",
          "s16-02-21 22:00",
          "s16-02-21 23:00",
          "s16-02-22 00:00",
          "s16-02-22 01:00",
          "s16-02-22 02:00",
          "s16-02-22 03:00",
          "s16-02-22 04:00",
          "s16-02-22 05:00",
          "s16-02-22 06:00",
          "s16-02-22 07:00",
          "s16-02-22 08:00",
          "s16-02-22 09:00",
          "s16-02-22 10:00",
          "s16-02-22 11:00",
          "s16-02-22 12:00",
          "s16-02-22 13:00",
          "s16-02-22 14:00",
          "s16-02-22 15:00",
          "s16-02-22 16:00",
          "s16-02-22 17:00",
          "s16-02-22 18:00",
          "s16-02-22 19:00",
          "s16-02-22 20:00",
          "s16-02-22 21:00",
          "s16-02-22 22:00",
          "s16-02-22 23:00",
          "s16-02-23 00:00",
          "s16-02-23 01:00",
          "s16-02-23 02:00",
          "s16-02-23 03:00",
          "s16-02-23 04:00",
          "s16-02-23 05:00",
          "s16-02-23 06:00",
          "s16-02-23 07:00"
         ]
        },
        {
         "close": {
          "bdata": "BoGVQ4uMZEA/NV66SUhkQJHtfD81xmNA",
          "dtype": "f8"
         },
         "decreasing": {
          "fillcolor": "#0066FF",
          "line": {
           "color": "#0066FF"
          }
         },
         "high": {
          "bdata": "y6FFtvOhZEDRItv5flpkQAaBlUOL2GNA",
          "dtype": "f8"
         },
         "increasing": {
          "fillcolor": "#0066FF",
          "line": {
           "color": "#0066FF"
          }
         },
         "line": {
          "width": 1
         },
         "low": {
          "bdata": "1XjpJjGMZEA/NV66SUhkQK5H4XoUxmNA",
          "dtype": "f8"
         },
         "opacity": 1,
         "open": {
          "bdata": "y6FFtvOhZEDfT42XblpkQAaBlUOL2GNA",
          "dtype": "f8"
         },
         "type": "candlestick",
         "x": [
          "s16-02-15 00:00",
          "s16-02-18 08:00",
          "s16-02-23 06:00"
         ]
        }
       ],
       "layout": {
        "font": {
         "color": "#e1e1e1",
         "size": 8
        },
        "height": 400,
        "margin": {
         "b": 10,
         "l": 10,
         "r": 10,
         "t": 10
        },
        "paper_bgcolor": "#2c303c",
        "plot_bgcolor": "#2c303c",
        "template": {
         "data": {
          "bar": [
           {
            "error_x": {
             "color": "#2a3f5f"
            },
            "error_y": {
             "color": "#2a3f5f"
            },
            "marker": {
             "line": {
              "color": "#E5ECF6",
              "width": 0.5
             },
             "pattern": {
              "fillmode": "overlay",
              "size": 10,
              "solidity": 0.2
             }
            },
            "type": "bar"
           }
          ],
          "barpolar": [
           {
            "marker": {
             "line": {
              "color": "#E5ECF6",
              "width": 0.5
             },
             "pattern": {
              "fillmode": "overlay",
              "size": 10,
              "solidity": 0.2
             }
            },
            "type": "barpolar"
           }
          ],
          "carpet": [
           {
            "aaxis": {
             "endlinecolor": "#2a3f5f",
             "gridcolor": "white",
             "linecolor": "white",
             "minorgridcolor": "white",
             "startlinecolor": "#2a3f5f"
            },
            "baxis": {
             "endlinecolor": "#2a3f5f",
             "gridcolor": "white",
             "linecolor": "white",
             "minorgridcolor": "white",
             "startlinecolor": "#2a3f5f"
            },
            "type": "carpet"
           }
          ],
          "choropleth": [
           {
            "colorbar": {
             "outlinewidth": 0,
             "ticks": ""
            },
            "type": "choropleth"
           }
          ],
          "contour": [
           {
            "colorbar": {
             "outlinewidth": 0,
             "ticks": ""
            },
            "colorscale": [
             [
              0,
              "#0d0887"
             ],
             [
              0.1111111111111111,
              "#46039f"
             ],
             [
              0.2222222222222222,
              "#7201a8"
             ],
             [
              0.3333333333333333,
              "#9c179e"
             ],
             [
              0.4444444444444444,
              "#bd3786"
             ],
             [
              0.5555555555555556,
              "#d8576b"
             ],
             [
              0.6666666666666666,
              "#ed7953"
             ],
             [
              0.7777777777777778,
              "#fb9f3a"
             ],
             [
              0.8888888888888888,
              "#fdca26"
             ],
             [
              1,
              "#f0f921"
             ]
            ],
            "type": "contour"
           }
          ],
          "contourcarpet": [
           {
            "colorbar": {
             "outlinewidth": 0,
             "ticks": ""
            },
            "type": "contourcarpet"
           }
          ],
          "heatmap": [
           {
            "colorbar": {
             "outlinewidth": 0,
             "ticks": ""
            },
            "colorscale": [
             [
              0,
              "#0d0887"
             ],
             [
              0.1111111111111111,
              "#46039f"
             ],
             [
              0.2222222222222222,
              "#7201a8"
             ],
             [
              0.3333333333333333,
              "#9c179e"
             ],
             [
              0.4444444444444444,
              "#bd3786"
             ],
             [
              0.5555555555555556,
              "#d8576b"
             ],
             [
              0.6666666666666666,
              "#ed7953"
             ],
             [
              0.7777777777777778,
              "#fb9f3a"
             ],
             [
              0.8888888888888888,
              "#fdca26"
             ],
             [
              1,
              "#f0f921"
             ]
            ],
            "type": "heatmap"
           }
          ],
          "histogram": [
           {
            "marker": {
             "pattern": {
              "fillmode": "overlay",
              "size": 10,
              "solidity": 0.2
             }
            },
            "type": "histogram"
           }
          ],
          "histogram2d": [
           {
            "colorbar": {
             "outlinewidth": 0,
             "ticks": ""
            },
            "colorscale": [
             [
              0,
              "#0d0887"
             ],
             [
              0.1111111111111111,
              "#46039f"
             ],
             [
              0.2222222222222222,
              "#7201a8"
             ],
             [
              0.3333333333333333,
              "#9c179e"
             ],
             [
              0.4444444444444444,
              "#bd3786"
             ],
             [
              0.5555555555555556,
              "#d8576b"
             ],
             [
              0.6666666666666666,
              "#ed7953"
             ],
             [
              0.7777777777777778,
              "#fb9f3a"
             ],
             [
              0.8888888888888888,
              "#fdca26"
             ],
             [
              1,
              "#f0f921"
             ]
            ],
            "type": "histogram2d"
           }
          ],
          "histogram2dcontour": [
           {
            "colorbar": {
             "outlinewidth": 0,
             "ticks": ""
            },
            "colorscale": [
             [
              0,
              "#0d0887"
             ],
             [
              0.1111111111111111,
              "#46039f"
             ],
             [
              0.2222222222222222,
              "#7201a8"
             ],
             [
              0.3333333333333333,
              "#9c179e"
             ],
             [
              0.4444444444444444,
              "#bd3786"
             ],
             [
              0.5555555555555556,
              "#d8576b"
             ],
             [
              0.6666666666666666,
              "#ed7953"
             ],
             [
              0.7777777777777778,
              "#fb9f3a"
             ],
             [
              0.8888888888888888,
              "#fdca26"
             ],
             [
              1,
              "#f0f921"
             ]
            ],
            "type": "histogram2dcontour"
           }
          ],
          "mesh3d": [
           {
            "colorbar": {
             "outlinewidth": 0,
             "ticks": ""
            },
            "type": "mesh3d"
           }
          ],
          "parcoords": [
           {
            "line": {
             "colorbar": {
              "outlinewidth": 0,
              "ticks": ""
             }
            },
            "type": "parcoords"
           }
          ],
          "pie": [
           {
            "automargin": true,
            "type": "pie"
           }
          ],
          "scatter": [
           {
            "fillpattern": {
             "fillmode": "overlay",
             "size": 10,
             "solidity": 0.2
            },
            "type": "scatter"
           }
          ],
          "scatter3d": [
           {
            "line": {
             "colorbar": {
              "outlinewidth": 0,
              "ticks": ""
             }
            },
            "marker": {
             "colorbar": {
              "outlinewidth": 0,
              "ticks": ""
             }
            },
            "type": "scatter3d"
           }
          ],
          "scattercarpet": [
           {
            "marker": {
             "colorbar": {
              "outlinewidth": 0,
              "ticks": ""
             }
            },
            "type": "scattercarpet"
           }
          ],
          "scattergeo": [
           {
            "marker": {
             "colorbar": {
              "outlinewidth": 0,
              "ticks": ""
             }
            },
            "type": "scattergeo"
           }
          ],
          "scattergl": [
           {
            "marker": {
             "colorbar": {
              "outlinewidth": 0,
              "ticks": ""
             }
            },
            "type": "scattergl"
           }
          ],
          "scattermap": [
           {
            "marker": {
             "colorbar": {
              "outlinewidth": 0,
              "ticks": ""
             }
            },
            "type": "scattermap"
           }
          ],
          "scattermapbox": [
           {
            "marker": {
             "colorbar": {
              "outlinewidth": 0,
              "ticks": ""
             }
            },
            "type": "scattermapbox"
           }
          ],
          "scatterpolar": [
           {
            "marker": {
             "colorbar": {
              "outlinewidth": 0,
              "ticks": ""
             }
            },
            "type": "scatterpolar"
           }
          ],
          "scatterpolargl": [
           {
            "marker": {
             "colorbar": {
              "outlinewidth": 0,
              "ticks": ""
             }
            },
            "type": "scatterpolargl"
           }
          ],
          "scatterternary": [
           {
            "marker": {
             "colorbar": {
              "outlinewidth": 0,
              "ticks": ""
             }
            },
            "type": "scatterternary"
           }
          ],
          "surface": [
           {
            "colorbar": {
             "outlinewidth": 0,
             "ticks": ""
            },
            "colorscale": [
             [
              0,
              "#0d0887"
             ],
             [
              0.1111111111111111,
              "#46039f"
             ],
             [
              0.2222222222222222,
              "#7201a8"
             ],
             [
              0.3333333333333333,
              "#9c179e"
             ],
             [
              0.4444444444444444,
              "#bd3786"
             ],
             [
              0.5555555555555556,
              "#d8576b"
             ],
             [
              0.6666666666666666,
              "#ed7953"
             ],
             [
              0.7777777777777778,
              "#fb9f3a"
             ],
             [
              0.8888888888888888,
              "#fdca26"
             ],
             [
              1,
              "#f0f921"
             ]
            ],
            "type": "surface"
           }
          ],
          "table": [
           {
            "cells": {
             "fill": {
              "color": "#EBF0F8"
             },
             "line": {
              "color": "white"
             }
            },
            "header": {
             "fill": {
              "color": "#C8D4E3"
             },
             "line": {
              "color": "white"
             }
            },
            "type": "table"
           }
          ]
         },
         "layout": {
          "annotationdefaults": {
           "arrowcolor": "#2a3f5f",
           "arrowhead": 0,
           "arrowwidth": 1
          },
          "autotypenumbers": "strict",
          "coloraxis": {
           "colorbar": {
            "outlinewidth": 0,
            "ticks": ""
           }
          },
          "colorscale": {
           "diverging": [
            [
             0,
             "#8e0152"
            ],
            [
             0.1,
             "#c51b7d"
            ],
            [
             0.2,
             "#de77ae"
            ],
            [
             0.3,
             "#f1b6da"
            ],
            [
             0.4,
             "#fde0ef"
            ],
            [
             0.5,
             "#f7f7f7"
            ],
            [
             0.6,
             "#e6f5d0"
            ],
            [
             0.7,
             "#b8e186"
            ],
            [
             0.8,
             "#7fbc41"
            ],
            [
             0.9,
             "#4d9221"
            ],
            [
             1,
             "#276419"
            ]
           ],
           "sequential": [
            [
             0,
             "#0d0887"
            ],
            [
             0.1111111111111111,
             "#46039f"
            ],
            [
             0.2222222222222222,
             "#7201a8"
            ],
            [
             0.3333333333333333,
             "#9c179e"
            ],
            [
             0.4444444444444444,
             "#bd3786"
            ],
            [
             0.5555555555555556,
             "#d8576b"
            ],
            [
             0.6666666666666666,
             "#ed7953"
            ],
            [
             0.7777777777777778,
             "#fb9f3a"
            ],
            [
             0.8888888888888888,
             "#fdca26"
            ],
            [
             1,
             "#f0f921"
            ]
           ],
           "sequentialminus": [
            [
             0,
             "#0d0887"
            ],
            [
             0.1111111111111111,
             "#46039f"
            ],
            [
             0.2222222222222222,
             "#7201a8"
            ],
            [
             0.3333333333333333,
             "#9c179e"
            ],
            [
             0.4444444444444444,
             "#bd3786"
            ],
            [
             0.5555555555555556,
             "#d8576b"
            ],
            [
             0.6666666666666666,
             "#ed7953"
            ],
            [
             0.7777777777777778,
             "#fb9f3a"
            ],
            [
             0.8888888888888888,
             "#fdca26"
            ],
            [
             1,
             "#f0f921"
            ]
           ]
          },
          "colorway": [
           "#636efa",
           "#EF553B",
           "#00cc96",
           "#ab63fa",
           "#FFA15A",
           "#19d3f3",
           "#FF6692",
           "#B6E880",
           "#FF97FF",
           "#FECB52"
          ],
          "font": {
           "color": "#2a3f5f"
          },
          "geo": {
           "bgcolor": "white",
           "lakecolor": "white",
           "landcolor": "#E5ECF6",
           "showlakes": true,
           "showland": true,
           "subunitcolor": "white"
          },
          "hoverlabel": {
           "align": "left"
          },
          "hovermode": "closest",
          "mapbox": {
           "style": "light"
          },
          "paper_bgcolor": "white",
          "plot_bgcolor": "#E5ECF6",
          "polar": {
           "angularaxis": {
            "gridcolor": "white",
            "linecolor": "white",
            "ticks": ""
           },
           "bgcolor": "#E5ECF6",
           "radialaxis": {
            "gridcolor": "white",
            "linecolor": "white",
            "ticks": ""
           }
          },
          "scene": {
           "xaxis": {
            "backgroundcolor": "#E5ECF6",
            "gridcolor": "white",
            "gridwidth": 2,
            "linecolor": "white",
            "showbackground": true,
            "ticks": "",
            "zerolinecolor": "white"
           },
           "yaxis": {
            "backgroundcolor": "#E5ECF6",
            "gridcolor": "white",
            "gridwidth": 2,
            "linecolor": "white",
            "showbackground": true,
            "ticks": "",
            "zerolinecolor": "white"
           },
           "zaxis": {
            "backgroundcolor": "#E5ECF6",
            "gridcolor": "white",
            "gridwidth": 2,
            "linecolor": "white",
            "showbackground": true,
            "ticks": "",
            "zerolinecolor": "white"
           }
          },
          "shapedefaults": {
           "line": {
            "color": "#2a3f5f"
           }
          },
          "ternary": {
           "aaxis": {
            "gridcolor": "white",
            "linecolor": "white",
            "ticks": ""
           },
           "baxis": {
            "gridcolor": "white",
            "linecolor": "white",
            "ticks": ""
           },
           "bgcolor": "#E5ECF6",
           "caxis": {
            "gridcolor": "white",
            "linecolor": "white",
            "ticks": ""
           }
          },
          "title": {
           "x": 0.05
          },
          "xaxis": {
           "automargin": true,
           "gridcolor": "white",
           "linecolor": "white",
           "ticks": "",
           "title": {
            "standoff": 15
           },
           "zerolinecolor": "white",
           "zerolinewidth": 2
          },
          "yaxis": {
           "automargin": true,
           "gridcolor": "white",
           "linecolor": "white",
           "ticks": "",
           "title": {
            "standoff": 15
           },
           "zerolinecolor": "white",
           "zerolinewidth": 2
          }
         }
        },
        "width": 900,
        "xaxis": {
         "anchor": "y",
         "domain": [
          0,
          0.94
         ],
         "gridcolor": "#1f292f",
         "nticks": 5,
         "rangeslider": {
          "visible": false
         }
        },
        "yaxis": {
         "anchor": "x",
         "domain": [
          0,
          1
         ],
         "gridcolor": "#1f292f"
        },
        "yaxis2": {
         "anchor": "x",
         "gridcolor": "#1f292f",
         "overlaying": "y",
         "side": "right"
        }
       }
      }
     },
     "metadata": {},
     "output_type": "display_data"
    }
   ],
   "source": [
    "MARKER = '#0066FF'\n",
    "dfp = df_an.iloc[600:800]\n",
    "cp = CandlePlot(dfp, candles=True)\n",
    "df_temp = cp.df_plot[cp.df_plot.MARUBOZU==True]\n",
    "cp.fig.add_trace(go.Candlestick(\n",
    "                x=df_temp.sTime,\n",
    "                open=df_temp.mid_o,\n",
    "                high=df_temp.mid_h,\n",
    "                low=df_temp.mid_l,\n",
    "                close=df_temp.mid_c,\n",
    "                line=dict(width=1), opacity=1,\n",
    "                increasing_fillcolor=MARKER,\n",
    "                decreasing_fillcolor=MARKER,\n",
    "                increasing_line_color=MARKER,  \n",
    "                decreasing_line_color=MARKER\n",
    "            ))\n",
    "\n",
    "cp.show_plot()"
   ]
  },
  {
   "cell_type": "code",
   "execution_count": null,
   "id": "9d13cc26",
   "metadata": {},
   "outputs": [],
   "source": []
  },
  {
   "cell_type": "code",
   "execution_count": null,
   "id": "4fad38b1",
   "metadata": {},
   "outputs": [],
   "source": []
  },
  {
   "cell_type": "code",
   "execution_count": null,
   "id": "910128bf",
   "metadata": {},
   "outputs": [],
   "source": []
  },
  {
   "cell_type": "code",
   "execution_count": null,
   "id": "4ffaa886",
   "metadata": {},
   "outputs": [],
   "source": []
  },
  {
   "cell_type": "code",
   "execution_count": null,
   "id": "87a51219",
   "metadata": {},
   "outputs": [],
   "source": []
  }
 ],
 "metadata": {
  "kernelspec": {
   "display_name": "Python 3",
   "language": "python",
   "name": "python3"
  },
  "language_info": {
   "codemirror_mode": {
    "name": "ipython",
    "version": 3
   },
   "file_extension": ".py",
   "mimetype": "text/x-python",
   "name": "python",
   "nbconvert_exporter": "python",
   "pygments_lexer": "ipython3",
   "version": "3.13.1"
  }
 },
 "nbformat": 4,
 "nbformat_minor": 5
}
